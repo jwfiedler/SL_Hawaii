{
 "cells": [
  {
   "cell_type": "markdown",
   "metadata": {},
   "source": [
    "# Setup\n",
    "\n",
    "We first need to import the necessary libraries, access the data, and make a quick plot to ensure we will be analyzing the right thing.\n",
    "\n",
    "## Import necessary libraries."
   ]
  },
  {
   "cell_type": "code",
   "execution_count": 2,
   "metadata": {},
   "outputs": [],
   "source": [
    "# Standard libraries\n",
    "import os, io, glob\n",
    "import datetime as dt\n",
    "from pathlib import Path\n",
    "\n",
    "# Data manipulation libraries\n",
    "import numpy as np\n",
    "import pandas as pd\n",
    "import xarray as xr\n",
    "\n",
    "# Data retrieval libraries\n",
    "from urllib.request import urlretrieve\n",
    "import requests\n",
    "\n",
    "# Data analysis libraries\n",
    "import scipy.stats as stats\n",
    "\n",
    "# HTML parsing library\n",
    "from bs4 import BeautifulSoup\n",
    "\n",
    "# Visualization libraries\n",
    "import matplotlib.pyplot as plt\n",
    "import seaborn as sns\n",
    "import cartopy.crs as ccrs\n",
    "import cartopy.feature as cfeature\n",
    "\n",
    "# Miscellaneous\n",
    "from myst_nb import glue  # used for figure numbering when exporting to LaTeX\n",
    "\n",
    "# import custom functions\n",
    "import sys\n",
    "notebooks_dir = Path.cwd()\n",
    "if notebooks_dir not in sys.path:\n",
    "    sys.path.append(str(notebooks_dir.parent))\n",
    "    \n",
    "import tseries_functions as tsf"
   ]
  },
  {
   "cell_type": "code",
   "execution_count": 5,
   "metadata": {},
   "outputs": [],
   "source": [
    "#set up directories as environment variables\n",
    "os.environ[\"DATA_DIR\"] = \"~/Documents/SL_Hawaii_data/data\"\n",
    "os.environ[\"OUTPUT_DIR\"] = \"~/Documents/SL_Hawaii_data/output\"\n",
    "\n",
    "#set up directories as Path objects\n",
    "data_dir = Path(os.environ[\"DATA_DIR\"]).expanduser()\n",
    "output_dir = Path(os.environ[\"OUTPUT_DIR\"]).expanduser()"
   ]
  },
  {
   "cell_type": "code",
   "execution_count": null,
   "metadata": {},
   "outputs": [],
   "source": [
    "\n"
   ]
  }
 ],
 "metadata": {
  "kernelspec": {
   "display_name": "SLI39",
   "language": "python",
   "name": "python3"
  },
  "language_info": {
   "codemirror_mode": {
    "name": "ipython",
    "version": 3
   },
   "file_extension": ".py",
   "mimetype": "text/x-python",
   "name": "python",
   "nbconvert_exporter": "python",
   "pygments_lexer": "ipython3",
   "version": "3.9.19"
  }
 },
 "nbformat": 4,
 "nbformat_minor": 2
}
