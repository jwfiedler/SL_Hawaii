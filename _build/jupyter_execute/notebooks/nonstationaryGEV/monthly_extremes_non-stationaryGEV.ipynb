{
 "cells": [
  {
   "cell_type": "markdown",
   "metadata": {},
   "source": [
    "# Nonstationary Extremes\n",
    "\n",
    "As with our stationary annual extremes, for the nonstationary extremes we'll be using the Generalized Extreme Value (GEV) distribution. The GEV is a family of continuous probability distributions developed to combine the Gumbel, Fréchet, and Weibull families, also known as type I, II, and III extreme value distributions, respectively. It is widely used in different fields, particularly for modeling the largest or smallest values among a large set of independent, identically distributed random values (extreme value analysis).\n",
    "\n",
    "\n",
    "### Cumulative Distribution Function (CDF)\n",
    "\n",
    "The cumulative distribution function of the GEV, which is used to calculate return periods, is given by:\n",
    "\n",
    "\\begin{align}\n",
    "F(x; \\mu, \\sigma, \\xi) = \\begin{cases} \n",
    "\\exp\\left(-\\left(1 + \\xi \\frac{x - \\mu}{\\psi}\\right)^{-\\frac{1}{\\xi}}\\right) & \\text{if } \\xi \\neq 0, \\; 1 + \\xi \\frac{x - \\mu}{\\psi} > 0 \\\\\n",
    "\\exp\\left(-\\exp\\left(-\\frac{x - \\mu}{\\psi}\\right)\\right) & \\text{if } \\xi = 0\n",
    "\\end{cases}\n",
    "\\end{align}\n",
    "\n",
    "Where:\n",
    "- $\\mu $ (location parameter) determines the center of the distribution.\n",
    "- $ \\psi $ (scale parameter) is strictly positive and scales the distribution.\n",
    "- $ \\xi $ (shape parameter) describes the tail behavior of the distribution. It can be positive (heavy tail, Fréchet), zero (exponential tail, Gumbel), or negative (bounded tail, Weibull).\n",
    "\n",
    "Assuming we are not dealing with a random stationary process (as with our stationary annual extremes), each parameter in the above equation can be the combination of one or more time-dependent components. These effects could include annual variability (seasonality), sea level rise (long-term trend and possible acceleration), a long-term trend for the extreme values, long-term climate variability effects explained by climate indices or the 18.61-yr nodal cycle.\n",
    "\n",
    "The sum total of these covariates on each parameter are:\n",
    "\\begin{align}\n",
    "\\mu(t) &= \\mu_{SLR}(t) + \\mu_S(t)exp^{[\\mu_{LT}(t)]} + \\mu_N(t) + \\mu_{CLI}(t),\\\\\n",
    "\\psi_t(t) &= \\psi_S(t)exp^{[\\psi_{LT}(t)]} + \\psi_N(t) + \\psi_{CLI},\\\\\n",
    "\\xi_t(t) &= \\xi_S(t)exp^{[\\xi_{LT}(t)]}\n",
    "\\end{align}\n",
    "\n",
    "Note this includes a nonlinear component to allow for a long-term (LT) variability in the seasonality (S) in the location and scale parameters.\n",
    "\n",
    "\n",
    "This example script explores the following steps:\n",
    "- step1: seasonal pattern of extreme events (seasonality on location, scale, and shape parameters remain constant)\n",
    "- step2: long-term trends in location parameter (linear and a possible acceleration)\n",
    "- step3: Checking Covariate (ONI index) in the GEV location parameter\n",
    "- step4: Checking Covariate (ONI index) in the GEV scale parameter\n",
    "- step5: Checking Nodal cycle (18.6 year period, waves) in the GEV location parameter\n",
    "\n",
    "Author: Melisa Menendez, menendezm@unican.es\n",
    "\n",
    "Updated for Billy & Ayesha SERDP work: 09-March-2017\n",
    "\n",
    "Updated for Python with some added explanation: July 2024\n",
    "\n",
    "Further explanation of this code (and writeup) can be found in:\n",
    "Méndez, F. J., M. Menéndez, A. Luceño, and I. J. Losada, 2007: Analyzing Monthly Extreme Sea Levels with a Time-Dependent GEV Model. J. Atmos. Oceanic Technol., 24, 894–911, https://doi.org/10.1175/JTECH2009.1."
   ]
  },
  {
   "cell_type": "code",
   "execution_count": 1,
   "metadata": {},
   "outputs": [],
   "source": [
    "import pandas as pd\n",
    "import numpy as np\n",
    "import scipy.io\n",
    "from datetime import datetime, timedelta\n",
    "from scipy.stats import chi2\n",
    "from scipy.optimize import brentq\n",
    "import matplotlib.pyplot as plt\n",
    "import subprocess"
   ]
  },
  {
   "cell_type": "markdown",
   "metadata": {},
   "source": [
    "## Main Functions\n",
    "Here we'll write our main functions.\n",
    "\n",
    "### Step-wise solver\n",
    "This function iteratively improves the model solution by choosing which parameters to use and evaluating if the change leads to a statistically significant improvement using a $\\chi^2$ metric."
   ]
  },
  {
   "cell_type": "code",
   "execution_count": 2,
   "metadata": {},
   "outputs": [],
   "source": [
    "def stepwise(x_inisol, modelType='GEV_SeasonalMu'):\n",
    "    N = len(x_inisol)\n",
    "\n",
    "\n",
    "    cont = 0\n",
    "\n",
    "    x = np.array([x_inisol]) \n",
    "    # x = x_inisol # Start with initial solution\n",
    "    f, pa = fitness(x[cont], modelType)  # Compute fitness for initial solution\n",
    "    f = np.array([f])\n",
    "    pa = np.array([pa])\n",
    "    \n",
    "    better = True\n",
    "    prob = 0.95\n",
    "    \n",
    "    while better:\n",
    "\n",
    "        dum = np.where(x[cont] == 0)[0]  # Find positions of zeros in the chromosome\n",
    "        \n",
    "        if dum.size != 0:\n",
    "            x_temp = np.tile(x[cont], (len(dum), 1))\n",
    "            f_temp = np.zeros(len(dum))\n",
    "            pa_temp = np.zeros(len(dum))\n",
    "            \n",
    "            for i in range(len(dum)):\n",
    "                x_temp[i, dum[i]] = 1\n",
    "                f_temp[i], pa_temp[i] = fitness(x_temp[i], modelType)\n",
    "            best, indi = np.max(f_temp), np.argmax(f_temp)\n",
    "            # Check if the improvement is significant with chi2 test\n",
    "            if (best - f[cont]) >= (0.5 * chi2.ppf(prob, df=(pa_temp[indi] - pa[cont]))):\n",
    "                cont += 1\n",
    "                x = np.vstack((x, [x_temp[indi]]))\n",
    "                f = np.vstack((f, [best]))\n",
    "                pa = np.vstack((pa, [pa_temp[indi]]))\n",
    "                f[cont], pa[cont] = fitness(x[cont], modelType)\n",
    "            else:\n",
    "                better = False\n",
    "        else:\n",
    "            better = False\n",
    "\n",
    "    return x, f"
   ]
  },
  {
   "cell_type": "markdown",
   "metadata": {},
   "source": [
    "### Maximum Likelihood Estimation\n",
    "\n",
    "Since we are using monthly data, we can define our location parameter as a harmonic series to represent seasonal effects, like so:\n",
    "\n",
    "```{margin}\n",
    "```{note}\n",
    "Note that some portions of the original code have a dyadic series, so while our normal series would have n going from 1 to $\\infty$ we will have $n=1,2,4$, representing the annual cycle, the seasonal cycle, and the '4w' cycle. (What is that - quarterly?)\n",
    "```\n",
    "\n",
    "$$\n",
    "f(t) = A_0 + \\sum_{n=1}^{\\infty} \\left( A_n \\cos(2n \\pi t) + B_n \\sin(2n \\pi t) \\right),\n",
    "$$\n",
    "\n",
    "\n",
    "\n",
    "For example, if we can describe our location, scale and shape parameters in the GEV as:\n",
    "\n",
    "\\begin{align}\n",
    "\\mu(t) &= \\beta_{SLR}(t) + [\\beta_0 + \\beta_1 cos(2\\pi t) + \\beta_2 sin(2\\pi t) + \\beta_3 cos(4\\pi t) + \\beta_4 sin(4\\pi t)]e^{[\\beta_{LT}(t)]}\\\\\\\n",
    " &+ \\beta_{N_1} cos(2\\pi t/T_N) + \\beta_{N_2} sin(2\\pi t/T_N) + \\beta_{ONI}ONI(t),\\\\\n",
    "\\psi(t) &= [\\alpha_0 + \\alpha_1 cos(2\\pi t) + \\alpha_2 sin(2\\pi t)]e^{[\\alpha_{LT}(t)]} \\\\\n",
    "\\xi(t) &=  [\\gamma_0 + \\gamma_1 cos(2\\pi t) + \\gamma_2 sin(2\\pi t)]\n",
    "\\end{align}\n",
    "\n",
    "then the vector we'd use for our MLE fit should be\n",
    "\n",
    "$\\theta = (\\beta_0,\\beta_1,\\beta_2,\\beta_3,\\beta_4,\\beta_{N_1},\\beta_{N_2},\\beta_{LT},\\beta_{ONI},\\alpha_0, \\alpha_1, \\alpha_2, \\alpha_{LT},\\gamma_0,\\gamma_1,\\gamma_2)$.\n",
    "\n",
    "Here, $\\beta_{0,1,2,3,4}$ model the seasonal variation of the location parameter, $\\beta_{N1,N2}$ are the amplitudes of the nodal cycle, $\\beta_{LT}$ is the long term trend of the location parameter, and $\\beta_{ONI}$ is the amplitude (relative influence) of the [ONI] climate index in the location parameter. Similarly, $\\alpha_{0,1,2}$ model the [cyclical] variation of the scale parameter, and $\\alpha_{LT}$ models its long-term trend. For the shape parameter, only the seasonal variation is modeled ($\\gamma_{0,1,2}$).\n",
    "\n",
    "We'll use this vector $\\theta$ to calculate the maximum likelihood function $L$,\n",
    "\n",
    "$L(\\theta | t_i,z_i) = \\prod_{i=1}^m g[z_i;\\mu(t_i),\\psi(t_i),\\xi(t_i)]$,\n",
    "\n",
    "where $g$ is the CDF of the GEV (equation 1). In other words, this means that the likelihood of observing the entire dataset is the product of the likelihoods of observing each individual time point under the assumed GEV model (Maximum Likelihood Estimation, MLE).\n",
    "\n",
    "\n",
    "### Parameter Search\n",
    "\n",
    "\n",
    "The code below takes a varying number of parameters (a differently sized vector of regression parameters) for different models. There are three models we can run: GEV_SeasonalMu, GEV_S_T_Cv, or GEV_S_T_Cv_Nodal. Because there are so many parameters to estimate (a high-dimensional problem), a Shuffled Complex Evolution (SCE-UA,\\cite{Duan}) optimization scheme is used to determine the best parameter fits. The SCE-UA is used often in hydrology, engineering, and other environmental sciences, using random clusters for initial starting points in its search algorithm and allowing them to \"evolve\" to a better solution. Other optimization schemes exist, but for now this is what we're using.\n",
    "\n",
    "```{margin}\n",
    "```{Note}\n",
    "Still to do: get these models to run all in a python ecosystem. For right now, they will remain .exe files.\n",
    "```\n",
    "\n",
    "#### Seasonality in Location Model\n",
    "```{margin}\n",
    "The series here is n=1,2,4. WHY.\n",
    "```\n",
    "Our first step is to look at seasonality only, using the GEV_SeasonalMu model, such that $\\mu(t)$, $\\psi(t)$, and $\\xi(t)$ are:\n",
    "\n",
    "\\begin{align}\n",
    "\\mu(t) &=  \\beta_0 + \\beta_1 cos(2\\pi t) + \\beta_2 sin(2\\pi t) + \\\\\n",
    "&\\beta_3 cos(4\\pi t) + \\beta_4 sin(4\\pi t) + \\beta_5 cos(8\\pi t) + \\beta_6 sin(8\\pi t),\\\\\n",
    "\\psi &= \\alpha_0, \\\\\n",
    "\\xi &=  \\gamma_0 \n",
    "\\end{align}\n",
    "\n",
    "and we'll arrange our vector of 9 regression parameters within the fitness function like so:\n",
    "\n",
    "$\\theta = [\\beta_0, \\alpha_0, \\gamma_0, \\beta_1, \\beta_2, \\beta_3, \\beta_4, \\beta_5, \\beta_6].$\n",
    "\n",
    "In this way we assume that only the location parameter changes within a year, whereas the shape and scale of the GEV distribution are constant.\n",
    "\n",
    "#### Seasonality, Trend, and Covariate Model\n",
    "For the GEV_S_T_Cv model , we'll allow a long-term trend into the location parameter and a covariate into the scale and location parameter:\n",
    "\n",
    "\\begin{align}\n",
    "\\mu(t) &= \\beta_{SLR}(t) + [\\beta_0 + \\beta_1 cos(2\\pi t) + \\beta_2 sin(2\\pi t) + \\beta_3 cos(4\\pi t) + \\beta_4 sin(4\\pi t) \\\\\n",
    "&+ \\beta_5 cos(6\\pi t) + \\beta_6 sin(6\\pi t)]e^{[\\beta_{LT}(t)]} + \\beta_{ONI}ONI(t),\\\\\n",
    "\\psi &= \\alpha_0 + \\alpha_{ONI}ONI(t), \\\\\n",
    "\\xi &=  \\gamma_0 \n",
    "\\end{align}\n",
    "\n",
    "and we'll arrange our vector of 12 regression parameters within the fitness function like so:\n",
    "\n",
    "$\\theta = [\\beta_0, \\alpha_0, \\gamma_0, \\beta_1, \\beta_2, \\beta_3, \\beta_4, \\beta_5, \\beta_6,\\beta_{LT},\\beta_{ONI},\\alpha_{ONI}].$\n",
    "\n",
    "#### Seasonality, Trend, Covariate and Nodal cycle Model\n",
    "For the GEV_S_T_Cv_N model , we'll add in the nodal cycle:\n",
    "\n",
    "\\begin{align}\n",
    "\\mu(t) &= \\beta_{SLR}(t) + [\\beta_0 + \\beta_1 cos(2\\pi t) + \\beta_2 sin(2\\pi t) + \\beta_3 cos(4\\pi t) + \\beta_4 sin(4\\pi t) \\\\\n",
    "&+ \\beta_5 cos(6\\pi t) + \\beta_6 sin(6\\pi t)]e^{[\\beta_{LT}(t)]} + \\beta_{ONI}ONI(t) + \\beta_{N_1} cos(2\\pi t/T_N),\\\\\n",
    "\\psi &= \\alpha_0 + \\alpha_{ONI}ONI(t), \\\\\n",
    "\\xi &=  \\gamma_0 \n",
    "\\end{align}\n",
    "\n",
    "and we'll arrange our vector of 14 regression parameters within the fitness function like so:\n",
    "\n",
    "$\\theta = [\\beta_0, \\alpha_0, \\gamma_0, \\beta_1, \\beta_2, \\beta_3, \\beta_4, \\beta_5, \\beta_6,\\beta_{LT},\\beta_{ONI},\\alpha_{ONI},\\beta_{N1},\\beta_{N2}].$\n",
    "\n",
    "### Input to the fitness function\n",
    "Note that the input \"x\" to the fitness function works like a switch - if it is a parameter to include, it is 1 (True). If it is not used, it is 0 (False). It is at most 7 elements long.\n",
    "\n",
    "- x: [1/0 1/0 1/0 1/0 1/0 1/0 1/0]\n",
    "- x[0]: annual cycle, location parameter.\n",
    "- x[1]: semi-annual cycle, location parameter.\n",
    "- x[2]: quarterly (??) cycle, location parameter.\n",
    "- x[3]: Trend, location parameter.\n",
    "- x[4]: Covariate, location parameter.\n",
    "- x[5]: Covariate, scale parameter.\n",
    "- x[6]: Nodal cycle, location parameter\n",
    "- Max number of parameters: 14\n"
   ]
  },
  {
   "cell_type": "code",
   "execution_count": 3,
   "metadata": {},
   "outputs": [],
   "source": [
    "def fitness(x, modelType='GEV_SeasonalMu'):\n",
    "    # Load parameter limits from a file\n",
    "    aux = np.loadtxt('limits.txt')\n",
    "    xmax = np.zeros(len(aux))  # Initialize with NaNs\n",
    "    xmin = np.zeros(len(aux))\n",
    "    # Initialize parameter limits based on the chromosome\n",
    "    xmin[:3] = aux[:3, 0]\n",
    "    xmax[:3] = aux[:3, 1]\n",
    "    cont = 3\n",
    "    \n",
    "\n",
    "    if x[0] == 1:  # Annual cycle\n",
    "        xmin[cont:cont+2] = [aux[3, 0], aux[4, 0]]  # should use indices 3 and 4 (i.e., aux(4,1) and aux(5,1) in MATLAB)\n",
    "        xmax[cont:cont+2] = [aux[3, 1], aux[4, 1]]\n",
    "        cont += 2\n",
    "\n",
    "    if x[1] == 1:  # Semiannual cycle\n",
    "        xmin[cont:cont+2] = [aux[5, 0], aux[6, 0]]  # should use indices 5 and 6 (i.e., aux(6,1) and aux(7,1) in MATLAB)\n",
    "        xmax[cont:cont+2] = [aux[5, 1], aux[6, 1]]\n",
    "        cont += 2\n",
    "\n",
    "    if x[2] == 1:  # Frequency 4w\n",
    "        xmin[cont:cont+2] = [aux[5, 0], aux[6, 0]]  # should use indices 5 and 6 (same as Semiannual cycle)\n",
    "        xmax[cont:cont+2] = [aux[5, 1], aux[6, 1]]\n",
    "        cont += 2\n",
    "\n",
    "    if modelType == 'GEV_S_T_Cv' or modelType == 'GEV_S_T_Cv_Nodal':\n",
    "        if x[2] == 1:  # Frequency 4w, for some reason the limits change, so we'll replace them\n",
    "            cont -= 2\n",
    "            xmin[cont:cont+2] = [aux[7, 0], aux[8, 0]]  # \n",
    "            xmax[cont:cont+2] = [aux[7, 1], aux[8, 1]]\n",
    "            cont += 2\n",
    "        \n",
    "        if x[3] == 1: # Trend in location parameter, beta_LT\n",
    "            xmin[cont] = aux[9, 0]\n",
    "            xmax[cont] = aux[9, 1]\n",
    "            cont += 1\n",
    "        \n",
    "        if x[4] == 1: # Covariate in location parameter, beta_CV\n",
    "            xmin[cont] = aux[10, 0]\n",
    "            xmax[cont] = aux[10, 1]\n",
    "            cont += 1\n",
    "\n",
    "        if x[5] == 1: # Covariate in scale parameter, gamma_CV\n",
    "            xmin[cont] = aux[11, 0]\n",
    "            xmax[cont] = aux[11, 1]\n",
    "            cont += 1\n",
    "    \n",
    "    if modelType == 'GEV_S_T_Cv_Nodal':\n",
    "        if x[6] == 1: # Nodal component in location, beta_N1, beta_N2\n",
    "            xmin[cont:cont+2] = [aux[12, 0], aux[13, 0]]\n",
    "            xmax[cont:cont+2] = [aux[12, 1], aux[13, 1]]\n",
    "            cont += 2\n",
    "\n",
    "\n",
    "    xmin = xmin[:cont]\n",
    "    xmax = xmax[:cont]\n",
    "\n",
    "    # Prepare the initial values and parameter configuration file\n",
    "    n = len(xmin)\n",
    "    xini = np.zeros(n) + 0.001\n",
    "    xini[2] = -0.001  # Specific initialization for third parameter\n",
    "    \n",
    "    # Prepare parameters for the external executable\n",
    "    maxn = -2000 + 1500 * n #number of iterations\n",
    "    kstop = 3 #number of iterations without improvement allowed\n",
    "    pcento = 0.001\n",
    "    ngs = np.ceil(n / 4)\n",
    "    iseed = 955\n",
    "    ideflt = 1\n",
    "    npg = 2 * n + 1\n",
    "    nps = n + 1\n",
    "    nspl = 2 * n + 1\n",
    "    mings = ngs\n",
    "    iniflg = 1\n",
    "    iprint = 0\n",
    "    \n",
    "    with open('scein.dat', 'w') as f:\n",
    "        # Writing header with specified formatting\n",
    "        f.write(f\"{maxn:5g} {kstop:5g} {pcento:5.3g} {ngs:5g} {iseed:5g} {ideflt:5g}\\n\")\n",
    "        f.write(f\"{npg:5g} {nps:5g} {nspl:5g} {mings:5g} {iniflg:5g} {iprint:5g}\\n\")\n",
    "\n",
    "        # Write chromosome values with better control over formatting\n",
    "        x_formatted = \" \".join(f\"{int(value):1.0f}\" for value in x[:-1]) + f\" {int(x[-1]):1.0f}\\n\"\n",
    "        f.write(x_formatted)\n",
    "\n",
    "        # Writing parameter limits and initial guesses with specified precision\n",
    "        for i in range(len(xini)):\n",
    "            f.write(f\"{xini[i]:15.8f} {xmin[i]:15.8f} {xmax[i]:15.8f}\\n\")        \n",
    "\n",
    "    \n",
    "    # Run the external model executable\n",
    "    modelName = 'Model_' + modelType + '.exe'\n",
    "    subprocess.run([modelName], check=True)\n",
    "    \n",
    "    # Read the output\n",
    "    with open('best.txt', 'r') as file:\n",
    "        bestf = float(file.readline().strip())\n",
    "    \n",
    "    return bestf, n"
   ]
  },
  {
   "cell_type": "markdown",
   "metadata": {},
   "source": [
    "### Plot: Seasonality Effect on Extremes\n",
    "Next we'll make an example plot of the seasonality effect on extremes. For each year day, we'll evaluate the CDF of the GEV at a return period of 50 years to get the the return levels within the year."
   ]
  },
  {
   "cell_type": "code",
   "execution_count": 4,
   "metadata": {},
   "outputs": [],
   "source": [
    "def plottingExtremeSeasonality(T0, seaLevel, w, ReturnPeriod=50, SampleRate=12):\n",
    "    dx = 0.001\n",
    "    t2 = np.arange(0, 1.101, dx)\n",
    "    \n",
    "    # Define the mu using the harmonic series\n",
    "    mu = (w[0] + w[3] * np.cos(2 * np.pi * t2) + w[4] * np.sin(2 * np.pi * t2) +\n",
    "          w[5] * np.cos(4 * np.pi * t2) + w[6] * np.sin(4 * np.pi * t2) +\n",
    "          w[7] * np.cos(8 * np.pi * t2) + w[8] * np.sin(8 * np.pi * t2))\n",
    "    psi = w[1]\n",
    "    xi = w[2]\n",
    "    \n",
    "    # Define the time within the year\n",
    "    twinthinyear =T0-np.floor(T0)\n",
    "    \n",
    "    T = T0\n",
    "    R = ReturnPeriod\n",
    "    S = SampleRate\n",
    "    seaLevelS = mu - (psi/xi) * (1 - (-np.log(1 - (1/(S*R)))) ** (-xi))\n",
    "    \n",
    "    \n",
    "    serieCV = np.ones(len(T))\n",
    "    \n",
    "    # Find the root of the Quantilentime function\n",
    "    def Quantilentime(x):\n",
    "        t00, t11 = 0.00001, 1.00001  # Define the time bounds if not globally available\n",
    "\n",
    "        # Variables previously defined as global in MATLAB code, handled here locally\n",
    "        b0, b1, b2, b3, b4, b5, b6 = w[0], w[3], w[4], w[5], w[6], w[7], w[8]\n",
    "        a0, bLT, bCI, aCI, bN1, bN2 = w[1], 0, 0, 0, 0, 0\n",
    "        km = 12\n",
    "        dt = 0.001\n",
    "        ti = np.arange(t00, t11, dt)\n",
    "\n",
    "        # Interpolate serieCV at ti points\n",
    "        serieCV2 = np.interp(ti, T, serieCV)\n",
    "        # Replace NaNs with zero (np.interp does this by default if outside the bounds)\n",
    "        serieCV2[np.isnan(serieCV2)] = 0\n",
    "\n",
    "        # Define mut (location(t)) and other parameters\n",
    "        mut = (b0 * np.exp(bLT * ti) +\n",
    "               b1 * np.cos(2 * np.pi * ti) + b2 * np.sin(2 * np.pi * ti) +\n",
    "               b3 * np.cos(4 * np.pi * ti) + b4 * np.sin(4 * np.pi * ti) +\n",
    "               b5 * np.cos(8 * np.pi * ti) + b6 * np.sin(8 * np.pi * ti) +\n",
    "               bN1 * np.cos((2 * np.pi / 18.61) * ti) + bN2 * np.sin((2 * np.pi / 18.61) * ti) +\n",
    "               (bCI * serieCV2))\n",
    "        # mut = (b0  +\n",
    "        #        (b1 * np.cos(2 * np.pi * ti) + b2 * np.sin(2 * np.pi * ti) +\n",
    "        #        b3 * np.cos(4 * np.pi * ti) + b4 * np.sin(4 * np.pi * ti) +\n",
    "        #        b5 * np.cos(8 * np.pi * ti) + b6 * np.sin(8 * np.pi * ti))* np.exp(bLT * ti) +\n",
    "        #        bN1 * np.cos((2 * np.pi / 18.61) * ti) + bN2 * np.sin((2 * np.pi / 18.61) * ti) +\n",
    "        #        (bCI * serieCV2))\n",
    "        psi = a0 + (aCI * serieCV2)\n",
    "        xit = xi\n",
    "\n",
    "        # Calculate factor, equation 10 in Menendez and Woodworth (2009)\n",
    "        factor = 0\n",
    "        for i in range(len(ti)):\n",
    "            h = np.maximum(1 + (xit * (x - mut[i]) / psi[i]), 0.0001) ** (-1 / xit)\n",
    "            factor += h\n",
    "\n",
    "        Pr = 1 - (1 / R)\n",
    "\n",
    "        y = -Pr + np.exp(-km * factor * dt)\n",
    "        return y\n",
    "    \n",
    "    x0 = w[0]\n",
    "    YY50 = brentq(Quantilentime,x0-5,x0+5) # using bracketing to find the root of Quantilentime function instead of fsolve\n",
    "    \n",
    "    \n",
    "    # Start plotting\n",
    "    plt.figure()\n",
    "    sss = plt.subplot(1, 1, 1)\n",
    "    sss.plot(t2, np.ones(len(t2)) * YY50-STNDtoMHHW, 'k', linewidth=2, label='R=' + str(ReturnPeriod) + ' years')\n",
    "    sss.plot(t2, seaLevelS-STNDtoMHHW, '--k', linewidth=2, label='Prob. R_{'+ str(ReturnPeriod)+ '} within a year')\n",
    "    sss.plot(twinthinyear, seaLevel-STNDtoMHHW, '+k', markersize=5, label='Monthly maxima')\n",
    "    sss.grid(True)\n",
    "    plt.axis([0, 1.001, min(seaLevel-STNDtoMHHW)-(min(seaLevel-STNDtoMHHW)*0.05), max(seaLevel-STNDtoMHHW)+(max(seaLevel-STNDtoMHHW)*0.1)])\n",
    "    plt.xticks(np.arange(0.08333/2, 1, 1/6), ['Jan', 'Mar', 'May', 'Jul', 'Sep', 'Nov'])\n",
    "    \n",
    "    \n",
    "    sss.legend()\n",
    "    plt.ylabel('Sea level (m)')\n",
    "    \n",
    "    plt.savefig('SeasonalExtremeVariations.png', dpi=250)\n",
    "\n",
    "    return sss"
   ]
  },
  {
   "cell_type": "markdown",
   "metadata": {},
   "source": [
    " "
   ]
  },
  {
   "cell_type": "markdown",
   "metadata": {},
   "source": [
    "## Format data input to the model\n",
    "Now we'll take our sea level data, extract the monthly maxima from our timeseries, and format it for input into the model. We need the yearday of each monthly maximum, and if using a covariate model (e.g. SOI, ENSO, wave height), the yearday of that index."
   ]
  },
  {
   "cell_type": "code",
   "execution_count": 5,
   "metadata": {},
   "outputs": [
    {
     "name": "stderr",
     "output_type": "stream",
     "text": [
      "C:\\Users\\julia\\anaconda3\\envs\\SLI39\\lib\\site-packages\\pyproj\\__init__.py:89: UserWarning: pyproj unable to set database path.\n",
      "  _pyproj_global_context_initialize()\n"
     ]
    }
   ],
   "source": [
    "from pathlib import Path\n",
    "import xarray as xr\n",
    "%run ../setup.ipynb\n",
    "%run ../plotting_functions.ipynb\n",
    "\n",
    "data_dir = Path('../../data' )\n",
    "output_dir = Path('../../output') \n",
    "rsl_hourly = xr.open_dataset(data_dir/ 'rsl_hawaii.nc')\n",
    "\n",
    "rsl_hourly['sea_level_mhhw'] = 0.001*(rsl_hourly['sea_level'] - rsl_hourly['MHHW'])\n"
   ]
  },
  {
   "cell_type": "markdown",
   "metadata": {},
   "source": [
    "Let's print the station names that correspond to order of the data, because I keep forgetting."
   ]
  },
  {
   "cell_type": "code",
   "execution_count": 6,
   "metadata": {},
   "outputs": [
    {
     "name": "stdout",
     "output_type": "stream",
     "text": [
      "['French Frigate' 'Midway' 'Johnston' 'Honolulu, Hawaii' 'Nawiliwili'\n",
      " 'Kahului' 'Hilo, Hawaii' 'Mokuoloe' 'Barbers Point, HI' 'Kaumalapau, HI'\n",
      " 'Kawaihae']\n"
     ]
    }
   ],
   "source": [
    "print(rsl_hourly.station_name.values)"
   ]
  },
  {
   "cell_type": "markdown",
   "metadata": {},
   "source": [
    "And let's select a record id (\"rid\") to use for the rest of this example."
   ]
  },
  {
   "cell_type": "code",
   "execution_count": 7,
   "metadata": {},
   "outputs": [],
   "source": [
    "rid = 3\n",
    "STNDtoMHHW = 0.001*rsl_hourly['MHHW'][rid].values\n",
    "\n",
    "sea_level_series = 0.001*rsl_hourly['sea_level'][rid]\n",
    "\n",
    "#get only data from 1993 to 2023\n",
    "sea_level_series = sea_level_series.sel(time=slice('1993', '2023'))\n",
    "\n",
    "# Step 1: extract the monthly maxima\n",
    "monthly_max = sea_level_series.resample(time='1ME').max()\n",
    "\n",
    "# get exact time of the monthly maxima\n",
    "t_monthly_max = sea_level_series.resample(time='1ME').map(lambda x: x.time[x.argmax()])\n",
    "\n",
    "# To ensure it's in datetime format and to access datetime properties\n",
    "t_monthly_max['time'] = pd.to_datetime(t_monthly_max.values)\n",
    "\n",
    "# Now extract the day of the year (using fractional days)\n",
    "t_yearDay = t_monthly_max['time'].dt.dayofyear + t_monthly_max['time'].dt.hour/24 + t_monthly_max['time'].dt.minute/1440 + t_monthly_max['time'].dt.second/86400\n",
    "\n",
    "# get year of t_monthly_max\n",
    "t_year = t_monthly_max['time'].dt.year\n",
    "\n",
    "# convert t_yearDay and monthly_max to float\n",
    "t_yearDay = np.array(t_yearDay)\n",
    "monthly_max = np.array(monthly_max)\n",
    "t_monthly_max = np.array(t_monthly_max)\n",
    "t_year = np.array(t_year)\n",
    "\n",
    "\n",
    "# get decimal year such that t = year_monthly_max + t_yearDay/366\n",
    "t = (t_year-t_year[0]) + t_yearDay/366\n",
    "\n",
    "\n",
    "# save the data to a text file for the external model\n",
    "pd.Series(t).to_csv('T.txt', header=False, index=False)\n",
    "pd.Series(monthly_max).to_csv('Y.txt', header=False, index=False)"
   ]
  },
  {
   "cell_type": "markdown",
   "metadata": {},
   "source": [
    "#### Prepare the covariate data timeseries.\n",
    "In this case, we'll be using the ONI data we downloaded earlier in the datawrangling notebook."
   ]
  },
  {
   "cell_type": "code",
   "execution_count": 8,
   "metadata": {},
   "outputs": [],
   "source": [
    "ONI_df = pd.read_csv(data_dir / 'ONI.csv', parse_dates=['Date'])\n",
    "\n",
    "# drop last 2 columns\n",
    "ONI_df = ONI_df.drop(ONI_df.columns[-2:], axis=1)\n",
    "\n",
    "# Set the Date as the index for easier slicing and access\n",
    "ONI_df.set_index('Date', inplace=True)\n",
    "\n",
    "# Reindex to include all necessary dates from t_monthly_max for interpolation\n",
    "all_dates = ONI_df.index.union(t_monthly_max)\n",
    "\n",
    "# Reindex the DataFrame with the union of dates\n",
    "ONI_df = ONI_df.reindex(all_dates)\n",
    "\n",
    "# Now interpolate \n",
    "ONI_interp_df = ONI_df.interpolate()\n",
    "\n",
    "# retrieve the ONI value for the monthly maxima\n",
    "ONI_interp = ONI_interp_df.loc[t_monthly_max]\n",
    "\n",
    "# save the ONI values to a text file for the external model\n",
    "ONI_interp.to_csv('CI.txt', header=False, index=False)\n",
    "\n",
    "# Save ONI_interp as 'covariate' as a 1D numpy array\n",
    "covariate = ONI_interp.squeeze().to_numpy()"
   ]
  },
  {
   "cell_type": "markdown",
   "metadata": {},
   "source": [
    "## First look: Modeling Seasonality\n",
    "Here we'll look at seasonality in the location parameter only."
   ]
  },
  {
   "cell_type": "code",
   "execution_count": 9,
   "metadata": {},
   "outputs": [],
   "source": [
    "# Initial chromosome setup\n",
    "x_0 = np.array([0,0,0])\n",
    "\n",
    "# Run stepwise optimization and get the last results from the optimization\n",
    "x_s, f = stepwise(x_0, modelType='GEV_SeasonalMu')\n",
    "x, f = fitness(x_s[-1],modelType='GEV_SeasonalMu')\n",
    "\n",
    "# Load best results from text files\n",
    "w_s = np.loadtxt('best.txt')\n",
    "mios = np.loadtxt('mio.txt')  # LABEL\n",
    "\n",
    "icromo = x_s[-1]"
   ]
  },
  {
   "cell_type": "code",
   "execution_count": 10,
   "metadata": {},
   "outputs": [],
   "source": [
    "def adjust_w_for_plotting(icromo, w):\n",
    "    \"\"\"\n",
    "    Adjusts the w array based on the icromo conditions and returns an array with 14 elements.\n",
    "\n",
    "    Parameters:\n",
    "        icromo (list): A list representing the conditions that influence the adjustment of w.\n",
    "        w (array-like): An array of values to be adjusted based on icromo.\n",
    "\n",
    "    Returns:\n",
    "        np.ndarray: A 14-element array with adjusted values.\n",
    "    \"\"\"\n",
    "    # Initialize the output array with 14 elements set to zero\n",
    "    w_s_plot = np.zeros(14)\n",
    "\n",
    "    # Ensure icromo is 7 elements long\n",
    "    icromo = np.array(icromo)\n",
    "    if len(icromo) != 7:\n",
    "        # Fill the rest with zeros\n",
    "        icromo = np.append(icromo, np.zeros(7 - len(icromo)))\n",
    "\n",
    "    # Always present terms (mu, psi, xi)\n",
    "    w_s_plot[:3] = w[1:4]\n",
    "    \n",
    "    # Initialize the index for the input w\n",
    "    idx = 4\n",
    "\n",
    "    # Assign terms based on icromo conditions\n",
    "    if icromo[0] == 1: # annual\n",
    "        w_s_plot[3:5] = w[idx:idx+2]\n",
    "        idx += 2\n",
    "        \n",
    "    if icromo[1] == 1: # semiannual\n",
    "        w_s_plot[5:7] = w[idx:idx+2]\n",
    "        idx += 2\n",
    "\n",
    "    if icromo[2] == 1: #triannual\n",
    "        w_s_plot[7:9] = w[idx:idx+2]\n",
    "        idx += 2\n",
    "\n",
    "    if icromo[3] == 1: # long-term trend\n",
    "        w_s_plot[9] = w[idx]\n",
    "        idx += 1\n",
    "\n",
    "    if icromo[4] == 1: # covariate, location\n",
    "        w_s_plot[10] = w[idx]\n",
    "        idx += 1\n",
    "\n",
    "    if icromo[5] == 1: #covariate, scale\n",
    "        w_s_plot[11] = w[idx]\n",
    "        idx += 1\n",
    "\n",
    "    if icromo[6] == 1: #nodal\n",
    "        w_s_plot[12:14] = w[idx:idx+2]\n",
    "        idx += 2\n",
    "\n",
    "    # Return the adjusted array with 14 elements\n",
    "    return w_s_plot\n"
   ]
  },
  {
   "cell_type": "code",
   "execution_count": 11,
   "metadata": {},
   "outputs": [
    {
     "data": {
      "text/plain": [
       "array([1, 1, 0])"
      ]
     },
     "execution_count": 11,
     "metadata": {},
     "output_type": "execute_result"
    }
   ],
   "source": [
    "icromo"
   ]
  },
  {
   "cell_type": "code",
   "execution_count": 12,
   "metadata": {},
   "outputs": [],
   "source": [
    "w_s_plot = adjust_w_for_plotting(icromo,w_s)"
   ]
  },
  {
   "cell_type": "code",
   "execution_count": 13,
   "metadata": {},
   "outputs": [
    {
     "data": {
      "text/plain": [
       "array([ 1.9042487 ,  0.07156924, -0.2137741 , -0.00414452, -0.04658967,\n",
       "        0.05267449, -0.00683141,  0.        ,  0.        ,  0.        ,\n",
       "        0.        ,  0.        ,  0.        ,  0.        ])"
      ]
     },
     "execution_count": 13,
     "metadata": {},
     "output_type": "execute_result"
    }
   ],
   "source": [
    "w_s_plot"
   ]
  },
  {
   "cell_type": "markdown",
   "metadata": {},
   "source": [
    "### Extract a timeseries of the time-dependent return values\n",
    "For each time in a timeseries, we'll evaluate the CDF of the time-dependent GEV at a given return period to get the expected return level."
   ]
  },
  {
   "cell_type": "code",
   "execution_count": 14,
   "metadata": {},
   "outputs": [],
   "source": [
    "def getTimeDependentReturnValue(T0,serieCV0,w,ReturnPeriod):\n",
    "    T=T0\n",
    "    R = ReturnPeriod\n",
    "    serieCV=serieCV0\n",
    "    dx=0.02\n",
    "    t2=np.arange(0,T[-1],dx)\n",
    "    \n",
    "    years = np.arange(np.floor(T[0]), np.ceil(T[-1])+1)\n",
    "\n",
    "    psi = w[1]\n",
    "    xi = w[2]\n",
    "\n",
    "\n",
    "    YR=np.zeros((len(ReturnPeriod),len(years)-1))\n",
    "\n",
    "    for idx,r in enumerate(ReturnPeriod):\n",
    "        x0=w[0] #initial value of return value in the iteraction\n",
    "\n",
    "        for i in range(len(years)-1):\n",
    "            t00=years[i]\n",
    "            t11=years[i+1]\n",
    "            def Quantilentime(x):\n",
    "\n",
    "                # Variables previously defined as global in MATLAB, handled here locally\n",
    "                b0, b1, b2, b3, b4, b5, b6 = w[0], w[3], w[4], w[5], w[6], w[7], w[8]\n",
    "                a0 = w[1]\n",
    "                km = 12\n",
    "                dt = 0.001\n",
    "                ti = np.arange(t00, t11, dt)\n",
    "                bLT= 0\n",
    "                bCI= 0\n",
    "                aCI= 0\n",
    "                bN1=0\n",
    "                bN2=0\n",
    "\n",
    "                if len(w)>=10:\n",
    "                    bLT=w[9] #trend in location parameter\n",
    "                if len(w)>=11:    \n",
    "                    bCI=w[10] #covariate in location parameter\n",
    "                if len(w)>=12:    \n",
    "                    aCI=w[11] #covariate in scale parameter\n",
    "                if len(w)>=13:\n",
    "                    bN1=w[12]\n",
    "                    bN2=w[13]\n",
    "\n",
    "                # Interpolate serieCV at ti points\n",
    "                serieCV2 = np.interp(ti, T, serieCV)\n",
    "                # Replace NaNs with zero (np.interp does this by default if outside the bounds)\n",
    "                serieCV2[np.isnan(serieCV2)] = 0\n",
    "                # Define mut and other parameters\n",
    "                mut = (b0 * np.exp(bLT * ti) +\n",
    "                       b1 * np.cos(2 * np.pi * ti) + b2 * np.sin(2 * np.pi * ti) +\n",
    "                       b3 * np.cos(4 * np.pi * ti) + b4 * np.sin(4 * np.pi * ti) +\n",
    "                       b5 * np.cos(8 * np.pi * ti) + b6 * np.sin(8 * np.pi * ti) +\n",
    "                       bN1 * np.cos((2 * np.pi / 18.61) * ti) + bN2 * np.sin((2 * np.pi / 18.61) * ti) +\n",
    "                       (bCI * serieCV2))\n",
    "                # mut = ((b0  +\n",
    "                #        b1 * np.cos(2 * np.pi * ti) + b2 * np.sin(2 * np.pi * ti) +\n",
    "                #        b3 * np.cos(4 * np.pi * ti) + b4 * np.sin(4 * np.pi * ti) +\n",
    "                #        b5 * np.cos(8 * np.pi * ti) + b6 * np.sin(8 * np.pi * ti))* np.exp(bLT * ti) + \n",
    "                #        bN1 * np.cos((2 * np.pi / 18.61) * ti) + bN2 * np.sin((2 * np.pi / 18.61) * ti) +\n",
    "                #        (bCI * serieCV2))\n",
    "                psi = a0 + (aCI * serieCV2)\n",
    "                xit = xi\n",
    "\n",
    "                # Calculate factor\n",
    "                factor = 0\n",
    "                for i in range(len(ti)):\n",
    "                    h = np.maximum(1 + (xit * (x - mut[i]) / psi[i]), 0.0001) ** (-1 / xit)\n",
    "                    factor += h\n",
    "                Pr = 1 - (1 / r)\n",
    "                y = -Pr + np.exp(-km * factor * dt)\n",
    "                return y\n",
    "\n",
    "            YR[idx,i]=brentq(Quantilentime,x0-2,x0+2)\n",
    "            x0=YR[idx,i]\n",
    "    return years, YR"
   ]
  },
  {
   "cell_type": "markdown",
   "metadata": {},
   "source": [
    "#### Plot monthly extremes and 50 year return period with the seasonal model"
   ]
  },
  {
   "cell_type": "code",
   "execution_count": 15,
   "metadata": {},
   "outputs": [
    {
     "data": {
      "text/plain": [
       "np.float64(1.9042487)"
      ]
     },
     "execution_count": 15,
     "metadata": {},
     "output_type": "execute_result"
    }
   ],
   "source": [
    "w_s_plot[0]"
   ]
  },
  {
   "cell_type": "code",
   "execution_count": 16,
   "metadata": {},
   "outputs": [
    {
     "data": {
      "image/png": "[encoded data removed]",
      "text/plain": [
       "<Figure size 1000x400 with 1 Axes>"
      ]
     },
     "metadata": {},
     "output_type": "display_data"
    }
   ],
   "source": [
    "sss = plottingExtremeSeasonality(t,monthly_max,w_s_plot,ReturnPeriod=5,SampleRate=12)\n",
    "\n",
    "sss.set_ylabel('Sea level (m, MHHW)')\n",
    "\n",
    "#move legend to center top, with 2 columns\n",
    "sss.legend(loc='lower center', ncol=2)\n",
    "\n",
    "sss.set_title('Sea level extremes at ' + rsl_hourly.station_name.values[rid])\n",
    "\n",
    "# save the figure\n",
    "plt.savefig('SeasonalExtremeVariations.png', dpi=250)"
   ]
  },
  {
   "cell_type": "markdown",
   "metadata": {},
   "source": [
    "#### Check if we should include a long-term trend (mean sea level rise) in our location parameter\n",
    "I mean, it's probably statistically significant, but hey, we should test just in case."
   ]
  },
  {
   "cell_type": "code",
   "execution_count": 17,
   "metadata": {},
   "outputs": [
    {
     "name": "stdout",
     "output_type": "stream",
     "text": [
      "Statistical Significance of Linear Trend: 100.00%\n",
      "Estimated Trend on monthly Maxima values is: 0.11 mm/year\n",
      "x_s is: [1 1 0]\n",
      "x_T is: [1 1 0 1 0 0]\n",
      "w_T is: [ 4.67039758e+02  1.85962112e+00  6.66646400e-02 -2.22472000e-01\n",
      " -4.22099000e-03 -4.67291700e-02  5.26789800e-02 -6.08231000e-03\n",
      "  1.59690000e-03]\n"
     ]
    }
   ],
   "source": [
    "from scipy.stats import chi2\n",
    "\n",
    "x_T = np.concatenate((x_s[-1], [1, 0, 0]))  # Long-term Trend\n",
    "\n",
    "f_T = fitness(x_T, modelType='GEV_S_T_Cv')\n",
    "w_T = np.loadtxt('best.txt')\n",
    "miot = np.loadtxt('mio.txt')\n",
    "\n",
    "aux = np.loadtxt('limits.txt')\n",
    "# check to see if within limits\n",
    "wT = w_T[1:]\n",
    "for j in range(1, len(wT)):\n",
    "    if wT[j] == aux[j, 0] or wT[j] == aux[j, 1]:\n",
    "        raise ValueError(f'Trend Run: Parameter #{j} is at the limit: {wT[j]}')\n",
    "\n",
    "diffe = w_T[0] - w_s[0]\n",
    "p = 1\n",
    "SignifTrend = chi2.cdf(2 * diffe, p)\n",
    "\n",
    "print(f'Statistical Significance of Linear Trend: {SignifTrend*100:.2f}%')\n",
    "print(f'Estimated Trend on monthly Maxima values is: {w_T[2]*w_T[-1]*1000:.2f} mm/year')\n",
    "print(f'x_s is: {x_s[-1]}')\n",
    "print(f'x_T is: {x_T}')\n",
    "print(f'w_T is: {w_T}')"
   ]
  },
  {
   "cell_type": "markdown",
   "metadata": {},
   "source": [
    "#### Check the covariate in the location parameter.\n",
    "Let's check if the covariate inclusion in the location parameter is statistically significant."
   ]
  },
  {
   "cell_type": "code",
   "execution_count": 18,
   "metadata": {},
   "outputs": [
    {
     "name": "stdout",
     "output_type": "stream",
     "text": [
      "Statistical Significance of Covariate in location param.: 54.60%\n",
      "x_cvte1 is: [1 1 0 1 1 0]\n"
     ]
    }
   ],
   "source": [
    "if SignifTrend > 0.95:\n",
    "    x_cvte1 = np.concatenate((x_s[-1], [1, 1, 0]))  # Covariate\n",
    "    wcomp = w_T.copy()\n",
    "else:\n",
    "    x_cvte1 = np.concatenate((x_s[-1], [0, 1, 0]))\n",
    "    wcomp = w_s.copy()\n",
    "\n",
    "f_cvte1 = fitness(x_cvte1, modelType='GEV_S_T_Cv')\n",
    "w_cvte1 = np.loadtxt('best.txt')\n",
    "mioc = np.loadtxt('mio.txt')\n",
    "\n",
    "diffe = w_cvte1[0] - wcomp[0]\n",
    "p = 1\n",
    "SignifCvte1 = chi2.cdf(2 * diffe, p)\n",
    "print(f'Statistical Significance of Covariate in location param.: {SignifCvte1*100:.2f}%')\n",
    "print(f'x_cvte1 is: {x_cvte1}')"
   ]
  },
  {
   "cell_type": "markdown",
   "metadata": {},
   "source": [
    "#### Check the covariate in scale parameter\n",
    "Let's check if the covariate inclusion in the scale parameter is statistically significant."
   ]
  },
  {
   "cell_type": "code",
   "execution_count": 19,
   "metadata": {},
   "outputs": [
    {
     "name": "stdout",
     "output_type": "stream",
     "text": [
      "Statistical Significance of Covariate in scale param.: 40.86%\n",
      "x_cvte2 is: [1 1 0 1 0 1]\n"
     ]
    }
   ],
   "source": [
    "if SignifCvte1 > 0.95:\n",
    "    x_cvte2 = np.concatenate((x_cvte1[:-1], [1]))  # Covariate\n",
    "    wcomp = w_cvte1.copy()\n",
    "else:\n",
    "    x_cvte2 = np.concatenate((x_cvte1[:-2], [0, 1]))  # Covariate\n",
    "    wcomp = wcomp.copy()\n",
    "\n",
    "f_cvte2 = fitness(x_cvte2, modelType='GEV_S_T_Cv')\n",
    "w_cvte2 = np.loadtxt('best.txt')\n",
    "mioc2 = np.loadtxt('mio.txt')\n",
    "\n",
    "diffe = w_cvte2[0] - wcomp[0]\n",
    "p = 1\n",
    "SignifCvte2 = chi2.cdf(2 * diffe, p)\n",
    "\n",
    "print(f'Statistical Significance of Covariate in scale param.: {SignifCvte2*100:.2f}%')\n",
    "print(f'x_cvte2 is: {x_cvte2}')\n"
   ]
  },
  {
   "cell_type": "markdown",
   "metadata": {},
   "source": [
    "#### Check the nodal cycle in Location parameter\n",
    "We will only include the nodal cycle in our final model if adding it significantly improves our model thus far. We will add it to the long-term trend model if the long-term trend is significant."
   ]
  },
  {
   "cell_type": "code",
   "execution_count": 20,
   "metadata": {
    "tags": [
     "hide-input"
    ]
   },
   "outputs": [
    {
     "name": "stdout",
     "output_type": "stream",
     "text": [
      "The trend is significant! \n",
      "Include long-term trend and nodal cycle in final model.\n"
     ]
    },
    {
     "name": "stdout",
     "output_type": "stream",
     "text": [
      "x_N is: [1 1 0 1 0 0 1]\n",
      "Statistical Significance of adding Nodal cycle: 99.88%\n",
      "w_N: [ 4.7373511e+02  1.8658365e+00  6.5572790e-02 -2.2047758e-01\n",
      " -3.7349800e-03 -4.6138760e-02  5.3018100e-02 -5.4962600e-03\n",
      "  1.3941500e-03 -1.5960120e-02 -8.2272200e-03]\n"
     ]
    }
   ],
   "source": [
    "if SignifTrend>0.95:\n",
    "    x_N=np.append(x_T , [1])\n",
    "    wcomp=w_T.copy()\n",
    "    print('The trend is significant! \\nInclude long-term trend and nodal cycle in final model.')\n",
    "else:\n",
    "    x_N=np.append(x_s[-1],[0, 0, 0, 1])\n",
    "    wcomp=w_s.copy()\n",
    "    miot =mios.copy() \n",
    "\n",
    "fitness(x_N,modelType='GEV_S_T_Cv_Nodal');\n",
    "print(f'x_N is: {x_N}')\n",
    "\n",
    "w_N = np.loadtxt('best.txt');\n",
    "mion = np.loadtxt('mio.txt');\n",
    "\n",
    "wN = w_N[1:]\n",
    "for j in range(1, len(wN)):\n",
    "    if wN[j] == aux[j, 0] or wN[j] == aux[j, 1]:\n",
    "        raise ValueError(f'Nodal Run: Parameter #{j} is at the limit: {wN[j]}')\n",
    "    \n",
    "\n",
    "diffe = w_N[0] - wcomp[0]\n",
    "p = 2\n",
    "SignifN = chi2.cdf(2 * diffe, p)\n",
    "\n",
    "print(f'Statistical Significance of adding Nodal cycle: {SignifN*100:.2f}%')\n",
    "\n",
    "xcromo = x_N.copy()\n",
    "wc = w_N.copy()\n",
    "mio = mion.copy()\n",
    "if SignifN<0.95:\n",
    "    xcromo[-1] = 0 # set the nodal component to zero\n",
    "    wc = wcomp.copy() # use the previous model\n",
    "    mio = miot\n",
    "\n",
    "# Assess standard errors of the parameters\n",
    "J = np.linalg.inv(mio)\n",
    "standard_error = np.sqrt(np.diag(J))\n",
    "print(f'w_N: {wc}')"
   ]
  },
  {
   "cell_type": "markdown",
   "metadata": {},
   "source": [
    "## Plot the timeseries"
   ]
  },
  {
   "cell_type": "markdown",
   "metadata": {},
   "source": [
    "```{margin}\n",
    "```{warning}\n",
    "Still toying with this!\n",
    "```"
   ]
  },
  {
   "cell_type": "code",
   "execution_count": 21,
   "metadata": {},
   "outputs": [
    {
     "data": {
      "image/png": "[encoded data removed]",
      "text/plain": [
       "<Figure size 1000x400 with 1 Axes>"
      ]
     },
     "metadata": {},
     "output_type": "display_data"
    }
   ],
   "source": [
    "# %%\n",
    "\n",
    "# get the first year of t_monthly_max\n",
    "year0 = 1993\n",
    "\n",
    "fig = plt.figure()\n",
    "sss = fig.add_subplot(1, 1, 1)\n",
    "sss.plot(t+year0, monthly_max-STNDtoMHHW, '*k', markersize=4, label='Monthly Maxima')\n",
    "\n",
    "# # Plotting model with only time-dependency within the year (Seasonality only)\n",
    "# best_param = np.append(w_s[1:], [0, 0, 0])\n",
    "best_param = adjust_w_for_plotting(x_s, w_s)\n",
    "ReturnPeriod = [2,10,50,100]\n",
    "# years, Yr_s = getTimeDependentReturnValue(t, covariate, best_param,ReturnPeriod)\n",
    "# for i in range(len(ReturnPeriod)):\n",
    "#     sss.plot(years[:-1]+0.5+year0, Yr_s[i]-STNDtoMHHW, 'k', linewidth=2, label='S, '+str(ReturnPeriod[i])+'y')\n",
    "\n",
    "# # Plotting model with Seasonality & Trend\n",
    "best_T = adjust_w_for_plotting(x_T, w_T)\n",
    "# print(best_param)\n",
    "# years, Yr_T = getTimeDependentReturnValue(t, covariate, best_T,ReturnPeriod)\n",
    "# for i in range(len(ReturnPeriod)):\n",
    "#     sss.plot(years[:-1]+0.5+year0, Yr_T[i]-STNDtoMHHW, 'b', linewidth=2, label='S,T:' + str(ReturnPeriod[i])+'y')\n",
    "\n",
    "# Plotting cvte influence in location\n",
    "best_smu = adjust_w_for_plotting(x_cvte1,w_cvte1)\n",
    "years, Yr_sigMu = getTimeDependentReturnValue(t, covariate, best_smu,ReturnPeriod)\n",
    "# sss.plot(years[:-1]+0.5+year0, Yr_sigMu[0]-STNDtoMHHW, 'g', linewidth=1, label='Covariate_location')\n",
    "\n",
    "# Plotting cvte influence in scale\n",
    "best_spsi = adjust_w_for_plotting(x_cvte2, w_cvte2)\n",
    "years, Yr_sigPsi = getTimeDependentReturnValue(t, covariate, best_spsi,ReturnPeriod)\n",
    "# sss.plot(years[:-1]+0.5+year0, Yr_sigPsi[0]-STNDtoMHHW, 'c', linewidth=1, label='Covariate_scale')\n",
    "\n",
    "# Plotting nodal cycle in location, will need to add back in the covariate terms as zeros\n",
    "best_MuN = adjust_w_for_plotting(x_N,w_N)\n",
    "years, Yr_muN = getTimeDependentReturnValue(t, covariate, best_MuN,ReturnPeriod)\n",
    "cmap = plt.get_cmap('viridis')\n",
    "\n",
    "# Generate a list of colors from the colormap\n",
    "colors = [cmap(i / (len(ReturnPeriod) - 1)) for i in range(len(ReturnPeriod))]\n",
    "\n",
    "for i in range(len(ReturnPeriod)):\n",
    "    color = cmap(i)\n",
    "    sss.plot(years[:-1]+0.5+year0, Yr_muN[i]-STNDtoMHHW, color=colors[i], linewidth=1, label=str(ReturnPeriod[i])+'y')\n",
    "\n",
    "sss.set_ylabel('Sea level (m, MHHW)')\n",
    "# add grid\n",
    "sss.grid(True)\n",
    "# add legend outside the plot\n",
    "sss.legend(loc='upper left', bbox_to_anchor=(1, 1))\n",
    "\n",
    "# add title of station name\n",
    "sss.set_title('Nonstationary GEV Return Levels: ' + rsl_hourly.station_name.values[rid])\n",
    "\n",
    "plt.tight_layout()\n",
    "\n",
    "# save the figure\n",
    "plt.savefig('TimeDependentReturnValue.png', dpi=300, bbox_inches='tight')\n"
   ]
  },
  {
   "cell_type": "markdown",
   "metadata": {},
   "source": []
  }
 ],
 "metadata": {
  "kernelspec": {
   "display_name": "SLI39",
   "language": "python",
   "name": "python3"
  },
  "language_info": {
   "codemirror_mode": {
    "name": "ipython",
    "version": 3
   },
   "file_extension": ".py",
   "mimetype": "text/x-python",
   "name": "python",
   "nbconvert_exporter": "python",
   "pygments_lexer": "ipython3",
   "version": "3.9.19"
  }
 },
 "nbformat": 4,
 "nbformat_minor": 2
}