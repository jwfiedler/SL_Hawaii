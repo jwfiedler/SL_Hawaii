{
 "cells": [
  {
   "cell_type": "markdown",
   "id": "93deb962-a84a-4664-9e5f-fe8ac5210ef7",
   "metadata": {},
   "source": [
    "# Components of Sea Level"
   ]
  },
  {
   "cell_type": "code",
   "execution_count": 1,
   "id": "f9f5a14f-c2e7-441f-b984-c74dd6e7f353",
   "metadata": {},
   "outputs": [],
   "source": [
    "# Eventually stuff will go here"
   ]
  },
  {
   "cell_type": "markdown",
   "id": "c4c65365-a4f8-433e-8bea-01e4c6519f69",
   "metadata": {},
   "source": [
    "Hi, I am stuff."
   ]
  }
 ],
 "metadata": {
  "kernelspec": {
   "display_name": "SLI39",
   "language": "python",
   "name": "python3"
  },
  "language_info": {
   "codemirror_mode": {
    "name": "ipython",
    "version": 3
   },
   "file_extension": ".py",
   "mimetype": "text/x-python",
   "name": "python",
   "nbconvert_exporter": "python",
   "pygments_lexer": "ipython3",
   "version": "3.9.18"
  }
 },
 "nbformat": 4,
 "nbformat_minor": 2
}