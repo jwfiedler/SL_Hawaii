{
 "cells": [
  {
   "cell_type": "markdown",
   "metadata": {},
   "source": [
    "# Setup\n",
    "\n",
    "We first need to import the necessary libraries, access the data, and make a quick plot to ensure we will be analyzing the right thing.\n",
    "\n",
    "## Import necessary libraries."
   ]
  },
  {
   "cell_type": "code",
   "execution_count": 1,
   "metadata": {},
   "outputs": [],
   "source": [
    "# Standard libraries\n",
    "import os, io, glob\n",
    "import datetime as dt\n",
    "from pathlib import Path\n",
    "\n",
    "# Data manipulation libraries\n",
    "import numpy as np\n",
    "import pandas as pd\n",
    "import xarray as xr\n",
    "\n",
    "# Data retrieval libraries\n",
    "from urllib.request import urlretrieve\n",
    "import requests\n",
    "\n",
    "# Data analysis libraries\n",
    "import scipy.stats as stats\n",
    "\n",
    "# HTML parsing library\n",
    "from bs4 import BeautifulSoup\n",
    "\n",
    "# Visualization libraries\n",
    "import matplotlib.pyplot as plt\n",
    "import seaborn as sns\n",
    "import cartopy.crs as ccrs\n",
    "import cartopy.feature as cfeature\n",
    "\n",
    "# Miscellaneous\n",
    "from myst_nb import glue  # used for figure numbering when exporting to LaTeX"
   ]
  },
  {
   "cell_type": "markdown",
   "metadata": {},
   "source": [
    "## Set up Plotting\n",
    "Then we'll establish some basic plotting rules for this notebook to keep everything looking uniform."
   ]
  },
  {
   "cell_type": "code",
   "execution_count": 2,
   "metadata": {},
   "outputs": [],
   "source": [
    "\n",
    "## Set up Plotting\n",
    "plt.rcParams['figure.figsize'] = [10, 4]  # Set a default figure size for the notebook\n",
    "plt.rcParams['figure.dpi'] = 100  # Set default resolution for inline figures\n",
    "\n",
    "# Set the default font size for axes labels, titles and ticks\n",
    "plt.rcParams['axes.titlesize'] = 16  # Set the font size for axes titles\n",
    "plt.rcParams['axes.labelsize'] = 14  # Set the font size for x and y labels\n",
    "plt.rcParams['xtick.labelsize'] = 12 # Set the font size for x-axis tick labels\n",
    "plt.rcParams['ytick.labelsize'] = 12 # Set the font size for y-axis tick labels\n",
    "plt.rcParams['font.size'] = 14 # Set the font size for the text in the figure (can affect legend)"
   ]
  },
  {
   "cell_type": "markdown",
   "metadata": {},
   "source": [
    "## Define some functions\n",
    "These will come up across different notebooks."
   ]
  },
  {
   "cell_type": "code",
   "execution_count": 3,
   "metadata": {},
   "outputs": [],
   "source": [
    "def process_trend_with_nan(sea_level_anomaly,weighted=False):\n",
    "    # Flatten the data and get a time index\n",
    "    # first ensure time is the first dimension regardless of other dimensions\n",
    "    sea_level_anomaly = sea_level_anomaly.transpose('time', ...)\n",
    "    sla_flat = sea_level_anomaly.values.reshape(sea_level_anomaly.shape[0], -1)\n",
    "    time_index = pd.to_datetime(sea_level_anomaly.time.values).to_julian_date()\n",
    "\n",
    "    detrended_flat = np.full_like(sla_flat, fill_value=np.nan)\n",
    "\n",
    "    # Loop over each grid point\n",
    "    for i in range(sla_flat.shape[1]):\n",
    "        # Get the time series for this grid point\n",
    "        y = sla_flat[:,i]\n",
    "        mask = ~np.isnan(y)\n",
    "\n",
    "        if np.any(mask):\n",
    "            time_masked = time_index[mask]\n",
    "            y_masked = y[mask]\n",
    "\n",
    "            slope, intercept, _, _, _ = stats.linregress(time_masked, y_masked)\n",
    "            trend = slope * time_index + intercept\n",
    "\n",
    "            detrended_flat[:,i] = y - trend\n",
    "\n",
    "    detrended = detrended_flat.reshape(sea_level_anomaly.shape)\n",
    "\n",
    "    # Calculate trend magnitude\n",
    "    sea_level_trend = sea_level_anomaly - detrended\n",
    "    trend_mag = sea_level_trend[-1] - sea_level_trend[0]\n",
    "\n",
    "    times = pd.to_datetime(sea_level_anomaly['time'].values)\n",
    "    time_mag = (times[-1] - times[0]).days/365.25 # in years\n",
    "\n",
    "    trend_rate = trend_mag / time_mag\n",
    "\n",
    "    if weighted==True:\n",
    "        # Calculate the weights\n",
    "        weights = np.cos(np.deg2rad(sea_level_anomaly.latitude))\n",
    "        weights.name = 'weights'\n",
    "\n",
    "        # Calculate the weighted mean\n",
    "        trend_mag = (trend_mag * weights).mean()\n",
    "        trend_rate = (trend_rate * weights).mean()\n",
    "        sea_level_trend = (sea_level_trend * weights).mean(dim=['latitude', 'longitude'])\n",
    "\n",
    "\n",
    "\n",
    "    return trend_mag, sea_level_trend, trend_rate  "
   ]
  },
  {
   "cell_type": "code",
   "execution_count": null,
   "metadata": {},
   "outputs": [],
   "source": []
  }
 ],
 "metadata": {
  "kernelspec": {
   "display_name": "SLI39",
   "language": "python",
   "name": "python3"
  },
  "language_info": {
   "codemirror_mode": {
    "name": "ipython",
    "version": 3
   },
   "file_extension": ".py",
   "mimetype": "text/x-python",
   "name": "python",
   "nbconvert_exporter": "python",
   "pygments_lexer": "ipython3",
   "version": "3.9.18"
  }
 },
 "nbformat": 4,
 "nbformat_minor": 2
}