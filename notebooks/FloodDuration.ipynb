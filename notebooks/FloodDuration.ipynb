{
 "cells": [
  {
   "cell_type": "markdown",
   "id": "fe9703c8-9806-4bd6-956b-99802774ecb8",
   "metadata": {},
   "source": [
    "# Flood Duration\n",
    "Tralala"
   ]
  },
  {
   "cell_type": "code",
   "execution_count": null,
   "id": "447409b8-68a5-4261-9153-4dce5ff848f4",
   "metadata": {},
   "outputs": [],
   "source": [
    "#code here."
   ]
  },
  {
   "cell_type": "markdown",
   "id": "0fbf3c7c-1129-4686-b27f-752faa06fd31",
   "metadata": {},
   "source": [
    "There will be more. This is a placeholder."
   ]
  }
 ],
 "metadata": {
  "language_info": {
   "name": "python"
  }
 },
 "nbformat": 4,
 "nbformat_minor": 2
}
