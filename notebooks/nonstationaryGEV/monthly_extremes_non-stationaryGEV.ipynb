{
 "cells": [
  {
   "cell_type": "markdown",
   "metadata": {},
   "source": [
    "# Nonstationary Extremes\n",
    "\n",
    "As with our stationary annual extremes, for the nonstationary extremes we'll be using the Generalized Extreme Value (GEV) distribution. The GEV is a family of continuous probability distributions developed to combine the Gumbel, Fréchet, and Weibull families, also known as type I, II, and III extreme value distributions, respectively. It is widely used in different fields, particularly for modeling the largest or smallest values among a large set of independent, identically distributed random values (extreme value analysis).\n",
    "\n",
    "\n",
    "### Cumulative Distribution Function (CDF)\n",
    "\n",
    "The cumulative distribution function of the GEV, which is used to calculate return periods, is given by:\n",
    "\n",
    "\\begin{align}\n",
    "F(x; \\mu, \\sigma, \\xi) = \\begin{cases} \n",
    "\\exp\\left(-\\left(1 + \\xi \\frac{x - \\mu}{\\psi}\\right)^{-\\frac{1}{\\xi}}\\right) & \\text{if } \\xi \\neq 0, \\; 1 + \\xi \\frac{x - \\mu}{\\psi} > 0 \\\\\n",
    "\\exp\\left(-\\exp\\left(-\\frac{x - \\mu}{\\psi}\\right)\\right) & \\text{if } \\xi = 0\n",
    "\\end{cases}\n",
    "\\end{align}\n",
    "\n",
    "Where:\n",
    "- $\\mu $ (location parameter) determines the center of the distribution.\n",
    "- $ \\psi $ (scale parameter) is strictly positive and scales the distribution.\n",
    "- $ \\xi $ (shape parameter) describes the tail behavior of the distribution. It can be positive (heavy tail, Fréchet), zero (exponential tail, Gumbel), or negative (bounded tail, Weibull).\n",
    "\n",
    "Assuming we are not dealing with a random stationary process (as with our stationary annual extremes), each parameter in the above equation can be the combination of one or more time-dependent components. These effects could include annual variability (seasonality), sea level rise (long-term trend and possible acceleration), a long-term trend for the extreme values, long-term climate variability effects explained by climate indices or the 18.61-yr nodal cycle.\n",
    "\n",
    "The sum total of these covariates on each parameter are:\n",
    "\\begin{align}\n",
    "\\mu(t) &= \\mu_{SLR}(t) + \\mu_S(t)exp^{[\\mu_{LT}(t)]} + \\mu_N(t) + \\mu_{CLI}(t),\\\\\n",
    "\\psi_t(t) &= \\psi_S(t)exp^{[\\psi_{LT}(t)]} + \\psi_N(t) + \\psi_{CLI},\\\\\n",
    "\\xi_t(t) &= \\xi_S(t)exp^{[\\xi_{LT}(t)]}\n",
    "\\end{align}\n",
    "\n",
    "Note this includes a nonlinear component to allow for a long-term (LT) variability in the seasonality (S) in the location and scale parameters. The following codes will not include some of these terms - this is a general equation!\n",
    "\n",
    "\n",
    "This example script explores the following steps:\n",
    "- step1: seasonal pattern of extreme events (seasonality on location, scale, and shape parameters remain constant)\n",
    "- step2: long-term trends in location parameter (linear and a possible acceleration)\n",
    "- step3: Checking Covariate (PMM index) in the GEV location parameter\n",
    "- step4: Checking Covariate (PMM index) in the GEV scale parameter\n",
    "- step5: Checking Nodal cycle (18.6 year period, waves) in the GEV location parameter\n",
    "\n",
    "Author: Melisa Menendez, menendezm@unican.es\n",
    "\n",
    "Updated for Billy & Ayesha SERDP work: 09-March-2017\n",
    "\n",
    "Updated for Python with some added explanation: July 2024\n",
    "\n",
    "Further explanation of this code (and writeup) can be found in:\n",
    "Méndez, F. J., M. Menéndez, A. Luceño, and I. J. Losada, 2007: Analyzing Monthly Extreme Sea Levels with a Time-Dependent GEV Model. J. Atmos. Oceanic Technol., 24, 894–911, https://doi.org/10.1175/JTECH2009.1."
   ]
  },
  {
   "cell_type": "code",
   "execution_count": 71,
   "metadata": {},
   "outputs": [],
   "source": [
    "import pandas as pd\n",
    "import numpy as np\n",
    "import scipy.io\n",
    "from datetime import datetime, timedelta\n",
    "from scipy.stats import chi2\n",
    "from scipy.optimize import brentq\n",
    "import matplotlib.pyplot as plt\n",
    "import subprocess\n",
    "import json"
   ]
  },
  {
   "cell_type": "markdown",
   "metadata": {},
   "source": [
    "## Main Functions\n",
    "Here we'll write our main functions.\n",
    "\n",
    "### Step-wise solver\n",
    "This function iteratively improves the model solution by choosing which parameters to use and evaluating if the change leads to a statistically significant improvement using a $\\chi^2$ metric."
   ]
  },
  {
   "cell_type": "code",
   "execution_count": 72,
   "metadata": {
    "tags": [
     "hide-input"
    ]
   },
   "outputs": [],
   "source": [
    "def stepwise(x_inisol, modelType='GEV_SeasonalMu'):\n",
    "    N = len(x_inisol)\n",
    "\n",
    "\n",
    "    cont = 0\n",
    "\n",
    "    x = np.array([x_inisol]) \n",
    "    # x = x_inisol # Start with initial solution\n",
    "    f, pa = fitness(x[cont], modelType)  # Compute fitness for initial solution\n",
    "    f = np.array([f])\n",
    "    pa = np.array([pa])\n",
    "    \n",
    "    better = True\n",
    "    prob = 0.95\n",
    "    \n",
    "    while better:\n",
    "\n",
    "        dum = np.where(x[cont] == 0)[0]  # Find positions of zeros in the chromosome\n",
    "        \n",
    "        if dum.size != 0:\n",
    "            x_temp = np.tile(x[cont], (len(dum), 1))\n",
    "            f_temp = np.zeros(len(dum))\n",
    "            pa_temp = np.zeros(len(dum))\n",
    "            \n",
    "            for i in range(len(dum)):\n",
    "                x_temp[i, dum[i]] = 1\n",
    "                f_temp[i], pa_temp[i] = fitness(x_temp[i], modelType)\n",
    "            best, indi = np.max(f_temp), np.argmax(f_temp)\n",
    "            # Check if the improvement is significant with chi2 test\n",
    "            if (best - f[cont]) >= (0.5 * chi2.ppf(prob, df=(pa_temp[indi] - pa[cont]))):\n",
    "                cont += 1\n",
    "                x = np.vstack((x, [x_temp[indi]]))\n",
    "                f = np.vstack((f, [best]))\n",
    "                pa = np.vstack((pa, [pa_temp[indi]]))\n",
    "                f[cont], pa[cont] = fitness(x[cont], modelType)\n",
    "            else:\n",
    "                better = False\n",
    "        else:\n",
    "            better = False\n",
    "\n",
    "    return x, f"
   ]
  },
  {
   "cell_type": "markdown",
   "metadata": {},
   "source": [
    "### Maximum Likelihood Estimation\n",
    "\n",
    "Since we are using monthly data, we can define our location parameter as a harmPMMc series to represent seasonal effects, like so:\n",
    "\n",
    "```{margin}\n",
    "```{note}\n",
    "Note that some portions of the original code have a dyadic series, so while our normal series would have n going from 1 to $\\infty$ we will have $n=1,2,4$, representing the annual cycle, the seasonal cycle, and the quarterly cycle. (We neglect a tri-annual cycle.)\n",
    "```\n",
    "\n",
    "$$\n",
    "f(t) = A_0 + \\sum_{n=1}^{\\infty} \\left( A_n \\cos(2n \\pi t) + B_n \\sin(2n \\pi t) \\right),\n",
    "$$\n",
    "\n",
    "\n",
    "\n",
    "For example, if we can describe our location, scale and shape parameters in the GEV as:\n",
    "\n",
    "\\begin{align}\n",
    "\\mu(t) &= \\beta_{SLR}(t) + [\\beta_0 + \\beta_1 cos(2\\pi t) + \\beta_2 sin(2\\pi t) + \\beta_3 cos(4\\pi t) + \\beta_4 sin(4\\pi t)]e^{[\\beta_{LT}(t)]}\\\\\\\n",
    " &+ \\beta_{N_1} cos(2\\pi t/T_N) + \\beta_{N_2} sin(2\\pi t/T_N) + \\beta_{PMM}PMM(t),\\\\\n",
    "\\psi(t) &= [\\alpha_0 + \\alpha_1 cos(2\\pi t) + \\alpha_2 sin(2\\pi t)]e^{[\\alpha_{LT}(t)]} \\\\\n",
    "\\xi(t) &=  [\\gamma_0 + \\gamma_1 cos(2\\pi t) + \\gamma_2 sin(2\\pi t)]\n",
    "\\end{align}\n",
    "\n",
    "then the vector we'd use for our MLE fit should be\n",
    "\n",
    "$\\theta = (\\beta_0,\\beta_1,\\beta_2,\\beta_3,\\beta_4,\\beta_{N_1},\\beta_{N_2},\\beta_{LT},\\beta_{PMM},\\alpha_0, \\alpha_1, \\alpha_2, \\alpha_{LT},\\gamma_0,\\gamma_1,\\gamma_2)$.\n",
    "\n",
    "Here, $\\beta_{0,1,2,3,4}$ model the seasonal variation of the location parameter, $\\beta_{N1,N2}$ are the amplitudes of the nodal cycle, $\\beta_{LT}$ is the long term trend of the location parameter, and $\\beta_{PMM}$ is the amplitude (relative influence) of the [PMM] climate index in the location parameter. Similarly, $\\alpha_{0,1,2}$ model the [cyclical] variation of the scale parameter, and $\\alpha_{LT}$ models its long-term trend. For the shape parameter, only the seasonal variation is modeled ($\\gamma_{0,1,2}$).\n",
    "\n",
    "We'll use this vector $\\theta$ to calculate the maximum likelihood function $L$,\n",
    "\n",
    "$L(\\theta | t_i,z_i) = \\prod_{i=1}^m g[z_i;\\mu(t_i),\\psi(t_i),\\xi(t_i)]$,\n",
    "\n",
    "where $g$ is the PDF of the GEV (equation 1). In other words, this means that the likelihood of observing the entire dataset is the product of the likelihoods of observing each individual time point under the assumed GEV model (Maximum Likelihood Estimation, MLE).\n",
    "\n",
    "\n",
    "### Parameter Search\n",
    "\n",
    "\n",
    "The code below takes a varying number of parameters (a differently sized vector of regression parameters) for different models. There are three models we can run: GEV_SeasonalMu, GEV_S_T_Cv, or GEV_S_T_Cv_Nodal. Because there are so many parameters to estimate (a high-dimensional problem), a Shuffled Complex Evolution (SCE-UA,\\cite{Duan}) optimization scheme is used to determine the best parameter fits. The SCE-UA is used often in hydrology, engineering, and other environmental sciences, using random clusters for initial starting points in its search algorithm and allowing them to \"evolve\" to a better solution. Other optimization schemes exist, but for now this is what we're using.\n",
    "\n",
    "```{margin}\n",
    "```{Note}\n",
    "Still to do: get these models to run all in a python ecosystem. For right now, they will remain .exe files.\n",
    "```\n",
    "\n",
    "#### Seasonality in Location Model\n",
    "\n",
    "Our first step is to look at seasonality only, using the GEV_SeasonalMu model, such that $\\mu(t)$, $\\psi(t)$, and $\\xi(t)$ are:\n",
    "\n",
    "\\begin{align}\n",
    "\\mu(t) &=  \\beta_0 + \\beta_1 cos(2\\pi t) + \\beta_2 sin(2\\pi t) + \\\\\n",
    "&\\beta_3 cos(4\\pi t) + \\beta_4 sin(4\\pi t) + \\beta_5 cos(8\\pi t) + \\beta_6 sin(8\\pi t),\\\\\n",
    "\\psi &= \\alpha_0, \\\\\n",
    "\\xi &=  \\gamma_0 \n",
    "\\end{align}\n",
    "\n",
    "and we'll arrange our vector of 9 regression parameters within the fitness function like so:\n",
    "\n",
    "$\\theta = [\\beta_0, \\alpha_0, \\gamma_0, \\beta_1, \\beta_2, \\beta_3, \\beta_4, \\beta_5, \\beta_6].$\n",
    "\n",
    "In this way we assume that only the location parameter changes within a year, whereas the shape and scale of the GEV distribution are constant.\n",
    "\n",
    "#### Seasonality, Trend, and Covariate Model\n",
    "For the GEV_S_T_Cv model , we'll allow a long-term trend into the location parameter and a covariate into the scale and location parameter:\n",
    "```{margin}\n",
    "Note this trend can be approximated as linear if our long-term trend parameter $\\beta_{LT}$ is small. \n",
    "\n",
    "Mathmematically, as $\\beta_{LT}$ goes to zero, $e^{\\beta_{LT}·t}$ goes to $1 + \\beta_{LT}·t$ and our expression (for the non-cyclical part of the location parameter) simplifies to $\\beta_0 (1 +  \\beta_{LT}·t)$. \n",
    "\n",
    "That is the equation of a line: $\\beta_0 + \\beta_0·\\beta_{LT}·t$, where slope of the line is $\\beta_0·\\beta_{LT}$. \n",
    "```\n",
    "\n",
    "\\begin{align}\n",
    "\\mu(t) &= \\beta_0e^{\\beta_{LT}(t)}  + \\beta_1 cos(2\\pi t) + \\beta_2 sin(2\\pi t) + \\beta_3 cos(4\\pi t) + \\beta_4 sin(4\\pi t) \\\\\n",
    "&+ \\beta_5 cos(8\\pi t) + \\beta_6 sin(8\\pi t)   + \\beta_{PMM}PMM(t),\\\\\n",
    "\\psi &= \\alpha_0 + \\alpha_{PMM}PMM(t), \\\\\n",
    "\\xi &=  \\gamma_0 \n",
    "\\end{align}\n",
    "\n",
    "and we'll arrange our vector of 12 regression parameters within the fitness function like so:\n",
    "\n",
    "$\\theta = [\\beta_0, \\alpha_0, \\gamma_0, \\beta_1, \\beta_2, \\beta_3, \\beta_4, \\beta_5, \\beta_6,\\beta_{LT},\\beta_{PMM},\\alpha_{PMM}].$\n",
    "\n",
    "#### Seasonality, Trend, Covariate and Nodal cycle Model\n",
    "For the GEV_S_T_Cv_N model , we'll add in the nodal cycle:\n",
    "\n",
    "\\begin{align}\n",
    "\\mu(t) &= \\beta_0 e^{\\beta_{LT}(t)} + \\beta_1 cos(2\\pi t) + \\beta_2 sin(2\\pi t) + \\beta_3 cos(4\\pi t) + \\beta_4 sin(4\\pi t) \\\\\n",
    "&+ \\beta_5 cos(8\\pi t) + \\beta_6 sin(8\\pi t) + \\beta_{PMM}PMM(t) + \\beta_{N_1} cos(2\\pi t/T_N) + \\beta_{N_2} sin(2\\pi t/T_N),\\\\\n",
    "\\psi &= \\alpha_0 + \\alpha_{PMM}PMM(t), \\\\\n",
    "\\xi &=  \\gamma_0 \n",
    "\\end{align}\n",
    "\n",
    "and we'll arrange our vector of 14 regression parameters within the fitness function like so:\n",
    "\n",
    "$\\theta = [\\beta_0, \\alpha_0, \\gamma_0, \\beta_1, \\beta_2, \\beta_3, \\beta_4, \\beta_5, \\beta_6,\\beta_{LT},\\beta_{PMM},\\alpha_{PMM},\\beta_{N1},\\beta_{N2}].$\n",
    "\n",
    "### Input to the fitness function\n",
    "Note that the input \"x\" to the fitness function works like a switch - if it is a parameter to include, it is 1 (True). If it is not used, it is 0 (False). It is at most 7 elements long.\n",
    "\n",
    "- x: [1/0 1/0 1/0 1/0 1/0 1/0 1/0]\n",
    "- x[0]: annual cycle, location parameter.\n",
    "- x[1]: semi-annual cycle, location parameter.\n",
    "- x[2]: quarterly cycle, location parameter.\n",
    "- x[3]: Trend, location parameter.\n",
    "- x[4]: Covariate, location parameter.\n",
    "- x[5]: Covariate, scale parameter.\n",
    "- x[6]: Nodal cycle, location parameter\n",
    "- Max number of parameters: 14\n"
   ]
  },
  {
   "cell_type": "code",
   "execution_count": 73,
   "metadata": {
    "tags": [
     "hide-input"
    ]
   },
   "outputs": [],
   "source": [
    "def fitness(x, modelType='GEV_SeasonalMu'):\n",
    "    # Load parameter limits from a file\n",
    "    aux = np.loadtxt('limits.txt')\n",
    "    xmax = np.zeros(len(aux))  # Initialize with NaNs\n",
    "    xmin = np.zeros(len(aux))\n",
    "    # Initialize parameter limits based on the chromosome\n",
    "    xmin[:3] = aux[:3, 0]\n",
    "    xmax[:3] = aux[:3, 1]\n",
    "    cont = 3\n",
    "    \n",
    "\n",
    "    if x[0] == 1:  # Annual cycle\n",
    "        xmin[cont:cont+2] = [aux[3, 0], aux[4, 0]]  # should use indices 3 and 4 (i.e., aux(4,1) and aux(5,1) in MATLAB)\n",
    "        xmax[cont:cont+2] = [aux[3, 1], aux[4, 1]]\n",
    "        cont += 2\n",
    "\n",
    "    if x[1] == 1:  # Semiannual cycle\n",
    "        xmin[cont:cont+2] = [aux[5, 0], aux[6, 0]]  # should use indices 5 and 6 (i.e., aux(6,1) and aux(7,1) in MATLAB)\n",
    "        xmax[cont:cont+2] = [aux[5, 1], aux[6, 1]]\n",
    "        cont += 2\n",
    "\n",
    "    if x[2] == 1:  # Frequency 4w\n",
    "        xmin[cont:cont+2] = [aux[5, 0], aux[6, 0]]  # should use indices 5 and 6 (same as Semiannual cycle)\n",
    "        xmax[cont:cont+2] = [aux[5, 1], aux[6, 1]]\n",
    "        cont += 2\n",
    "\n",
    "    if modelType == 'GEV_S_T_Cv' or modelType == 'GEV_S_T_Cv_Nodal':\n",
    "        if x[2] == 1:  # Frequency 4w, for some reason the limits change, so we'll replace them\n",
    "            cont -= 2\n",
    "            xmin[cont:cont+2] = [aux[7, 0], aux[8, 0]]  # \n",
    "            xmax[cont:cont+2] = [aux[7, 1], aux[8, 1]]\n",
    "            cont += 2\n",
    "        \n",
    "        if x[3] == 1: # Trend in location parameter, beta_LT\n",
    "            xmin[cont] = aux[9, 0]\n",
    "            xmax[cont] = aux[9, 1]\n",
    "            cont += 1\n",
    "        \n",
    "        if x[4] == 1: # Covariate in location parameter, beta_CV\n",
    "            xmin[cont] = aux[10, 0]\n",
    "            xmax[cont] = aux[10, 1]\n",
    "            cont += 1\n",
    "\n",
    "        if x[5] == 1: # Covariate in scale parameter, gamma_CV\n",
    "            xmin[cont] = aux[11, 0]\n",
    "            xmax[cont] = aux[11, 1]\n",
    "            cont += 1\n",
    "    \n",
    "    if modelType == 'GEV_S_T_Cv_Nodal':\n",
    "        if x[6] == 1: # Nodal component in location, beta_N1, beta_N2\n",
    "            xmin[cont:cont+2] = [aux[12, 0], aux[13, 0]]\n",
    "            xmax[cont:cont+2] = [aux[12, 1], aux[13, 1]]\n",
    "            cont += 2\n",
    "\n",
    "\n",
    "    xmin = xmin[:cont]\n",
    "    xmax = xmax[:cont]\n",
    "\n",
    "    # Prepare the initial values and parameter configuration file\n",
    "    n = len(xmin)\n",
    "    xini = np.zeros(n) + 0.001\n",
    "    xini[2] = -0.001  # Specific initialization for third parameter\n",
    "    \n",
    "    # Prepare parameters for the external executable\n",
    "    maxn = -2000 + 1500 * n #number of iterations\n",
    "    kstop = 3 #number of iterations without improvement allowed\n",
    "    pcento = 0.001\n",
    "    ngs = np.ceil(n / 4)\n",
    "    iseed = 955\n",
    "    ideflt = 1\n",
    "    npg = 2 * n + 1\n",
    "    nps = n + 1\n",
    "    nspl = 2 * n + 1\n",
    "    mings = ngs\n",
    "    iniflg = 1\n",
    "    iprint = 0\n",
    "    \n",
    "\n",
    "    with open('scein.dat', 'w') as f:\n",
    "        # Writing header with specified formatting\n",
    "        f.write(f\"{maxn:5g} {kstop:5g} {pcento:5.3g} {ngs:5g} {iseed:5g} {ideflt:5g}\\n\")\n",
    "        f.write(f\"{npg:5g} {nps:5g} {nspl:5g} {mings:5g} {iniflg:5g} {iprint:5g}\\n\")\n",
    "\n",
    "        # Write chromosome values with better control over formatting\n",
    "        x_formatted = \" \".join(f\"{int(value):1.0f}\" for value in x[:-1]) + f\" {int(x[-1]):1.0f}\\n\"\n",
    "        f.write(x_formatted)\n",
    "\n",
    "        # Writing parameter limits and initial guesses with specified precision\n",
    "        for i in range(len(xini)):\n",
    "            f.write(f\"{xini[i]:15.8f} {xmin[i]:15.8f} {xmax[i]:15.8f}\\n\")        \n",
    "\n",
    "    \n",
    "    # Run the external model executable\n",
    "    modelName = 'Model_' + modelType + '.exe'\n",
    "    subprocess.run([modelName], check=True)\n",
    "    \n",
    "    # Read the output\n",
    "    with open('best.txt', 'r') as file:\n",
    "        bestf = float(file.readline().strip())\n",
    "    \n",
    "    return bestf, n"
   ]
  },
  {
   "cell_type": "markdown",
   "metadata": {},
   "source": [
    "### Plot: Seasonality Effect on Extremes\n",
    "Next we'll make an example plot of the seasonality effect on extremes. For each year day, we'll evaluate the CDF of the GEV at a return period of 50 years to get the the return levels within the year."
   ]
  },
  {
   "cell_type": "code",
   "execution_count": 74,
   "metadata": {
    "tags": [
     "hide-input"
    ]
   },
   "outputs": [],
   "source": [
    "def plottingExtremeSeasonality(T0, seaLevel, w, ReturnPeriod=50, SampleRate=12):\n",
    "    dx = 0.001\n",
    "    t2 = np.arange(0, 1.101, dx)\n",
    "    \n",
    "    # Define the mu using the harmPMMc series\n",
    "    mu = (w[0] + w[3] * np.cos(2 * np.pi * t2) + w[4] * np.sin(2 * np.pi * t2) +\n",
    "          w[5] * np.cos(4 * np.pi * t2) + w[6] * np.sin(4 * np.pi * t2) +\n",
    "          w[7] * np.cos(8 * np.pi * t2) + w[8] * np.sin(8 * np.pi * t2))\n",
    "    psi = w[1]\n",
    "    xi = w[2]\n",
    "    \n",
    "    # Define the time within the year\n",
    "    twinthinyear =T0-np.floor(T0)\n",
    "    \n",
    "    T = T0\n",
    "    R = ReturnPeriod\n",
    "    S = SampleRate\n",
    "\n",
    "    # get seaLevelS for all ReturnPeriods\n",
    "    # preallocate seaLevelS with Nans for each ReturnPeriod\n",
    "    seaLevelS = np.zeros((len(R), len(t2)))\n",
    "    \n",
    "    for i in range(len(R)):\n",
    "        prob = 1 - (1 / (R[i]*S)) ### ALTERED FROM MATLAB CODE!!! ###\n",
    "        seaLevelS[i,:] = mu - (psi/xi) * (1 - (-np.log(prob)) ** (-xi))\n",
    "    \n",
    "    \n",
    "    serieCV = np.ones(len(T))\n",
    "    \n",
    "    # Find the root of the Quantilentime function\n",
    "    def Quantilentime(x, R):\n",
    "        t00, t11 = 0.00001, 1.00001  # Define the time bounds if not globally available\n",
    "\n",
    "        # Variables previously defined as global in MATLAB code, handled here locally\n",
    "        b0, b1, b2, b3, b4, b5, b6 = w[0], w[3], w[4], w[5], w[6], w[7], w[8]\n",
    "        a0, bLT, bCI, aCI, bN1, bN2 = w[1], 0, 0, 0, 0, 0\n",
    "        km = 12\n",
    "        dt = 0.001\n",
    "        ti = np.arange(t00, t11, dt)\n",
    "\n",
    "        # Interpolate serieCV at ti points\n",
    "        serieCV2 = np.interp(ti, T, serieCV)\n",
    "        # Replace NaNs with zero (np.interp does this by default if outside the bounds)\n",
    "        serieCV2[np.isnan(serieCV2)] = 0\n",
    "\n",
    "        # Define mut (location(t)) and other parameters\n",
    "        mut = (b0 * np.exp(bLT * ti) +\n",
    "               b1 * np.cos(2 * np.pi * ti) + b2 * np.sin(2 * np.pi * ti) +\n",
    "               b3 * np.cos(4 * np.pi * ti) + b4 * np.sin(4 * np.pi * ti) +\n",
    "               b5 * np.cos(8 * np.pi * ti) + b6 * np.sin(8 * np.pi * ti) +\n",
    "               bN1 * np.cos((2 * np.pi / 18.61) * ti) + bN2 * np.sin((2 * np.pi / 18.61) * ti) +\n",
    "               (bCI * serieCV2))\n",
    "\n",
    "        psi = a0 + (aCI * serieCV2)\n",
    "        xit = xi\n",
    "\n",
    "        # Calculate factor, equation 10 in Menendez and Woodworth (2009)\n",
    "        factor = 0\n",
    "        for i in range(len(ti)):\n",
    "            h = np.maximum(1 + (xit * (x - mut[i]) / psi[i]), 0.0001) ** (-1 / xit)\n",
    "            factor += h\n",
    "\n",
    "        Pr = 1 - (1 / R)\n",
    "        \n",
    "        y = -Pr + np.exp(-km * factor * dt)\n",
    "\n",
    "        return y\n",
    "    \n",
    "    YY = np.zeros(len(R))  # Preallocate for storing results\n",
    "    \n",
    "    for i, R in enumerate(ReturnPeriod):\n",
    "        x0 = w[0]\n",
    "        YY[i] = brentq(Quantilentime, x0-5, x0+5, args=(R,))  # using bracketing to find the root of Quantilentime function instead of fsolve\n",
    "    \n",
    "   # Start plotting\n",
    "    fig, sss = plt.subplots(figsize=(10, 5))\n",
    "\n",
    "    cmap = sns.color_palette()\n",
    "\n",
    "    \n",
    "    \n",
    "    for i, R in enumerate(ReturnPeriod):\n",
    "        sss.plot(t2, seaLevelS[i, :] - STNDtoMHHW, '-.', linewidth=2, color=cmap[i])\n",
    "        sss.plot(t2, np.ones(len(t2)) * YY[i] - STNDtoMHHW, linewidth=2, color=cmap[i], label=f'R={R} years')\n",
    "    sss.plot(twinthinyear, seaLevel-STNDtoMHHW, '+k', markersize=5, label='Monthly maxima',alpha=1)\n",
    "    sss.grid(True,alpha=0.5)\n",
    "\n",
    "    # arrange yaxis for breathing room\n",
    "    meanmaxSL = np.nanmean(seaLevel-STNDtoMHHW)\n",
    "    rangemaxSL = np.nanmax(seaLevel) - np.nanmin(seaLevel) # Range\n",
    "\n",
    "    plt.axis([0, 1.001, meanmaxSL-rangemaxSL, meanmaxSL+rangemaxSL])\n",
    "    plt.xticks(np.arange(0.08333/2, 1, 1/6), ['Jan', 'Mar', 'May', 'Jul', 'Sep', 'Nov'])\n",
    "    \n",
    "    # add legend\n",
    "    fig.legend(loc='lower center', fontsize=11, ncol = 3, bbox_to_anchor=(0.5, -0.1))\n",
    "\n",
    "    \n",
    "    plt.ylabel('Sea level (m, MHHW)')\n",
    "    plt.tight_layout()\n",
    "\n",
    "    return fig, cmap"
   ]
  },
  {
   "cell_type": "markdown",
   "metadata": {},
   "source": [
    " "
   ]
  },
  {
   "cell_type": "markdown",
   "metadata": {},
   "source": [
    "## Format data input to the model\n",
    "Now we'll take our sea level data, extract the monthly maxima from our timeseries, and format it for input into the model. We need the yearday of each monthly maximum, and if using a covariate model (e.g. SOI, ENSO, wave height), the yearday of that index."
   ]
  },
  {
   "cell_type": "code",
   "execution_count": 75,
   "metadata": {
    "tags": [
     "hide-output"
    ]
   },
   "outputs": [],
   "source": [
    "from pathlib import Path\n",
    "import xarray as xr\n",
    "%run ../setup.ipynb\n",
    "%run ../plotting_functions.ipynb\n",
    "\n",
    "data_dir = Path('../../data' )\n",
    "output_dir = Path('../../output/extremes') \n",
    "input_dir = Path('./model_input')\n",
    "model_output_dir = Path(data_dir,'GEV_model_output')\n",
    "CI_dir = Path(data_dir,'climate_indices')\n",
    "rsl_hourly = xr.open_dataset(data_dir/ 'rsl_hawaii.nc')\n",
    "\n",
    "# remove stations 547,548, 14\n",
    "rsl_hourly = rsl_hourly.sel(record_id=~rsl_hourly.record_id.isin([547,548,14]))\n",
    "\n",
    "# close the file\n",
    "rsl_hourly.close()\n",
    "\n",
    "\n",
    "runWithoutModel = False\n",
    "\n",
    "# check if output directory exists, if not create it\n",
    "if not output_dir.exists():\n",
    "    output_dir.mkdir(parents=True)\n",
    "\n",
    "# check if model output directory exists, if not create it\n",
    "if not model_output_dir.exists():\n",
    "    model_output_dir.mkdir(parents=True)\n",
    "\n",
    "# make sub-directories for each station in rsl_hourly in model_output_dir\n",
    "for rid in rsl_hourly.record_id:\n",
    "    ridString = str(rid.values)\n",
    "    # maybe needs some leading zeros, for now we'll leave it.\n",
    "    station_dir = model_output_dir / ridString\n",
    "    if not station_dir.exists():\n",
    "        station_dir.mkdir(parents=True)\n",
    "\n",
    "# remove best.txt, T.txt, CI.txt, Y.txt, mio.txt, scein.dat, and sceout.dat from working directory\n",
    "for file in ['best.txt', 'T.txt', 'CI.txt', 'Y.txt', 'mio.txt', 'scein.dat', 'sceout.dat']:\n",
    "    if (Path(file)).exists():\n",
    "        (Path(file)).unlink()\n",
    "\n"
   ]
  },
  {
   "cell_type": "markdown",
   "metadata": {},
   "source": [
    "### Adjust data for storm year\n",
    "```{caution}\n",
    "Commenting this out for now. Do we want to use storm year?\n",
    "```"
   ]
  },
  {
   "cell_type": "code",
   "execution_count": 76,
   "metadata": {},
   "outputs": [],
   "source": [
    "# # add storm_time to the dataset\n",
    "\n",
    "# storm_time = pd.to_datetime(rsl_hourly['time'].values).to_series() + pd.DateOffset(months=-4)\n",
    "\n",
    "# storm_time_da = xr.DataArray(storm_time.values, dims=rsl_hourly['time'].dims, coords=rsl_hourly['time'].coords)\n",
    "\n",
    "# # Add 'storm_time' as a coordinate to the dataset\n",
    "# rsl_hourly = rsl_hourly.assign_coords(storm_time=storm_time_da)\n",
    "\n",
    "# # Make 'storm_time' a dimension\n",
    "# rsl_hourly = rsl_hourly.swap_dims({'time': 'storm_time'})\n",
    "\n",
    "# # Sort by 'storm_time' to ensure monotPMMc order\n",
    "# rsl_hourly = rsl_hourly.sortby('storm_time')\n",
    "\n",
    "# rsl_hourly\n"
   ]
  },
  {
   "cell_type": "markdown",
   "metadata": {},
   "source": [
    "Let's print the station names that correspond to order of the data, because I keep forgetting."
   ]
  },
  {
   "cell_type": "code",
   "execution_count": 77,
   "metadata": {},
   "outputs": [
    {
     "name": "stdout",
     "output_type": "stream",
     "text": [
      "['Midway' 'Johnston' 'Honolulu, Hawaii' 'Nawiliwili' 'Kahului'\n",
      " 'Hilo, Hawaii' 'Mokuoloe' 'Kawaihae']\n"
     ]
    }
   ],
   "source": [
    "print(rsl_hourly.station_name.values)"
   ]
  },
  {
   "cell_type": "markdown",
   "metadata": {},
   "source": [
    "The following function reads in the hourly timeseries for a given station (rid = record id) from the rsl_hourly dataset. It returns a dataframe of monthly max sea level values (in STND datum), and time in decimal years, such that the first year of the record starts at 0, and each subsequent time step is fraction of that year.\n",
    "\n",
    "\n",
    "```{margin}\n",
    "TO DO: Adjust monthly maxima timeseries such that high water levels from the same event are not doubly counted.\n",
    "```"
   ]
  },
  {
   "cell_type": "code",
   "execution_count": 78,
   "metadata": {},
   "outputs": [],
   "source": [
    "def get_monthly_max_time_series(rid,rsl_hourly):\n",
    "    station_name = rsl_hourly.station_name[rid].item()\n",
    "\n",
    "    STNDtoMHHW = 0.001*rsl_hourly['MHHW'][rid].values\n",
    "\n",
    "    sea_level_series = 0.001*rsl_hourly['sea_level'][rid]\n",
    "\n",
    "    #get only data from 1993 to 2023\n",
    "    sea_level_series = sea_level_series.sel(time=slice('1993', '2023'))\n",
    "\n",
    "    # remove nans\n",
    "    sea_level_series = sea_level_series.dropna('time')\n",
    "\n",
    "    # Step 1: extract the monthly maxima\n",
    "    monthly_max = sea_level_series.resample(time='1ME').max()\n",
    "\n",
    "    # get exact time of the monthly maxima\n",
    "    t_monthly_max = sea_level_series.resample(time='1ME').map(lambda x: x.time[x.argmax()])\n",
    "\n",
    "    # To ensure it's in datetime format and to access datetime properties\n",
    "    t_monthly_max['time'] = pd.to_datetime(t_monthly_max.values)\n",
    "\n",
    "    # Now extract the day of the year (using fractional days)\n",
    "    t_yearDay = t_monthly_max['time'].dt.dayofyear + t_monthly_max['time'].dt.hour/24 + t_monthly_max['time'].dt.minute/1440 + t_monthly_max['time'].dt.second/86400\n",
    "\n",
    "    # get year of t_monthly_max\n",
    "    t_year = t_monthly_max['time'].dt.year\n",
    "    year0 = t_year[0].item()\n",
    "\n",
    "    # convert t_yearDay and monthly_max to float\n",
    "    t_yearDay = np.array(t_yearDay)\n",
    "    monthly_max = np.array(monthly_max)\n",
    "    t_monthly_max = np.array(t_monthly_max)\n",
    "    t_year = np.array(t_year)\n",
    "\n",
    "    # get decimal year such that t = year_monthly_max + t_yearDay/366\n",
    "    t = (t_year-t_year[0]) + t_yearDay/366\n",
    "\n",
    "    # save t and monthly_max to data frame\n",
    "    df = pd.DataFrame({'t': t, 'monthly_max': monthly_max, 't_monthly_max': t_monthly_max})\n",
    "\n",
    "    df = df.dropna()\n",
    "\n",
    "    return df, STNDtoMHHW, station_name, year0\n",
    "\n",
    "\n"
   ]
  },
  {
   "cell_type": "markdown",
   "metadata": {},
   "source": [
    "#### Prepare the covariate data timeseries.\n",
    "In this case, we'll be using the PMM data we downloaded earlier in the datawrangling notebook. We'll also reindex everything to storm year (May-April)."
   ]
  },
  {
   "cell_type": "code",
   "execution_count": 79,
   "metadata": {},
   "outputs": [],
   "source": [
    "def get_covariate(t_monthly_max, data_dir):\n",
    "    PMM_df = pd.read_csv(data_dir / 'pmm.csv', parse_dates=['time'])\n",
    "\n",
    "    # Set the Date as the index for easier slicing and access\n",
    "    PMM_df.set_index('time', inplace=True)\n",
    "\n",
    "    # Reindex to include all necessary dates from t_monthly_max for interpolation\n",
    "    all_dates = PMM_df.index.union(t_monthly_max)\n",
    "\n",
    "    # Reindex the DataFrame with the union of dates\n",
    "    PMM_df = PMM_df.reindex(all_dates)\n",
    "\n",
    "    # Now interpolate \n",
    "    PMM_interp_df = PMM_df.interpolate()\n",
    "\n",
    "    # retrieve the PMM value for the monthly maxima\n",
    "    PMM_interp = PMM_interp_df.loc[t_monthly_max]\n",
    "\n",
    "    # Save PMM_interp as 'covariate' as a 1D numpy array\n",
    "    covariate = PMM_interp.squeeze().to_numpy()\n",
    "\n",
    "    return covariate"
   ]
  },
  {
   "cell_type": "code",
   "execution_count": 80,
   "metadata": {},
   "outputs": [],
   "source": [
    "for rid in range(len(rsl_hourly.station_name)):\n",
    "    df, STNDtoMHHW, station_name,year0 = get_monthly_max_time_series(rid,rsl_hourly)\n",
    "\n",
    "    # add covariate to the data frame\n",
    "    covariate = get_covariate(df['t_monthly_max'], CI_dir)\n",
    "    df['PMM'] = covariate\n",
    "    # save the data frame to a csv file with station record_id\n",
    "    savename = 'monthly_max_' + str(rsl_hourly.record_id[rid].values) + '.csv'\n",
    "    \n",
    "    savepath = input_dir / savename\n",
    "    df.to_csv(savepath, index=False)"
   ]
  },
  {
   "cell_type": "code",
   "execution_count": 81,
   "metadata": {},
   "outputs": [
    {
     "data": {
      "text/plain": [
       "'Kahului'"
      ]
     },
     "metadata": {
      "scrapbook": {
       "mime_prefix": "",
       "name": "station_name"
      }
     },
     "output_type": "display_data"
    }
   ],
   "source": [
    "ii = 4\n",
    "mm, STNDtoMHHW, station_name, year0 = get_monthly_max_time_series(ii,rsl_hourly)\n",
    "covariate = get_covariate(mm['t_monthly_max'], CI_dir)\n",
    "glue(\"station_name\", station_name)\n",
    "ridString = str(rsl_hourly.record_id[ii].values)\n",
    "\n",
    "savename = 'monthly_max_' + str(rsl_hourly.record_id[ii].values) + '.csv'\n",
    "savepath = input_dir / savename\n",
    "\n",
    "# write the data in the csv to text file for model input\n",
    "\n",
    "mm = pd.read_csv(savepath)\n",
    "mm\n",
    "mm['t'].to_csv('T.txt', header=False, index=False)\n",
    "mm['monthly_max'].to_csv('Y.txt', header=False, index=False)\n",
    "mm['PMM'].to_csv('CI.txt', header=False, index=False)\n",
    "\n",
    "# Close rsl_hourly\n",
    "rsl_hourly.close()\n",
    "\n",
    "\n",
    "\n"
   ]
  },
  {
   "cell_type": "code",
   "execution_count": 82,
   "metadata": {},
   "outputs": [
    {
     "data": {
      "text/plain": [
       "np.float64(1.364)"
      ]
     },
     "execution_count": 82,
     "metadata": {},
     "output_type": "execute_result"
    }
   ],
   "source": [
    "STNDtoMHHW"
   ]
  },
  {
   "cell_type": "code",
   "execution_count": null,
   "metadata": {},
   "outputs": [],
   "source": []
  },
  {
   "cell_type": "markdown",
   "metadata": {},
   "source": [
    "## First look: Modeling Seasonality\n",
    "Here we'll look at seasonality in the location parameter only."
   ]
  },
  {
   "cell_type": "code",
   "execution_count": 83,
   "metadata": {},
   "outputs": [],
   "source": [
    "# Initial chromosome setup\n",
    "x_0 = np.array([0,0,0])\n",
    "\n",
    "if os.path.exists(model_output_dir / ridString / 'seasonal_params.json') and runWithoutModel:\n",
    "    with open(model_output_dir / ridString / 'seasonal_params.json', 'r') as f:\n",
    "        output = json.load(f)\n",
    "        w_s = np.array(output['w'])\n",
    "        x_s = np.array(output['x'])\n",
    "        mio = np.array(output['mio'])\n",
    "        standard_error = np.array(output['standard_error'])\n",
    "else:\n",
    "    x_s, f = stepwise(x_0, modelType='GEV_SeasonalMu')\n",
    "    x, f = fitness(x_s[-1],modelType='GEV_SeasonalMu')\n",
    "    w_s = np.loadtxt('best.txt', dtype=float)\n",
    "    mio = np.loadtxt('mio.txt',dtype=float)\n",
    "    x_s = x_s[-1]\n",
    "\n",
    "    # Assess standard errors of the parameters\n",
    "    if np.linalg.det(mio) != 0:\n",
    "        J = np.linalg.inv(mio)\n",
    "        standard_error = np.sqrt(np.diag(J))\n",
    "    else:\n",
    "        standard_error = np.full(len(w_s), np.nan)\n",
    "\n",
    "\n",
    "output = {'w': w_s.tolist(), 'mio': mio.tolist(), 'standard_error': standard_error.tolist(), 'x': x_s.tolist()}\n",
    "savepath = os.path.join(model_output_dir,ridString, 'seasonal_params.json')\n",
    "with open(savepath, 'w') as f:\n",
    "    json.dump(output, f)\n",
    "\n",
    "    "
   ]
  },
  {
   "cell_type": "code",
   "execution_count": 84,
   "metadata": {
    "tags": [
     "hide-input"
    ]
   },
   "outputs": [],
   "source": [
    "def adjust_w_for_plotting(x, w):\n",
    "    \"\"\"\n",
    "    Adjusts the w array based on the x conditions and returns an array with 14 elements.\n",
    "\n",
    "    Parameters:\n",
    "        x (list): A list representing the conditions that influence the adjustment of w.\n",
    "        w (array-like): An array of values to be adjusted based on x.\n",
    "\n",
    "    Returns:\n",
    "        np.ndarray: A 14-element array with adjusted values.\n",
    "    \"\"\"\n",
    "    # Initialize the output array with 14 elements set to zero\n",
    "    w_s_plot = np.zeros(14)\n",
    "\n",
    "    # Ensure icromo is 7 elements long\n",
    "    icromo = np.array(x)\n",
    "    if len(icromo) != 7:\n",
    "        # Fill the rest with zeros\n",
    "        icromo = np.append(icromo, np.zeros(7 - len(icromo)))\n",
    "\n",
    "    # Always present terms (mu, psi, xi)\n",
    "    w_s_plot[:3] = w[1:4]\n",
    "    \n",
    "    # Initialize the index for the input w\n",
    "    idx = 4\n",
    "\n",
    "    # Assign terms based on icromo conditions\n",
    "    if icromo[0] == 1: # annual\n",
    "        w_s_plot[3:5] = w[idx:idx+2]\n",
    "        idx += 2\n",
    "        \n",
    "    if icromo[1] == 1: # semiannual\n",
    "        w_s_plot[5:7] = w[idx:idx+2]\n",
    "        idx += 2\n",
    "\n",
    "    if icromo[2] == 1: #triannual\n",
    "        w_s_plot[7:9] = w[idx:idx+2]\n",
    "        idx += 2\n",
    "\n",
    "    if icromo[3] == 1: # long-term trend\n",
    "        w_s_plot[9] = w[idx]\n",
    "        idx += 1\n",
    "\n",
    "    if icromo[4] == 1: # covariate, location\n",
    "        w_s_plot[10] = w[idx]\n",
    "        idx += 1\n",
    "\n",
    "    if icromo[5] == 1: #covariate, scale\n",
    "        w_s_plot[11] = w[idx]\n",
    "        idx += 1\n",
    "\n",
    "    if icromo[6] == 1: #nodal\n",
    "        w_s_plot[12:14] = w[idx:idx+2]\n",
    "        idx += 2\n",
    "\n",
    "    # Return the adjusted array with 14 elements\n",
    "    return w_s_plot\n"
   ]
  },
  {
   "cell_type": "code",
   "execution_count": 85,
   "metadata": {},
   "outputs": [],
   "source": [
    "w_s_plot = adjust_w_for_plotting(x_s,w_s)"
   ]
  },
  {
   "cell_type": "markdown",
   "metadata": {},
   "source": [
    "### Extract a timeseries of the time-dependent return values\n",
    "For each time in a timeseries, we'll evaluate the CDF of the time-dependent GEV at a given return period to get the expected return level. This first function evaluates the extreme value prediction over time for a given return period."
   ]
  },
  {
   "cell_type": "code",
   "execution_count": 86,
   "metadata": {},
   "outputs": [],
   "source": [
    "def Quantilentime(x0, w, x, t00, t11, return_period, T, serieCV):\n",
    "    \"\"\"\n",
    "    Python equivalent of the Menendez MATLAB Quantilentime function.\n",
    "\n",
    "    Parameters:\n",
    "    x0 : float\n",
    "        The variable to find the root of.\n",
    "    w : np.ndarray\n",
    "        The current estimates of the parameters.\n",
    "    x : np.ndarray\n",
    "        Binary switches that indicate which parameters are active.\n",
    "    t00 : float\n",
    "        Start time.\n",
    "    t11 : float\n",
    "        End time.\n",
    "    return_period : float\n",
    "        Return period.\n",
    "    ti : np.ndarray\n",
    "        Time vector for climate index interpolation.\n",
    "    serieCV : np.ndarray\n",
    "        Climate index data to be interpolated.\n",
    "\n",
    "    Returns:\n",
    "    float\n",
    "        The value of the function at x_value.\n",
    "    \"\"\"\n",
    "    # ww = adjust_w_for_plotting(x, w)\n",
    "    # Parameter unpacking\n",
    "    b0, a0, xi, b1, b2, b3, b4, b5, b6 = w[:9] # basics + seasonal cycle\n",
    "    bLT, bCI, aCI, bN1, bN2 = w[9:]  # Initialize optional parameters\n",
    "\n",
    "    dt = 0.001\n",
    "    ti = np.arange(t00, t11 + dt, dt)\n",
    "\n",
    "    # Interpolate serieCV at ti points\n",
    "    serieCV2 = np.interp(ti, T, serieCV)\n",
    "    # Replace NaNs with zero (np.interp does this by default if outside the bounds)\n",
    "    serieCV2[np.isnan(serieCV2)] = 0\n",
    "\n",
    "    km = 12\n",
    "\n",
    "    # Define mut and other parameters\n",
    "\n",
    "    # location(t)\n",
    "    mut = (b0 * np.exp(bLT * ti) +\n",
    "           b1 * np.cos(2 * np.pi * ti) + b2 * np.sin(2 * np.pi * ti) +\n",
    "           b3 * np.cos(4 * np.pi * ti) + b4 * np.sin(4 * np.pi * ti) +\n",
    "           b5 * np.cos(8 * np.pi * ti) + b6 * np.sin(8 * np.pi * ti) +\n",
    "           bN1 * np.cos((2 * np.pi / 18.61) * ti) + bN2 * np.sin((2 * np.pi / 18.61) * ti) +\n",
    "           (bCI * serieCV2))\n",
    "    \n",
    "    # scale(t)\n",
    "    psi = a0 + (aCI * serieCV2)\n",
    "\n",
    "    # shape(t)\n",
    "    xit = xi\n",
    "\n",
    "    # factor = 0\n",
    "    # for i in range(len(ti)):\n",
    "    #     h = np.maximum(1 + (xit * (x0 - mut[i]) / psi[i]), 0.0001) ** (-1 / xit)\n",
    "    #     factor += h\n",
    "\n",
    "    # Vectorized factor calculation\n",
    "    h = np.maximum(1 + (xit * (x0 - mut) / psi), 0.0001) ** (-1 / xit)\n",
    "    factor = np.sum(h)    \n",
    "\n",
    "    prob = 1 - (1 / return_period)\n",
    "\n",
    "    y = -prob + np.exp(-km * factor * dt)\n",
    "\n",
    "    return y"
   ]
  },
  {
   "cell_type": "markdown",
   "metadata": {},
   "source": [
    "### Calculate Confidence Intervals\n",
    "\n",
    "These next codes will calculate the derivative of the previous prediction, using finite differencing. We will get be getting the derivative for each parameter, with the goal of solving the total variance.\n",
    "\n",
    "```{margin}\n",
    "Note: Does this method assume that all parameters are independent, when doing the summation? The long-term trend introduces non-linearity, and the sine/cosine pairs are just phase and lag of the same signal. Can they be treated as independent? I'm pretty fuzzy on whether this is 'correct' or not. Do we instead want to do confidence intervals using Monte-Carlo?\n",
    "```"
   ]
  },
  {
   "cell_type": "code",
   "execution_count": 87,
   "metadata": {},
   "outputs": [],
   "source": [
    "def derivative_first_order(k, w, x, t00, t11, return_period, T, covariate):\n",
    "    h = 0.0001  # Small perturbation\n",
    "    x0_initial = w[1]  # Initial value for the root-finding function\n",
    "\n",
    "    wbest = adjust_w_for_plotting(x, w)\n",
    "    # Step 1: Calculate the baseline value with the current parameters\n",
    "    baseline_func = lambda x0: Quantilentime(x0, wbest, x, t00, t11, return_period, T, covariate)\n",
    "    baseline_value = brentq(baseline_func, x0_initial - 1, x0_initial + 1)\n",
    "\n",
    "    # Perturb the k-th parameter\n",
    "    perturbed_w = np.copy(w)\n",
    "    perturbed_w[k] += h\n",
    "    wbest_perturbed = adjust_w_for_plotting(x, perturbed_w)\n",
    "\n",
    "    # Step 2: Calculate the function value with the perturbed parameter\n",
    "    perturbed_func = lambda x0: Quantilentime(x0, wbest_perturbed, x, t00, t11, return_period, T, covariate)\n",
    "    perturbed_value = brentq(perturbed_func, x0_initial - 1, x0_initial + 1)\n",
    "\n",
    "    # Step 3: Numerical derivative\n",
    "    derivative = (perturbed_value - baseline_value) / h\n",
    "    \n",
    "    return derivative"
   ]
  },
  {
   "cell_type": "markdown",
   "metadata": {},
   "source": [
    "Now that we have the derivative function, we can use it to calculate the variance of our estimated return level at each timestep by applying a first-order Taylor expansion, which assumes a locally linear relationship between the function and its parameters. The variance  $\\sigma^2$  at each timestep can be approximated as:\n",
    "\n",
    "\n",
    "$\\sigma^2 \\approx \\mathbf{J}^T \\cdot \\mathbf{Cov}(w) \\cdot \\mathbf{J}$\n",
    "\n",
    "\n",
    "where  $\\mathbf{J}$  is the Jacobian (the vector of partial derivatives with respect to the parameters), and  $\\mathbf{Cov}(w)$  is the variance-covariance matrix of the parameters. This approach propagates the uncertainties in the parameters into the uncertainty of the return level. The square root of the variance  $\\sigma$  gives the standard deviation, which quantifies the uncertainty at each timestep and serves as the basis for calculating confidence intervals.\n",
    "\n",
    "Note this equation is functionally equivalent to Coles (2001) Theorem 2.4 (the \"delta method.\")"
   ]
  },
  {
   "cell_type": "code",
   "execution_count": 88,
   "metadata": {},
   "outputs": [],
   "source": [
    "def calculate_std(w, x, t00,t11, T,serieCV, mio, r):\n",
    "    \n",
    "    # Note here that \"mio\" stands for \"Maximum Information Operator\" and is same as the Hessian matrix\n",
    "    cov_params = np.linalg.inv(mio) # the covariance matrix of the parameters is the inverse of the Hessian\n",
    "    n = len(w)\n",
    "    Zp1 = np.zeros(n)\n",
    "\n",
    "    # Here we'll use a 1st order Taylor expansion to estimate the standard error\n",
    "    for i in range(n):\n",
    "        Zp1[i] = derivative_first_order(i, w, x, t00, t11, r, T, serieCV)\n",
    "\n",
    "    # expand to make sure we have the parameters in the right place, rename Zp1 to J for Jacobian\n",
    "    J = adjust_w_for_plotting(x, Zp1)\n",
    "    wbest = adjust_w_for_plotting(x, w)\n",
    "\n",
    "    # remove elements of J where wbest is zero (parameter not included, J should be 0 here as well anyway...)\n",
    "    J = J[wbest != 0] ## is this correct? I think so...\n",
    "\n",
    "    # Note here J is a row vector\n",
    "    # propagate the covariance matrix (e.g. 1x9 * 9x9 * 9x1 = 1x1)\n",
    "    cov_solution = J @ cov_params @ J.T  #should be a scalar! \n",
    "\n",
    "    # calculate the standard error (square root of the scalar variance)\n",
    "    ic_sqrt = np.sqrt(cov_solution)\n",
    "\n",
    "    \n",
    "    return ic_sqrt.item() # return as a scalar"
   ]
  },
  {
   "cell_type": "markdown",
   "metadata": {},
   "source": [
    "### Calculate the Time Dependent Return Value \n",
    "With confidence intervals! \n",
    "\n",
    "This code evaluates the likelihood function using the modeled parameters for a given set of years and return periods (in years). It will also return the 95% confidence intervals, with the assumption of Guassian distribution ($\\pm 1.96 \\sigma$)."
   ]
  },
  {
   "cell_type": "code",
   "execution_count": 89,
   "metadata": {},
   "outputs": [],
   "source": [
    "def getTimeDependentReturnValue(T0, serieCV, w, x, ReturnPeriod):\n",
    "    T = T0\n",
    "    serieCV = covariate\n",
    "    years = np.arange(np.floor(T[0]), np.ceil(T[-1]) + 1)\n",
    "    wbest = adjust_w_for_plotting(x, w)\n",
    "    YR = np.zeros((len(ReturnPeriod), len(years) - 1))\n",
    "    ic_sqrt = np.zeros((len(ReturnPeriod), len(years) - 1))\n",
    "    upper_confidence = np.zeros((len(ReturnPeriod), len(years) - 1))\n",
    "    lower_confidence = np.zeros((len(ReturnPeriod), len(years) - 1))\n",
    "\n",
    "    for idx, r in enumerate(ReturnPeriod):\n",
    "        x0 = w[1]  # initial value of return value in the iteration\n",
    "\n",
    "        for i in range(len(years) - 1):\n",
    "            t00 = years[i]\n",
    "            t11 = years[i + 1]\n",
    "            # Call the Quantilentime function for each year interval\n",
    "            YR[idx, i] = brentq(Quantilentime, x0 - 2, x0 + 2, args=(wbest, x, t00, t11, r, T, serieCV))\n",
    "            x0 = YR[idx, i]\n",
    "            # print('calculating return value for year interval:', t00, t11)  \n",
    "            # Calculate the confidence intervals\n",
    "            ic_sqrt[idx,i] = calculate_std(w, x, t00,t11, T,serieCV, mio, r)\n",
    "            # print('ic_sqrt:', ic_sqrt[idx,i])\n",
    "            upper_confidence[idx, i] = YR[idx,i] + 1.96*ic_sqrt[idx,i]\n",
    "            lower_confidence[idx, i] = YR[idx,i] - 1.96*ic_sqrt[idx,i]\n",
    "\n",
    "    return years, YR, upper_confidence, lower_confidence"
   ]
  },
  {
   "cell_type": "markdown",
   "metadata": {},
   "source": [
    "### Plot monthly extremes and given year return period with the seasonal model\n",
    "\n",
    "\n",
    "```{margin}\n",
    "```{caution}\n",
    "Note that the original code for this plot has the dotted line much lower - the 2 year return, for example, runs through the middle of the data. This corresponds to a 2-month return level, and makes sense if you are looking at each month in isolation (every other year the value is exceeded). This is the case in Méndez et al 2007 (and following papers), and likely comes down to an interpretation of what this line is actually meant to portray. Accounting for the fact that you are sampling monthly data moves the within-a-year return level up to more closely align with the 'stationary' solid line (and the sinusoid formed by the seasonal cycle then varies about the stationary return level). (Julia's opinion here): because this plot is dimensionless (time goes from 0 to 1), we must normalize our data by removing the time component. In this case, the time element is the monthly sampling, so we must scale our probabilities accordingly by (1/12). \n",
    "```"
   ]
  },
  {
   "cell_type": "code",
   "execution_count": 90,
   "metadata": {
    "tags": [
     "hide-output"
    ]
   },
   "outputs": [
    {
     "data": {
      "application/papermill.record/image/png": "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",
      "application/papermill.record/text/plain": "<Figure size 1000x500 with 1 Axes>"
     },
     "metadata": {
      "scrapbook": {
       "mime_prefix": "application/papermill.record/",
       "name": "seasonal_extreme_variations"
      }
     },
     "output_type": "display_data"
    },
    {
     "data": {
      "image/png": "[encoded data removed]",
      "text/plain": [
       "<Figure size 1000x500 with 1 Axes>"
      ]
     },
     "metadata": {},
     "output_type": "display_data"
    }
   ],
   "source": [
    "ReturnPeriod = [2,10,50,100]\n",
    "t = mm['t'].to_numpy()\n",
    "fig, cmap = plottingExtremeSeasonality(mm['t'],mm['monthly_max'],w_s_plot,ReturnPeriod=ReturnPeriod,SampleRate=12)\n",
    "\n",
    "# sss.set_xlabel('Month in Year')\n",
    "\n",
    "\n",
    "plt.title('Sea level extremes at ' + station_name)\n",
    "\n",
    "# save the figure\n",
    "savename = 'SeasonalExtremeVariations_'+ ridString +'.png'\n",
    "savedir = os.path.join(output_dir, savename)\n",
    "plt.savefig(savedir, dpi=250, bbox_inches='tight')\n",
    "\n",
    "glue(\"seasonal_extreme_variations\", fig, display=False)"
   ]
  },
  {
   "cell_type": "markdown",
   "metadata": {},
   "source": [
    "```{glue:figure} seasonal_extreme_variations\n",
    ":name: \"seasonal_extreme_variations\"\n",
    "A climatology of extreme sea levels at the {glue:text}`station_name` tide gauge. Monthly maxima (+), determined from hourly sea level data, are shown from 1993-2023. The solid line corresponds to projected sea level return levels at 2,10,50 and 100 years, using this 30-year chunk of data. This line uses a nonstationary GEV to take the seasonal variations of sea level into account. The 2, 10, 50 and 100-year return levels are shown to vary throughout the year (dashed line), with the lowest extremes occuring in March, and highest extremes peaking in July. No long-term trend is used in this model, and the scale and location parameters are held constant.\n",
    "```"
   ]
  },
  {
   "cell_type": "markdown",
   "metadata": {},
   "source": [
    "### Check if we should include a long-term trend (mean sea level rise) in our location parameter\n",
    "I mean, it's probably statistically significant, but hey, we should test just in case. First, we'll make a function to save our modeled return levels."
   ]
  },
  {
   "cell_type": "code",
   "execution_count": 91,
   "metadata": {},
   "outputs": [],
   "source": [
    "def save_model_to_netcdf(x,w,t,covariate,mio,ReturnPeriod,modelName,ridString,savepath, station_name,year0):\n",
    "\n",
    "    years, RL, RL_high, RL_low = getTimeDependentReturnValue(t, covariate, w,x, ReturnPeriod)\n",
    "    \n",
    "    # save the time-dependent return values to a netcdf file\n",
    "    df = pd.DataFrame(RL, index=ReturnPeriod, columns=years[:-1]+year0)\n",
    "    df.index.name = 'ReturnPeriod'\n",
    "    df.columns.name = 'Year'\n",
    "\n",
    "    df_low = pd.DataFrame(RL_low, index=ReturnPeriod, columns=years[:-1]+year0)\n",
    "    df_low.index.name = 'ReturnPeriod'\n",
    "    df_low.columns.name = 'Year'\n",
    "\n",
    "    df_high = pd.DataFrame(RL_high, index=ReturnPeriod, columns=years[:-1]+year0)\n",
    "    df_high.index.name = 'ReturnPeriod'\n",
    "    df_high.columns.name = 'Year'\n",
    "\n",
    "    ds = xr.Dataset({'ReturnLevel': (['ReturnPeriod', 'Year'], df),\n",
    "                     'RL_low': (['ReturnPeriod', 'Year'], df_low),\n",
    "                     'RL_high': (['ReturnPeriod', 'Year'], df_high)})\n",
    "\n",
    "    # set attributes\n",
    "    ds.attrs['description'] = 'Time-dependent return values for the GEV model with seasonality, trend, covariate in location and scale, and nodal cycle in location. The x attribute is the binary array of parameters used in the model, where the first 3 elements are the seasonal parameters, the 4th element is the long-term trend, the 5th element is the covariate in location, the 6th element is the covariate in scale, and the 7th element is the nodal cycle.'\n",
    "    ds.attrs['station_name'] = station_name\n",
    "    ds.attrs['datum'] = 'STND'\n",
    "    ds.attrs['model_parameters'] = adjust_w_for_plotting(x,w)\n",
    "    ds.attrs['record_id'] = ridString\n",
    "    ds.attrs['units'] = 'm'\n",
    "    ds.attrs['model'] = modelName\n",
    "    ds.attrs['x'] = x.tolist()\n",
    "    if np.linalg.det(mio) != 0:\n",
    "        ds.attrs['standard_error'] = np.sqrt(np.linalg.inv(mio).diagonal()).tolist()\n",
    "    else:\n",
    "        ds.attrs['standard_error'] = np.full(len(w), np.nan).tolist()\n",
    "\n",
    "    # make year a coordinate\n",
    "    ds = ds.assign_coords(Year=years[:-1]+year0)\n",
    "\n",
    "    # make ReturnPeriod a coordinate\n",
    "    ds = ds.assign_coords(ReturnPeriod=ReturnPeriod)\n",
    "\n",
    "    ds.to_netcdf(savepath)\n",
    "    print('Model saved to netcdf file at: ', savepath)\n",
    "    return ds"
   ]
  },
  {
   "cell_type": "code",
   "execution_count": 92,
   "metadata": {},
   "outputs": [
    {
     "name": "stdout",
     "output_type": "stream",
     "text": [
      "Statistical Significance of Linear Trend: 100.00%\n",
      "Estimated Trend on monthly Maxima values is: 2.49 mm/year\n",
      "x_T is: [1 1 0 1 0 0]\n",
      "x_T is: [1 1 0 1 0 0]\n",
      "w_T is: [ 5.08380110e+02  1.57497465e+00  5.89503700e-02 -1.76098970e-01\n",
      "  6.29055000e-03 -4.29890700e-02  5.00973300e-02  9.79596000e-03\n",
      "  1.58144000e-03]\n",
      "Model already saved to netcdf file.\n"
     ]
    }
   ],
   "source": [
    "from scipy.stats import chi2\n",
    "\n",
    "x_T = np.concatenate((x_s, [1, 0, 0]))  # Long-term Trend\n",
    "\n",
    "\n",
    "if os.path.exists(model_output_dir / ridString / 'trend_params.json') and runWithoutModel:\n",
    "    with open(model_output_dir / ridString / 'trend_params.json', 'r') as f:\n",
    "        output = json.load(f)\n",
    "        w_T = np.array(output['w'])\n",
    "        mio = np.array(output['mio'])\n",
    "        standard_error = np.array(output['standard_error'])\n",
    "else:\n",
    "    f_T = fitness(x_T, modelType='GEV_S_T_Cv')\n",
    "    w_T = np.loadtxt('best.txt', dtype=float)\n",
    "    mio = np.loadtxt('mio.txt',dtype=float)\n",
    "\n",
    "    # Assess standard errors of the parameters\n",
    "    if np.linalg.det(mio) != 0:\n",
    "        J = np.linalg.inv(mio)\n",
    "        standard_error = np.sqrt(np.diag(J))\n",
    "    else:\n",
    "        print('Model did not finish! Setting standard errors to 0.')\n",
    "        standard_error = np.zeros_like(np.diag(mio))\n",
    "\n",
    "# stdError = getLocationError(x_T, t, t, covariate, w_T, mio)\n",
    "### FIX THIS\n",
    "\n",
    "aux = np.loadtxt('limits.txt')\n",
    "# check to see if within limits\n",
    "wT = w_T[1:]\n",
    "for j in range(1, len(wT)):\n",
    "    if wT[j] == aux[j, 0] or wT[j] == aux[j, 1]:\n",
    "        raise ValueError(f'Trend Run: Parameter #{j} is at the limit: {wT[j]}')\n",
    "\n",
    "# check significance of adding the trend\n",
    "diffe = w_T[0] - w_s[0]\n",
    "p = 1\n",
    "SignifTrend = chi2.cdf(2 * diffe, p)\n",
    "\n",
    "print(f'Statistical Significance of Linear Trend: {SignifTrend*100:.2f}%')\n",
    "print(f'Estimated Trend on monthly Maxima values is: {w_T[1]*w_T[-1]*1000:.2f} mm/year')\n",
    "print(f'x_T is: {x_T}')\n",
    "print(f'x_T is: {x_T}')\n",
    "print(f'w_T is: {w_T}')\n",
    "\n",
    "output = {'w': w_T.tolist(), 'mio': mio.tolist(), 'standard_error': standard_error.tolist(), 'x': x_T.tolist()}\n",
    "savepath = os.path.join(model_output_dir,ridString, 'trend_params.json')\n",
    "with open(savepath, 'w') as f:\n",
    "    json.dump(output, f)\n",
    "\n",
    "savepath = os.path.join(model_output_dir,ridString, 'RL_muT.nc')\n",
    "# save_model_to_netcdf(x,w,t,covariate,standard_error,ReturnPeriod,modelName,ridString,savepath, station_name,year0):\n",
    "\n",
    "if os.path.exists(savepath):\n",
    "    print('Model already saved to netcdf file.')\n",
    "else:\n",
    "    ds = save_model_to_netcdf(x_T,w_T,t=t,covariate=covariate,mio=mio,ReturnPeriod=ReturnPeriod,modelName='Model_GEV_S_T_Cv.exe',ridString=ridString,savepath=savepath, station_name=station_name,year0=year0)\n"
   ]
  },
  {
   "cell_type": "markdown",
   "metadata": {},
   "source": [
    "#### Check the covariate in the location parameter.\n",
    "Let's check if the covariate inclusion in the location parameter is statistically significant."
   ]
  },
  {
   "cell_type": "code",
   "execution_count": 93,
   "metadata": {},
   "outputs": [
    {
     "name": "stdout",
     "output_type": "stream",
     "text": [
      "Statistical Significance of Covariate in location param.: 100.00%\n",
      "x_cvte1 is: [1 1 0 1 1 0]\n",
      "Model already saved to netcdf file.\n"
     ]
    }
   ],
   "source": [
    "if SignifTrend > 0.95:\n",
    "    x_cvte1 = np.concatenate((x_s, [1, 1, 0]))  # Covariate\n",
    "    wcomp = w_T.copy()\n",
    "else:\n",
    "    x_cvte1 = np.concatenate((x_s, [0, 1, 0]))\n",
    "    wcomp = w_s.copy()\n",
    "\n",
    "if os.path.exists(model_output_dir / ridString / 'cvte_location_params.json') and runWithoutModel:\n",
    "    with open(model_output_dir / ridString / 'cvte_location_params.json', 'r') as f:\n",
    "        output = json.load(f)\n",
    "        w_cvte1 = np.array(output['w'])\n",
    "        mio = np.array(output['mio'])\n",
    "        standard_error = np.array(output['standard_error'])\n",
    "else:\n",
    "    f_cvte1 = fitness(x_cvte1, modelType='GEV_S_T_Cv')\n",
    "    w_cvte1 = np.loadtxt('best.txt', dtype=float)\n",
    "    mio = np.loadtxt('mio.txt',dtype=float)\n",
    "\n",
    "    # Assess standard errors of the parameters\n",
    "    if np.linalg.det(mio) != 0:\n",
    "        J = np.linalg.inv(mio)\n",
    "        standard_error = np.sqrt(np.diag(J))\n",
    "    else:\n",
    "        print('Model did not finish! Setting standard errors to 0.')\n",
    "        standard_error = np.zeros_like(np.diag(mio))\n",
    "\n",
    "diffe = w_cvte1[0] - wcomp[0]\n",
    "p = 1\n",
    "SignifCvte1 = chi2.cdf(2 * diffe, p)\n",
    "print(f'Statistical Significance of Covariate in location param.: {SignifCvte1*100:.2f}%')\n",
    "print(f'x_cvte1 is: {x_cvte1}')\n",
    "\n",
    "output = {'w': w_cvte1.tolist(), 'mio': mio.tolist(), 'standard_error': standard_error.tolist(), 'x': x_cvte1.tolist()}\n",
    "savepath = os.path.join(model_output_dir,ridString, 'cvte_location_params.json')\n",
    "with open(savepath, 'w') as f:\n",
    "    json.dump(output, f)\n",
    "\n",
    "savepath = os.path.join(model_output_dir,ridString, 'RL_muT_cv1.nc')\n",
    "\n",
    "if os.path.exists(savepath):\n",
    "    print('Model already saved to netcdf file.')\n",
    "else:\n",
    "    ds = save_model_to_netcdf(x_cvte1,w_cvte1,t,covariate,mio=mio,ReturnPeriod=ReturnPeriod,modelName='Model_GEV_S_T_Cv.exe',ridString=ridString,savepath=savepath, station_name=station_name,year0=year0)"
   ]
  },
  {
   "cell_type": "markdown",
   "metadata": {},
   "source": [
    "### Check the covariate in scale parameter\n",
    "Let's check if the covariate inclusion in the scale parameter is statistically significant."
   ]
  },
  {
   "cell_type": "code",
   "execution_count": 94,
   "metadata": {},
   "outputs": [
    {
     "name": "stdout",
     "output_type": "stream",
     "text": [
      "Statistical Significance of Covariate in scale param.: 16.73%\n",
      "x_cvte2 is: [1 1 0 1 1 1]\n",
      "Model already saved to netcdf file.\n"
     ]
    }
   ],
   "source": [
    "if SignifCvte1 > 0.95:\n",
    "    x_cvte2 = np.concatenate((x_cvte1[:-1], [1]))  # Covariate\n",
    "    wcomp = w_cvte1.copy()\n",
    "else:\n",
    "    x_cvte2 = np.concatenate((x_cvte1[:-2], [0, 1]))  # Covariate\n",
    "    wcomp = wcomp.copy()\n",
    "\n",
    "if os.path.exists(model_output_dir / ridString / 'cvte_scale_params.json') and runWithoutModel:\n",
    "    with open(model_output_dir / ridString / 'cvte_scale_params.json', 'r') as f:\n",
    "        output = json.load(f)\n",
    "        w_cvte2 = np.array(output['w'])\n",
    "        mio = np.array(output['mio'])\n",
    "        standard_error = np.array(output['standard_error'])\n",
    "else:\n",
    "    f_cvte2 = fitness(x_cvte2, modelType='GEV_S_T_Cv')\n",
    "    w_cvte2 = np.loadtxt('best.txt', dtype=float)\n",
    "    mio = np.loadtxt('mio.txt', dtype=float)\n",
    "\n",
    "    # Assess standard errors of the parameters\n",
    "    if np.linalg.det(mio) != 0:\n",
    "        J = np.linalg.inv(mio)\n",
    "        standard_error = np.sqrt(np.diag(J))\n",
    "    else:\n",
    "        print('Model did not finish! Setting standard errors to 0.')\n",
    "        standard_error = np.zeros_like(np.diag(mio))\n",
    "\n",
    "diffe = w_cvte2[0] - wcomp[0]\n",
    "p = 1\n",
    "SignifCvte2 = chi2.cdf(2 * diffe, p)\n",
    "\n",
    "\n",
    "print(f'Statistical Significance of Covariate in scale param.: {SignifCvte2*100:.2f}%')\n",
    "print(f'x_cvte2 is: {x_cvte2}')\n",
    "\n",
    "output = {'w': w_cvte2.tolist(), 'mio': mio.tolist(), 'standard_error': standard_error.tolist(), 'x': x_cvte2.tolist()}\n",
    "savepath = os.path.join(model_output_dir,ridString, 'cvte_scale_params.json')\n",
    "with open(savepath, 'w') as f:\n",
    "    json.dump(output, f)\n",
    "\n",
    "savepath = os.path.join(model_output_dir,ridString, 'RL_muT_cv2.nc')\n",
    "\n",
    "# If savepath is not None, save the model to a netcdf file\n",
    "\n",
    "if os.path.exists(savepath):\n",
    "    print('Model already saved to netcdf file.')\n",
    "else:\n",
    "    ds = save_model_to_netcdf(x_cvte2,w_cvte2,t,covariate,mio=mio,ReturnPeriod=ReturnPeriod,modelName='Model_GEV_S_T_Cv.exe',ridString=ridString,savepath=savepath, station_name=station_name,year0=year0)   \n"
   ]
  },
  {
   "cell_type": "markdown",
   "metadata": {},
   "source": [
    "### Check the nodal cycle in Location parameter\n",
    "We will only include the nodal cycle in our final model if adding it significantly improves our model thus far. We will add it to the long-term trend model if the long-term trend is significant."
   ]
  },
  {
   "cell_type": "code",
   "execution_count": 95,
   "metadata": {
    "tags": [
     "hide-input"
    ]
   },
   "outputs": [
    {
     "name": "stdout",
     "output_type": "stream",
     "text": [
      "The trend is significant! \n",
      "Include long-term trend and nodal cycle in final model.\n",
      "Running Nodal cycle model...\n",
      "x_N is: [1 1 0 1 0 0 1]\n",
      "Statistical Significance of adding Nodal cycle: 74.77%\n",
      "Nodal cycle is not significant! \n",
      "Use previous model without nodal cycle.\n",
      " New x_N is:  [1 1 0 1 0 0 0]\n",
      "x_N is: [1 1 0 1 0 0 0]\n",
      "Model saved to netcdf file at:  ..\\..\\data\\GEV_model_output\\59\\RL_muN.nc\n"
     ]
    }
   ],
   "source": [
    "if SignifTrend>0.95:\n",
    "    x_N=np.append(x_T , [1]) #Do not include covariate in this model\n",
    "    #x_N = np.append(x_cvte2, [1])\n",
    "    wcomp=w_T.copy()\n",
    "    print('The trend is significant! \\nInclude long-term trend and nodal cycle in final model.')\n",
    "else:\n",
    "    x_N=np.append(x_s,[0, 0, 0, 1]) # Do not include covariate in this model\n",
    "    #x_N = np.append(x_cvte2[:-1], [0,1])\n",
    "    wcomp=w_s.copy()\n",
    "\n",
    "# Check if the results are already saved\n",
    "if os.path.exists(model_output_dir / ridString / 'nodal_params.json') and runWithoutModel:\n",
    "    with open(model_output_dir / ridString / 'nodal_params.json', 'r') as f:\n",
    "        output = json.load(f)\n",
    "        w_N = np.array(output['w'])\n",
    "        mioN = np.array(output['mio'])\n",
    "        standard_error = np.array(output['standard_error'])\n",
    "        x_N = np.array(output['x'])\n",
    "else:\n",
    "    print('Running Nodal cycle model...')\n",
    "    f_N = fitness(x_N, modelType='GEV_S_T_Cv_Nodal')\n",
    "    print(f'x_N is: {x_N}')\n",
    "    w_N = np.loadtxt('best.txt', dtype=float)\n",
    "    mio = np.loadtxt('mio.txt')\n",
    "        # Assess standard errors of the parameters\n",
    "    if np.linalg.det(mio) != 0:\n",
    "        J = np.linalg.inv(mio)\n",
    "        standard_error = np.sqrt(np.diag(J))\n",
    "    else:\n",
    "        print('Model did not finish! Setting standard errors to 0.')\n",
    "        standard_error = np.zeros_like(np.diag(mio))\n",
    "\n",
    "\n",
    "wN = w_N[1:]\n",
    "for j in range(1, len(wN)):\n",
    "    if wN[j] == aux[j, 0] or wN[j] == aux[j, 1]:\n",
    "        raise ValueError(f'Nodal Run: Parameter #{j} is at the limit: {wN[j]}')\n",
    "    \n",
    "\n",
    "diffe = w_N[0] - wcomp[0]\n",
    "p = 2\n",
    "SignifN = chi2.cdf(2 * diffe, p)\n",
    "\n",
    "print(f'Statistical Significance of adding Nodal cycle: {SignifN*100:.2f}%')\n",
    "\n",
    "if SignifN<0.95:\n",
    "    x_N[-1] = 0 # set the nodal component to zero\n",
    "    w_N = wcomp.copy() # use the previous model\n",
    "    w_N = np.append(w_N, [0, 0]) # add zeros for the nodal cycle\n",
    "    print('Nodal cycle is not significant! \\nUse previous model without nodal cycle.\\n New x_N is: ', x_N)\n",
    "    f_N = fitness(x_N, modelType='GEV_S_T_Cv_Nodal')\n",
    "    print(f'x_N is: {x_N}')\n",
    "    w_N = np.loadtxt('best.txt', dtype=float)\n",
    "    mio = np.loadtxt('mio.txt')\n",
    "    if np.linalg.det(mio) != 0:\n",
    "        J = np.linalg.inv(mio)\n",
    "        standard_error = np.sqrt(np.diag(J))\n",
    "    else:\n",
    "        print('Model did not finish! Setting standard errors to 0.')\n",
    "        standard_error = np.zeros_like(np.diag(mio))\n",
    "\n",
    "# save w_N, mioN, standard_error, x_N as json file\n",
    "output = {'w': w_N.tolist(), 'mio': mio.tolist(), 'standard_error': standard_error.tolist(), 'x': x_N.tolist()}\n",
    "savepath = os.path.join(model_output_dir,ridString, 'nodal_params.json')\n",
    "with open(savepath, 'w') as f:\n",
    "    json.dump(output, f)\n",
    "\n",
    "savepath = os.path.join(model_output_dir,ridString, 'RL_muN.nc')\n",
    "\n",
    "\n",
    "if os.path.exists(savepath) and runWithoutModel:\n",
    "    print('Model exists: ', savepath)\n",
    "else:\n",
    "    ds = save_model_to_netcdf(x_N,w_N,t,covariate,mio=mio,ReturnPeriod=ReturnPeriod,modelName='Model_GEV_S_T_Cv_N.exe',ridString=ridString,savepath=savepath, station_name=station_name,year0=year0)\n"
   ]
  },
  {
   "cell_type": "code",
   "execution_count": 96,
   "metadata": {},
   "outputs": [
    {
     "data": {
      "text/plain": [
       "(7,)"
      ]
     },
     "execution_count": 96,
     "metadata": {},
     "output_type": "execute_result"
    }
   ],
   "source": [
    "x_N.shape"
   ]
  },
  {
   "cell_type": "markdown",
   "metadata": {},
   "source": [
    "Get a list of the parameter names that correspond to the 'x_N' variable."
   ]
  },
  {
   "cell_type": "code",
   "execution_count": 97,
   "metadata": {},
   "outputs": [
    {
     "data": {
      "text/plain": [
       "'Annual seasonal cycle, Semiannual seasonal cycle, and Long-term Trend in Location'"
      ]
     },
     "metadata": {
      "scrapbook": {
       "mime_prefix": "",
       "name": "parameters_included"
      }
     },
     "output_type": "display_data"
    }
   ],
   "source": [
    "param_names = ['Annual seasonal cycle',\n",
    "    'Semiannual seasonal cycle',\n",
    "    'Triannual seasonal cycle',\n",
    "    'Long-term Trend in Location',\n",
    "    'Covariate in Location',\n",
    "    'Covariate in Scale',\n",
    "    'Nodal Cycle']\n",
    "\n",
    "# Write out the parameter names, where if x[i] = 1, the parameter is included, otherwise it is removed from the list\n",
    "parameters_included = [param for i, param in zip(x_N, param_names) if i == 1]\n",
    "\n",
    "\n",
    "# Format the parameter names for display, where each parameter is separated by a comma and the last parameter is preceded by 'and'\n",
    "parameters_included = ', '.join(parameters_included[:-1]) + ', and ' + parameters_included[-1]\n",
    "glue(\"parameters_included\", parameters_included)\n"
   ]
  },
  {
   "cell_type": "markdown",
   "metadata": {},
   "source": [
    "## Plot the timeseries\n",
    "We'll first extract all the relevant return levels for various models."
   ]
  },
  {
   "cell_type": "markdown",
   "metadata": {},
   "source": [
    "```{margin}\n",
    "```{warning}\n",
    "Still toying with this!\n",
    "```"
   ]
  },
  {
   "cell_type": "markdown",
   "metadata": {},
   "source": [
    "### Plot it up\n",
    "For now we'll use only the nodal + long-term trend + seasonality model."
   ]
  },
  {
   "cell_type": "code",
   "execution_count": 98,
   "metadata": {
    "tags": [
     "hide-output"
    ]
   },
   "outputs": [
    {
     "data": {
      "text/plain": [
       "1993.0"
      ]
     },
     "metadata": {
      "scrapbook": {
       "mime_prefix": "",
       "name": "year0"
      }
     },
     "output_type": "display_data"
    },
    {
     "data": {
      "application/papermill.record/image/png": "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",
      "application/papermill.record/text/plain": "<Figure size 1000x500 with 1 Axes>"
     },
     "metadata": {
      "scrapbook": {
       "mime_prefix": "application/papermill.record/",
       "name": "TimeDependentReturnValue"
      }
     },
     "output_type": "display_data"
    },
    {
     "data": {
      "image/png": "[encoded data removed]",
      "text/plain": [
       "<Figure size 1000x500 with 1 Axes>"
      ]
     },
     "metadata": {},
     "output_type": "display_data"
    }
   ],
   "source": [
    "ds = xr.open_dataset(os.path.join(model_output_dir,ridString, 'RL_muN.nc'))\n",
    "dsMHHW = ds - STNDtoMHHW\n",
    "dsMHHW.attrs['units'] = 'm, MHHW'\n",
    "\n",
    "# close the dataset\n",
    "ds.close()\n",
    "\n",
    "# get the first year of ds\n",
    "year0 = dsMHHW['Year'][0].item()\n",
    "\n",
    "glue(\"year0\", year0)\n",
    "\n",
    "year0plot = 1993\n",
    "\n",
    "fig = plt.figure(figsize=(10,5))\n",
    "sss = fig.add_subplot(1, 1, 1)\n",
    "\n",
    "yearseval = [2008,2020]\n",
    "\n",
    "for i, rp in enumerate(dsMHHW['ReturnPeriod']):\n",
    "    plt.plot(dsMHHW['Year'], dsMHHW['ReturnLevel'][i], color=cmap[i], linewidth=2, label=f'{rp.values}y')\n",
    "    for year in yearseval:\n",
    "        yrval = dsMHHW['ReturnLevel'][i].sel(Year = year).values\n",
    "        std = dsMHHW['RL_high'][i].sel(Year = year).values - yrval\n",
    "        plt.scatter(year, yrval, color=cmap[i], s=50, label=f'{year}: {yrval:.2f} $\\pm$ {std:.3f}  m')\n",
    "    \n",
    "plt.fill_between(dsMHHW['Year'], dsMHHW['RL_low'][0], dsMHHW['RL_high'][0], color=cmap[0], alpha=0.2)\n",
    "plt.fill_between(dsMHHW['Year'], dsMHHW['RL_low'][1], dsMHHW['RL_high'][1], color=cmap[1], alpha=0.2)\n",
    "\n",
    "# add monthly maxima\n",
    "plt.plot(mm['t']+year0, mm['monthly_max']-STNDtoMHHW, '+k', markersize=5, label='Monthly maxima',alpha=1)    \n",
    "\n",
    "# add title of station name\n",
    "plt.title('Nonstationary GEV Return Levels: ' + station_name)\n",
    "plt.xlabel('Year')\n",
    "plt.ylabel('Sea level (m, MHHW)')\n",
    "plt.grid(True,alpha=0.2)\n",
    "\n",
    "plt.legend(title='Return Period', loc='upper left', bbox_to_anchor=(1, 1),fontsize=10)\n",
    "\n",
    "# arrange yaxis for breathing room\n",
    "meanmaxSL = np.nanmean(mm['monthly_max']-STNDtoMHHW)\n",
    "rangemaxSL = np.nanmax(mm['monthly_max']) - np.nanmin(mm['monthly_max']) # Range\n",
    "\n",
    "plt.axis([year0plot, 2023, meanmaxSL-0.5*rangemaxSL, meanmaxSL+0.75*rangemaxSL])\n",
    "\n",
    "# save the figure\n",
    "savename = 'TimeDependentReturnValue_'+ ridString +'.png'\n",
    "savedir = os.path.join(output_dir, savename)\n",
    "plt.savefig(savedir, dpi=300, bbox_inches='tight')\n",
    "\n",
    "# glue the figure\n",
    "glue(\"TimeDependentReturnValue\", fig, display=False)\n"
   ]
  },
  {
   "cell_type": "markdown",
   "metadata": {},
   "source": [
    "```{glue:figure} TimeDependentReturnValue\n",
    ":name: \"TimeDependentReturnValue\"\n",
    "Time series of the nonstationary GEV-based extreme water level return values for {glue:text}`station_name`. The monthly maxima (+) are displayed spanning data from {glue:text}`year0` to 2023. The return levels (at 2, 10, 50, and 100 year levels) are shown in solid lines. The 95% Confidence Interval (shaded area) also varies in time, and is shown only for the 2 and 10 year return levels. Years 2008 and 2020 are highlighted on these curves to show the differences in values when taking seasonality, a long-term trend, and the 18.6 nodal-cycle into account. This particular best-fit model for {glue:text}`station_name` includes the {glue:text}`parameters_included`.\n",
    "```\n",
    "```{margin}\n",
    "Caution: Confidence Intervals still getting tweaked!!\n",
    "```"
   ]
  },
  {
   "cell_type": "code",
   "execution_count": 99,
   "metadata": {},
   "outputs": [
    {
     "data": {
      "application/vnd.plotly.v1+json": {
       "config": {
        "plotlyServerURL": "https://plot.ly"
       },
       "data": [
        {
         "hovertemplate": "%{x:.0f}: %{y:.3f} m",
         "line": {
          "color": "#1f77b4",
          "width": 2
         },
         "mode": "lines",
         "name": "2y",
         "type": "scatter",
         "x": [
          1993,
          1994,
          1995,
          1996,
          1997,
          1998,
          1999,
          2000,
          2001,
          2002,
          2003,
          2004,
          2005,
          2006,
          2007,
          2008,
          2009,
          2010,
          2011,
          2012,
          2013,
          2014,
          2015,
          2016,
          2017,
          2018,
          2019,
          2020,
          2021,
          2022,
          2023
         ],
         "y": [
          0.3646190195887986,
          0.3671140387060863,
          0.3696130066997849,
          0.37221519918165,
          0.37472208759917347,
          0.37723294367883686,
          0.37974777370033164,
          0.3821672989082756,
          0.3846900917557401,
          0.3872168774375295,
          0.3897476622731302,
          0.39228245259206984,
          0.3948212547338943,
          0.3973640750481835,
          0.39991091989456695,
          0.4025611123565249,
          0.405116029373501,
          0.4076749900682146,
          0.4102380008407469,
          0.4128050681012261,
          0.41537619826992533,
          0.4179513977772795,
          0.42053067306390135,
          0.42311403058059716,
          0.42570147678838377,
          0.4282930181585034,
          0.4308886611724414,
          0.4334884123219409,
          0.4360922781090202,
          0.43870026504598836,
          0.44131237965546233
         ]
        },
        {
         "hovertemplate": "%{x:.0f}: %{y:.3f} m",
         "marker": {
          "color": "#1f77b4",
          "size": 10
         },
         "mode": "markers+text",
         "name": "2008: 0.40 ± 0.011 m",
         "textposition": "top right",
         "type": "scatter",
         "x": [
          2008
         ],
         "y": [
          0.4025611123565249
         ]
        },
        {
         "hovertemplate": "%{x:.0f}: %{y:.3f} m",
         "marker": {
          "color": "#1f77b4",
          "size": 10
         },
         "mode": "markers+text",
         "name": "2020: 0.43 ± 0.014 m",
         "textposition": "top right",
         "type": "scatter",
         "x": [
          2020
         ],
         "y": [
          0.4334884123219409
         ]
        },
        {
         "hovertemplate": "%{x:.0f}: %{y:.3f} m",
         "line": {
          "color": "#ff7f0e",
          "width": 2
         },
         "mode": "lines",
         "name": "10y",
         "type": "scatter",
         "x": [
          1993,
          1994,
          1995,
          1996,
          1997,
          1998,
          1999,
          2000,
          2001,
          2002,
          2003,
          2004,
          2005,
          2006,
          2007,
          2008,
          2009,
          2010,
          2011,
          2012,
          2013,
          2014,
          2015,
          2016,
          2017,
          2018,
          2019,
          2020,
          2021,
          2022,
          2023
         ],
         "y": [
          0.42653356542359844,
          0.4290286283408784,
          0.43152764021616963,
          0.43411900226129085,
          0.4366259353643793,
          0.439136836212106,
          0.44165171108538526,
          0.4440821530634702,
          0.44660499028602985,
          0.44913182042577526,
          0.4516626498023488,
          0.4541974847454495,
          0.45673633159479476,
          0.45927919670013617,
          0.46182608642127554,
          0.4644654571879856,
          0.46702041990002696,
          0.469579426375065,
          0.47214248301338,
          0.4747095962252763,
          0.4772807724312029,
          0.47985601806177214,
          0.4824353395577736,
          0.4850187433701916,
          0.4876062359602207,
          0.49019782379928145,
          0.492793513369038,
          0.4953933111614133,
          0.4979972236786048,
          0.5006052574331021,
          0.5032174189477023
         ]
        },
        {
         "hovertemplate": "%{x:.0f}: %{y:.3f} m",
         "marker": {
          "color": "#ff7f0e",
          "size": 10
         },
         "mode": "markers+text",
         "name": "2008: 0.46 ± 0.016 m",
         "textposition": "top right",
         "type": "scatter",
         "x": [
          2008
         ],
         "y": [
          0.4644654571879856
         ]
        },
        {
         "hovertemplate": "%{x:.0f}: %{y:.3f} m",
         "marker": {
          "color": "#ff7f0e",
          "size": 10
         },
         "mode": "markers+text",
         "name": "2020: 0.50 ± 0.019 m",
         "textposition": "top right",
         "type": "scatter",
         "x": [
          2020
         ],
         "y": [
          0.4953933111614133
         ]
        },
        {
         "hovertemplate": "%{x:.0f}: %{y:.3f} m",
         "line": {
          "color": "#2ca02c",
          "width": 2
         },
         "mode": "lines",
         "name": "50y",
         "type": "scatter",
         "x": [
          1993,
          1994,
          1995,
          1996,
          1997,
          1998,
          1999,
          2000,
          2001,
          2002,
          2003,
          2004,
          2005,
          2006,
          2007,
          2008,
          2009,
          2010,
          2011,
          2012,
          2013,
          2014,
          2015,
          2016,
          2017,
          2018,
          2019,
          2020,
          2021,
          2022,
          2023
         ],
         "y": [
          0.46737182177688674,
          0.469866917582352,
          0.4723659624129495,
          0.4749495637793957,
          0.4774565306961356,
          0.4799674654269641,
          0.4824823742519191,
          0.48492064104897503,
          0.48744351163280153,
          0.4899703752020148,
          0.4925012380764149,
          0.4950361065858573,
          0.49757498707021597,
          0.5001178858794,
          0.5026648093733688,
          0.5052964290469237,
          0.507851426408511,
          0.5104104676037629,
          0.5129735590331184,
          0.5155407071070433,
          0.5181119182461495,
          0.520687198881211,
          0.5232665554531808,
          0.5258499944132062,
          0.5284375222226454,
          0.531029145353084,
          0.53362487028635,
          0.5362247035145311,
          0.5388286515399909,
          0.5414367208753845,
          0.544048918043675
         ]
        },
        {
         "hovertemplate": "%{x:.0f}: %{y:.3f} m",
         "marker": {
          "color": "#2ca02c",
          "size": 10
         },
         "mode": "markers+text",
         "name": "2008: 0.51 ± 0.022 m",
         "textposition": "top right",
         "type": "scatter",
         "x": [
          2008
         ],
         "y": [
          0.5052964290469237
         ]
        },
        {
         "hovertemplate": "%{x:.0f}: %{y:.3f} m",
         "marker": {
          "color": "#2ca02c",
          "size": 10
         },
         "mode": "markers+text",
         "name": "2020: 0.54 ± 0.025 m",
         "textposition": "top right",
         "type": "scatter",
         "x": [
          2020
         ],
         "y": [
          0.5362247035145311
         ]
        },
        {
         "hovertemplate": "%{x:.0f}: %{y:.3f} m",
         "line": {
          "color": "#d62728",
          "width": 2
         },
         "mode": "lines",
         "name": "100y",
         "type": "scatter",
         "x": [
          1993,
          1994,
          1995,
          1996,
          1997,
          1998,
          1999,
          2000,
          2001,
          2002,
          2003,
          2004,
          2005,
          2006,
          2007,
          2008,
          2009,
          2010,
          2011,
          2012,
          2013,
          2014,
          2015,
          2016,
          2017,
          2018,
          2019,
          2020,
          2021,
          2022,
          2023
         ],
         "y": [
          0.4816695879336117,
          0.48416469863193257,
          0.48666375838683473,
          0.4892444241773526,
          0.4917514064335049,
          0.49426235653600004,
          0.4967772807649522,
          0.4992185121188366,
          0.5017413978172738,
          0.5042682765330784,
          0.5067991545861266,
          0.5093340383063492,
          0.5118729340336965,
          0.5144158481181544,
          0.5169627869197584,
          0.5195914756634015,
          0.5221464887565028,
          0.5247055457164482,
          0.5272686529437538,
          0.5298358168489634,
          0.5324070438527682,
          0.5349823403860205,
          0.537561712889753,
          0.5401451678151918,
          0.5427327116237757,
          0.5453243507871686,
          0.5479200917872793,
          0.5505199411162758,
          0.5531239052766015,
          0.5557319907809921,
          0.558344204152492
         ]
        },
        {
         "hovertemplate": "%{x:.0f}: %{y:.3f} m",
         "marker": {
          "color": "#d62728",
          "size": 10
         },
         "mode": "markers+text",
         "name": "2008: 0.52 ± 0.025 m",
         "textposition": "top right",
         "type": "scatter",
         "x": [
          2008
         ],
         "y": [
          0.5195914756634015
         ]
        },
        {
         "hovertemplate": "%{x:.0f}: %{y:.3f} m",
         "marker": {
          "color": "#d62728",
          "size": 10
         },
         "mode": "markers+text",
         "name": "2020: 0.55 ± 0.028 m",
         "textposition": "top right",
         "type": "scatter",
         "x": [
          2020
         ],
         "y": [
          0.5505199411162758
         ]
        },
        {
         "fillcolor": "rgba(31.0, 119.0, 180.0, 0.2)",
         "hoverlabel": {
          "bgcolor": "rgba(31.0, 119.0, 180.0, 0.2)",
          "font": {
           "color": "#1f77b4"
          }
         },
         "hovertemplate": "%{x:.0f}: %{y:.3f} m",
         "line": {
          "color": "rgba(31.0, 119.0, 180.0, 0)"
         },
         "mode": "lines",
         "name": "Upper Confidence Interval",
         "showlegend": false,
         "type": "scatter",
         "x": [
          1993,
          1994,
          1995,
          1996,
          1997,
          1998,
          1999,
          2000,
          2001,
          2002,
          2003,
          2004,
          2005,
          2006,
          2007,
          2008,
          2009,
          2010,
          2011,
          2012,
          2013,
          2014,
          2015,
          2016,
          2017,
          2018,
          2019,
          2020,
          2021,
          2022,
          2023
         ],
         "y": [
          0.3788650814242116,
          0.38094972979175634,
          0.38305627977310786,
          0.3852903630810054,
          0.38744693651173323,
          0.3896316638332924,
          0.3918468623155167,
          0.3939902440723635,
          0.39627331589485615,
          0.39859402215442374,
          0.4009546186247308,
          0.40335716716116377,
          0.40580345177024135,
          0.4082948988853079,
          0.4108325098932475,
          0.413523071330802,
          0.4161542010595667,
          0.418831576110253,
          0.4215542886247927,
          0.4243210334097771,
          0.42713018006262216,
          0.42997985304343356,
          0.43286801219710647,
          0.4357925276517194,
          0.43875124496008255,
          0.44174203832861836,
          0.4447628514684985,
          0.44781172677324865,
          0.4508868243283852,
          0.45398643252328386,
          0.45710897210589496
         ]
        },
        {
         "fill": "tonexty",
         "fillcolor": "rgba(31.0, 119.0, 180.0, 0.2)",
         "hoverlabel": {
          "bgcolor": "rgba(31.0, 119.0, 180.0, 0.2)",
          "font": {
           "color": "#1f77b4"
          }
         },
         "hovertemplate": "%{x:.0f}: %{y:.3f} m",
         "line": {
          "color": "rgba(31.0, 119.0, 180.0, 0)"
         },
         "mode": "lines",
         "name": "Lower Confidence Interval",
         "showlegend": false,
         "type": "scatter",
         "x": [
          1993,
          1994,
          1995,
          1996,
          1997,
          1998,
          1999,
          2000,
          2001,
          2002,
          2003,
          2004,
          2005,
          2006,
          2007,
          2008,
          2009,
          2010,
          2011,
          2012,
          2013,
          2014,
          2015,
          2016,
          2017,
          2018,
          2019,
          2020,
          2021,
          2022,
          2023
         ],
         "y": [
          0.3503729577533856,
          0.3532783476204162,
          0.356169733626462,
          0.35914003528229466,
          0.3619972386866137,
          0.36483422352438133,
          0.3676486850851466,
          0.3703443537441877,
          0.37310686761662404,
          0.3758397327206353,
          0.37854070592152955,
          0.3812077380229759,
          0.3838390576975472,
          0.3864332512110591,
          0.3889893298958864,
          0.3915991533822478,
          0.3940778576874353,
          0.3965184040261762,
          0.3989217130567011,
          0.40128910279267505,
          0.4036222164772285,
          0.4059229425111255,
          0.40819333393069623,
          0.4104355335094749,
          0.412651708616685,
          0.41484399798838845,
          0.4170144708763843,
          0.41916509787063316,
          0.42129773188965514,
          0.42341409756869286,
          0.4255157872050297
         ]
        },
        {
         "fillcolor": "rgba(255.0, 127.0, 14.0, 0.2)",
         "hoverlabel": {
          "bgcolor": "rgba(255.0, 127.0, 14.0, 0.2)",
          "font": {
           "color": "#ff7f0e"
          }
         },
         "hovertemplate": "%{x:.0f}: %{y:.3f} m",
         "line": {
          "color": "rgba(255.0, 127.0, 14.0, 0)"
         },
         "mode": "lines",
         "name": "Upper Confidence Interval",
         "showlegend": false,
         "type": "scatter",
         "x": [
          1993,
          1994,
          1995,
          1996,
          1997,
          1998,
          1999,
          2000,
          2001,
          2002,
          2003,
          2004,
          2005,
          2006,
          2007,
          2008,
          2009,
          2010,
          2011,
          2012,
          2013,
          2014,
          2015,
          2016,
          2017,
          2018,
          2019,
          2020,
          2021,
          2022,
          2023
         ],
         "y": [
          0.44425776723850086,
          0.44648569667809723,
          0.4487374481164317,
          0.45111061692633636,
          0.4534135777739168,
          0.45574366471422434,
          0.4581019092813525,
          0.46039200398747604,
          0.4628092097277332,
          0.46525722933359415,
          0.4677367384783693,
          0.47024828424090215,
          0.47279227370055055,
          0.4753689659821576,
          0.47797846797877974,
          0.48071901700072406,
          0.483393904720018,
          0.48610101065996614,
          0.48883987029774745,
          0.49160990274886895,
          0.49441042607423524,
          0.4972406737984487,
          0.5000998120062421,
          0.5029869547659,
          0.5059011822884074,
          0.5088415530756571,
          0.5118071181347725,
          0.5147969320723518,
          0.5178100626177886,
          0.5208455986088767,
          0.5239026561181277
         ]
        },
        {
         "fill": "tonexty",
         "fillcolor": "rgba(255.0, 127.0, 14.0, 0.2)",
         "hoverlabel": {
          "bgcolor": "rgba(255.0, 127.0, 14.0, 0.2)",
          "font": {
           "color": "#ff7f0e"
          }
         },
         "hovertemplate": "%{x:.0f}: %{y:.3f} m",
         "line": {
          "color": "rgba(255.0, 127.0, 14.0, 0)"
         },
         "mode": "lines",
         "name": "Lower Confidence Interval",
         "showlegend": false,
         "type": "scatter",
         "x": [
          1993,
          1994,
          1995,
          1996,
          1997,
          1998,
          1999,
          2000,
          2001,
          2002,
          2003,
          2004,
          2005,
          2006,
          2007,
          2008,
          2009,
          2010,
          2011,
          2012,
          2013,
          2014,
          2015,
          2016,
          2017,
          2018,
          2019,
          2020,
          2021,
          2022,
          2023
         ],
         "y": [
          0.408809363608696,
          0.4115715600036596,
          0.4143178323159076,
          0.41712738759624535,
          0.4198382929548419,
          0.4225300077099876,
          0.425201512889418,
          0.4277723021394644,
          0.4304007708443265,
          0.4330064115179564,
          0.4355885611263284,
          0.4381466852499969,
          0.440680389489039,
          0.44318942741811473,
          0.44567370486377134,
          0.44821189737524714,
          0.45064693508003595,
          0.45305784209016386,
          0.4554450957290126,
          0.45780928970168366,
          0.4601511187881706,
          0.46247136232509556,
          0.46477086710930515,
          0.4670505319744831,
          0.46931128963203395,
          0.47155409452290575,
          0.47377990860330343,
          0.4759896902504748,
          0.47818438473942093,
          0.4803649162573276,
          0.48253218177727697
         ]
        },
        {
         "hovertemplate": "%{x:.0f}: %{y:.3f} m",
         "marker": {
          "color": "black",
          "size": 5,
          "symbol": "cross"
         },
         "mode": "markers",
         "name": "Monthly maxima",
         "type": "scatter",
         "x": [
          1993.0233378870673,
          1993.1026866714733,
          1993.1788478736592,
          1993.2707194583586,
          1993.3471083788706,
          1993.4673269581056,
          1993.5464480874316,
          1993.628529143898,
          1993.704804157812,
          1993.7882513661202,
          1993.8703324225864,
          1993.9468351548269,
          1994.0752504553734,
          1994.110655737705,
          1994.2307604419652,
          1994.3226320266647,
          1994.3962887067396,
          1994.4755236794172,
          1994.551912568306,
          1994.6338797814208,
          1994.680441712204,
          1994.7594489665553,
          1994.8401639344263,
          1994.9222449908925,
          1995.0042122040072,
          1995.0890254692877,
          1995.1654143897997,
          1995.295309622293,
          1995.3689663023679,
          1995.4482012750454,
          1995.5274362477232,
          1995.603825136612,
          1995.6857923497269,
          1995.8158014255716,
          1995.8977686386866,
          1995.97131147541,
          1996.0532786885246,
          1996.138091985428,
          1996.1762295081967,
          1996.300660291439,
          1996.344489950162,
          1996.4972677595629,
          1996.5,
          1996.6612021857923,
          1996.734858802621,
          1996.8238843351548,
          1996.8676001821493,
          1996.9822404371585,
          1997.031762295082,
          1997.1053051001822,
          1997.187272313297,
          1997.2707194583586,
          1997.3908242258651,
          1997.4290755919853,
          1997.5520264116576,
          1997.6312613843352,
          1997.704918032787,
          1997.7966757425115,
          1997.8759107151893,
          1997.9522996357014,
          1998.034266848816,
          1998.1135018214936,
          1998.243397053987,
          1998.3225182149363,
          1998.3990209471767,
          1998.4754098360656,
          1998.560223132969,
          1998.6040527916919,
          1998.6747495130035,
          1998.7622950819673,
          1998.8458560703805,
          1998.9222449908925,
          1999.0069444444443,
          1999.0889116575593,
          1999.1653005464482,
          1999.2924635701274,
          1999.371698542805,
          1999.4510473272112,
          1999.5301684881604,
          1999.6149817534406,
          1999.6913706739526,
          1999.8212659064461,
          1999.8976548269582,
          1999.9770036113641,
          2000.0588570127504,
          2000.1353597449909,
          2000.220059198543,
          2000.2679872179215,
          2000.3473360655737,
          2000.4972677595629,
          2000.5056921359542,
          2000.6613160291438,
          2000.6994535519125,
          2000.826616575592,
          2000.9058515482695,
          2000.9552595628415,
          2001.0344945355191,
          2001.1051912568305,
          2001.1844262295083,
          2001.3171675457904,
          2001.3993624772313,
          2001.4812158469945,
          2001.5520264116576,
          2001.6284153005465,
          2001.707650273224,
          2001.786771370927,
          2001.875796903461,
          2001.9960154826958,
          2002.0807149362477,
          2002.1543715846994,
          2002.2306466302368,
          2002.3225182149363,
          2002.4017531876138,
          2002.483834212457,
          2002.5275500594516,
          2002.6039389799635,
          2002.6831739526413,
          2002.753984485681,
          2002.845742258652,
          2002.922131147541,
          2003.0152549774843,
          2003.0917577097248,
          2003.2062841530055,
          2003.295309622293,
          2003.3745445949708,
          2003.4509335154828,
          2003.535746780763,
          2003.6558515482695,
          2003.685678474752,
          2003.8184198542806,
          2003.8976548269582,
          2003.9797358518013,
          2004.0588570127504,
          2004.1352459016393,
          2004.217213114754,
          2004.3089708244788,
          2004.3854735567193,
          2004.423611111111,
          2004.5820810564662,
          2004.6612021857923,
          2004.7021857923498,
          2004.7910974499089,
          2004.8703324225864,
          2004.9524134474298,
          2005.0316484201073,
          2005.1023451414187,
          2005.187272313297,
          2005.3228597449909,
          2005.3935564663025,
          2005.4756374911456,
          2005.5576047042603,
          2005.6312613843352,
          2005.7103825136612,
          2005.7994079829489,
          2005.9140482695811,
          2005.998747723133,
          2006.0807149362477,
          2006.1571038251366,
          2006.1654143897997,
          2006.3225182149363,
          2006.4045992397794,
          2006.4809881602914,
          2006.5275500594516,
          2006.6066712204008,
          2006.6830601092897,
          2006.7720855785772,
          2006.8484744990892,
          2006.9278232834952,
          2007.0069444444443,
          2007.0887978142077,
          2007.173611111111,
          2007.3007741031674,
          2007.3744307832424,
          2007.456397996357,
          2007.5329007285975,
          2007.6148679417122,
          2007.685678474752,
          2007.8211520947177,
          2007.9032331195608,
          2007.9824680922384,
          2008.0588570127504,
          2008.1053051001822,
          2008.1844262295083,
          2008.2735655737704,
          2008.3882057971564,
          2008.4291894037137,
          2008.5819672131147,
          2008.5875455373407,
          2008.704918032787,
          2008.7882513661202,
          2008.870218579235,
          2008.9522996357014,
          2009.031534608379,
          2009.1107695810565,
          2009.1871584699454,
          2009.3198997862276,
          2009.3962887067396,
          2009.4783697315827,
          2009.5574908925319,
          2009.6338797814208,
          2009.7102686386866,
          2009.7992941712205,
          2009.8458560703805,
          2009.922358802621,
          2010.0043260157356,
          2010.1625683060108,
          2010.1653005464482,
          2010.3252504553734,
          2010.4016393442623,
          2010.4864526411657,
          2010.5274362477232,
          2010.6066712204008,
          2010.6857923497269,
          2010.7720855785772,
          2010.8483606557377,
          2010.9770036113641,
          2011.0505464480875,
          2011.1325136612022,
          2011.1931921359542,
          2011.297928051002,
          2011.3771630236795,
          2011.4592440485226,
          2011.5356329690346,
          2011.6584699453551,
          2011.7320127504554,
          2011.8239981468832,
          2011.9003870673953,
          2011.9441029143898,
          2012.0289161796702,
          2012.1053051001822,
          2012.181693989071,
          2012.2734516987957,
          2012.3498406193078,
          2012.4290755919853,
          2012.5083105646631,
          2012.5875455373407,
          2012.707650273224,
          2012.7966757425115,
          2012.8759107151893,
          2012.9522996357014,
          2013.0343806605445,
          2013.110655737705,
          2013.1898907103825,
          2013.3226320266647,
          2013.401980874317,
          2013.4782559198543,
          2013.5547586520947,
          2013.6367258652094,
          2013.7130008791237,
          2013.8020264116576,
          2013.843010018215,
          2013.9222449908925,
          2014.0099043715848,
          2014.0890254692877,
          2014.1654143897997,
          2014.2544398907103,
          2014.3689663023679,
          2014.4509335154828,
          2014.5302822998888,
          2014.6065573770493,
          2014.6857923497269,
          2014.762067395264,
          2014.8539389799635,
          2014.9797358518013,
          2015.0094489665553,
          2015.1325136612022,
          2015.2215391304899,
          2015.300660291439,
          2015.3771630236795,
          2015.4237249228395,
          2015.4973816029144,
          2015.6584699453551,
          2015.7120901639344,
          2015.8238843351548,
          2015.905965359998,
          2015.98235428051,
          2016.0288023679418,
          2016.110883392785,
          2016.1898907103825,
          2016.3143214936247,
          2016.3498406193078,
          2016.4318078324227,
          2016.5054644808743,
          2016.5846994535518,
          2016.7103825136612,
          2016.7994079829489,
          2016.8786429556264,
          2016.957877928304,
          2017.0371129009816,
          2017.107809622293,
          2017.1898907103825,
          2017.3282103825136,
          2017.4018669993422,
          2017.4782559198543,
          2017.560223132969,
          2017.636612021858,
          2017.6775956284152,
          2017.753984485681,
          2017.8485883108176,
          2017.9249772313296,
          2018.0125227370472,
          2018.0890254692877,
          2018.1654143897997,
          2018.2980418627303,
          2018.3745445949708,
          2018.4537795676483,
          2018.5301684881604,
          2018.612135701275,
          2018.6913706739526,
          2018.8156876138432,
          2018.8977686386866,
          2018.9797358518013,
          2019.0561247723133,
          2019.138091985428,
          2019.2143669993422,
          2019.3035063436046,
          2019.347222190599,
          2019.4971538845882,
          2019.5028460837887,
          2019.5848132969036,
          2019.737591043058,
          2019.8267303873204,
          2019.908697600435,
          2019.985086520947,
          2020.031534608379,
          2020.113615633222,
          2020.1927367941712,
          2020.2761839392329,
          2020.3962887067396,
          2020.4289617486338,
          2020.5547586520947,
          2020.5902777777778,
          2020.7131147540983,
          2020.7994079829489,
          2020.875796903461,
          2020.957877928304,
          2021.034266848816,
          2021.110655737705,
          2021.1898907103825,
          2021.3225182149363,
          2021.4017531876138,
          2021.4809881602914,
          2021.562955373406,
          2021.6394581056466,
          2021.6803278688524,
          2021.75956284153,
          2021.845742258652,
          2021.9278232834952,
          2022.00979049661,
          2022.0889116575593,
          2022.1653005464482,
          2022.2951958105646,
          2022.3744307832424,
          2022.4565118080855,
          2022.5329007285975,
          2022.6092896174864,
          2022.688524590164,
          2022.8212659064461,
          2022.9033469945355,
          2022.9768897996357,
          2023.061703064916,
          2023.1352459016393,
          2023.2143669993422,
          2023.3062385840417,
          2023.3826275045537,
          2023.467440769834,
          2023.5792349726776,
          2023.5848132969036,
          2023.6667805100183,
          2023.8321948681946,
          2023.9114298408722,
          2023.9468351548269
         ],
         "y": [
          0.34599999999999986,
          0.33099999999999996,
          0.21500009999999992,
          0.254,
          0.23300009999999993,
          0.2639999999999998,
          0.28800009999999987,
          0.28800009999999987,
          0.14500009999999985,
          0.2090000999999999,
          0.2090000999999999,
          0.24500009999999994,
          0.21799999999999997,
          0.12000009999999994,
          0.06900010000000001,
          0.23899999999999988,
          0.22399999999999998,
          0.2819999999999998,
          0.2669999999999999,
          0.2940000999999999,
          0.2000000999999998,
          0.4770000999999999,
          0.24500009999999994,
          0.24500009999999994,
          0.254,
          0.2090000999999999,
          0.21500009999999992,
          0.20299999999999985,
          0.2120000999999998,
          0.30299999999999994,
          0.3639999999999999,
          0.25100009999999995,
          0.20599999999999996,
          0.27000009999999985,
          0.474,
          0.36700009999999983,
          0.3570000999999998,
          0.2849999999999999,
          0.2960000999999999,
          0.1389999999999998,
          0.24500009999999994,
          0.32299999999999995,
          0.3450000999999998,
          0.32599999999999985,
          0.3140000999999999,
          0.2960000999999999,
          0.38300009999999984,
          0.2619999999999998,
          0.2569999999999999,
          0.24700009999999994,
          0.2100000999999998,
          0.18100009999999989,
          0.2569999999999999,
          0.22700009999999993,
          0.26300009999999996,
          0.36700009999999983,
          0.2790001,
          0.1910000999999999,
          0.2000000999999998,
          0.23399999999999999,
          0.26500009999999996,
          0.20099999999999985,
          0.09599999999999986,
          0.1910000999999999,
          0.18799999999999994,
          0.11599999999999988,
          0.16900009999999988,
          0.1970000999999999,
          0.25300009999999995,
          0.15800009999999998,
          0.25000009999999984,
          0.20099999999999985,
          0.27600009999999986,
          0.17100009999999988,
          0.16400009999999998,
          0.08099999999999996,
          0.1970000999999999,
          0.28400009999999987,
          0.22800009999999982,
          0.23899999999999988,
          0.2749999999999999,
          0.18799999999999994,
          0.3090001,
          0.2999999999999998,
          0.19499999999999984,
          0.1549999999999998,
          0.08299999999999996,
          0.03400009999999987,
          0.16100009999999987,
          0.22500009999999993,
          0.3210000999999998,
          0.2669999999999999,
          0.15900009999999987,
          0.12600009999999995,
          0.22399999999999998,
          0.2830001,
          0.3010001,
          0.3190001,
          0.15600009999999997,
          0.121,
          0.21799999999999997,
          0.36000009999999993,
          0.3450000999999998,
          0.3170001,
          0.26600009999999985,
          0.1569999999999998,
          0.2220000999999998,
          0.37000009999999994,
          0.30799999999999983,
          0.10000009999999993,
          0.12300009999999983,
          0.16900009999999988,
          0.18999999999999995,
          0.2070000999999999,
          0.2070000999999999,
          0.2769999999999999,
          0.31799999999999984,
          0.2120000999999998,
          0.20599999999999996,
          0.2920000999999999,
          0.37600009999999995,
          0.252,
          0.2769999999999999,
          0.20299999999999985,
          0.33799999999999986,
          0.3570000999999998,
          0.361,
          0.3340000999999999,
          0.369,
          0.31299999999999994,
          0.38900009999999985,
          0.30799999999999983,
          0.35800009999999993,
          0.3240000999999999,
          0.19499999999999984,
          0.1910000999999999,
          0.3070001,
          0.4120001,
          0.351,
          0.39400009999999996,
          0.2899999999999998,
          0.34599999999999986,
          0.38500009999999985,
          0.3370000999999998,
          0.37300009999999983,
          0.3320000999999999,
          0.3420000999999999,
          0.1820001,
          0.3440000999999999,
          0.30799999999999983,
          0.32599999999999985,
          0.2749999999999999,
          0.3090001,
          0.22700009999999993,
          0.24500009999999994,
          0.3480000999999999,
          0.36600009999999994,
          0.3120000999999999,
          0.21099999999999985,
          0.21599999999999997,
          0.2619999999999998,
          0.2589999999999999,
          0.35399999999999987,
          0.4249999999999998,
          0.3220000999999999,
          0.33099999999999996,
          0.3440000999999999,
          0.3470000999999998,
          0.36200009999999994,
          0.28600009999999987,
          0.1499999999999999,
          0.1990000999999999,
          0.22899999999999987,
          0.2930001,
          0.3340000999999999,
          0.3110001,
          0.2000000999999998,
          0.2819999999999998,
          0.39800009999999997,
          0.32299999999999995,
          0.252,
          0.22300009999999992,
          0.16100009999999987,
          0.22500009999999993,
          0.23700009999999994,
          0.3639999999999999,
          0.39000009999999996,
          0.3839999999999999,
          0.21500009999999992,
          0.23300009999999993,
          0.37300009999999983,
          0.37600009999999995,
          0.2769999999999999,
          0.25600009999999984,
          0.21099999999999985,
          0.1369999999999998,
          0.1910000999999999,
          0.25300009999999995,
          0.3140000999999999,
          0.3500000999999999,
          0.21799999999999997,
          0.21500009999999992,
          0.2090000999999999,
          0.3530000999999998,
          0.33799999999999986,
          0.36700009999999983,
          0.2090000999999999,
          0.13800009999999996,
          0.2050000999999999,
          0.24200009999999983,
          0.37800009999999995,
          0.351,
          0.28800009999999987,
          0.252,
          0.2899999999999998,
          0.34599999999999986,
          0.2920000999999999,
          0.2489999999999999,
          0.27000009999999985,
          0.25800009999999984,
          0.2980000999999999,
          0.2810001,
          0.2980000999999999,
          0.26600009999999985,
          0.16199999999999992,
          0.3150001,
          0.2960000999999999,
          0.18799999999999994,
          0.19799999999999995,
          0.23200009999999982,
          0.1499999999999999,
          0.17499999999999982,
          0.22599999999999998,
          0.2489999999999999,
          0.26800009999999985,
          0.2489999999999999,
          0.15100009999999986,
          0.24500009999999994,
          0.3320000999999999,
          0.3160000999999999,
          0.3300000999999999,
          0.23300009999999993,
          0.15800009999999998,
          0.15600009999999997,
          0.26800009999999985,
          0.3170001,
          0.26500009999999996,
          0.2830001,
          0.21700009999999992,
          0.26100009999999996,
          0.2669999999999999,
          0.3160000999999999,
          0.33799999999999986,
          0.2749999999999999,
          0.1920001,
          0.17300009999999988,
          0.1740001,
          0.28600009999999987,
          0.35800009999999993,
          0.33799999999999986,
          0.35399999999999987,
          0.24200009999999983,
          0.2940000999999999,
          0.29499999999999993,
          0.3210000999999998,
          0.2899999999999998,
          0.1469999999999998,
          0.21799999999999997,
          0.244,
          0.23899999999999988,
          0.29499999999999993,
          0.2920000999999999,
          0.49600009999999983,
          0.35399999999999987,
          0.359,
          0.29499999999999993,
          0.37800009999999995,
          0.30799999999999983,
          0.22399999999999998,
          0.21500009999999992,
          0.30499999999999994,
          0.3240000999999999,
          0.32599999999999985,
          0.33299999999999996,
          0.3150001,
          0.2890001,
          0.3480000999999999,
          0.40900009999999987,
          0.38800009999999996,
          0.37100009999999983,
          0.26000009999999985,
          0.37000009999999994,
          0.3869999999999998,
          0.3919999999999999,
          0.4290000999999999,
          0.4580000999999998,
          0.3220000999999999,
          0.2619999999999998,
          0.349,
          0.4230000999999999,
          0.37600009999999995,
          0.3190001,
          0.19799999999999995,
          0.14900009999999986,
          0.23899999999999988,
          0.38000009999999995,
          0.39600009999999997,
          0.40300009999999986,
          0.3370000999999998,
          0.2790001,
          0.25500009999999995,
          0.3470000999999998,
          0.3270000999999998,
          0.2070000999999999,
          0.18299999999999983,
          0.129,
          0.25500009999999995,
          0.26300009999999996,
          0.36600009999999994,
          0.3919999999999999,
          0.3570000999999998,
          0.3530000999999998,
          0.38100009999999984,
          0.44299999999999984,
          0.39600009999999997,
          0.3630000999999998,
          0.26000009999999985,
          0.24099999999999988,
          0.3120000999999999,
          0.37800009999999995,
          0.43299999999999983,
          0.3869999999999998,
          0.377,
          0.37000009999999994,
          0.3739999999999999,
          0.46099999999999985,
          0.36800009999999994,
          0.3270000999999998,
          0.236,
          0.25100009999999995,
          0.254,
          0.3200000999999999,
          0.2980000999999999,
          0.3220000999999999,
          0.27800009999999986,
          0.17499999999999982,
          0.27100009999999997,
          0.45299999999999985,
          0.3639999999999999,
          0.3150001,
          0.24800009999999983,
          0.14900009999999986,
          0.2569999999999999,
          0.24000009999999983,
          0.3210000999999998,
          0.31299999999999994,
          0.3290000999999998,
          0.24800009999999983,
          0.2970001,
          0.3550000999999998,
          0.35599999999999987,
          0.24800009999999983,
          0.19799999999999995,
          0.17900009999999988,
          0.16199999999999992,
          0.19499999999999984,
          0.3999999999999999,
          0.4360001,
          0.3839999999999999,
          0.359,
          0.3400000999999999,
          0.2980000999999999
         ]
        }
       ],
       "layout": {
        "height": 600,
        "legend": {
         "title": {
          "text": "Return Period"
         },
         "x": 1.1,
         "y": 1
        },
        "template": {
         "data": {
          "bar": [
           {
            "error_x": {
             "color": "#2a3f5f"
            },
            "error_y": {
             "color": "#2a3f5f"
            },
            "marker": {
             "line": {
              "color": "white",
              "width": 0.5
             },
             "pattern": {
              "fillmode": "overlay",
              "size": 10,
              "solidity": 0.2
             }
            },
            "type": "bar"
           }
          ],
          "barpolar": [
           {
            "marker": {
             "line": {
              "color": "white",
              "width": 0.5
             },
             "pattern": {
              "fillmode": "overlay",
              "size": 10,
              "solidity": 0.2
             }
            },
            "type": "barpolar"
           }
          ],
          "carpet": [
           {
            "aaxis": {
             "endlinecolor": "#2a3f5f",
             "gridcolor": "#C8D4E3",
             "linecolor": "#C8D4E3",
             "minorgridcolor": "#C8D4E3",
             "startlinecolor": "#2a3f5f"
            },
            "baxis": {
             "endlinecolor": "#2a3f5f",
             "gridcolor": "#C8D4E3",
             "linecolor": "#C8D4E3",
             "minorgridcolor": "#C8D4E3",
             "startlinecolor": "#2a3f5f"
            },
            "type": "carpet"
           }
          ],
          "choropleth": [
           {
            "colorbar": {
             "outlinewidth": 0,
             "ticks": ""
            },
            "type": "choropleth"
           }
          ],
          "contour": [
           {
            "colorbar": {
             "outlinewidth": 0,
             "ticks": ""
            },
            "colorscale": [
             [
              0,
              "#0d0887"
             ],
             [
              0.1111111111111111,
              "#46039f"
             ],
             [
              0.2222222222222222,
              "#7201a8"
             ],
             [
              0.3333333333333333,
              "#9c179e"
             ],
             [
              0.4444444444444444,
              "#bd3786"
             ],
             [
              0.5555555555555556,
              "#d8576b"
             ],
             [
              0.6666666666666666,
              "#ed7953"
             ],
             [
              0.7777777777777778,
              "#fb9f3a"
             ],
             [
              0.8888888888888888,
              "#fdca26"
             ],
             [
              1,
              "#f0f921"
             ]
            ],
            "type": "contour"
           }
          ],
          "contourcarpet": [
           {
            "colorbar": {
             "outlinewidth": 0,
             "ticks": ""
            },
            "type": "contourcarpet"
           }
          ],
          "heatmap": [
           {
            "colorbar": {
             "outlinewidth": 0,
             "ticks": ""
            },
            "colorscale": [
             [
              0,
              "#0d0887"
             ],
             [
              0.1111111111111111,
              "#46039f"
             ],
             [
              0.2222222222222222,
              "#7201a8"
             ],
             [
              0.3333333333333333,
              "#9c179e"
             ],
             [
              0.4444444444444444,
              "#bd3786"
             ],
             [
              0.5555555555555556,
              "#d8576b"
             ],
             [
              0.6666666666666666,
              "#ed7953"
             ],
             [
              0.7777777777777778,
              "#fb9f3a"
             ],
             [
              0.8888888888888888,
              "#fdca26"
             ],
             [
              1,
              "#f0f921"
             ]
            ],
            "type": "heatmap"
           }
          ],
          "heatmapgl": [
           {
            "colorbar": {
             "outlinewidth": 0,
             "ticks": ""
            },
            "colorscale": [
             [
              0,
              "#0d0887"
             ],
             [
              0.1111111111111111,
              "#46039f"
             ],
             [
              0.2222222222222222,
              "#7201a8"
             ],
             [
              0.3333333333333333,
              "#9c179e"
             ],
             [
              0.4444444444444444,
              "#bd3786"
             ],
             [
              0.5555555555555556,
              "#d8576b"
             ],
             [
              0.6666666666666666,
              "#ed7953"
             ],
             [
              0.7777777777777778,
              "#fb9f3a"
             ],
             [
              0.8888888888888888,
              "#fdca26"
             ],
             [
              1,
              "#f0f921"
             ]
            ],
            "type": "heatmapgl"
           }
          ],
          "histogram": [
           {
            "marker": {
             "pattern": {
              "fillmode": "overlay",
              "size": 10,
              "solidity": 0.2
             }
            },
            "type": "histogram"
           }
          ],
          "histogram2d": [
           {
            "colorbar": {
             "outlinewidth": 0,
             "ticks": ""
            },
            "colorscale": [
             [
              0,
              "#0d0887"
             ],
             [
              0.1111111111111111,
              "#46039f"
             ],
             [
              0.2222222222222222,
              "#7201a8"
             ],
             [
              0.3333333333333333,
              "#9c179e"
             ],
             [
              0.4444444444444444,
              "#bd3786"
             ],
             [
              0.5555555555555556,
              "#d8576b"
             ],
             [
              0.6666666666666666,
              "#ed7953"
             ],
             [
              0.7777777777777778,
              "#fb9f3a"
             ],
             [
              0.8888888888888888,
              "#fdca26"
             ],
             [
              1,
              "#f0f921"
             ]
            ],
            "type": "histogram2d"
           }
          ],
          "histogram2dcontour": [
           {
            "colorbar": {
             "outlinewidth": 0,
             "ticks": ""
            },
            "colorscale": [
             [
              0,
              "#0d0887"
             ],
             [
              0.1111111111111111,
              "#46039f"
             ],
             [
              0.2222222222222222,
              "#7201a8"
             ],
             [
              0.3333333333333333,
              "#9c179e"
             ],
             [
              0.4444444444444444,
              "#bd3786"
             ],
             [
              0.5555555555555556,
              "#d8576b"
             ],
             [
              0.6666666666666666,
              "#ed7953"
             ],
             [
              0.7777777777777778,
              "#fb9f3a"
             ],
             [
              0.8888888888888888,
              "#fdca26"
             ],
             [
              1,
              "#f0f921"
             ]
            ],
            "type": "histogram2dcontour"
           }
          ],
          "mesh3d": [
           {
            "colorbar": {
             "outlinewidth": 0,
             "ticks": ""
            },
            "type": "mesh3d"
           }
          ],
          "parcoords": [
           {
            "line": {
             "colorbar": {
              "outlinewidth": 0,
              "ticks": ""
             }
            },
            "type": "parcoords"
           }
          ],
          "pie": [
           {
            "automargin": true,
            "type": "pie"
           }
          ],
          "scatter": [
           {
            "fillpattern": {
             "fillmode": "overlay",
             "size": 10,
             "solidity": 0.2
            },
            "type": "scatter"
           }
          ],
          "scatter3d": [
           {
            "line": {
             "colorbar": {
              "outlinewidth": 0,
              "ticks": ""
             }
            },
            "marker": {
             "colorbar": {
              "outlinewidth": 0,
              "ticks": ""
             }
            },
            "type": "scatter3d"
           }
          ],
          "scattercarpet": [
           {
            "marker": {
             "colorbar": {
              "outlinewidth": 0,
              "ticks": ""
             }
            },
            "type": "scattercarpet"
           }
          ],
          "scattergeo": [
           {
            "marker": {
             "colorbar": {
              "outlinewidth": 0,
              "ticks": ""
             }
            },
            "type": "scattergeo"
           }
          ],
          "scattergl": [
           {
            "marker": {
             "colorbar": {
              "outlinewidth": 0,
              "ticks": ""
             }
            },
            "type": "scattergl"
           }
          ],
          "scattermapbox": [
           {
            "marker": {
             "colorbar": {
              "outlinewidth": 0,
              "ticks": ""
             }
            },
            "type": "scattermapbox"
           }
          ],
          "scatterpolar": [
           {
            "marker": {
             "colorbar": {
              "outlinewidth": 0,
              "ticks": ""
             }
            },
            "type": "scatterpolar"
           }
          ],
          "scatterpolargl": [
           {
            "marker": {
             "colorbar": {
              "outlinewidth": 0,
              "ticks": ""
             }
            },
            "type": "scatterpolargl"
           }
          ],
          "scatterternary": [
           {
            "marker": {
             "colorbar": {
              "outlinewidth": 0,
              "ticks": ""
             }
            },
            "type": "scatterternary"
           }
          ],
          "surface": [
           {
            "colorbar": {
             "outlinewidth": 0,
             "ticks": ""
            },
            "colorscale": [
             [
              0,
              "#0d0887"
             ],
             [
              0.1111111111111111,
              "#46039f"
             ],
             [
              0.2222222222222222,
              "#7201a8"
             ],
             [
              0.3333333333333333,
              "#9c179e"
             ],
             [
              0.4444444444444444,
              "#bd3786"
             ],
             [
              0.5555555555555556,
              "#d8576b"
             ],
             [
              0.6666666666666666,
              "#ed7953"
             ],
             [
              0.7777777777777778,
              "#fb9f3a"
             ],
             [
              0.8888888888888888,
              "#fdca26"
             ],
             [
              1,
              "#f0f921"
             ]
            ],
            "type": "surface"
           }
          ],
          "table": [
           {
            "cells": {
             "fill": {
              "color": "#EBF0F8"
             },
             "line": {
              "color": "white"
             }
            },
            "header": {
             "fill": {
              "color": "#C8D4E3"
             },
             "line": {
              "color": "white"
             }
            },
            "type": "table"
           }
          ]
         },
         "layout": {
          "annotationdefaults": {
           "arrowcolor": "#2a3f5f",
           "arrowhead": 0,
           "arrowwidth": 1
          },
          "autotypenumbers": "strict",
          "coloraxis": {
           "colorbar": {
            "outlinewidth": 0,
            "ticks": ""
           }
          },
          "colorscale": {
           "diverging": [
            [
             0,
             "#8e0152"
            ],
            [
             0.1,
             "#c51b7d"
            ],
            [
             0.2,
             "#de77ae"
            ],
            [
             0.3,
             "#f1b6da"
            ],
            [
             0.4,
             "#fde0ef"
            ],
            [
             0.5,
             "#f7f7f7"
            ],
            [
             0.6,
             "#e6f5d0"
            ],
            [
             0.7,
             "#b8e186"
            ],
            [
             0.8,
             "#7fbc41"
            ],
            [
             0.9,
             "#4d9221"
            ],
            [
             1,
             "#276419"
            ]
           ],
           "sequential": [
            [
             0,
             "#0d0887"
            ],
            [
             0.1111111111111111,
             "#46039f"
            ],
            [
             0.2222222222222222,
             "#7201a8"
            ],
            [
             0.3333333333333333,
             "#9c179e"
            ],
            [
             0.4444444444444444,
             "#bd3786"
            ],
            [
             0.5555555555555556,
             "#d8576b"
            ],
            [
             0.6666666666666666,
             "#ed7953"
            ],
            [
             0.7777777777777778,
             "#fb9f3a"
            ],
            [
             0.8888888888888888,
             "#fdca26"
            ],
            [
             1,
             "#f0f921"
            ]
           ],
           "sequentialminus": [
            [
             0,
             "#0d0887"
            ],
            [
             0.1111111111111111,
             "#46039f"
            ],
            [
             0.2222222222222222,
             "#7201a8"
            ],
            [
             0.3333333333333333,
             "#9c179e"
            ],
            [
             0.4444444444444444,
             "#bd3786"
            ],
            [
             0.5555555555555556,
             "#d8576b"
            ],
            [
             0.6666666666666666,
             "#ed7953"
            ],
            [
             0.7777777777777778,
             "#fb9f3a"
            ],
            [
             0.8888888888888888,
             "#fdca26"
            ],
            [
             1,
             "#f0f921"
            ]
           ]
          },
          "colorway": [
           "#636efa",
           "#EF553B",
           "#00cc96",
           "#ab63fa",
           "#FFA15A",
           "#19d3f3",
           "#FF6692",
           "#B6E880",
           "#FF97FF",
           "#FECB52"
          ],
          "font": {
           "color": "#2a3f5f"
          },
          "geo": {
           "bgcolor": "white",
           "lakecolor": "white",
           "landcolor": "white",
           "showlakes": true,
           "showland": true,
           "subunitcolor": "#C8D4E3"
          },
          "hoverlabel": {
           "align": "left"
          },
          "hovermode": "closest",
          "mapbox": {
           "style": "light"
          },
          "paper_bgcolor": "white",
          "plot_bgcolor": "white",
          "polar": {
           "angularaxis": {
            "gridcolor": "#EBF0F8",
            "linecolor": "#EBF0F8",
            "ticks": ""
           },
           "bgcolor": "white",
           "radialaxis": {
            "gridcolor": "#EBF0F8",
            "linecolor": "#EBF0F8",
            "ticks": ""
           }
          },
          "scene": {
           "xaxis": {
            "backgroundcolor": "white",
            "gridcolor": "#DFE8F3",
            "gridwidth": 2,
            "linecolor": "#EBF0F8",
            "showbackground": true,
            "ticks": "",
            "zerolinecolor": "#EBF0F8"
           },
           "yaxis": {
            "backgroundcolor": "white",
            "gridcolor": "#DFE8F3",
            "gridwidth": 2,
            "linecolor": "#EBF0F8",
            "showbackground": true,
            "ticks": "",
            "zerolinecolor": "#EBF0F8"
           },
           "zaxis": {
            "backgroundcolor": "white",
            "gridcolor": "#DFE8F3",
            "gridwidth": 2,
            "linecolor": "#EBF0F8",
            "showbackground": true,
            "ticks": "",
            "zerolinecolor": "#EBF0F8"
           }
          },
          "shapedefaults": {
           "line": {
            "color": "#2a3f5f"
           }
          },
          "ternary": {
           "aaxis": {
            "gridcolor": "#DFE8F3",
            "linecolor": "#A2B1C6",
            "ticks": ""
           },
           "baxis": {
            "gridcolor": "#DFE8F3",
            "linecolor": "#A2B1C6",
            "ticks": ""
           },
           "bgcolor": "white",
           "caxis": {
            "gridcolor": "#DFE8F3",
            "linecolor": "#A2B1C6",
            "ticks": ""
           }
          },
          "title": {
           "x": 0.05
          },
          "xaxis": {
           "automargin": true,
           "gridcolor": "#EBF0F8",
           "linecolor": "#EBF0F8",
           "ticks": "",
           "title": {
            "standoff": 15
           },
           "zerolinecolor": "#EBF0F8",
           "zerolinewidth": 2
          },
          "yaxis": {
           "automargin": true,
           "gridcolor": "#EBF0F8",
           "linecolor": "#EBF0F8",
           "ticks": "",
           "title": {
            "standoff": 15
           },
           "zerolinecolor": "#EBF0F8",
           "zerolinewidth": 2
          }
         }
        },
        "title": {
         "text": "Nonstationary GEV Return Levels: Kahului"
        },
        "width": 900,
        "xaxis": {
         "linecolor": "black",
         "mirror": true,
         "range": [
          1993,
          2023
         ],
         "showline": true,
         "tickformat": ".0f",
         "title": {
          "text": "Year"
         }
        },
        "yaxis": {
         "linecolor": "black",
         "mirror": true,
         "range": [
          0.04680651317204293,
          0.6243065131720429
         ],
         "showline": true,
         "tickformat": ".1f",
         "title": {
          "text": "Sea level (m, MHHW)"
         }
        }
       }
      }
     },
     "metadata": {},
     "output_type": "display_data"
    }
   ],
   "source": [
    "####INPROGRESS#####\n",
    "\n",
    "\n",
    "import seaborn as sns\n",
    "import matplotlib.colors as mcolors\n",
    "import numpy as np\n",
    "import plotly.graph_objects as go\n",
    "import xarray as xr\n",
    "import os\n",
    "\n",
    "# Load the dataset\n",
    "ds = xr.open_dataset(os.path.join(model_output_dir, ridString, 'RL_muN.nc'))\n",
    "dsMHHW = ds - STNDtoMHHW\n",
    "dsMHHW.attrs['units'] = 'm, MHHW'\n",
    "\n",
    "# Get the first year\n",
    "year0 = dsMHHW['Year'][0].item()\n",
    "\n",
    "# Generate the Seaborn color palette and convert to hex\n",
    "seaborn_palette = sns.color_palette()  # Adjust the palette as needed\n",
    "cmap = [mcolors.to_hex(color) for color in seaborn_palette]\n",
    "\n",
    "# Create Plotly figure\n",
    "fig = go.Figure()\n",
    "\n",
    "yearseval = [2008, 2020]\n",
    "\n",
    "\n",
    "# Layout configuration\n",
    "fig.update_layout(\n",
    "    title=f'Nonstationary GEV Return Levels: {station_name}',\n",
    "    xaxis_title='Year',\n",
    "    yaxis_title='Sea level (m, MHHW)',\n",
    "    yaxis=dict(showline=True,linecolor='black',mirror=True,tickformat='.1f',range=[meanmaxSL - 0.5 * rangemaxSL, meanmaxSL + 0.75 * rangemaxSL]),\n",
    "    xaxis=dict(showline=True,linecolor='black',mirror=True,tickformat='.0f',range=[year0plot, 2023]),\n",
    "    legend_title='Return Period',\n",
    "    legend=dict(\n",
    "        x=1.1,  # Position the legend horizontally\n",
    "        y=1,  # Position the legend at the top\n",
    "    ),    \n",
    "    template='plotly_white',\n",
    "    width = 900,\n",
    "    height = 600\n",
    ")\n",
    "\n",
    "# Plot each return period\n",
    "for i, rp in enumerate(dsMHHW['ReturnPeriod']):\n",
    "    fig.add_trace(go.Scatter(\n",
    "        x=dsMHHW['Year'].values,\n",
    "        y=dsMHHW['ReturnLevel'][i].values,\n",
    "        mode='lines',\n",
    "        line=dict(color=cmap[i], width=2),\n",
    "        name=f'{rp.values}y',\n",
    "        hovertemplate='%{x:.0f}: %{y:.3f} m'\n",
    "    ))\n",
    "    for year in yearseval:\n",
    "        yrval = dsMHHW['ReturnLevel'][i].sel(Year=year).values\n",
    "        std = dsMHHW['RL_high'][i].sel(Year=year).values - yrval\n",
    "        fig.add_trace(go.Scatter(\n",
    "            x=[year],\n",
    "            y=[yrval],\n",
    "            mode='markers+text',\n",
    "            marker=dict(color=cmap[i], size=10),\n",
    "            hovertemplate='%{x:.0f}: %{y:.3f} m',\n",
    "            textposition='top right',\n",
    "            name=f'{year}: {yrval:.2f} ± {std:.3f} m'\n",
    "        ))\n",
    "\n",
    "for i in range(2):\n",
    "    rgba_color = mcolors.to_rgba(cmap[i], alpha=0.2)  # Adjust alpha for transparency\n",
    "    \n",
    "    # Convert the RGBA color to Plotly-friendly format\n",
    "    fillcolor = f'rgba({rgba_color[0]*255}, {rgba_color[1]*255}, {rgba_color[2]*255}, {rgba_color[3]})'\n",
    "    fillcolor0 = f'rgba({rgba_color[0]*255}, {rgba_color[1]*255}, {rgba_color[2]*255}, 0)'\n",
    "\n",
    "    # Add fill between RL_high and RL_low using rgba for transparency\n",
    "    fig.add_trace(go.Scatter(\n",
    "        x=dsMHHW['Year'].values,\n",
    "        y=dsMHHW['RL_high'][i].values,\n",
    "        mode='lines',  # This can be 'none' if you don't want the line, but usually 'lines' is good\n",
    "        line=dict(color=fillcolor0),  # Hide the line if desired\n",
    "        fillcolor=fillcolor,  # Custom RGBA color with transparency\n",
    "        name='Upper Confidence Interval',\n",
    "        showlegend=False,\n",
    "        hoverlabel=dict(\n",
    "            bgcolor=fillcolor,  # Set background color for the hover box\n",
    "            font_color=cmap[i]  # Set font color to match the color map\n",
    "        ),\n",
    "        hovertemplate='%{x:.0f}: %{y:.3f} m'\n",
    "    ))\n",
    "\n",
    "    fig.add_trace(go.Scatter(\n",
    "        x=dsMHHW['Year'].values,\n",
    "        y=dsMHHW['RL_low'][i].values,\n",
    "        mode='lines',  # Again, this can be 'none' if you don't want a line drawn\n",
    "        fill='tonexty',  # This tells Plotly to fill to the previous trace\n",
    "        fillcolor=fillcolor,  # Same fillcolor for consistency\n",
    "        line=dict(color=fillcolor0),  # Hide the line if desired\n",
    "        showlegend=False,\n",
    "        name = 'Lower Confidence Interval',\n",
    "        hoverlabel=dict(\n",
    "            bgcolor=fillcolor,  # Set background color for the hover box\n",
    "            font_color=cmap[i]  # Set font color to match the color map\n",
    "        ),\n",
    "        hovertemplate='%{x:.0f}: %{y:.3f} m'\n",
    "    ))\n",
    "\n",
    "\n",
    "\n",
    "\n",
    "\n",
    "# Assuming `mm` is defined\n",
    "fig.add_trace(go.Scatter(\n",
    "    x=mm['t'].values + year0,\n",
    "    y=mm['monthly_max'].values - STNDtoMHHW,\n",
    "    mode='markers',\n",
    "    marker=dict(color='black', size=5, symbol='cross'),\n",
    "    name='Monthly maxima',\n",
    "    hovertemplate='%{x:.0f}: %{y:.3f} m'\n",
    "))\n",
    "\n",
    "# Save the figure\n",
    "savename = f'TimeDependentReturnValue_{ridString}.html'\n",
    "\n",
    "\n",
    "# Optional: Display the figure\n",
    "fig.show()\n",
    "#save html\n",
    "matrix_dir = Path('../../matrix/plotly')\n",
    "fig.write_html(matrix_dir / savename, full_html=True)\n"
   ]
  },
  {
   "cell_type": "markdown",
   "metadata": {},
   "source": [
    "## Create a combined dataset for further plotting and analysis"
   ]
  },
  {
   "cell_type": "code",
   "execution_count": 100,
   "metadata": {},
   "outputs": [
    {
     "name": "stdout",
     "output_type": "stream",
     "text": [
      "Combined dataset created successfully.\n"
     ]
    }
   ],
   "source": [
    "# One dataset to rule them all\n",
    "\n",
    "# Find all RL_muN.nc files\n",
    "file_pattern = str(model_output_dir / '**/RL_muN.nc')\n",
    "file_paths = glob.glob(file_pattern, recursive=True)\n",
    "\n",
    "# Initialize an empty list to hold each dataset\n",
    "datasets = []\n",
    "\n",
    "for file_path in file_paths:\n",
    "    ds = xr.open_dataset(file_path)\n",
    "    \n",
    "    # Extract important attributes\n",
    "    record_id = int(ds.attrs.get('record_id'))    \n",
    "    station_name = ds.attrs.get('station_name')\n",
    "    x = ds.attrs.get('x')  # Assuming x is stored as an attribute and has varying lengths\n",
    "    \n",
    "    # Ensure 'year' and 'return_level' are coordinates and are preserved\n",
    "    year = ds['year'] if 'year' in ds else ds.coords.get('year')\n",
    "    return_level = ds['return_level'] if 'return_level' in ds else ds.coords.get('return_level')\n",
    "    \n",
    "    # Expand the dataset with the 'station' dimension (coordinate)\n",
    "    ds = ds.expand_dims({'record_id': [record_id]})\n",
    "    \n",
    "    # Store x as a variable with its own dimension (e.g., 'x_dim')\n",
    "    ds['x'] = xr.DataArray(x, dims=['x_dim'])\n",
    "    \n",
    "    # Keep station_name as an attribute of the dataset\n",
    "    ds.attrs['station_name'] = station_name\n",
    "    \n",
    "    # Add the dataset to the list\n",
    "    datasets.append(ds)\n",
    "\n",
    "# Combine all datasets along the 'station' dimension\n",
    "try:\n",
    "    combined_ds = xr.concat(datasets, dim='record_id', combine_attrs='override')\n",
    "    print(\"Combined dataset created successfully.\")\n",
    "except Exception as e:\n",
    "    print(f\"An error occurred during dataset concatenation: {e}\")\n",
    "\n",
    "# remove attributes that are not needed\n",
    "attributes_to_remove = ['station_name', 'model_parameters', 'model_standard_error', 'model', 'x', 'record_id']\n",
    "for attr in attributes_to_remove:\n",
    "    combined_ds.attrs.pop(attr, None)"
   ]
  },
  {
   "cell_type": "code",
   "execution_count": 101,
   "metadata": {},
   "outputs": [
    {
     "data": {
      "text/html": [
       "<div><svg style=\"position: absolute; width: 0; height: 0; overflow: hidden\">\n",
       "<defs>\n",
       "<symbol id=\"icon-database\" viewBox=\"0 0 32 32\">\n",
       "<path d=\"M16 0c-8.837 0-16 2.239-16 5v4c0 2.761 7.163 5 16 5s16-2.239 16-5v-4c0-2.761-7.163-5-16-5z\"></path>\n",
       "<path d=\"M16 17c-8.837 0-16-2.239-16-5v6c0 2.761 7.163 5 16 5s16-2.239 16-5v-6c0 2.761-7.163 5-16 5z\"></path>\n",
       "<path d=\"M16 26c-8.837 0-16-2.239-16-5v6c0 2.761 7.163 5 16 5s16-2.239 16-5v-6c0 2.761-7.163 5-16 5z\"></path>\n",
       "</symbol>\n",
       "<symbol id=\"icon-file-text2\" viewBox=\"0 0 32 32\">\n",
       "<path d=\"M28.681 7.159c-0.694-0.947-1.662-2.053-2.724-3.116s-2.169-2.030-3.116-2.724c-1.612-1.182-2.393-1.319-2.841-1.319h-15.5c-1.378 0-2.5 1.121-2.5 2.5v27c0 1.378 1.122 2.5 2.5 2.5h23c1.378 0 2.5-1.122 2.5-2.5v-19.5c0-0.448-0.137-1.23-1.319-2.841zM24.543 5.457c0.959 0.959 1.712 1.825 2.268 2.543h-4.811v-4.811c0.718 0.556 1.584 1.309 2.543 2.268zM28 29.5c0 0.271-0.229 0.5-0.5 0.5h-23c-0.271 0-0.5-0.229-0.5-0.5v-27c0-0.271 0.229-0.5 0.5-0.5 0 0 15.499-0 15.5 0v7c0 0.552 0.448 1 1 1h7v19.5z\"></path>\n",
       "<path d=\"M23 26h-14c-0.552 0-1-0.448-1-1s0.448-1 1-1h14c0.552 0 1 0.448 1 1s-0.448 1-1 1z\"></path>\n",
       "<path d=\"M23 22h-14c-0.552 0-1-0.448-1-1s0.448-1 1-1h14c0.552 0 1 0.448 1 1s-0.448 1-1 1z\"></path>\n",
       "<path d=\"M23 18h-14c-0.552 0-1-0.448-1-1s0.448-1 1-1h14c0.552 0 1 0.448 1 1s-0.448 1-1 1z\"></path>\n",
       "</symbol>\n",
       "</defs>\n",
       "</svg>\n",
       "<style>/* CSS stylesheet for displaying xarray objects in jupyterlab.\n",
       " *\n",
       " */\n",
       "\n",
       ":root {\n",
       "  --xr-font-color0: var(--jp-content-font-color0, rgba(0, 0, 0, 1));\n",
       "  --xr-font-color2: var(--jp-content-font-color2, rgba(0, 0, 0, 0.54));\n",
       "  --xr-font-color3: var(--jp-content-font-color3, rgba(0, 0, 0, 0.38));\n",
       "  --xr-border-color: var(--jp-border-color2, #e0e0e0);\n",
       "  --xr-disabled-color: var(--jp-layout-color3, #bdbdbd);\n",
       "  --xr-background-color: var(--jp-layout-color0, white);\n",
       "  --xr-background-color-row-even: var(--jp-layout-color1, white);\n",
       "  --xr-background-color-row-odd: var(--jp-layout-color2, #eeeeee);\n",
       "}\n",
       "\n",
       "html[theme=dark],\n",
       "body[data-theme=dark],\n",
       "body.vscode-dark {\n",
       "  --xr-font-color0: rgba(255, 255, 255, 1);\n",
       "  --xr-font-color2: rgba(255, 255, 255, 0.54);\n",
       "  --xr-font-color3: rgba(255, 255, 255, 0.38);\n",
       "  --xr-border-color: #1F1F1F;\n",
       "  --xr-disabled-color: #515151;\n",
       "  --xr-background-color: #111111;\n",
       "  --xr-background-color-row-even: #111111;\n",
       "  --xr-background-color-row-odd: #313131;\n",
       "}\n",
       "\n",
       ".xr-wrap {\n",
       "  display: block !important;\n",
       "  min-width: 300px;\n",
       "  max-width: 700px;\n",
       "}\n",
       "\n",
       ".xr-text-repr-fallback {\n",
       "  /* fallback to plain text repr when CSS is not injected (untrusted notebook) */\n",
       "  display: none;\n",
       "}\n",
       "\n",
       ".xr-header {\n",
       "  padding-top: 6px;\n",
       "  padding-bottom: 6px;\n",
       "  margin-bottom: 4px;\n",
       "  border-bottom: solid 1px var(--xr-border-color);\n",
       "}\n",
       "\n",
       ".xr-header > div,\n",
       ".xr-header > ul {\n",
       "  display: inline;\n",
       "  margin-top: 0;\n",
       "  margin-bottom: 0;\n",
       "}\n",
       "\n",
       ".xr-obj-type,\n",
       ".xr-array-name {\n",
       "  margin-left: 2px;\n",
       "  margin-right: 10px;\n",
       "}\n",
       "\n",
       ".xr-obj-type {\n",
       "  color: var(--xr-font-color2);\n",
       "}\n",
       "\n",
       ".xr-sections {\n",
       "  padding-left: 0 !important;\n",
       "  display: grid;\n",
       "  grid-template-columns: 150px auto auto 1fr 20px 20px;\n",
       "}\n",
       "\n",
       ".xr-section-item {\n",
       "  display: contents;\n",
       "}\n",
       "\n",
       ".xr-section-item input {\n",
       "  display: none;\n",
       "}\n",
       "\n",
       ".xr-section-item input + label {\n",
       "  color: var(--xr-disabled-color);\n",
       "}\n",
       "\n",
       ".xr-section-item input:enabled + label {\n",
       "  cursor: pointer;\n",
       "  color: var(--xr-font-color2);\n",
       "}\n",
       "\n",
       ".xr-section-item input:enabled + label:hover {\n",
       "  color: var(--xr-font-color0);\n",
       "}\n",
       "\n",
       ".xr-section-summary {\n",
       "  grid-column: 1;\n",
       "  color: var(--xr-font-color2);\n",
       "  font-weight: 500;\n",
       "}\n",
       "\n",
       ".xr-section-summary > span {\n",
       "  display: inline-block;\n",
       "  padding-left: 0.5em;\n",
       "}\n",
       "\n",
       ".xr-section-summary-in:disabled + label {\n",
       "  color: var(--xr-font-color2);\n",
       "}\n",
       "\n",
       ".xr-section-summary-in + label:before {\n",
       "  display: inline-block;\n",
       "  content: '►';\n",
       "  font-size: 11px;\n",
       "  width: 15px;\n",
       "  text-align: center;\n",
       "}\n",
       "\n",
       ".xr-section-summary-in:disabled + label:before {\n",
       "  color: var(--xr-disabled-color);\n",
       "}\n",
       "\n",
       ".xr-section-summary-in:checked + label:before {\n",
       "  content: '▼';\n",
       "}\n",
       "\n",
       ".xr-section-summary-in:checked + label > span {\n",
       "  display: none;\n",
       "}\n",
       "\n",
       ".xr-section-summary,\n",
       ".xr-section-inline-details {\n",
       "  padding-top: 4px;\n",
       "  padding-bottom: 4px;\n",
       "}\n",
       "\n",
       ".xr-section-inline-details {\n",
       "  grid-column: 2 / -1;\n",
       "}\n",
       "\n",
       ".xr-section-details {\n",
       "  display: none;\n",
       "  grid-column: 1 / -1;\n",
       "  margin-bottom: 5px;\n",
       "}\n",
       "\n",
       ".xr-section-summary-in:checked ~ .xr-section-details {\n",
       "  display: contents;\n",
       "}\n",
       "\n",
       ".xr-array-wrap {\n",
       "  grid-column: 1 / -1;\n",
       "  display: grid;\n",
       "  grid-template-columns: 20px auto;\n",
       "}\n",
       "\n",
       ".xr-array-wrap > label {\n",
       "  grid-column: 1;\n",
       "  vertical-align: top;\n",
       "}\n",
       "\n",
       ".xr-preview {\n",
       "  color: var(--xr-font-color3);\n",
       "}\n",
       "\n",
       ".xr-array-preview,\n",
       ".xr-array-data {\n",
       "  padding: 0 5px !important;\n",
       "  grid-column: 2;\n",
       "}\n",
       "\n",
       ".xr-array-data,\n",
       ".xr-array-in:checked ~ .xr-array-preview {\n",
       "  display: none;\n",
       "}\n",
       "\n",
       ".xr-array-in:checked ~ .xr-array-data,\n",
       ".xr-array-preview {\n",
       "  display: inline-block;\n",
       "}\n",
       "\n",
       ".xr-dim-list {\n",
       "  display: inline-block !important;\n",
       "  list-style: none;\n",
       "  padding: 0 !important;\n",
       "  margin: 0;\n",
       "}\n",
       "\n",
       ".xr-dim-list li {\n",
       "  display: inline-block;\n",
       "  padding: 0;\n",
       "  margin: 0;\n",
       "}\n",
       "\n",
       ".xr-dim-list:before {\n",
       "  content: '(';\n",
       "}\n",
       "\n",
       ".xr-dim-list:after {\n",
       "  content: ')';\n",
       "}\n",
       "\n",
       ".xr-dim-list li:not(:last-child):after {\n",
       "  content: ',';\n",
       "  padding-right: 5px;\n",
       "}\n",
       "\n",
       ".xr-has-index {\n",
       "  font-weight: bold;\n",
       "}\n",
       "\n",
       ".xr-var-list,\n",
       ".xr-var-item {\n",
       "  display: contents;\n",
       "}\n",
       "\n",
       ".xr-var-item > div,\n",
       ".xr-var-item label,\n",
       ".xr-var-item > .xr-var-name span {\n",
       "  background-color: var(--xr-background-color-row-even);\n",
       "  margin-bottom: 0;\n",
       "}\n",
       "\n",
       ".xr-var-item > .xr-var-name:hover span {\n",
       "  padding-right: 5px;\n",
       "}\n",
       "\n",
       ".xr-var-list > li:nth-child(odd) > div,\n",
       ".xr-var-list > li:nth-child(odd) > label,\n",
       ".xr-var-list > li:nth-child(odd) > .xr-var-name span {\n",
       "  background-color: var(--xr-background-color-row-odd);\n",
       "}\n",
       "\n",
       ".xr-var-name {\n",
       "  grid-column: 1;\n",
       "}\n",
       "\n",
       ".xr-var-dims {\n",
       "  grid-column: 2;\n",
       "}\n",
       "\n",
       ".xr-var-dtype {\n",
       "  grid-column: 3;\n",
       "  text-align: right;\n",
       "  color: var(--xr-font-color2);\n",
       "}\n",
       "\n",
       ".xr-var-preview {\n",
       "  grid-column: 4;\n",
       "}\n",
       "\n",
       ".xr-index-preview {\n",
       "  grid-column: 2 / 5;\n",
       "  color: var(--xr-font-color2);\n",
       "}\n",
       "\n",
       ".xr-var-name,\n",
       ".xr-var-dims,\n",
       ".xr-var-dtype,\n",
       ".xr-preview,\n",
       ".xr-attrs dt {\n",
       "  white-space: nowrap;\n",
       "  overflow: hidden;\n",
       "  text-overflow: ellipsis;\n",
       "  padding-right: 10px;\n",
       "}\n",
       "\n",
       ".xr-var-name:hover,\n",
       ".xr-var-dims:hover,\n",
       ".xr-var-dtype:hover,\n",
       ".xr-attrs dt:hover {\n",
       "  overflow: visible;\n",
       "  width: auto;\n",
       "  z-index: 1;\n",
       "}\n",
       "\n",
       ".xr-var-attrs,\n",
       ".xr-var-data,\n",
       ".xr-index-data {\n",
       "  display: none;\n",
       "  background-color: var(--xr-background-color) !important;\n",
       "  padding-bottom: 5px !important;\n",
       "}\n",
       "\n",
       ".xr-var-attrs-in:checked ~ .xr-var-attrs,\n",
       ".xr-var-data-in:checked ~ .xr-var-data,\n",
       ".xr-index-data-in:checked ~ .xr-index-data {\n",
       "  display: block;\n",
       "}\n",
       "\n",
       ".xr-var-data > table {\n",
       "  float: right;\n",
       "}\n",
       "\n",
       ".xr-var-name span,\n",
       ".xr-var-data,\n",
       ".xr-index-name div,\n",
       ".xr-index-data,\n",
       ".xr-attrs {\n",
       "  padding-left: 25px !important;\n",
       "}\n",
       "\n",
       ".xr-attrs,\n",
       ".xr-var-attrs,\n",
       ".xr-var-data,\n",
       ".xr-index-data {\n",
       "  grid-column: 1 / -1;\n",
       "}\n",
       "\n",
       "dl.xr-attrs {\n",
       "  padding: 0;\n",
       "  margin: 0;\n",
       "  display: grid;\n",
       "  grid-template-columns: 125px auto;\n",
       "}\n",
       "\n",
       ".xr-attrs dt,\n",
       ".xr-attrs dd {\n",
       "  padding: 0;\n",
       "  margin: 0;\n",
       "  float: left;\n",
       "  padding-right: 10px;\n",
       "  width: auto;\n",
       "}\n",
       "\n",
       ".xr-attrs dt {\n",
       "  font-weight: normal;\n",
       "  grid-column: 1;\n",
       "}\n",
       "\n",
       ".xr-attrs dt:hover span {\n",
       "  display: inline-block;\n",
       "  background: var(--xr-background-color);\n",
       "  padding-right: 10px;\n",
       "}\n",
       "\n",
       ".xr-attrs dd {\n",
       "  grid-column: 2;\n",
       "  white-space: pre-wrap;\n",
       "  word-break: break-all;\n",
       "}\n",
       "\n",
       ".xr-icon-database,\n",
       ".xr-icon-file-text2,\n",
       ".xr-no-icon {\n",
       "  display: inline-block;\n",
       "  vertical-align: middle;\n",
       "  width: 1em;\n",
       "  height: 1.5em !important;\n",
       "  stroke-width: 0;\n",
       "  stroke: currentColor;\n",
       "  fill: currentColor;\n",
       "}\n",
       "</style><pre class='xr-text-repr-fallback'>&lt;xarray.Dataset&gt; Size: 25kB\n",
       "Dimensions:       (record_id: 8, ReturnPeriod: 4, Year: 31, x_dim: 7)\n",
       "Coordinates:\n",
       "  * record_id     (record_id) int64 64B 50 52 552 57 58 59 60 61\n",
       "  * Year          (Year) float64 248B 1.993e+03 1.994e+03 ... 2.023e+03\n",
       "  * ReturnPeriod  (ReturnPeriod) int64 32B 2 10 50 100\n",
       "Dimensions without coordinates: x_dim\n",
       "Data variables:\n",
       "    ReturnLevel   (record_id, ReturnPeriod, Year) float64 8kB 1.609 ... 2.062\n",
       "    RL_low        (record_id, ReturnPeriod, Year) float64 8kB 1.53 ... 1.959\n",
       "    RL_high       (record_id, ReturnPeriod, Year) float64 8kB 1.687 ... 2.165\n",
       "    x             (record_id, x_dim) int64 448B 1 1 0 1 0 1 0 ... 1 1 0 1 0 0 1\n",
       "    lat           (record_id) float32 32B 28.22 16.75 20.03 ... 20.9 19.73 21.43\n",
       "    lon           (record_id) float32 32B 182.6 190.5 204.2 ... 204.9 202.2\n",
       "    MHHW          (record_id) float64 64B 1.204 1.225 1.406 ... 1.912 1.533\n",
       "    station_name  (record_id) &lt;U17 544B &#x27;Midway&#x27; &#x27;Johnston&#x27; ... &#x27;Mokuoloe&#x27;\n",
       "Attributes:\n",
       "    description:  Time-dependent return values for the GEV model with seasona...\n",
       "    datum:        STND\n",
       "    units:        m</pre><div class='xr-wrap' style='display:none'><div class='xr-header'><div class='xr-obj-type'>xarray.Dataset</div></div><ul class='xr-sections'><li class='xr-section-item'><input id='section-b21c5be2-4547-48b4-8613-535135846ec9' class='xr-section-summary-in' type='checkbox' disabled ><label for='section-b21c5be2-4547-48b4-8613-535135846ec9' class='xr-section-summary'  title='Expand/collapse section'>Dimensions:</label><div class='xr-section-inline-details'><ul class='xr-dim-list'><li><span class='xr-has-index'>record_id</span>: 8</li><li><span class='xr-has-index'>ReturnPeriod</span>: 4</li><li><span class='xr-has-index'>Year</span>: 31</li><li><span>x_dim</span>: 7</li></ul></div><div class='xr-section-details'></div></li><li class='xr-section-item'><input id='section-5725f257-4616-416c-8e94-1c91c6fdd2e7' class='xr-section-summary-in' type='checkbox'  checked><label for='section-5725f257-4616-416c-8e94-1c91c6fdd2e7' class='xr-section-summary' >Coordinates: <span>(3)</span></label><div class='xr-section-inline-details'></div><div class='xr-section-details'><ul class='xr-var-list'><li class='xr-var-item'><div class='xr-var-name'><span class='xr-has-index'>record_id</span></div><div class='xr-var-dims'>(record_id)</div><div class='xr-var-dtype'>int64</div><div class='xr-var-preview xr-preview'>50 52 552 57 58 59 60 61</div><input id='attrs-2629f2e6-3321-42fb-89de-c326cb30c4d6' class='xr-var-attrs-in' type='checkbox' disabled><label for='attrs-2629f2e6-3321-42fb-89de-c326cb30c4d6' title='Show/Hide attributes'><svg class='icon xr-icon-file-text2'><use xlink:href='#icon-file-text2'></use></svg></label><input id='data-372a4213-b1b4-41b2-815a-bfa9076aff71' class='xr-var-data-in' type='checkbox'><label for='data-372a4213-b1b4-41b2-815a-bfa9076aff71' title='Show/Hide data repr'><svg class='icon xr-icon-database'><use xlink:href='#icon-database'></use></svg></label><div class='xr-var-attrs'><dl class='xr-attrs'></dl></div><div class='xr-var-data'><pre>array([ 50,  52, 552,  57,  58,  59,  60,  61])</pre></div></li><li class='xr-var-item'><div class='xr-var-name'><span class='xr-has-index'>Year</span></div><div class='xr-var-dims'>(Year)</div><div class='xr-var-dtype'>float64</div><div class='xr-var-preview xr-preview'>1.993e+03 1.994e+03 ... 2.023e+03</div><input id='attrs-f0f5cb1e-4605-496f-a2fc-144716e7b735' class='xr-var-attrs-in' type='checkbox' disabled><label for='attrs-f0f5cb1e-4605-496f-a2fc-144716e7b735' title='Show/Hide attributes'><svg class='icon xr-icon-file-text2'><use xlink:href='#icon-file-text2'></use></svg></label><input id='data-5db3dfc6-7af1-4431-91ba-175ad4656f2d' class='xr-var-data-in' type='checkbox'><label for='data-5db3dfc6-7af1-4431-91ba-175ad4656f2d' title='Show/Hide data repr'><svg class='icon xr-icon-database'><use xlink:href='#icon-database'></use></svg></label><div class='xr-var-attrs'><dl class='xr-attrs'></dl></div><div class='xr-var-data'><pre>array([1993., 1994., 1995., 1996., 1997., 1998., 1999., 2000., 2001., 2002.,\n",
       "       2003., 2004., 2005., 2006., 2007., 2008., 2009., 2010., 2011., 2012.,\n",
       "       2013., 2014., 2015., 2016., 2017., 2018., 2019., 2020., 2021., 2022.,\n",
       "       2023.])</pre></div></li><li class='xr-var-item'><div class='xr-var-name'><span class='xr-has-index'>ReturnPeriod</span></div><div class='xr-var-dims'>(ReturnPeriod)</div><div class='xr-var-dtype'>int64</div><div class='xr-var-preview xr-preview'>2 10 50 100</div><input id='attrs-46d6d0b8-9c25-4884-baaf-4e7da2dea896' class='xr-var-attrs-in' type='checkbox' disabled><label for='attrs-46d6d0b8-9c25-4884-baaf-4e7da2dea896' title='Show/Hide attributes'><svg class='icon xr-icon-file-text2'><use xlink:href='#icon-file-text2'></use></svg></label><input id='data-ab5508eb-4c30-4eda-ad17-b19d24372442' class='xr-var-data-in' type='checkbox'><label for='data-ab5508eb-4c30-4eda-ad17-b19d24372442' title='Show/Hide data repr'><svg class='icon xr-icon-database'><use xlink:href='#icon-database'></use></svg></label><div class='xr-var-attrs'><dl class='xr-attrs'></dl></div><div class='xr-var-data'><pre>array([  2,  10,  50, 100])</pre></div></li></ul></div></li><li class='xr-section-item'><input id='section-c6e2666a-efd3-4a64-92c4-7115ca70879f' class='xr-section-summary-in' type='checkbox'  checked><label for='section-c6e2666a-efd3-4a64-92c4-7115ca70879f' class='xr-section-summary' >Data variables: <span>(8)</span></label><div class='xr-section-inline-details'></div><div class='xr-section-details'><ul class='xr-var-list'><li class='xr-var-item'><div class='xr-var-name'><span>ReturnLevel</span></div><div class='xr-var-dims'>(record_id, ReturnPeriod, Year)</div><div class='xr-var-dtype'>float64</div><div class='xr-var-preview xr-preview'>1.609 1.616 1.608 ... 2.062 2.062</div><input id='attrs-fbffe333-6571-4379-a677-e0ca346ab0f0' class='xr-var-attrs-in' type='checkbox' disabled><label for='attrs-fbffe333-6571-4379-a677-e0ca346ab0f0' title='Show/Hide attributes'><svg class='icon xr-icon-file-text2'><use xlink:href='#icon-file-text2'></use></svg></label><input id='data-0b9f6b33-bb7e-4bb2-b0ab-5ed8d1383d8a' class='xr-var-data-in' type='checkbox'><label for='data-0b9f6b33-bb7e-4bb2-b0ab-5ed8d1383d8a' title='Show/Hide data repr'><svg class='icon xr-icon-database'><use xlink:href='#icon-database'></use></svg></label><div class='xr-var-attrs'><dl class='xr-attrs'></dl></div><div class='xr-var-data'><pre>array([[[1.60863699, 1.6164796 , 1.60819215, 1.60250053, 1.63817341,\n",
       "         1.62372674, 1.5968824 , 1.60742884, 1.62159594, 1.64261855,\n",
       "         1.64337426, 1.64810082, 1.64209168, 1.64594998, 1.63799074,\n",
       "         1.63341748, 1.6611676 , 1.65371707, 1.64144892, 1.65920982,\n",
       "         1.66185377, 1.67298777, 1.70508639, 1.69000438, 1.67402457,\n",
       "         1.68434789, 1.69921924, 1.68531464, 1.67824819, 1.6801307 ,\n",
       "         1.71711954],\n",
       "        [1.75893306, 1.77083993, 1.75769288, 1.74224171, 1.80258119,\n",
       "         1.78476635, 1.72637454, 1.74193967, 1.76381352, 1.79690893,\n",
       "         1.79793964, 1.80219363, 1.79109389, 1.79519081, 1.78267902,\n",
       "         1.76816088, 1.81500545, 1.80704927, 1.77458265, 1.80208327,\n",
       "         1.80537609, 1.82199544, 1.87430184, 1.85341469, 1.81593549,\n",
       "         1.83298329, 1.85505646, 1.83161195, 1.81420091, 1.81633048,\n",
       "         1.87705349],\n",
       "        [1.87941691, 1.89508115, 1.87965784, 1.85427129, 1.93757487,\n",
       "         1.92066266, 1.83013878, 1.84989323, 1.87784605, 1.92109237,\n",
       "         1.92250803, 1.92593648, 1.91164039, 1.91618147, 1.90145173,\n",
       "         1.87654489, 1.94062864, 1.93532074, 1.88123394, 1.91669333,\n",
       "         1.92053123, 1.9419794 , 2.0118368 , 1.98925898, 1.92975366,\n",
       "         1.95358568, 1.98034189, 1.95070135, 1.92310149, 1.92572532,\n",
       "...\n",
       "         1.92299997, 1.93152463, 1.93948872, 1.94649667, 1.95188766,\n",
       "         1.95531356, 1.95664562, 1.95598776, 1.95366546, 1.95019105,\n",
       "         1.94632195, 1.94253789, 1.93963982, 1.93821849, 1.93869856,\n",
       "         1.941288  , 1.94595295, 1.95242172, 1.9602173 , 1.96871388,\n",
       "         1.97720985, 1.98500803, 1.99149373, 1.99620197, 1.99886741,\n",
       "         1.99945216],\n",
       "        [1.9424434 , 1.94417151, 1.94802045, 1.95392822, 1.96124137,\n",
       "         1.96950008, 1.97802027, 1.98596861, 1.99294617, 1.99830137,\n",
       "         2.00169231, 2.00299526, 2.00231696, 1.99998327, 1.99650533,\n",
       "         1.99263216, 1.98885646, 1.98597262, 1.98457212, 1.98507973,\n",
       "         1.98770173, 1.99240041, 1.99889862, 2.00671364, 2.01521539,\n",
       "         2.02370078, 2.03147446, 2.03792639, 2.04259781, 2.04522938,\n",
       "         2.04578754],\n",
       "        [1.95876474, 1.96050782, 1.96437342, 1.97029569, 1.97762104,\n",
       "         1.98588547, 1.99440348, 2.00234323, 2.00930542, 2.01464258,\n",
       "         2.018016  , 2.01930455, 2.01861634, 2.0162773 , 2.01279781,\n",
       "         2.00892331, 2.00515153, 2.00227439, 2.00088388, 2.00140496,\n",
       "         2.00404318, 2.00875887, 2.01527205, 2.02309705, 2.03160153,\n",
       "         2.04008163, 2.04784293, 2.05427781, 2.05893071, 2.06154538,\n",
       "         2.06209048]]])</pre></div></li><li class='xr-var-item'><div class='xr-var-name'><span>RL_low</span></div><div class='xr-var-dims'>(record_id, ReturnPeriod, Year)</div><div class='xr-var-dtype'>float64</div><div class='xr-var-preview xr-preview'>1.53 1.523 1.528 ... 1.96 1.959</div><input id='attrs-839d63ef-fdde-454f-a294-b41af80175f1' class='xr-var-attrs-in' type='checkbox' disabled><label for='attrs-839d63ef-fdde-454f-a294-b41af80175f1' title='Show/Hide attributes'><svg class='icon xr-icon-file-text2'><use xlink:href='#icon-file-text2'></use></svg></label><input id='data-b2c9f593-3ac4-47a3-8587-e3fe3d85bae3' class='xr-var-data-in' type='checkbox'><label for='data-b2c9f593-3ac4-47a3-8587-e3fe3d85bae3' title='Show/Hide data repr'><svg class='icon xr-icon-database'><use xlink:href='#icon-database'></use></svg></label><div class='xr-var-attrs'><dl class='xr-attrs'></dl></div><div class='xr-var-data'><pre>array([[[1.53003573, 1.52312742, 1.52773245, 1.53423916, 1.51796821,\n",
       "         1.528523  , 1.5471733 , 1.54556602, 1.54223767, 1.53541464,\n",
       "         1.54036812, 1.54159212, 1.54802915, 1.55173891, 1.5590224 ,\n",
       "         1.56685138, 1.55767568, 1.56489149, 1.57588409, 1.57140338,\n",
       "         1.57548464, 1.57447376, 1.56206235, 1.5746589 , 1.58635558,\n",
       "         1.58772108, 1.58443269, 1.59542706, 1.60428029, 1.60900824,\n",
       "         1.59382529],\n",
       "        [1.6068489 , 1.59401929, 1.60068154, 1.61828472, 1.57159379,\n",
       "         1.58426468, 1.6417376 , 1.63271639, 1.62045719, 1.60042836,\n",
       "         1.6076336 , 1.6078251 , 1.61683539, 1.62130377, 1.63106515,\n",
       "         1.65027721, 1.62193777, 1.62686031, 1.66029789, 1.64486407,\n",
       "         1.65018088, 1.64364513, 1.61127787, 1.62899549, 1.65906626,\n",
       "         1.65601996, 1.64716407, 1.66419793, 1.68418255, 1.69006054,\n",
       "         1.64900239],\n",
       "        [1.65185442, 1.63275777, 1.6400535 , 1.67418594, 1.58891775,\n",
       "         1.60208716, 1.71327403, 1.69386718, 1.67084516, 1.63456955,\n",
       "         1.64425945, 1.64406783, 1.65505774, 1.65965441, 1.67096163,\n",
       "         1.70772505, 1.65322419, 1.6531507 , 1.72072727, 1.690599  ,\n",
       "         1.69753887, 1.68364554, 1.6268515 , 1.64753326, 1.70452277,\n",
       "         1.69367646, 1.68019574, 1.70255024, 1.73946747, 1.74626601,\n",
       "...\n",
       "         1.85185873, 1.86378262, 1.87480459, 1.88397583, 1.89039894,\n",
       "         1.89356799, 1.89333401, 1.88991195, 1.88386417, 1.87605424,\n",
       "         1.86761053, 1.85962578, 1.85329526, 1.84959298, 1.8491957 ,\n",
       "         1.8523956 , 1.85906098, 1.86865127, 1.88028462, 1.89284876,\n",
       "         1.90513972, 1.91600856, 1.92449348, 1.92991788, 1.93194581,\n",
       "         1.93060049],\n",
       "        [1.8487548 , 1.84420673, 1.84657384, 1.85325144, 1.86285696,\n",
       "         1.87421069, 1.88604184, 1.8970592 , 1.90629452, 1.91283772,\n",
       "         1.91614784, 1.91603699, 1.91268912, 1.90664946, 1.8987776 ,\n",
       "         1.89019473, 1.8820335 , 1.87549342, 1.871567  , 1.87094708,\n",
       "         1.87393714, 1.88041233, 1.88983768, 1.90134028, 1.91382285,\n",
       "         1.92610012, 1.93703703, 1.9456698 , 1.95129826, 1.95354651,\n",
       "         1.9523952 ],\n",
       "        [1.85623296, 1.85142992, 1.85366127, 1.86025408, 1.8698133 ,\n",
       "         1.88114352, 1.89296809, 1.9039959 , 1.91324718, 1.91980998,\n",
       "         1.92313641, 1.92303183, 1.91967506, 1.91360844, 1.90569108,\n",
       "         1.89704045, 1.88880603, 1.8821889 , 1.87818984, 1.87750877,\n",
       "         1.88045322, 1.88689894, 1.89630919, 1.90780885, 1.92029953,\n",
       "         1.93259606, 1.94356321, 1.95223488, 1.95790558, 1.96019207,\n",
       "         1.95906753]]])</pre></div></li><li class='xr-var-item'><div class='xr-var-name'><span>RL_high</span></div><div class='xr-var-dims'>(record_id, ReturnPeriod, Year)</div><div class='xr-var-dtype'>float64</div><div class='xr-var-preview xr-preview'>1.687 1.71 1.689 ... 2.163 2.165</div><input id='attrs-35816aa9-4ab8-4ffe-97a1-7132c9fe9979' class='xr-var-attrs-in' type='checkbox' disabled><label for='attrs-35816aa9-4ab8-4ffe-97a1-7132c9fe9979' title='Show/Hide attributes'><svg class='icon xr-icon-file-text2'><use xlink:href='#icon-file-text2'></use></svg></label><input id='data-77287378-9c3f-4fa4-a943-9b08cba303b2' class='xr-var-data-in' type='checkbox'><label for='data-77287378-9c3f-4fa4-a943-9b08cba303b2' title='Show/Hide data repr'><svg class='icon xr-icon-database'><use xlink:href='#icon-database'></use></svg></label><div class='xr-var-attrs'><dl class='xr-attrs'></dl></div><div class='xr-var-data'><pre>array([[[1.68723826, 1.70983178, 1.68865185, 1.6707619 , 1.75837862,\n",
       "         1.71893047, 1.64659151, 1.66929165, 1.70095422, 1.74982246,\n",
       "         1.74638041, 1.75460951, 1.73615421, 1.74016105, 1.71695909,\n",
       "         1.69998358, 1.76465953, 1.74254264, 1.70701376, 1.74701627,\n",
       "         1.74822289, 1.77150179, 1.84811043, 1.80534986, 1.76169356,\n",
       "         1.7809747 , 1.81400579, 1.77520223, 1.75221609, 1.75125315,\n",
       "         1.84041379],\n",
       "        [1.91101722, 1.94766057, 1.91470422, 1.8661987 , 2.03356859,\n",
       "         1.98526803, 1.81101149, 1.85116295, 1.90716986, 1.9933895 ,\n",
       "         1.98824569, 1.99656217, 1.9653524 , 1.96907786, 1.93429289,\n",
       "         1.88604456, 2.00807313, 1.98723824, 1.88886741, 1.95930248,\n",
       "         1.96057129, 2.00034576, 2.13732581, 2.07783389, 1.97280473,\n",
       "         2.00994661, 2.06294886, 1.99902596, 1.94421928, 1.94260042,\n",
       "         2.10510459],\n",
       "        [2.1069794 , 2.15740452, 2.11926218, 2.03435664, 2.28623198,\n",
       "         2.23923817, 1.94700353, 2.00591929, 2.08484693, 2.20761519,\n",
       "         2.20075662, 2.20780512, 2.16822303, 2.17270854, 2.13194183,\n",
       "         2.04536473, 2.22803309, 2.21749078, 2.0417406 , 2.14278766,\n",
       "         2.14352359, 2.20031325, 2.39682209, 2.33098469, 2.15498456,\n",
       "         2.21349491, 2.28048804, 2.19885246, 2.10673551, 2.10518463,\n",
       "...\n",
       "         1.99414121, 1.99926664, 2.00417285, 2.0090175 , 2.01337638,\n",
       "         2.01705914, 2.01995723, 2.02206358, 2.02346675, 2.02432786,\n",
       "         2.02503336, 2.02545   , 2.02598438, 2.026844  , 2.02820142,\n",
       "         2.0301804 , 2.03284493, 2.03619217, 2.04014997, 2.044579  ,\n",
       "         2.04927997, 2.0540075 , 2.05849397, 2.06248606, 2.06578901,\n",
       "         2.06830383],\n",
       "        [2.03613199, 2.04413628, 2.04946706, 2.054605  , 2.05962578,\n",
       "         2.06478947, 2.06999869, 2.07487802, 2.07959782, 2.08376503,\n",
       "         2.08723678, 2.08995353, 2.0919448 , 2.09331709, 2.09423305,\n",
       "         2.09506959, 2.09567941, 2.09645181, 2.09757724, 2.09921239,\n",
       "         2.10146633, 2.1043885 , 2.10795956, 2.11208699, 2.11660793,\n",
       "         2.12130143, 2.12591188, 2.13018297, 2.13389736, 2.13691224,\n",
       "         2.13917989],\n",
       "        [2.06129653, 2.06958571, 2.07508557, 2.08033729, 2.08542878,\n",
       "         2.09062741, 2.09583887, 2.10069056, 2.10536367, 2.10947518,\n",
       "         2.11289558, 2.11557727, 2.11755761, 2.11894615, 2.11990455,\n",
       "         2.12080617, 2.12149703, 2.12235987, 2.12357791, 2.12530116,\n",
       "         2.12763313, 2.1306188 , 2.13423492, 2.13838524, 2.14290354,\n",
       "         2.1475672 , 2.15212266, 2.15632074, 2.15995584, 2.1628987 ,\n",
       "         2.16511343]]])</pre></div></li><li class='xr-var-item'><div class='xr-var-name'><span>x</span></div><div class='xr-var-dims'>(record_id, x_dim)</div><div class='xr-var-dtype'>int64</div><div class='xr-var-preview xr-preview'>1 1 0 1 0 1 0 1 ... 1 1 1 0 1 0 0 1</div><input id='attrs-016c8276-f565-48fe-9599-624fc4e19a63' class='xr-var-attrs-in' type='checkbox' disabled><label for='attrs-016c8276-f565-48fe-9599-624fc4e19a63' title='Show/Hide attributes'><svg class='icon xr-icon-file-text2'><use xlink:href='#icon-file-text2'></use></svg></label><input id='data-e0404860-6e1a-4819-a905-dd6914c172d1' class='xr-var-data-in' type='checkbox'><label for='data-e0404860-6e1a-4819-a905-dd6914c172d1' title='Show/Hide data repr'><svg class='icon xr-icon-database'><use xlink:href='#icon-database'></use></svg></label><div class='xr-var-attrs'><dl class='xr-attrs'></dl></div><div class='xr-var-data'><pre>array([[1, 1, 0, 1, 0, 1, 0],\n",
       "       [1, 0, 1, 0, 0, 0, 1],\n",
       "       [1, 1, 0, 1, 0, 0, 0],\n",
       "       [1, 1, 0, 1, 0, 0, 1],\n",
       "       [1, 1, 0, 1, 0, 1, 1],\n",
       "       [1, 1, 0, 1, 0, 0, 0],\n",
       "       [1, 1, 0, 1, 1, 0, 1],\n",
       "       [1, 1, 0, 1, 0, 0, 1]])</pre></div></li><li class='xr-var-item'><div class='xr-var-name'><span>lat</span></div><div class='xr-var-dims'>(record_id)</div><div class='xr-var-dtype'>float32</div><div class='xr-var-preview xr-preview'>28.22 16.75 20.03 ... 19.73 21.43</div><input id='attrs-3da7cf58-c982-456b-b9c3-33e498d30f0d' class='xr-var-attrs-in' type='checkbox' disabled><label for='attrs-3da7cf58-c982-456b-b9c3-33e498d30f0d' title='Show/Hide attributes'><svg class='icon xr-icon-file-text2'><use xlink:href='#icon-file-text2'></use></svg></label><input id='data-e59dac64-f8e5-41da-9a8c-e9913ee397c4' class='xr-var-data-in' type='checkbox'><label for='data-e59dac64-f8e5-41da-9a8c-e9913ee397c4' title='Show/Hide data repr'><svg class='icon xr-icon-database'><use xlink:href='#icon-database'></use></svg></label><div class='xr-var-attrs'><dl class='xr-attrs'></dl></div><div class='xr-var-data'><pre>array([28.217, 16.75 , 20.033, 21.307, 21.967, 20.9  , 19.733, 21.433],\n",
       "      dtype=float32)</pre></div></li><li class='xr-var-item'><div class='xr-var-name'><span>lon</span></div><div class='xr-var-dims'>(record_id)</div><div class='xr-var-dtype'>float32</div><div class='xr-var-preview xr-preview'>182.6 190.5 204.2 ... 204.9 202.2</div><input id='attrs-187694e3-d613-4ac3-bfac-b6f6e256cb38' class='xr-var-attrs-in' type='checkbox' disabled><label for='attrs-187694e3-d613-4ac3-bfac-b6f6e256cb38' title='Show/Hide attributes'><svg class='icon xr-icon-file-text2'><use xlink:href='#icon-file-text2'></use></svg></label><input id='data-29ce591a-13e9-4a53-a1a4-b1a52d71cd99' class='xr-var-data-in' type='checkbox'><label for='data-29ce591a-13e9-4a53-a1a4-b1a52d71cd99' title='Show/Hide data repr'><svg class='icon xr-icon-database'><use xlink:href='#icon-database'></use></svg></label><div class='xr-var-attrs'><dl class='xr-attrs'></dl></div><div class='xr-var-data'><pre>array([182.633, 190.483, 204.167, 202.133, 200.65 , 203.533, 204.933,\n",
       "       202.2  ], dtype=float32)</pre></div></li><li class='xr-var-item'><div class='xr-var-name'><span>MHHW</span></div><div class='xr-var-dims'>(record_id)</div><div class='xr-var-dtype'>float64</div><div class='xr-var-preview xr-preview'>1.204 1.225 1.406 ... 1.912 1.533</div><input id='attrs-a2b00502-feef-4cca-bb2b-601c180245e7' class='xr-var-attrs-in' type='checkbox' disabled><label for='attrs-a2b00502-feef-4cca-bb2b-601c180245e7' title='Show/Hide attributes'><svg class='icon xr-icon-file-text2'><use xlink:href='#icon-file-text2'></use></svg></label><input id='data-7089dd82-cdc1-418c-9a06-e4bdfb99a9b2' class='xr-var-data-in' type='checkbox'><label for='data-7089dd82-cdc1-418c-9a06-e4bdfb99a9b2' title='Show/Hide data repr'><svg class='icon xr-icon-database'><use xlink:href='#icon-database'></use></svg></label><div class='xr-var-attrs'><dl class='xr-attrs'></dl></div><div class='xr-var-data'><pre>array([1.204, 1.225, 1.406, 1.722, 1.24 , 1.364, 1.912, 1.533])</pre></div></li><li class='xr-var-item'><div class='xr-var-name'><span>station_name</span></div><div class='xr-var-dims'>(record_id)</div><div class='xr-var-dtype'>&lt;U17</div><div class='xr-var-preview xr-preview'>&#x27;Midway&#x27; &#x27;Johnston&#x27; ... &#x27;Mokuoloe&#x27;</div><input id='attrs-ca21dfb2-c3df-4a97-ae29-5d3e6a1a4551' class='xr-var-attrs-in' type='checkbox' disabled><label for='attrs-ca21dfb2-c3df-4a97-ae29-5d3e6a1a4551' title='Show/Hide attributes'><svg class='icon xr-icon-file-text2'><use xlink:href='#icon-file-text2'></use></svg></label><input id='data-82efeeef-ca6d-41d2-b192-2ef0ab74d5c7' class='xr-var-data-in' type='checkbox'><label for='data-82efeeef-ca6d-41d2-b192-2ef0ab74d5c7' title='Show/Hide data repr'><svg class='icon xr-icon-database'><use xlink:href='#icon-database'></use></svg></label><div class='xr-var-attrs'><dl class='xr-attrs'></dl></div><div class='xr-var-data'><pre>array([&#x27;Midway&#x27;, &#x27;Johnston&#x27;, &#x27;Kawaihae&#x27;, &#x27;Honolulu, Hawaii&#x27;, &#x27;Nawiliwili&#x27;,\n",
       "       &#x27;Kahului&#x27;, &#x27;Hilo, Hawaii&#x27;, &#x27;Mokuoloe&#x27;], dtype=&#x27;&lt;U17&#x27;)</pre></div></li></ul></div></li><li class='xr-section-item'><input id='section-c973cbc8-304d-408e-b864-6f4dfc1ca93f' class='xr-section-summary-in' type='checkbox'  ><label for='section-c973cbc8-304d-408e-b864-6f4dfc1ca93f' class='xr-section-summary' >Indexes: <span>(3)</span></label><div class='xr-section-inline-details'></div><div class='xr-section-details'><ul class='xr-var-list'><li class='xr-var-item'><div class='xr-index-name'><div>record_id</div></div><div class='xr-index-preview'>PandasIndex</div><div></div><input id='index-9bc15b34-4677-460b-9884-eb96c8d60be9' class='xr-index-data-in' type='checkbox'/><label for='index-9bc15b34-4677-460b-9884-eb96c8d60be9' title='Show/Hide index repr'><svg class='icon xr-icon-database'><use xlink:href='#icon-database'></use></svg></label><div class='xr-index-data'><pre>PandasIndex(Index([50, 52, 552, 57, 58, 59, 60, 61], dtype=&#x27;int64&#x27;, name=&#x27;record_id&#x27;))</pre></div></li><li class='xr-var-item'><div class='xr-index-name'><div>Year</div></div><div class='xr-index-preview'>PandasIndex</div><div></div><input id='index-6ba95ce0-bc32-41ba-8a77-e2430b442c42' class='xr-index-data-in' type='checkbox'/><label for='index-6ba95ce0-bc32-41ba-8a77-e2430b442c42' title='Show/Hide index repr'><svg class='icon xr-icon-database'><use xlink:href='#icon-database'></use></svg></label><div class='xr-index-data'><pre>PandasIndex(Index([1993.0, 1994.0, 1995.0, 1996.0, 1997.0, 1998.0, 1999.0, 2000.0, 2001.0,\n",
       "       2002.0, 2003.0, 2004.0, 2005.0, 2006.0, 2007.0, 2008.0, 2009.0, 2010.0,\n",
       "       2011.0, 2012.0, 2013.0, 2014.0, 2015.0, 2016.0, 2017.0, 2018.0, 2019.0,\n",
       "       2020.0, 2021.0, 2022.0, 2023.0],\n",
       "      dtype=&#x27;float64&#x27;, name=&#x27;Year&#x27;))</pre></div></li><li class='xr-var-item'><div class='xr-index-name'><div>ReturnPeriod</div></div><div class='xr-index-preview'>PandasIndex</div><div></div><input id='index-e93fe5ee-2e97-4a94-92d0-90d641f6be29' class='xr-index-data-in' type='checkbox'/><label for='index-e93fe5ee-2e97-4a94-92d0-90d641f6be29' title='Show/Hide index repr'><svg class='icon xr-icon-database'><use xlink:href='#icon-database'></use></svg></label><div class='xr-index-data'><pre>PandasIndex(Index([2, 10, 50, 100], dtype=&#x27;int64&#x27;, name=&#x27;ReturnPeriod&#x27;))</pre></div></li></ul></div></li><li class='xr-section-item'><input id='section-611eea53-8c0e-49b9-98d8-2bfd6e1f64e7' class='xr-section-summary-in' type='checkbox'  checked><label for='section-611eea53-8c0e-49b9-98d8-2bfd6e1f64e7' class='xr-section-summary' >Attributes: <span>(3)</span></label><div class='xr-section-inline-details'></div><div class='xr-section-details'><dl class='xr-attrs'><dt><span>description :</span></dt><dd>Time-dependent return values for the GEV model with seasonality, trend, covariate in location and scale, and nodal cycle in location. The x attribute is the binary array of parameters used in the model, where the first 3 elements are the seasonal parameters, the 4th element is the long-term trend, the 5th element is the covariate in location, the 6th element is the covariate in scale, and the 7th element is the nodal cycle.</dd><dt><span>datum :</span></dt><dd>STND</dd><dt><span>units :</span></dt><dd>m</dd></dl></div></li></ul></div></div>"
      ],
      "text/plain": [
       "<xarray.Dataset> Size: 25kB\n",
       "Dimensions:       (record_id: 8, ReturnPeriod: 4, Year: 31, x_dim: 7)\n",
       "Coordinates:\n",
       "  * record_id     (record_id) int64 64B 50 52 552 57 58 59 60 61\n",
       "  * Year          (Year) float64 248B 1.993e+03 1.994e+03 ... 2.023e+03\n",
       "  * ReturnPeriod  (ReturnPeriod) int64 32B 2 10 50 100\n",
       "Dimensions without coordinates: x_dim\n",
       "Data variables:\n",
       "    ReturnLevel   (record_id, ReturnPeriod, Year) float64 8kB 1.609 ... 2.062\n",
       "    RL_low        (record_id, ReturnPeriod, Year) float64 8kB 1.53 ... 1.959\n",
       "    RL_high       (record_id, ReturnPeriod, Year) float64 8kB 1.687 ... 2.165\n",
       "    x             (record_id, x_dim) int64 448B 1 1 0 1 0 1 0 ... 1 1 0 1 0 0 1\n",
       "    lat           (record_id) float32 32B 28.22 16.75 20.03 ... 20.9 19.73 21.43\n",
       "    lon           (record_id) float32 32B 182.6 190.5 204.2 ... 204.9 202.2\n",
       "    MHHW          (record_id) float64 64B 1.204 1.225 1.406 ... 1.912 1.533\n",
       "    station_name  (record_id) <U17 544B 'Midway' 'Johnston' ... 'Mokuoloe'\n",
       "Attributes:\n",
       "    description:  Time-dependent return values for the GEV model with seasona...\n",
       "    datum:        STND\n",
       "    units:        m"
      ]
     },
     "execution_count": 101,
     "metadata": {},
     "output_type": "execute_result"
    }
   ],
   "source": [
    "# add lat, lon, and station_name to the dataset from rsl_hourly\n",
    "rids = combined_ds['record_id'].values\n",
    "lats = []\n",
    "lons = []\n",
    "MHHW = []\n",
    "for rid in rids:\n",
    "    lat = rsl_hourly.sel(record_id=rid)['lat'].values\n",
    "    lon = rsl_hourly.sel(record_id=rid)['lon'].values\n",
    "    mhhw = 0.001*rsl_hourly.sel(record_id=rid)['MHHW'].values\n",
    "    lats.append(lat)\n",
    "    lons.append(lon)\n",
    "    MHHW.append(mhhw)\n",
    "\n",
    "combined_ds['lat'] = xr.DataArray(lats, dims='record_id')\n",
    "combined_ds['lon'] = xr.DataArray(lons, dims='record_id')\n",
    "combined_ds['MHHW'] = xr.DataArray(MHHW, dims='record_id')\n",
    "\n",
    "# add station_name\n",
    "station_names = rsl_hourly.sel(record_id=rids)['station_name'].values\n",
    "combined_ds['station_name'] = xr.DataArray(station_names, dims='record_id')\n",
    "\n",
    "# save the combined dataset to a netcdf file\n",
    "# combined_ds.to_netcdf(output_dir / 'combined_return_levels.nc')\n",
    "combined_ds\n"
   ]
  },
  {
   "cell_type": "markdown",
   "metadata": {},
   "source": [
    "## Create a Map"
   ]
  },
  {
   "cell_type": "code",
   "execution_count": 102,
   "metadata": {
    "tags": [
     "hide-output"
    ]
   },
   "outputs": [
    {
     "data": {
      "application/papermill.record/image/png": "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",
      "application/papermill.record/text/plain": "<Figure size 1000x800 with 5 Axes>"
     },
     "metadata": {
      "scrapbook": {
       "mime_prefix": "application/papermill.record/",
       "name": "TimeDependentReturnValueMap"
      }
     },
     "output_type": "display_data"
    },
    {
     "data": {
      "image/png": "[encoded data removed]",
      "text/plain": [
       "<Figure size 1000x800 with 5 Axes>"
      ]
     },
     "metadata": {},
     "output_type": "display_data"
    }
   ],
   "source": [
    "crs = ccrs.PlateCarree()\n",
    "fig, axs = plt.subplots(2,2,figsize=(10, 8), subplot_kw={'projection': crs})\n",
    "# make ax,fig\n",
    "# open the cmems data\n",
    "\n",
    "xlims = [-179, -152]\n",
    "ylims = [15, 30]\n",
    "\n",
    "scatters = []\n",
    "\n",
    "# plt.colorbar(maxplt,ax=axs[0],label='Sea Level (m)', location='bottom')           \n",
    "\n",
    "for i, ax in enumerate(axs.flat):\n",
    "\n",
    "    scatter = ax.scatter(combined_ds['lon'], combined_ds['lat'], transform=crs, s=100, \n",
    "               c=combined_ds['ReturnLevel'].sel(Year=2020)[:,i]-combined_ds['MHHW'], cmap='YlOrRd',\n",
    "               linewidth=0.5, edgecolor='black')\n",
    "    scatters.append(scatter)\n",
    "\n",
    "    ax.add_feature(cfeature.COASTLINE)\n",
    "    ax.add_feature(cfeature.LAND, color='lightgrey')\n",
    "\n",
    "    # set extent\n",
    "    ax.set_extent([xlims[0], xlims[1], ylims[0], ylims[1]], crs=crs)\n",
    "\n",
    "    #add grid\n",
    "    gl = ax.gridlines(draw_labels=False, linestyle=':', color='black',\n",
    "                      alpha=0.5,xlocs=ax.get_xticks(),ylocs=ax.get_yticks())\n",
    "    if i>=0:\n",
    "        gl.bottom_labels = True\n",
    "\n",
    "    if i==0:\n",
    "        gl.left_labels = True\n",
    "\n",
    "    #make all labels tiny\n",
    "    gl.xlabel_style = {'size': 8}\n",
    "    gl.ylabel_style = {'size': 8}\n",
    "\n",
    "    # add text to top left of plot\n",
    "    ax.text(0.5, 0.95, f'{ReturnPeriod[i]}-year flood: 2020', color='black', fontsize=10, weight='bold',\n",
    "            transform=ax.transAxes, ha='center', va='top', zorder=10)\n",
    "\n",
    "# add colorbar to the bottom of the plot which follows vmin, vmax and cmap of the scatter plot\n",
    "# colorbar should be \n",
    "cbar = plt.colorbar(axs[1, 1].collections[0], ax=axs, orientation='horizontal', pad=0.05, aspect=50,extend='both')\n",
    "cbar.set_label('Meters above MHHW')\n",
    "\n",
    "# set the limits of the colorbar\n",
    "for scatter in scatters:\n",
    "    scatter.set_clim(vmin=0.3, vmax=0.7)\n",
    "\n",
    "\n",
    "# save the figure\n",
    "plt.savefig(output_dir / 'TimeDependentReturnValueMap.png', dpi=300, bbox_inches='tight')\n",
    "\n",
    "glue(\"TimeDependentReturnValueMap\",fig,display=False)"
   ]
  },
  {
   "cell_type": "markdown",
   "metadata": {},
   "source": [
    "```{glue:figure} TimeDependentReturnValueMap\n",
    ":name: \"TimeDependentReturnValueMap\"\n",
    "Map of the nonstationary GEV-based extreme water level return values for Hawaiian Island region stations. Year 2020 is shown here. Each nonstationary model includes some combination of seasonality, a long-term trend, and the 18.6 nodal-cycle, provided each parameter improves the significance of the GEV fit. No covariates are used for these particular best-fit models.\n",
    "```"
   ]
  },
  {
   "cell_type": "markdown",
   "metadata": {},
   "source": []
  },
  {
   "cell_type": "code",
   "execution_count": 103,
   "metadata": {},
   "outputs": [
    {
     "data": {
      "application/papermill.record/image/png": "iVBORw0KGgoAAAANSUhEUgAAAz4AAAJECAYAAADXBfHLAAAAOXRFWHRTb2Z0d2FyZQBNYXRwbG90bGliIHZlcnNpb24zLjkuMSwgaHR0cHM6Ly9tYXRwbG90bGliLm9yZy/TGe4hAAAACXBIWXMAAA9hAAAPYQGoP6dpAAEAAElEQVR4nOzdeVhU1f8H8PcMMAPIooA7CCICIu4amJbkrpmZVl9zN5dyqUzN9NuimcrXDc2kLDUNLXPFrch9SXNfSDEVBVxwQTTZmfXz+2N+c2NkBmcAmZnL5/U8PM/lzr13znnfM/fMmXvnjoSICIwxxhhjjDEmYlJrF4AxxhhjjDHGnjUe+DDGGGOMMcZEjwc+jDHGGGOMMdHjgQ9jjDHGGGNM9HjgwxhjjDHGGBM9HvgwxhhjjDHGRI8HPowxxhhjjDHR44EPY4wxxhhjTPQcrV2A0igsLIRSqbR2MRhjrNKRyWRwdna2djFsEvdNjDFmHeb2TXY38CksLET9+vVx7949axeFMcYqnVq1aiE1NZUHP0/gvokxxqzH3L7J7gY+SqUS9+7dw61bt+Dh4WHt4pSZQqHA0qVLMX78eMjlcmsXxyo4Ax3OgTMAbDuD7Oxs+Pn5QalU8sDnCdw3iQ9nwBnocQ62nYElfZOEiKiCylUusrOz4enpiaysLFF0LlqtFpmZmfDx8YFUWjm/csUZ6HAOnAFg2xmI7fhbnsSWjS23w4rCGXAGepyDbWdgyfGXBz6MMcbMwsdf0zgbxhizDkuOv7Y1ZKuEFAoFZsyYAYVCYe2iWA1noMM5cAYAZ8BsA7dDzgDgDPQ4B/FkwGd8rIyIkJOTA3d3d0gkEmsXxyo4Ax3OgTMAbDsDsR1/y5PYsrHldlhROAPOQI9zsO0M+IyPnbG1L4lZA2egwzlwBgBnwGwDt0POAOAM9DgHcWTAAx8rUyqViI6OrtS//cAZ6HAOnAHAGTDbwO2QMwA4Az3OQTwZ8KVuVkZEUCqVkMlkNnfqsKJwBjqcA2cA2HYGYjv+liexZWPL7bCicAacgR7nYNsZ8KVudsbevyhWHjgDHc6BMwA4A2YbuB1yBgBnoMc5iCMDHvhYmVKpRExMjN2dOlywYAH8/f3h4OAAiUSCgwcPIioqChKJBMOGDbNoW2XJQP+cUVFRFq9ra+y1LVgiICDAoI2kpaVBIpEIbUifwa+//oqmTZvC2dkZEokEM2bMAADs2rXL6HwxqQztgNk+sbTDBw8eoG/fvvDy8oJEIkFAQECx444p5ZlB0edcvXp1mbdXUcTSDix18ODBYn1T7969IZVKERAQICxHRPjoo49Qp04dSKVSSCQSpKWlmZxvz8TSFnjg84wsXLgQUVFRqF27NuRyOfz9/TF06FCkpKQYLCeXyzFjxgy7+sLYuXPn8NFHH+HmzZsICAhAREREmS7tsFYGO3bsQJ8+fRAQEAAXFxfUrFkTXbt2xaFDh4otu2TJEoSFhUEul6NGjRoYPnw47t27JzyelJSEYcOGITQ0FB4eHvD09ESrVq2wcuXKYtvavXs32rVrB1dXV3h4eKBbt244ffr0U3Moj+coSqVSYfr06QgMDIRMJoOvry8mTJiAnJwcg+U2btyI9u3bw8fHB87OzvDz88PgwYORmppqVs4lkcvliIiIENqQXC7H559/jsGDB+PChQtwd3dHREQEfH19odVq0b9//2LzxcYejwnMNh0+fBg9e/ZE9erVhTdxy5YtK7ZcTk4OJkyYAF9fX8hkMjRo0ABz5szBJ598YvftcNasWYiPj0d2djZatWqFFi1amL2uLb0Wp06dirZt26JmzZpwdnZGYGAg3nvvPWRkZBgsd+/ePQwfPhw1atSAXC5HWFgYlixZYrDM6tWr0b17d/j6+sLZ2Rl169ZF3759kZiYaLCcSqXCnDlzEBcXB3d3d5N9hDGWPIc5/VBycjL69esHLy8vuLi4oGXLlli3bp3BMnl5eZgyZQqCg4NRpUoVeHh4oEmTJpgzZw40Gs1Ty1wSuVyOQYMGISIiwqANbd26FQsWLMDdu3cRGhqKiIgIyOVyk/PtmS29HsqE7ExWVhYBoKysLGsXpUT+/v4EgOrVq0f169cnAASAatWqZVB2jUZD9+/fJ41GY8XSFqdWq0mtVht9bM2aNUJ9cnJyhPkdOnQgADR06FCLnqssGeifs0OHDhavO3ToUAJA3t7e1LhxY5JIJASAHBwc6M8//xSWmzZtmlDfhg0bkouLCwGg4OBgys3NJSKiVatWEQBydXWl8PBwcnV1FdaZO3eusK3ffvuNHBwcCADVrVuXfHx8CAC5uLjQ2bNnS8yhPJ7j/PnzwnJvvfUWASCpVEohISHk5OREAOiFF14QyrB//34hl5o1a1KzZs1IKpUSAAoLC7M4c/3rwlQb0Wg0dO7cOaFeO3bsEB67deuW0flloVAoymU75clWjwlE9nP8tQZbzGbRokXk6OhIwcHBwmvn22+/NVhGrVZT+/btCQA5OTlRSEiI8Brv27evTbbDJ5X0Ou7UqRMBoH79+gnzUlNThTwOHDhgct3yfC0Wfc5Vq1ZZvD4AkkgkFBQURHXq1BG2FR4eLpQvJyeHGjZsKBzv9dMA6L///a+wLX2/WatWLQoJCRGWqVKlCqWkpAjLmdNHmFKez3H79m2hH/Pw8DB4T/X9998L29L36fr+qV69esL/8+bNsyjvAwcOGLQRU23hyy+/JADk4+NDWq32qfNLS6vVklKpLPN2ykIsfRMPfJ6RWbNm0Y0bN4T/J0yYILyItmzZIswvLCykOXPmUGFhIRER7dmzR1ju6tWrwnJfffUVASBPT08qKCggIqLjx49Tjx49yNPTk+RyObVo0YI2btxoUI7JkydTWFgYeXp6kqOjI9WuXZuGDBlCd+7cEZaZPn06ASB/f3/68ccfKTAwkKRSKaWmpharV9EDS9G/1NRUowOfhw8f0tixY8nX15ccHR2pRo0aNGjQIINsCgsLafTo0dSpUyfy8PAgmUxGoaGhNH/+fIPB16NHj+iNN94gFxcX8vPzo2+//dbowEdfRn9//xL30YoVK+jEiRPC/1u3bhXq8/777xMR0d27d8nR0ZEA0KRJk4iIKDExURgMLFiwgIiI9u3bRxs3bhTKe+PGDfL09CQA1LRpU+E5wsPDCQBFRkaSSqWi7OxsCggIIADUs2dPg7bwpPJ4jl69ehER0enTp4W6fv3110REtH37dmHepk2biOjfgzcAoc2MHj2aAJCbm1uJB/S0tDTq0qULyeVyatiwIW3ZsqXYwOfJNyDff/+90falH/QZm09k3muh6CDxtddeI1dXV6Ecjx8/pvfff5/q1atHTk5OVLduXfrwww8pLy9PWF/frjp06EBff/01+fv7k5ubG7388st09+5dg+f65ZdfqG3btlSlShVycXGhpk2b0u7du4XHSyrvk8cEW2Ivx19rsMVsMjMzKT8/3+B19uTAZ9OmTcU+UFiyZIkwr+iHQE8aOHAgAaB27doZzG/RogUBoHfeeYeIdG+YFi9eTI0bNya5XE5Vq1al119/3eANcFpaGnXv3p18fX3J2dmZnJ2dqXHjxrRo0SKD44z+GDJ58mQaPnw4eXp6UlRUlNHyGTtmdOjQweTA548//qAuXboI/VBISAj16NHD4DigVqtp/vz51KhRI5LJZOTh4UFdunShP/74w+C59+/fL9S3Xbt29Ouvvxod+OjnTZ8+3WTORESffPIJZWRkCGXo16+fsO7Zs2eJiGjBggXCACkxMZGIiCZOnEgAyNHRUThOLVq0iC5duiRse/HixcK2YmJiiMiwj3jllVeosLDQaB9hiqXPUVI/NH78eAJA7u7ulJ6eTkQk1N/b21sY+DZo0IAAUNeuXYlINyB2d3cnADRu3LgSy7t+/XqqX78+OTs7U48ePWjt2rUGbaSwsJA6duxo8N5C//7DWBszNp/IvNdC0f4uISGBwsLCyMHBQWirlvR3CxYsoAEDBpCbmxvVqVOHvvzyS4PlsrOzadKkSRQYGEhOTk7k5eVF3bp1o/z8fKPldXZ2pr59+xqU1xbwwMcGbd68WWiIv/76q8nltFqt8OnctGnThPn6F9Lo0aOJSHeA1n8y8uQnKj/++KOwXuPGjcnT05PCw8MpNDRUeMPepk0bYRn9wMfJyYkkEgkFBwdT3bp1jQ58Zs6cSYGBgcJzRUREUEREBN25c6fYwKegoEB4E+7o6EhhYWHk7OxMAKhOnTrCQfzAgQPC4KJatWoGn1KNHDlSeO6+ffsK80NCQqhKlSpUpUqVUg98nvTw4UNh+x999BERkcHBr+gbAH0Zu3TpYnJ7TZo0Mcj69u3bwrbmzJkjLDdq1CgCdJ/QmTrLVt7PMWvWrGIDGo1GI+yfUaNGEZFu3xg741O9enVat26dyXJptVpq1aoVAbpP8ho1akSurq4kl8tLHPjs3LmTmjdvLsxr1KgRRURElDjf3NeCfp5MJiN3d3dq2rQpjR49mgoLC4VtOzs7U9OmTYUcOnbsKLzp0rcrJycncnZ2NminAwYMEJ5H/+YD0H06GR4eTi4uLrRo0SIiMv+1a4vs9fhbEWw5m5IGPiNHjhSODfpPctPT04XlZ8+ebXK7R48eFZa7cuVKsefSHzPHjBkjzGvcuDF5e3sL7f/+/ftERHTq1CkCQL6+vtSiRQuqUaOGsM7SpUuF59QPfGQyGbm4uFCTJk2oZ8+eRssXEREhvPH18fGhiIgIGjNmjNGBj7n90IgRI4T5QUFB5OXlJfRxBw8eJCLdB2b6vsnV1ZVCQ0OF/4HSDXyetHDhQmHdpKQkIiLq3LkzAbqrEYzto59++snots6cOSMsExsbS0Rkdh9hrrI8R1BQEAH/DmiIiH766Sdh3aNHjxIR0bBhw4R5Rc/4PP/883Tz5k2TZTt37pxwltPT05MaNGhgsL/0baToh8REunZdt25doT3q3w+Zmq9f52mvhaIDH5lMRv7+/hQYGEgHDhywuL9zcnKi2rVrC2fMAAgfwikUCmrZsqUw39/fnxo0aEASiYT++ecfs8trC3jgYwGtVkuPHz+mO3fuGHyqU55UKhW99NJLBIACAwMNPsnVaDR08+ZNg1OHMTExBOguU1Kr1XT//n3hRXnkyBEiIoqKihLeeKtUKiL696ySr6+vsK3ExESDbS9fvlxoxNeuXSOif1/MT3YwT7vkCjBsPk8OfH744Qdhufj4eCLSHfz0dfn888+JiOjFF18UXnT6F9sHH3xAgO6Tq+vXr9O1a9eEbX388cdERHT58mWhoyo68Jk6dSqFhIRQx44dS94xT/j0008JAMnlcrpw4QIREUVHRxfLi4iES0NCQkKMbmvPnj1CPfWn4o8dOyZsa8WKFcWeFwCdPn3a7NPIpX2Ou3fv0jvvvCP8X3Sw5evrSwCoW7duwrxNmzYZdAKAbsBb9LK5J+3du7fYG62i80wNfDQajUFHXfTTWFOf0pr7WtCvGxwcTA8fPiQi3Senq1evFjoY/VnW8+fPC8vv3buXiP4d+EilUjp37hwREb322msE6AaFRER5eXlCVm3bthWOU9nZ2cK2n1ZeY8cEW2HLb+6trbyzUavV9ODBA7p3716ZL3EpaeDTrVu3Yq8VtVotLK//sM2Upk2bGhyX9QP/hg0bEhFRSkqK8OGJ/o1ZTk6OcKz59NNPiYjon3/+MfiwTaPRCH1D+/bthfn6gY+3tzelpaUJ5TXF2JUIxo4lxvqh999/36Afun79ulCXDz74gIh0Z4v1ZXrxxReJ6N/jrYODA128eNFgHmA48AkJCaGQkBDhjIc5srOzqXHjxsKb+qLbejKvon1ndHS00e0NHjyYAJCXlxfdu3ePiMigj0hNTRWOR8b6CHM87TlK6of0H5gNGjRIWKZof6L/EK6wsJCGDBli0FfJZDIaO3ascKWMMYMGDRIGPfqy6ctbtG/SH6eLfqj65GCopPnmvhaKvseaPHmysL5arba4v4uMjCSFQkEPHjwQBkz61+qPP/4oLDd//nxh3QsXLpBCoShWXo1GQ3///Xex8toCS46/lfbmBo8fP8ZXMfPQ5YXmGPdWFD4f1wtDXo1E767tsGnjeqhUqnJ5nry8PPTt2xcHDhxArVq1sGPHDuGLYV9++SXatm2L9u3bo23btvjyyy8BAMOGDYOLiwvS09Oxa9cubN26FVqtFkFBQWjXrh0A4OTJkwCAPXv2wMnJCRKJBIsXLwYA3L59G+np6QCAxMREtGnTBm5ubpBIJBg1apRQtjt37hiU1cXFBWPGjBH+l0rL1jxOnToFAHB1dUWfPn0AAC1btkRISAgACF+21y/XrVs3VK1aFQAwYMAAAAAR4cyZM0hKShK2269fPwBASEgImjZtWux5o6OjcfnyZezbt8/sss6cOROzZs2Ck5MT4uLiEB4eLjy/Mfr5xu5l/9tvv+G1116DVqvF+++/L2T+tG0BwM6dO/Hdd98hMjJS+Bs7dmy5PodEIjG7XhcuXMDYsWOhVCpx+PBhZGVl4fXXX8eJEyfQvXt3FBQUGN2Osf3VqVMneHl5GV1eT6VS4bfffitxmSeZ+1rQGzZsmFAOBwcHYX2lUong4GBIJBI0b95cWP748eMG6zdp0kR4PCwsDACELxgnJSUhLy8PADBu3Djhph/u7u5o2LChWeVNS0vDxo0by+0YxOzL9evXMfm90ej+fDg+GtQR/x3WBX06NMXw/q/i5MmTJl+7pWVse0Xn6aeLHpMiIyNx9uxZABD6jLi4OGg0GmzevBkAMGTIEAC647x+G0OHDoVEIoG7uztu374N4N/Xl5OTE+bNmwd/f384OTnBwcEBhw8fBlC8rwJ0xxV/f38AutdxWen7oZ49ewr90BtvvCFkcObMGYO66PsoT09P9OzZU6gr8O/xLyQkBI0bNwYAvPnmm0af9/Lly7h8+TLGjx9vVjkfPHiALl26ICkpCaGhodi0aZPw2NP25ZP9lVqtxujRo7FmzRq4ubkhPj4eNWvWLLbepk2bhOPRk33Ea6+9ZtAufv3111I9h7Eyl/RbMcbqtWjRIqxZswbt2rVDRkYGkpKS4O7ujm+++QZTp041uS39/mrXrp1QNv2+11OpVLh06ZLJbZjD3NdCURMnThSmi/ZX5vZ3//nPfyCTyeDj44MaNWoAAO7fvw8AOHHiBADdTQs+/PBDYZ3w8HDIZLJi5XVwcECjRo1KLK89cLR2Aaxh/769mP3pexjbvTp++zQYTo7/vsHPylMibv9i9FgyF6t+3gY/P79SP8+9e/fQq1cvnDlzBsHBwUhISEBgYKDw+PXr14VGfPPmTTRq1AgAUK1aNfTv3x+rVq3CqlWrkJ2dDeDfjqSounXrGr2zlVqtxpEjRzB06FAQEby9vREWFobc3Fz8/fffAFDsLifVq1cv82CnLBwdTTdHUwfvsr4JUKlUGD16NFavXg03Nzds2LABPXr0EB6vV6+eMH3//n00aNAAwL9vdJ9sH8uWLcP48eOh0Wgwc+ZMfPbZZya3pafflouLCz799FN8+eWXwgEJAJydncv1OXx8fIotV6dOHWi1Wjx8+NCgXv/73/+QkZGBpk2b4oUXXgCg6/A3bdqEe/fuISkpCa1bty6Wa2n3l1wux8iRIzF79uwSlzOmpNdCUbVq1TJaVplMZvSOT9WqVTP4X/+mCPi3zZamHZoqr4ODg0FnxyoHIsLcWZ/j/P5NmPiSJ+a/X8/g8ev3H+Gb6JH41jkI3/34C2QyWbk8r/5YkJmZCa1WC6lUanCnMP2te4sekwAI/dKgQYMwZcoU3L17FytXrsTx48chkUgwePBgoV56zZs3L3ZHKP3gZcKECVixYgUAoGHDhvDy8sL169eRmZlp9I5cT76Oy0vR41VJGZvzprw8+yoAuHLlCnr27ImUlBRERkZix44d8PHxER6vV68erl69avTYDxj2Vzk5OXjzzTfx+++/o2bNmti5c6fBsbxoHzFgwADI5XKjfcS5c+dw48YNYdkHDx6U6jlK6of8/Pxw7dq1EuuVn5+Pzz77DESEfv36oXr16qhevTratWuH7du3Y+/evSZzNWd/yeVytG3bFrt37za5nacx97VQlKl2bm5/Z25/Zaw9l6a8dqHU55WspKyXExw+dJBejWpEuTv6knbPmyb/rsX1pKjIcOG0p6UuXrwonP5+4YUXhEtrnqTRaCg5ObnYZS0nT54UTtPqv3tT9DIA/en7559/XvgSGpHuzldbt24lIsPvGuivny166Zap61afpiIuddOfutVfYpCcnCxsS//dpytXrpTpUrfHjx8Ld/ypW7eucPlSUUVvbvDhhx8Ske56YP3p34ULFxKR7pLJjz76SNhna9euNfqc+u88Pffcc6RSqSgrK0toJ7169TLaFvTK4zleeeUVIjL8UulXX31FRIY3d9i8eTMREb388svCJQAPHjwgIqL//ve/wnJFv7xaVNHLEL777jsi0n3ZVz+vpEvdnrybjp6pS93MeS0Q/Xvq/8k7Kunbs4ODA505c0aYX1BQQJs2bRLaZNGbG+gVvUyUyPBSt3bt2lF2djYREeXm5lJycrJZ5TV1TLAFfKmbaWXNZtb0afRF/yakWdOFtGu7mvzbOqkN9e/T3aL2Ye7NDbZt20ZEhl9EP3Xq1FO3P3bsWAIgtP2iNxsoennY4sWLhflarZb++OMP4Uv4+uOW/nscBQUF1KxZs2J9k/5YZu53YspyqZuxS64tvdRNf4z8/PPPjR6DzL3U7dChQ8L3ifr162dw7NArenMDfX+m70sdHR2F9zO3b98Wsg0LCxMuGSyqaB/x6aefkkajMdpHmGLpc5TUDxW9ucHt27eJ6N/LjPU3N3jw4IGw3sCBA4lI14b0Nzx47rnnTJZVf6lb1apVhe+tFL1kTt83vffee8XaoyWXupn7WjD1HouobP3dkzcXKnqpm/69DBHRpUuXSKFQFCuvvm9Sq9UG5bUF/B0fE1QqFUVFhFH29tdKHPTo/xK/70qD33ylVOUsevvQ5s2bC19ui4iIoOXLlwvLKRQKWrp0qdHbcbZu3VrYxpO3az506JDwhtzT05OaN29OdevWJYlEIiy7e/duYX1vb28KDQ0VDpwVMfApKCgQrkMu6eYGu3fvFgZDJX2ptE+fPsJ8/ZdF9df+lubmBvq7kwG6714V3UdjxowRljN1O+uGDRsKt7P++eefhWX0X6It+qf322+/CXV98lbTp06dMtkWyus5LL2dddHBa9WqVSksLEz4v6SORKvVCnd2kkqlwr7XP4epgY9CoaAvvvjCooGPOa8FItMDn8LCQuF7ClKplBo3bkzBwcFC29J/4GDOwIfI8AMHT09PatKkCVWpUkW4ucHTylvSMcHaeOBjWlmy+euvv2hwp9CnDnr0f4uGNaUfVix76nY3b95MDRo0EN7wAKDq1atTgwYNhBtylHQ769atW5vVDi9cuCBs39hrrOixtn79+tSkSRPy8PAwWHbAgAHCMsHBweTj4yP0VxUx8Cnp5gZvv/22sG5JNzfQb+vOnTvCzw3ob26g7/uezEc/72n1kclkwqDmueeeMzj279y5k4jMv511165dhfn6G8Xo/2bOnCksp+8j9Dc9suR21pY+hyW3s9bfpRQwvJ21fvCq3zc1a9YU/tffUMGYs2fPCm/wPT09KSgoSDj+F+2bevToUaaBD5F5r4WSBj5l6e+eHPg8eXODgIAAatiwIUmlUmHwX7S8AQEBVKdOnWLltQWVfuBz8eJFunr1qvDFL73NmzZSzLhIswY9+r/XOzct1Vmfoh3Nk3/mHrBXrlwprLNy5cpij//555/Uo0cPqlq1KslkMgoICKDXX3/d4DdO5s6dS3Xq1CFXV1fq06cPrV+/vtgB/1kNfIjMu501EdHhw4epS5cu5O7uTk5OThQaGkrz5s0z+MLjw4cPqV+/fuTs7Ey1a9emhQsXlul21qZuzf3k9rRaLS1evJhCQ0PJycmJfHx8aOjQoQa3MDZ1u2VjOf3+++/0/PPPk7OzM7m5uVGXLl3o5MmTT0m9/J9DqVTS559/TgEBAeTk5ER16tSh999/XzhLoffTTz9Ru3btyMfHR+hMJ06cSJmZmSWWNzU1lTp16kQymYzq169PP/3001NvZ21qXknzicx7LZh6U0ak+2L1+++/T/7+/uTk5ETVq1endu3a0ezZs4VP1cwd+BD9eztrV1dX4c5Tu3btsqi8togHPqaZk821a9eMnll+d3h/uvC/580a9GjXdqW8HzpRt/Ytnlqmko4ZRdtxVlYWvf/++1SnTh1ycnKigIAA+vzzzy26qcILL7wgvNEv+vtuRLorGxYtWkRNmjQhuVxOHh4e1LRpU5o4caLwwcK9e/fo1VdfJTc3N6pduzbNnTvX6LH8WQ18iMzrh9RqNc2bN0+4nbW7uzt17ty52O2s9+7dS2FhYSSTyahNmzYGd3YtzcCnpGN/0e3duXOHhg4dSj4+PkIdip5dKJqJsb+iOZnbR5SUe3k9x5UrV6hv377CLZybN29e7C51jx49oilTplBwcDC5urpStWrVKCIiwuTVEUWtW7eOAgICSC6XU6dOnQw+9CvpvZKlAx9zXgslDXyISt/fGfsdvaysLJo0aRLVr19fuJ11165dDW5n/bTy2gJL+iYJkfkXnhYWFqJ///64dOkSXF1dUatWLSxbtgwBAQE4ffo03nvvPRQWFqKwsBDDhw/HlClTAOh+cXfkyJGQSCRYuXIlGjRogLS0NNSvXx8jRowQruvNzc2Fu7t7idfCZmdnw9PTE1lZWcIXh590+PBhzJs3D9u3bzf4zkq/l6OwfGQ1VHM3/9ro30/dR6KmA6Z++oXZ61hCo9Hg8uXLCA0NLfYFzePHj6Nt27aoUqUK7t69C3d392dSBmsrKYPKhHPgDADbzsCc429lZU42sbGxSElJwcKFC4V5+fn5eLNLa+wYa9n3SSdtuofBn682+r208mBpO3z33Xfx3XffYfDgwYiLi3smZapotvxarCicgQ7nYNsZWNI3WfxN9tGjR+PKlSs4f/48evXqhdGjRwMARo0ahWnTpuHcuXM4evQoFixYINwBY/r06Vi6dCkWL16M6dOnC9tyc3PDzp07y3ynjCe9+OKL2LlzZ7Ev6qsKc4wOem7cz8OvJ+7g9oP8Yo+1Dq6KK5fOl2v5itJoNDh27JjBlzf//vtvDBgwAK+//joA4J133hHtoAcwnkFlxDlwBgBnIGbjxo0zGPQAujsxNaxh/MO4PRcycTY1C9n56mKPtapD+Pvv8u07izK3HX7//fd49dVXsXLlSkilUkyaNOmZlami8WuRM9DjHMSTgUUDH2dnZ/Ts2VO4+0NkZCRSUlKExx8/fgxAdwtnmUwm3DKWiCCVSuHg4ACtVissL5fLMXXqVEybNq2s9TCT8TNJa/fewAex5/DD76nFHpM5SqFQKJ5ZiWQyGUaOHGlw95j79+9j3bp1yMrKQv/+/TFr1qxn9vy2wFgGlRHnwBkAnEFlo1Kp4GTiw9Ppm69j0DcX8NetnGKPyRwlUBQWPrNymdsO//zzT2zfvh21atXCihUr0KxZs2dWporGr0XOQI9zEE8GZbp38ZIlS/DKK68AAFatWoXPPvsM9erVQ3BwMKKjo4Xb8M2YMQNjxozB+PHjMXPmTINtjB07FhcuXMDRo0fLUhSzqLVSaDTaYvP/O6ARzn7bFZ8NCiv22K0H+ahRq84zK5NGo8HZs2cNRtBRUVEgIuTk5GDdunVwcXF5Zs9vC4xlUBlxDpwBwBlUNtWrV8edx8XP6ADAgU/a4OzstmgfUq3YY7eygFq1K7ZvMmb16tUgIty6dQvDhw9/ZuWxBn4tcgZ6nIN4Mij1wGfOnDlITk4Wfm9j/vz5mD9/Pm7evImkpCR88sknuHLlCgDdj3gdPnwYhw4dQlBQkMF2ZDIZZs6cKXwfyFz6H9NSq9XCfctVKpXRaaVSCY1Ggw5demHnifvC4Eep0kCrJUgkEsidpNB/tUih1M0HgBV7M/DWkHdARFAoFCDdDSGEs0BardbktFKpBKBrLMam1Wo1CgsLkZSUBIVCUao6GZvWn1VTKBQmp4vWo7zrVLQe5tRJoVAgKSkJBQUFoqlTafaTRqPB+fPnhe2LoU6W7ieVSoXz589Do9GIpk6W7ielUonExERoNBqbrRMzzdJ95O3tjWx4ICNLAc3/9ztKtRZaLUHuJIVEIhH6I4VKN5+I8GtSIV566SXumyyoE/dNlu8nlUqFpKQk5Ofni6ZO3DdV7r6pVAOfBQsWYMuWLUhISICrqysyMzMRHx8v/DJxYGAgIiIi8Oeff5q1vYEDByI/Px/btm0zuwx79uwBAOzbtw/79u0DACQkJODIkSMAgPj4eOGXmNevX4/ExESMGD0eM9el4PL/Xzaw/LcUpNzNBQDEbr+G9Ezdr9DHbL6KzCwF8gvV2HHsLkJDQ6FUKhEdHQ2lUomcnBxER0cD0P3oW0xMDAAgPT0dsbGxAHQ/Tvrtt99Cq9Xi8uXLwpc9ExMTsX79egC6X4r+9ddfMXjwYJw8eRIJCQkW1wnQ/WL25cuXdXVavly4/DA2Nlb4Fd+YmBhkZmYCAKKjo5GTk2NxnVJSUrB8+XIAKLFO8fHxAIAjR46YVafExEQMHjxYmBZDnUqzn2QyGe7fvy/8MKAY6mTpfsrOzsb9+/chk8lEUydL99Pff/8NR0dHyGQym6uTvh7MtNL0TUPfnYD31l7H5Tt5AIDlB24jJUPXH8XuuYn0f3SdekxCGjJzlDh6NQsKR08olUqL2921a9fw7bffgoi4b3pKnbhvisWDBw8wePBgLF26VDR14r6pcvdNFt3VTV+An376CXv37hV+0Vyj0aB69eqIj49Hhw4dkJmZiRYtWmDLli1o06aN0e2kpaWhdevWQmV+//13jBkzBmlpaWbd1S0zMxPe3t7CCNLR0REqlQoSiaTYtFKphIODAxwcHPDp1A9Rs+AExr/iB6VKA0cHKaRSCRRKDZwc/52WSoC3l1zBW2Nno2cv3eV8SqVSuLZRqVQKv2SsUqmKTWs0GmRnZ8PFxQVOTk7QaDSQyWTQaDTCtH6UfP78ebRo0QIODg5wcnKyuE5PTjs6OkIq1X03ycnJyeh00XqYWyetVgu1Wl2sHk/WiYiEehSdNlUnjUaDc+fOoVmzZpDL5aKoU2n2k1arxdGjR9G2bVvIZDJR1MnS/aRUKnHs2DG0a9cOUqlUFHWydD8pFAqcOHECzz//PADYVJ0yMzNRo0YNvqubEWXpm4gIr3Ruhy86StGmgQeUai0cpRJdf6TSwsnh3+l/cpUYGJeB1Zt2Cb9sb0m7UyqVyM7OhpeXF4iI+ybum0qsk0QiwZkzZ9C0aVO4uLiIok7cN1Xuvsmigc/t27fh5+eHwMBA4S5jcrkcJ06cwN69e/Hxxx8LB8x33nkHH3zwgcltPTnwAYBOnTph//79Zb6ddUmICO+NGY7qqkuY/JofXJ0diy1z71EBPlyRglcGTcLAIZZds3zx4kVhumHDhpDL5SUur1KpEB8fj9deew1OTk4WPZdYcAY6nANnANh2Bnw7a9PKms2jR48w4LVueKcVoXcLL0ilkmLLnE3NxkfbHuPr1ZvQuHFjs7dNREhKShL+b9So0VNvR2vL7bCicAacgR7nYNsZWHL8tfiMj7WVR8dLRPh57Y9Y+0MsQmsROoe7ooqzAzKzldhyMhcaeU1M+HgG2rZ93uJtFx34mNO5MMaYveCBj2nlkU1+fj4W/m8mDu3aju6hMjSt7QgHKZD6UI3NfynQsGkEpk6fgzp1LLupQdGBj5OTE4KDg4W7szLGmL3jgY8Fzpw5g+N//oH8vGxU9aqOHj1fga+vbzmU1DxqtRpHjhxB+/bt4ehY/OxTZcAZ6HAOnAFg2xnwwMe08sxGrVZj1+8JuHblEtRqFer41UfvV/ugSpUq5VRa88pgq+2wonAGnIEe52DbGVhy/LWtkltBq1at0KpVK6s9PxEhOzu7xMv7xI4z0OEcOAOAM2C66+Nf7vUK8P/fL7UGboecAcAZ6HEO4smg0p/xYYwxZh4+/prG2TDGmHVYcvwt0w+YsrJTq9XYtWuXcCeMyogz0OEcOAOAM2C2gdshZwBwBnqcg3gy4IEPY4wxxhhjTPT4UjfGGGNm4eOvaZwNY4xZB1/qZkdUKhW2b98OlUpl7aJYDWegwzlwBgBnwGwDt0POAOAM9DgH8WTAAx8rk0gk8PDwqNS/qcAZ6HAOnAHAGTDbwO2QMwA4Az3OQTwZ8KVujDHGzMLHX9M4G8YYsw6+1M2OqFQqbNiwwe5PHZYFZ6DDOXAGAGfAbAO3Q84A4Az0OAfxZMADHyuTSCTw8/Oz+1OHZcEZ6HAOnAHAGTDbwO2QMwA4Az3OQTwZ8KVujDHGzMLHX9M4G8YYsw6+1M2OKJVKrFmzBkql0tpFsRrOQIdz4AwAzoDZBm6HnAHAGehxDuLJgAc+Vubg4IDGjRvDwcHB2kWxGs5Ah3PgDADOgNkGboecAcAZ6HEO4smAL3VjjDFmFj7+msbZMMaYdfClbnZEqVRixYoVdn/qsCw4Ax3OgTMAOANmG7gdcgYAZ6DHOYgnAx74WJmDgwPatm1r96cOy4Iz0OEcOAOAM2C2gdshZwBwBnqcg3gysGjgU1hYiD59+iA4OBjNmzdH9+7dkZaWBgAgIsyYMQPBwcEIDw9HVFSUsF5ycjI6dOiAqKgoXL9+HQCQlpYGiUSCkSNHCsvl5uba/W3yLCWWaybLgjPQ4Rw4A4AzYLaB2yFnAHAGepyDeDKw+IzP6NGjceXKFZw/fx69evXC6NGjAQBLlizBhQsXcPHiRVy8eBHr1q0T1pk+fTqWLl2KxYsXY/r06cJ8Nzc37Ny5E5cuXSqHqtgnpVKJ2NhYuz91WBacgQ7nwBkAnAGzDdwOOQOAM9DjHMSTgUUDH2dnZ/Ts2VM4KxMZGYmUlBQAwPz58zF37lzIZDIAQO3atYX1iAhSqRQODg7QarXCfLlcjqlTp2LatGllroi9cnR0RLdu3eDo6GjtolgNZ6DDOXAGAGfAbAO3Q84A4Az0OAfxZFCmu7oNGTIE3t7e+OKLL1C9enXMmjULmzdvBgB8+OGH+M9//gMAuHLlCkaNGgWJRIKVK1ciKCgIaWlpaN26Ne7cuYPQ0FCsWbMGzZo1g7u7O0oqEt85R+fhw4dwdXWFi4uLtYvCGKsk+PhrGmej+5Dz1q1bqFWrlvAhKGOMPWsVcle3OXPmIDk5GbNnz4ZKpYJSqURBQQGOHz+ODRs2YOLEibh48SIAICQkBIcPH8ahQ4cQFBRksB2ZTIaZM2diypQpFj2/SqUCAKjVaqjVamGesWmlUgmNRmN0Wn8GSqFQmJwmIhBRsWkA0Gq1Jqf1pwM1Go3RabVajdzcXMTExCAvL8+iOv33v//F2rVrbbJORethTp3y8vIQExODnJwcm91PltapNG1PoVBg3rx5KCgoEE2dLN1PBQUFmDdvnkEm9l4nS/dTfn6+kIGt1omZZiv7yBp90927dzFmzBhcvnzZJuvEfZPlba+goAAxMTHIzs4WTZ24b6rcfVOpBj4LFizAli1bkJCQAFdXV3h7e8PNzQ2DBg0CANSrVw/t2rXD6dOnzdrewIEDkZ+fj23btpldhj179gAA9u3bh3379gEAEhIScOTIEQBAfHw8Tp06BQBYv349EhMTAQBxcXHCQXn58uXCpXqxsbFIT08HAMTExCAzMxMAEB0djZycHCiVSkRHR0OpVCInJwfR0dEAgMzMTMTExAAA0tPTERsbCwBISUnB8uXLAQCXL19GXFwcACAxMRHr168HAJw6dQo7d+7EG2+8gRMnTiAhIcHsOj3//PNo0aKFTdYpPj4eAHDkyBGz6nT+/Hm88cYb2LJli83uJ0vrVJq25+TkhIcPHyIrK0s0dbJ0P2VlZeHhw4dwcnISTZ0s3U+XLl2CTCaDk5OTzdVJXw9mWmXum+rUqYM333xTeINja3XivsnytpeRkYE33ngDS5cuFU2duG+q5H0TWWjhwoXUsmVLevTokcH8UaNGUWxsLBERPXr0iPz9/enMmTMmt5Oamkre3t7C/wkJCRQQEEBPK1JWVhYBoMzMTCIiUqlUpFKpiIhIqVQanVYoFKRWq41OazQaIiIqLCw0Oa3Vakmr1RabJiLSaDQmpxUKBRERqdVqo9MqlYqUSqXRaa4T14nrxHWytTplZGQQAMrKyiJmiPsmrhPXievEdbL9vsmigc+tW7cIAAUGBlKzZs2oWbNm9NxzzxER0YMHD6hXr17UuHFjaty4MS1btqzEbT058CEi6tixo9kDH7F0vIWFhTRnzhyhwdmymJgYysjIKPft2lMGzxLnwBkQ2XYGYjv+liexZWPL7bCovLw8WrlypfCGrDzZSwbPEmegwznYdgaWHH/LdHMDaxDbF0i1Wi0yMzPh4+MDqdS2f0+2Xbt2+PDDD/H666+X63btKYNniXPgDADbzkBsx9/yJLZsbLkdFnXv3j307NkT33//PVq3bl2u27aXDJ4lzkCHc7DtDCw5/vLAhzHGmFn4+GsaZ8MYY9ZRIXd1Y+VDoVBgxowZlfpuSZyBDufAGQCcAbMN3A45A4Az0OMcxJMBn/GxMiJCTk4O3N3dhR+GrWw4Ax3OgTMAbDsDsR1/y5PYsrHldlhROAPOQI9zsO0M+IyPnZHL5dYugtVxBjqcA2cAcAbMNnA75AwAzkCPcxBHBjzwsbKi9yKvrDgDHc6BMwA4A2YbuB1yBgBnoMc5iCcDvtTNyogISqUSMpnM5k4dVhTOQIdz4AwA285AbMff8iS2bGy5HVYUzoAz0OMcbDsDvtTNztj7F8XKA2egwzlwBgBnwGwDt0POAOAM9DgHcWTAAx8rUyqViImJsftTh2XBGehwDpwBwBkw28DtkDMAOAM9zkE8GfClbqzSyM3NxcCBAzF79myEh4dbuziM2R0+/prG2bDSOn78OObOnYuNGzfC0dHR2sVhzO7wpW52RKvVIiMjA1qt1tpFsZqKysDBwQEzZ86Et7f3M32e0uK2wBkAnAGzDdwOKy6Dxo0bY+7cubDFz6G5HehwDuLJgAc+VqZSqbBy5UqoVCprF8VqKioDFxcXNGvWDLVr136mz1Na3BY4A4AzYLaB22HFZeDu7o7g4GA4OTk90+cpDW4HOpyDeDLgS90YY4yZhY+/pnE2jDFmHXypmx3RarW4deuW3Z86LAvOQIdz4AwAzoDZBm6HnAHAGehxDuLJgAc+VqZSqbBx40a7P3VYFpyBDufAGQCcAbMN3A45A4Az0OMcxJMBX+rGGGPMLHz8NY2zYYwx6+BL3eyIVqvFtWvX7P7UYVlwBjqcA2cAcAbMNnA75AwAzkCPcxBPBjzwsTK1Wo1du3ZBrVZbuyhWwxnocA6cAcAZMNvA7ZAzADgDPc5BPBlYdKlbYWEh+vfvj0uXLsHV1RW1atXCsmXLEBAQICzz448/YtiwYdixYwd69eoFAEhOTsbIkSMhkUiwcuVKNGjQAGlpaahfvz5GjBiBFStWAND9wKS7u3uJ97LnywkYY8w6+PhrGmfDGGPW8UwvdRs9ejSuXLmC8+fPo1evXhg9erTw2O3bt/Hdd98hMjLSYJ3p06dj6dKlWLx4MaZPny7Md3Nzw86dO3Hp0iVLiyEaGo0GSUlJ0Gg01i6K1XAGOpwDZwBwBsw2cDvkDADOQI9zEE8GFg18nJ2d0bNnT0gkEgBAZGQkUlJShMdHjx6NRYsWQS6XG6xHRJBKpXBwcDC4NlAul2Pq1KmYNm1aWepg1zQaDY4dO2b3DaksOAMdzoEzADgDZhu4HXIGAGegxzmIJ4My3dVtyJAh8Pb2xqJFi/Dtt98iJSUF8+fPR1RUFCZPnixc6nblyhWMGjVKuNQtKCgIaWlpaN26Ne7cuYPQ0FCsWbMGzZo140vdGGPMRvHx1zTOhjHGrKNC7uo2Z84cJCcnY/bs2UhNTcXy5csxc+ZMo8uGhITg8OHDOHToEIKCggwek8lkmDlzJqZMmWLR8+vvI65Wq4UvWqlUKqPTSqVSGKE+Oa0/A6VQKExOExGIqNg0oLvLhalppVIJQDdKNjatVqtRWFiIs2fPQqFQiKZORethTp0UCgXOnj2LgoIC0dSpNPtJo9Hg+PHjwvbFUCdL95NKpcLx48eh0WhEUydL95NSqcSJEyeg0Whstk7MNFvZR9w3cd9UHvtJpVLh7NmzyM/PF02duG+q3H1TqQY+CxYswJYtW5CQkABXV1ccO3YMd+7cQaNGjRAQEIDjx49jxIgRWL58uVnbGzhwIPLz87Ft2zazy7Bnzx4AwL59+7Bv3z4AQEJCAo4cOQIAiI+Px6lTpwAA69evR2JiIgAgLi4Oly9fBgAsX75cuFQvNjYW6enpAICYmBhkZmYCAKKjo5GTkwOlUono6GgolUrk5OQgOjoaAJCZmYmYmBgAQHp6OmJjYwEAKSkpQv0vX76MuLg4AEBiYiLWr18PADh16hS2bNmCpKQkHD58GAkJCaKoU3x8PADgyJEjZtXpxIkTSEpKwi+//CKaOpVmP2k0GsTExOD+/fuiqZOl++n+/fuIiYmBRqMRTZ0s3U/nzp3DqlWroNFobK5O+now07hvst06cd9k+X66efMmkpKSRFUn7psqed9EFlq4cCG1bNmSHj16ZHKZDh060I4dO0rcTmpqKnl7ewv/JyQkUEBAAD2tSFlZWQSAMjMziYhIpVKRSqUiIiKlUml0WqFQkFqtNjqt0WiIiKiwsNDktFarJa1WW2yaiEij0ZicVigURESkVquNTqtUKlIqlUanuU72UyeVSkVnz56lc+fO0a1bt0RRJzHuJ65T2euUkZFBACgrK4uYIe6buE62VqecnByhbyooKBBFncS4n7hOFds3WfQdn9u3b8PPzw+BgYFwd3cHoLtBwYkTJwyWe/I7Psbov+OjH8UBQKdOnbB///5K9R0ftVqNU6dOoU2bNnB0dLR2cazC3jPIy8tDamqq8H94eHiptmPvOZQHzsC2MxDb8bc8iS0bW26HFcXeM7h16xaysrIAAF5eXqhTp47F27D3DMoL52DbGTyz7/j4+vqCiHD9+nWcP38e58+fLzboAYCDBw+WOOgBgICAAINBD6A7RWbBOEwUiAi3bt2qdPUuyt4zqFKlCvz9/YX/MzIySrUde8+hPHAGnAGzDdwO7T8DPz8/eHt7AwAePXpUqm3YewblhXMQTwZluqubNYjtUzUmHgqFAsnJyQgNDS2XT0OISLh1PGO2gI+/pnE2zFalpqYiLy+v1FcjPIn7JmZrKuSubqx8qNVqHDx4ULjbRWUklgwcHR1Rv359ODg4lGr9ojlkZmbit99+w9WrV8u5lLZNLG2hLDgDZgu4HYong7p166JBgwalWvfJDH777TecOHFCuItXZSGWtlAWYsmABz5WRkTIzs62+1OHZSGWDBwcHFClSpVSfxJWNIeqVavi6tWrle6TY7G0hbLgDJgt4HYongxkMhlcXFxKte6TGTRp0gQnT54s9Qd89kosbaEsxJIBX+rGGGPMLHz8NY2zYYwx6+BL3eyIWq3Grl277P7UYVlwBjqcA2cAcAbMNnA75AwAzkCPcxBPBjzwYYwxxhhjjIkeX+rGGGPMLHz8NY2zYYwx6+BL3eyISqXC9u3bK90dUoriDHRsPYe8vLxnXjZbz6AicAbMFnA75AwA+8ggJycHWq32mT6HPeTwrIklAx74WJlEIoGHh0elvic+Z6BjyzmoVCosWbIEO3bseKbPY8sZVBTOgNkCboecAWD7GeTk5GD48OGl/oFWc9l6DhVBLBnwpW6MsaciIly7dg21a9eGm5ubtYvDrISPv6ZxNoxVPLVajVu3biEgIMDu35Cz0uNL3eyISqXChg0b7P7UYVlwBjq2nINEIkHDhg2f+aDHljOoKJwBswXcDjkDwPYz0P9w+LMe9Nh6DhVBLBnwwMfKJBIJ/Pz8KvUnFZyBDufAGQCcAbMN3A45A4Az0OMcxJMBX+rGGGPMLHz8NY2zYYwx6+BL3eyIUqnEmjVroFQqrV0Uq+EMdDgHzgDgDJht4HbIGQCcgR7nIJ4MeOBjZQ4ODmjcuDEcHBysXRSr4Qx0OAfOAOAMmG3gdsgZAJyBHucgngz4UjfGmM3TarXYu3cP/jjwO3JzcuDhWRXde/VDZGSk3V9vbE/4+GsaZ8NY5ZOfn48N63/G5aTzUCmVqFnbF/8ZMBT+/v7WLlqlwpe62RGlUokVK1bY/anDsuAMdDiH4hkQEb5ZughdO7TEya2z8FpIKsa8+BgvB17FtuWT0S2qNX75eY2VS12+uB0wW8DtkDMAOAO9J3PIycnBxPdHo1+PSCD1ZwxqcQej2z1CiyrH8Pn7/fB67044e/aMlUtdvsTSFhwtWbiwsBD9+/fHpUuX4Orqilq1amHZsmUICAjA22+/jaNHj8LFxQUeHh5YsmQJmjdvDgBITk7GyJEjIZFIsHLlSjRo0ABpaWmoX78+RowYgRUrVgAAcnNz4e7uDjs7CVUmDg4OaNu2rd2fOiwLzkCHczDMQKvV4t2RgxDimY6EOS3g6Gj4OU2bsOpQKDWYvvobXEpKxMzZC6xU6vLF7YDZAm6HnAHAGegVzSEzMxNv9euOaW/UxMK32hgsF1zPE53b1MH9RwUYNWkYxn88F92697RSqcuXWNqCRZe6FRYWYv/+/ejRowckEgmWLl2K7du3Y/fu3di+fTt69uwJR0dH7Ny5ExMnTsTVq1cBAAMGDMC0adOg0WiwYMECrF27FmlpaWjSpAmqVKmC/fv3IywszKyBD19OwFjl8Pl/J6EuzmNIV19sOpCGlDs5qOYuR1j9qujYqrbBJW6f//A3/Fq9hdHvvmfFEosfH39N42wYEz+NRoNXur2A6KG14O0pw+YDaVBrCI4OEnR5ri4aBVQVllUoNXh9+hnMjf0FjRs3tl6hK4Fndqmbs7MzevbsKbzhiIyMREpKCgCgd+/ecHR0FObfuHEDWq0WgO5yFalUKnyKqyeXyzF16lRMmzbNkmKIilKpRGxsrN2fOiwLzkCHc/g3g4yMDJw/sRdOEiVaDN2GITMPY8aKc/hg0XF0ef93xG7+22C9L4aHYsPa5Xb/w2oAtwNmG7gdcgYAZ6Cnz2H79q2IaABsOpCKsLe2YMLiE5j89UlMWHwCLYdtQ2LyQ2EducwBS95rhPmzP7ViycuPWNpCmb7js2TJErzyyivF5n/11Vfo2bMnpFLd5mfMmIExY8Zg/PjxmDlzpsGyY8eOxYULF3D06NGyFMVuOTo6olu3bsKgsTLiDHQ4h38zWBu3Eg1qEkbMOQKfqnKcWPEKzv34Kv7ZPQjhgdXwzRMDH4lEgl4R1bB921brFLwccTtgtoDbIWcAcAZ6+hziln+N5LQMzFp1HgO6NcDf6/rh6obXcXtbfyiUGqzckWywXv067sjJTENmZqaVSl5+xNIWSj3wmTNnDpKTkzF79myD+WvXrsWGDRvw3XffCfNCQkJw+PBhHDp0CEFBQQbLy2QyzJw5E1OmTLHo+fWf7KrVaqjVamGesWmlUgmNRmN0Wn8GSqFQmJwmIhBRsWlAd7cpU9P6UbFGozE6rVarodFoEBQUBK1WK5o6Fa2HOXXSarUICgoS8hBDnUqzn6RSKfz8/KAnhjqZu58KCwuxYsUK/Prrr/Dz88OB3TvwU8JV1PFxweFvX0arUB80CqiKKs6OuJOZh6ZBXv9fJy2UKt3z9+9YB5vW/WAzdSrtfiIi1KtXD1Kp1Ob2k77szDRb2UfcN3HfVB77CQCCgoKEPMRQJ0v2U3Z2Nj7//HNcunQJ3t7eePzwDn7afR1jXgvFtx89j4Z+HqhXswruPswHALQILt439Wnria3xm22mTpW9byrVwGfBggXYsmULEhIS4OrqKsxfv349vvjiC+zZswc1atQwe3sDBw5Efn4+tm3bZvY6e/bsAQDs27cP+/btAwAkJCTgyJEjAID4+HicOnVKKFdiYiIAIC4uDpcvXwYALF++XLhULzY2Funp6QCAmJgYYXQeHR2NnJwcKJVKREdHQ6lUIicnB9HR0QCAzMxMxMTEAADS09MRGxsLAEhJScHy5csBAJcvX0ZcXBwAIDExEevXrwcAnDp1Chs2bEBMTAz279+PhIQEUdQpPj4eAHDkyBGz6nT06FHExMRg7dq1oqlTafaTQqFA3759hfqJoU7m7KfHjx+jc+fOGDVqFHr37o2+fftCq1HBr4Yb7mQWoOfE3TiRlIHl269gz6l0PMr+9zR74rVHWL83FQBwPT0HV6+lmlUnIsL8+fPx9tABGDNyIHr36or/Rc+BQqGwets7deoUhg0bBoVCYVP7KScnR6gHM437JtutE/dNlu+nlJQUxMTEYN68eaKpk7n7KS0tDW3btsWXX36JyZMn4/XXX0dtH1c4OUqwfPsVfLDoOK7ezMLy7Vcwb+1fAICHWYW6OhXpmx7nKnDo4AGz6qRSqfDxlI8wZODrGDNyIPr2eRmrVq0CEVm97YmmbyILLVy4kFq2bEmPHj0ymL9+/XoKCgqitLQ0s7aTmppK3t7ewv8JCQkUEBBATytSVlYWAaDMzEwiIlKpVKRSqYiISKlUGp1WKBSkVquNTms0GiIiKiwsNDmt1WpJq9UWmyYi0mg0JqcVCgUREanVaqPTKpWKCgsL6ebNm6RQKEipVIqiTkXrYU6dFAoF3bx5kwoKCkRTp9LsJ41GQ8nJycK6YqiTOftpyJAhBIAAUM+ePSk5OZle6RJBmQkDaP64NsJj7q6OwvSFn14j7Z9vk+qPYVR4aChp/3yb8vcPod7dX3hqnTZvWk9do1rThMERdOyHV+nGjgH018/9KHbqS9Tlhab0348nUH5+vtXanlKppGvXrpFGo7Gp/aTVaikjI4MAUFZWFjFD3DfZfp24b7J8P6lUKrp58ybl5+eLpk7m7Kfc3FyqV6+e0OfExMTQ6dOnafArrejSz31p9KvBwmP6Px9PORUcHFKsb9o+rxN9tWhBiXUqKCigL2d8Qp3aNaGFH75If/3cj25sf4tOrOpDU99+njq/0ILiVq+watsTS99k0V3dbt++DT8/PwQGBsLd3R2A7gYFJ06cgJOTE2rVqgVvb29h+X379hn8X1RaWhpat25tcN1jp06dsH//fr6rG2OViFQqBRGhd+/e+OqrrxAQEICRQ9/Ex70IQb4euJz2GL/sTYFaQ3jwuBCfv90cdatXKbadQ+fuYX96oxJva/1VzFxcOr4Ri95rBhfn4tcpExE2H7iNnw4X4pfNv8HZ2blc62rv+PhrGmfDmHgcPXoU7du3BwBMmzYNn332GeRyObq80By757WGVCpBwrFbOHkpE4+yFfB0k2H6283h4FD8QqpPVlzGy2/PQ7t27Yw+l0qlwpC3+qBzmALDX65v9Ee5lSoNPlvxN9zqdcDnX0SXb2VFwJLjr0UDH1sgts5FoVAgJiYGEydOhFwut3ZxrIIz0KmsOXz55Zc4ePAgtm/fDkdHR8TExKBDhw7YvGwSFowJM3s7g2afx9xl2+Dr62v08S0bf8G2uJlY9Vl7rN9zHccvZuCzt1vCu2rxwc3uE3fwy3EZVq3dXOp6lZYttwOxHX/Lk9iyseV2WFE4g8qbgVKpRP/+/eHr64slS5YIOSgLshBRLRHdIuuYtR2FUoPen1/AroOnjQ5oAGD02wPQof499HupPhb89BccpBJMGdwMUmnx5ad9l4RG7Ydh6PBRZapfadhyW+CBjx3RarXIzMyEj4+PcBe8yoYz0OEcDDPo1bUdlo2vB7+abk9d769r/2DuNgV+3vSr0cc1Gg2aN/LF8RU9sGzL35j81XEAQK/29bA9prvRdUbNO4ePZq1BSEhI6StUCrbcDsR2/C1PYsvGltthReEMOAM9fQ4ajQbD3+yM7XOeg5Pj0/P4evN1OAe9gdHvjjP6+MWLF/HB2z3wa0xXvPnfvdjxx00AwFeT2uK9N8OLLa/RaNHto1PYc/hche8PW24Lz+x3fFj5k0qlqFGjhs01oorEGehwDoYZfP3dWgybdxF3HuSXuM7ltMf4cFkKvvp2tcllxo4ZjYvJ9+DWYRUmf3UcQ18OxpfvtsbOIzfxvx/PG11nTG8/fPv1/DLUpnS4HTBbwO2QMwA4Az19DrVr18aI9z7BqPnnhbu2mbLxwG2cul0VI0ePMblMn15dsf/Ubbi88AN2/HETcTOi0KFlbXyw8BjOX31YbHkHByk6t6yK33//rcx1spRY2oJ9l14EFAoFZsyYUalvE8sZ6HAOhhk0aNAAy1bHY8j8y1jwS7Jwtxy99Ad5mLH6MiauuIOfNiWgevXqRrdJRDh64De4uei+07N+Tmf88HkHTB3aHFKpBP+NPYmtB9OKdWItQ31wJenss6loCbgdMFvA7ZAzADgDvaI5vPHmALw6dBp6Tj2JX/bdLNZ3nLmciRHz/8KB1Br4Yc1GkwOFmzdvwoEKAAA1vVxwZHlvDOrREHEzogAAb07bi8Pn7hZbb0Dnuti6cW35VtAMYmkLfKmblRERcnJy4O7ubvL6T7HjDHQ4B+MZaDQa/LpzB1Z9vxjqgseQgKAhCTy8amPUuMl46aWOJeZ16NAhfDZhAF6L8sfExcfw1aTn4V/bDWt/S0YDP0/M/f8zPt/99wWM6tPIYN3eU09hxz7Tg59bt25h9arvkHr9KkirRV2/AAwZNhrBwcHlmoGtENvxtzyJLRtbbocVhTPgDPSM5ZCdnY01P67E9s0/Qe6gBkBQqCQIa9YGY9776Kn9wCcfT8CJ/RvgU9UFG/enIvGnvli14yqqecix72Q6Dp7VDXr+2TcUnm4yYb1ChRqD59/Epu17TW775MmTWL9uFTIf3IeTTIbG4S0xdNhIeHl5lWsGtsKS4699//yqSNjal8SsgTPQ4RyKZ+Dg4IDer/ZB71f7AIDwY6/mOn3iCGp7yfBqB3/8cf4uJn91HCq1Vnh81GuhWB5/GV+tu4iB3RvCtcjd3rTGNgggNTUVUz8aD0fKwojXQzH65SBIpRJcS3uIeV+MxoMsKWZ8uRAtWrQwu5xFcTtgtoDbIWcAcAZ6T+bg4eGBce99iHHvfSj8kKYlfdOF86chlzkgdko7HP3rPjqP+w33H+nOADUP9kZtH1fczczHjOVnsOjDtsJ6BQoNXF1djG5z164ELJo/E+EN3TG0Tyjq1gqDUqnB8XMX8PbAHvCp3QDzF8aiWrVqpUhAHG2BL3WzsqI/wlRZcQY6nIN5GVh6fXFBfh6Cfd1x6OxdLJ70PBwdDD+pWrntCgDgUuo/OPP3A2H+w8eFKFBKcOLECeFXo3NycnDhwgWMHNoX0RMaYW1MT7z0fCBq+LjBx6sKIlvWw/I5XbF8Zlt8OmUkDhzYZ1FZAW4HzDZwO+QMAM5A72k5SCQSi/sm0mrg5SZDboEa896LEAY9AHD+6kM8+Ef3/1e/XDT4sG7vqduo6lMXycnJAHRXReTl5eHH1Svw04pZ2Ly0G+ZPjUKT0FrwquqKWjXc0adbI8QvexWj+1TD63264v79+5ZGIJq2wJe6WRkRQalUQiaT2dypw4rCGehwDs8mg9ivF6PGo3isTLiOhK9fxt3MfEglQDUPOS5ce4R5cYlwcJCgY+u6GNknVFjvs2WnMPuHcwB0n3J5eXnh7t278PbyQJd2AcjKKcQXEzuhdVPjt8/OL1Ci39jt+HblZtSvX9/s8tpyOxDb8bc8iS0bW26HFYUz4Az0nkUOfV9+Ce92dMDhiw/x5Zg2uH47GzW9XCCRADv+uIn4g6mQSCT4oH842japKazXuP9m/J36CADg7e0NpVKJ/Px8BNbzQcvGNVCoUGPN4jfgVsX42ZlLyRmYPO80fv39sEWDNVtuC3ypm51RKBSQyWRPX1DEOAMdzqH8M+jV+zV8Oi4OTQKr4tc/buDlF/yFx1o1qo710Z2LrfPwcSG+23LFoEx37+qut87JycMvO/4CANSs7oYf5hsf+Li6yDBrYlssWTwXi75aZlGZuR0wW8DtkDMAOAO9cu+bXuuP9NSfcTIpA3ce5KGB779v2Pt3bYD+XRsUW+fwubtIz9TdXMDR0REPH/5757eb6ZlITtWdyTlx/jY6tSu+PgCENayBF1pWw65dv6NHj54WlVkMbYEvdbMypVKp+1EsOz91WBacgQ7n8Gwy8Pf3R4GkGsa/FoxvN17E4bN3Slz+4eNCvDppF958awj8/f3h5+eHpk2bolatWroy/v8dfF58LgCuLk7oNfxHHDtz0+i2WjWpi78vnkZ+fsm35C6K2wGzBdwOOQOAM9B7Fjn0HzAYG/74B0sntMHQGQdwN7PkfuL0pQyMjj6KYcNHoFatWqhXrx6aNWsGV1dXALofS5VKJRjRvxWWrT2BYRM34c79bKPbGvFGE6z8/iuLyiuWtsCXujHGRO/YsT+xeMa7+P6DMIxZdBLVqrpgTL8wNG7w7x1u/slWYPXOK9i8LwUSl1o4fOzfH4jTarVYunQpflmzBH06B6FT+wY4ce4Wxn22Q1h/+dzXcPT0Ddy+m4X+vZvi7TdbAwBiVp5Ek/Zj0bVr14qt9DPAx1/TOBvGmKX+N+tzVPnnILq0qIZxi0+hS4Qv3u4dgurV/r15wdWbj7Fs8yWcuvQQbTu+hvmLvhEey8nJwcgRwyDXpiCyeT306hSCD2bsxNbdfwMA6tR0x9xp3bFx5wUoVRrM+qgLWobXBQC8Mioe2xKOw8HBoWIr/QzwpW52xJZ/CbeicAY6nMOzy6Bt2+eRNmQSxnwdg2WTIpB2Nxex6/9C2r08ODronsdBCkQ2qg65Rx2sj99t8PxbtmzBBx98AAA4dvo6xg9rCwepBFVcZbiw6320fHkpRn0cj1rV3VDD2w0jp8Rj665L+DHmDVSvJsPjx4+tngFjluB2yBkAnIHes8rh40++wLh3hkJxMgUJc1/CnjP3MDb6Dyj+/2YGao0Wdbxd4F3VHcFN22PuwqUG60+cOBEbNm4BAKzfcQHVvavgaupD9HwpGO8OikDvEWsweMJGNA+rjdv3stC61zf4/IOO+GR8FKp5OiMnJwdVq1a1agYVzX5LLhIqlQorV66ESqWydlGshjPQ4RyebQZvDRyKUR/F4K0Fafh+1z283SMIP0xpi6/fb43BXYOgdayGG5pGiP/1YLEfQ23VqhWqV68OmcwRMz7shKWrj6FhgDc0Gi2e77sM/nWrYvqEjrjx5xSc/W0c3hvWFjv3XYFvxFzs/zNVuBTBHNwOmC3gdsgZAJyB3rPKQSKRIPa7H+ES9Bp6Tr+AizcLMXtUcyyfHIGFY1uiy3MBuPGPC2o164eVcRuKDTh69uwJiUSCyJZ+eKFNAAZP2Ii3/9MKvx24ik/n70FIoA9+jxuGM7+Ow+X9HyKsYQ3M/Go/gqNicOf+40rZN/GlboyxSicxMRG/rF2BBxl3IZc7I6xJSwwaMgKenp4m1/nmm28wbtw4ODk5QC5zwF+/v487Gdn4dP4eHDyeito13JF+cqqwfMrNR+gxdDWSUx/ir7/+QpMmTSqias8UH39N42wYY2Wh0WiQkPAr9iZsRU52Ntzc3RHVuRde6f0qHB1NX6DVsWNHHDhwABKJBK2a1MHxre9i5foz+OqHP3EpOQPDXm+JHxb0A6C7M9vxs7fQrt93cHdzRXZOXkVV75my5PjLAx8r02q1SE9PR926de361GFZcAY6nINtZ6BSqdDxpRfQppEjPhzRDr61dYOkBw/zEL8rCe/+dxuyLn6OR4/zsSkhCSk3H+HbNSfgVsUV/zzOKrHjKsqWMxDb8bc8iS0bW26HFYUz4Az0bDmHmzdvIurFSHwyNhL/eaUpqrjKoNFokZVTiHembUXS1Qxc3PM+Tpy7jQPHU/Dn6Rv47cBVPN82Ekf/PGb289hyBpYcf22r5JWQSqXCxo0b7f7UYVlwBjqcg21n4OTkhB9WrUHaHSVq13DHnfvZ6DZ4FWq2moOEg1cBAJ7hM1G//QJ8vnAvtu/5G41D6mDhwhjs2bMHW7ZswYEDB1BYWFji89hyBqzy4HbIGQCcgZ4t51CvXj1MnfYJsvK0qOIqw+ETqWjYIQY1Ws6BQqnG5esP4Bj4Gdr1+w7zlh1G6q1/UL9eTcxfsBA7duzAtm3bcObMGTztPIgtZ2AJPuPDGGMWiPvxBxzevRqOKMR3P58CAPh4uWL90rdw6VoGZE4OeKt3U8z55k8cOHIT9V0kaF8dcJZqkal0wL57WrRo3xHvTfkEvr7GfwPIVvHx1zTOhjFmLUSEEcMH4MWmwKwlu3H9hu4HTv/Tqwle6dIIGZm5aODvhRefq483xm1G7j9qtPGRIsxDCymAlHwHnHksxasDhuHtd8Za9N0fW8CXutkRrVaLlJQUBAYG2typw4rCGehwDvaTwYb1P+OrmFnwrSFDVFt/dGzbAMGBPlCpNNi+9wqWrDoJp9xc/NilFuq4G/7YGxHhRHouPj+nxMylP+D59i8YPG7LGYjt+FuexJaNLbfDisIZcAZ69pCDRqPBx1M+wLmTBxEc4IaI5r7o0zUMnh7O+CerAD9uvoAV606gew0ZvmhfA65OhrexVmm02HQ1B3Hprli7/fdiN/mx5Qye2aVuhYWF6NOnD4KDg9G8eXN0794daWlpAICMjAx0794dDRs2RHh4OI4cOSKsl5ycjA4dOiAqKgrXr18HAKSlpUEikWDkyJHCcrm5uZBIJJYUye6p1Wrs2rULarXa2kWxGs5Ah3Ownwze/M8A7DlwGt36jMWvhx/ho3nH8eq7O9BnbAI27PoHbV0Je/rWKzboAXR38Yn0dcfmrlUxY/xwXLp0yeBxe8mAiRu3Q84A4Az07CEHBwcHLFi4FGvW70atBh2x/vd0DJmyB6++uxMjPj2GzTtTsCjCC/Nfql1s0AMATg5SvNXIE/OaqjCod/diP7xtDxmYw6IzPoWFhdi/fz969OgBiUSCpUuXYvv27di9ezfefvtt1KtXDzNmzMCpU6fw+uuv4/r163B0dMSAAQMwbdo0aDQaLFiwAGvXrkVaWhqaNGmCKlWqYP/+/QgLC0Nubi7c3d1LvM5QbJ+qMcbE4+HDhxjaNRLbengJH+IQEabuv4WLGfloU8cNEyNrwUOuu9HBnRwlPvzbAxt3HcTFixdx+tRJFOTnwsunJrp06QIvL6+Snq7C8fHXNM6GMWartm7ZjMvL/4sprasJ8x7mq/Dub6kAgC6BVTGqRXWh3/rl7yw8bDsc4z6cjIMHDyLl+lVoNVr4+ddH586d4eTkZJV6mPLMzvg4OzsL9wwHgMjISKSkpAAANmzYgHHjxgEA2rRpg5o1awpnfYgIUqkUDg4O0Gq1wvbkcjmmTp2KadOmWVIMUdFoNEhKSoJGo7F2UayGM9DhHOw/g1XfxWJUsJPBmesLGQVYcOwuMvPV+PKPdLy87gqSH+lucFDbzQkPbyaj6wst8e30waiSvAx17v+Eq7/OxNv9XsSIwf3w999/W6s6rBKz99dieeAMOAM9e89h9dKFGNnY3XBeYia2XP4HaY8VGPNbKsYmpCFXqatfj/quWPHNInRt3xTH1n4Enxs/wOfWKuz/YRK6v9AU0z+ZjH/++ccaVSkz8+6vasKSJUvwyiuv4OHDh9BqtQbXAwYEBODmzZsAgBkzZmDUqFGQSCRYuXKlwTbGjh2LJUuW4OjRo2jWrFlZimOXNBoNjh07hoYNG8LBofipx8qAM9DhHOw/g73bNuGDzoadi/T/x0Azo3xRqNZi4u6bCP0mEbWqOMHHzQnPNfHGondqw91V9wmaUqVFRpYS6/v54UZGFiaO7ovx0+aje89eFV0dVonZ+2uxPHAGnIGePedw584duCsewculqsF8qQRwdZJi3+BG+Prkfcw5mo7vz2YgxNsZagnw0ZsNMaKrPxwcdJ2YUqXFw+xb+PItXxxO+hOvv9wBq37ZiXr16lmhVqVX6m8nzZkzB8nJyZg9ezYAFPtuTtHL1UJCQnD48GEcOnQIQUFBBsvJZDLMnDkTU6ZMsej59bfTU6vVwvWGKpXK6LRSqRRG6U9O689AKRQKk9NEBCIqNg3ovuxlalqpVALQvWCMTavVauF7TlKpVDR1KloPc+oklUqF73qJpU6l2U8ymQyDBw8Wfu9FDHWydD85Ojpi8ODBkMlkdlknqVYJqUR3/FOodY838nFGs5oueP/3NHQN9MTxt8OwrGd91Ksqw+0cJX7Yewujvz6PtPu6H5JzkEowpKMfZE5S1K/linUTAvHN/z7Cn38esZn9xEyzlX3EfRP3TeWxnxwdHTFy5EgQkWjqVNn6pvT0dPhXkfxbp//vm/qEVINWS5i05yamta+DUyPCsbBLPWQrNbiTrcSHK5Iwa/1VZOfpyqvvm+QyB7zU1AvfDPHB8P66kx+2sp/MUaqBz4IFC7BlyxYkJCTA1dUV3t7eAIAHDx4Iy9y4ccPsUeDAgQORn5+Pbdu2mV2GPXv2AAD27duHffv2AQASEhKEy+vi4+Nx6pTuVrPr169HYmIiACAuLg6XL18GACxfvly4VC82Nhbp6ekAgJiYGGRmZgIAoqOjkZOTA6VSiejoaCiVSuTk5CA6OhoAkJmZiZiYGABAeno6YmNjAQApKSlYvnw5AODy5cuIi4sDoPvF+PXr1wMATp06hc2bN+Ps2bM4dOgQEhISRFGn+Ph4AMCRI0fMqtPx48dx9uxZrFu3TjR1Ks1+0mg0mDRpEu7fvy+aOlm6n+7fv49JkyZBo9HYZZ2u330IpYaQo9Tgf0fvAAAeFmjwuECDa/8okPKPAmsvPESvhlXh5e2MGYNCsfz95th9NgON3tmPH3bfwNnrjzF3UzI0GsKpq4/x2+kM/DC2PqZMGGP1/aRvb8w07ptst07cN1m+n27evImzZ89iwYIFoqlTZeub1Go1/kjJLNY3abSEQg3h78wCpGcrset6Fmq6O2H0ywGYMSAE43rVx6z1V9Hwnf04nfwYZ69n/ds3JT/G+dRsvNfJBZ9MnWz1/WRR30QWWrhwIbVs2ZIePXpkMH/o0KE0ffp0IiI6efIk+fn5kUqlMrmd1NRU8vb2Fv5PSEiggIAAelqRsrKyCABlZmYSEZFKpRKeR6lUGp1WKBSkVquNTms0GiIiKiwsNDmt1WpJq9UWmyYi0mg0JqcVCgUREanVaqPTKpWKcnNzKS4ujvLy8kipVIqiTkXrYU6d8vLyKC4ujnJyckRTp9LsJ4VCQStXrqSCggLR1MnS/VRQUEArV64UtmVvdeoa0ZTyp7Ym9SfPUf7UNqT873P0Wfs6BIBiutQj1f/P/6KjH/0+M5IKt75C2l9fpYyfu9PgTn4EgJaNa0orJzSnwq2vkHL7K6TYpltm2MtN6OLFi1bdTxkZGQSAsrKyiBnivsn268R9k+X7qaCggOLi4ig7O1s0dapsfdO9e/fo9ecakvqT54S+6f7EltS9gSe5OEro2PDGQt/UI8yLHv/SnQq3vEzaHa9Q4tcdqFWQJ7m7ONKZxS/QyvebUuGWl0m59WVSxL9Mqq29KCoiTMjDHvomi+7qdvv2bfj5+SEwMBDu7rrr2OVyOU6cOIH79+9j8ODBSE1NhUwmwzfffIMOHTqY3FZaWhpat24tjOIAoFOnTti/fz/f1Y0xZpdiFy+E19EV+E+oJ4gI7/2ehm/PZGBc65r4qpu/cElwjy3JSJjX3uASYSJCt0+PQaHS4tC89sW2ffTSQ+x9HIkZs+ZXWH2exMdf0zgbxpiterP7S1jcKAu13GR4XKhG958v40JGPla+0gD9G+uu2rrxWIHZFx9g+aSWBuvm5KtRe8huTH0jCJ/+J7jYtqdvSEePMUvRtm3bCqmLMc/srm6+vr4gIly/fh3nz5/H+fPnceLECQBAzZo1sXv3biQnJyMpKanEQQ+gu/lB0UEPoDtFZsE4TBTUajWOHTtm9/dFLwvOQIdzsP8MBr89CquuqaHREk7fzcO3ZzIwK8oXS7oHGAxynJykxb4XKZFIUNtLjj+SHiLyw0PILzTMIKCGK+6m36iQejBm76/F8sAZcAZ69p7DiAlT8M1F3fdIvzl9H+fu5WPPwEbCoAcA7uYq4V+rSrF13V0d4SyT4vO1VzBiyXmoNVqDxwO8gbt37z7bCpQj2/rp1UqIiHDr1q1KN+ArijPQ4RzsPwMPDw8MHDcZH/7xDzzkujv/WPKbzMM610NkaDWcvPoYZ68/NnhMpSE4OtrWbycw8bL312J54Aw4Az17z6Frt+5I9wrD5uQcVHV2gJYIDlLDzsnJQQq1Wmt0/RkDQlDXW45fDqdDrTbMQKWRCDdlsgcWXepmC/hyAsaYrfvu68XYtyYWLorHWPNXJpLHNUP9as4AALWW0HHDVeye1x4u8uK3Rc0rVCN09D4oVFr8NKUVurSoAQDYeuw+blbrgw8mflyhdSmKj7+mcTaMMVumVCrxzqA3UTMzCbsv3UG+Woukd5sKVx+k/lOI8Ufv4LcvI42uf/zyP2g35QjahlbDqgnN0bCOGwBg3A838d7sdWjUqFGF1eVJz+xSN1b+1Go1Dh48aLenT8sDZ6DDOYgng3fem4AZq7dB3rgDCMDbv9/G7JP/4IPDj9B5+yN4N2iJ9UfuG11X7iTFnGFhaFrfA90+PYaz1x4DAOKO5mDwsFEVVwlWqYnltVgWnAFnoCeGHGQyGX5YH48OkxfDqWY9XHlYiHf33MPME/9g6J5MvHuKkOdUHbczC4yu37qhJ/43tBFuZuTjhY+PQqMh5OSrceOx3KqDHkvZz7kpkSIiZGdn2+3p0/LAGehwDuLKICwsDN//vAk3HnZDUlISRgz8BE09PTGqfn0oFApMevctDHixFmROhp8/EQEqtRbOTlI4OkjgKnfA+etZqFYnBF5eXlaqDatsxPRaLC3OgDPQE0sOEokEPXq+jBde7AB/f3/cqtYIUYMHo33NmqhVqxZOnzqF+dsX4qu3A4utSwRoieAsc4AzJJBIgO/23MPAERMqviJlwJe6McbYM7R161a89tprWLNmDZo3by7MP7h/D/7c8R1WvxcMJ0fd4Eel1iIm/jq+3pEClVqLr8c0RZuGVTFy+V2s334A1atXt1ItdPj4axpnwxizJ++++y5+/vlnHDp0CE5O/35/dMGc6Yj0uYF3utYR5j3IUuDzn67ghz03Eerrhl+mtMK1ewqsT/LCmg3bIZVa9wIyvtTNjqjVauzatcuuT5+WFWegwzmIM4OwsDAAQG5ursH8qI5d0Kb7cLSbdgYvfPQH+nx5AoFv78G01ZfgKpPi4P/a4Z98CUatfIDV63+z+qCHVS5ifC1aijPgDPTEmENISAjy8/OLzZ84dTqOP/RH1CenETX1KHp9cQL+b+/Fdwk38FITb2yY0hI/Hv4Hm65Uxw8/bbb6oMdSfKkbY4w9QxcuXAAA1K9f32B+ZmYmjh47hdOX7sDbuxrUt7Lg5+OGds3q4UGWEpPW52LQiHH4bV5/yOVyaxSdMcaYSP3999/w9fU1ONsDAFeuXEHipRSc/+sualb3hlqZi6YNaqBRgBeupudh5h5nvDthCV544YViP8tgD/hSN8YYe4a++OILzJo1C2fOnBE+GTtx4gTee+89ODk54YMPPsCnn34KqVSK+/fvIz8/H9WqVYOPj4+VS14cH39N42wYY/bkhRdeAAB8++23wrxly5YhNjYWQUFB+OKLLzBgwADk5+cjIyMDWq0WNWrUgJubm7WKbBJf6mZHVCoVtm/fDpVKZe2iWA1noMM5iDOD0NBQqNVqzJ07Fzk5OVCr1Zg3bx7q1auHq1evYubMmZDJZHB0dETdunUREBCAP//8U1QZMPsjxteipTgDzkBPjDk0aNAAR44cwdatW6HRaJCZmYnY2FgMGDAAly5dwoABAwAArq6uCAgIgJ+fH/bv32/3GfClblYmkUjg4eFhl6cLywtnoMM5iDODN954A1u2bMHmzZvx+++/w8vLC9evX8fPP/+MmjVrFltejBkw+8PtkDMAOAM9MebwxRdf4NKlS/jss88QFxeHhw8fwtvbG1988UWxy98A8WTAl7oxxlgFSE1NxfDhw3Ho0CG8/fbbWLlypbWLZDE+/prG2TDG7NH+/fvRv39/PHjwAD/99JNwpsee8KVudkSlUmHDhg12f+qwLDgDHc5B3BnUr18fCQkJ2LFjB5YvX25yOTFnwOwHt0POAOAM9MScQ8eOHXHq1CkcO3asxEGPWDLgS92sTCKRwM/Pz+5PHZYFZ6DDOYg/AxcXF/Tq1avEZcSeAbMP3A45A4Az0BN7Dv7+/vD39y9xGbFkwJe6McYYMwsff03jbBhjzDr4Ujc7olQqsWbNGiiVSmsXxWo4Ax3OgTMAOANmG7gdcgYAZ6DHOYgnAx74WJmDgwMaN24MBwcHaxfFajgDHc6BMwA4A2YbuB1yBgBnoMc5iCcDvtSNMcaYWfj4axpnwxhj1sGXutkRpVKJFStW2P2pw7LgDHQ4B84A4AyYbeB2yBkAnIEe5yCeDCwa+Lz//vsICAiARCLBxYsXhfmnT59G27Zt0aJFCzRq1Ajz5s0THktOTkaHDh0QFRWF69evAwDS0tIgkUgwcuRIYbnc3Fy7v1NEaTg4OKBt27Z2f+qwLDgDHc6BMwA4A2YbuB1yBgBnoMc5iCcDiy51O3z4MAIDA9G+fXvs3LkT4eHhAIAWLVrgiy++QO/evfHo0SOEhobi4MGDCAsLw4ABAzBt2jRoNBosWLAAa9euRVpaGpo0aYIqVapg//79CAsLQ25uLtzd3fG04vDlBIwxZh18/DWNs2GMMet4Zpe6vfjii/D19TX62OPHjwEAeXl5kMlk8PLyAgAQEaRSKRwcHKDVaoXl5XI5pk6dimnTpllSBNFRKpWIjY21+1OHZcEZ6HAOnAHAGTDbwO2QMwA4Az3OQTwZlMt3fFatWoXPPvsM9erVQ3BwMKKjo1GrVi0AwIwZMzBmzBiMHz8eM2fONFhv7NixuHDhAo4ePWrxc+p/OVatVkOtVgvzjE0rlUpoNBqj0/rBmEKhMDlNRCCiYtMAoNVqTU7rG4dGozE6rVarQUTo1q2bqOpUtB7m1AkAunXrBq1WK5o6lWY/OTo6IioqClKpVDR1snQ/SaVSREVFwdHRUTR1snQ/SSQSvPTSS3B0dLTZOjHTbGUfcd/EfVN57CepVIpu3bpBo9GIpk7cN1XuvqlcBj7z58/H/PnzcfPmTSQlJeGTTz7BlStXAAAhISE4fPgwDh06hKCgIIP1ZDIZZs6ciSlTplj8nHv27AEA7Nu3D/v27QMAJCQk4MiRIwCA+Ph4nDp1CgCwfv16JCYmAgDi4uJw+fJlAMDy5cuRkpICAIiNjUV6ejoAICYmBpmZmQCA6Oho5OTkQKlUIjo6GkqlEjk5OYiOjgYAZGZmIiYmBgCQnp6O2NhYAEBKSgqWL18OALh8+TLi4uIAAImJiVi/fj0A4NSpU9i2bRuCgoLw559/IiEhQRR1io+PBwAcOXLErDqdOXMGQUFB2Lhxo2jqVJr9JJVKsX37djx69Eg0dbJ0Pz169Ajbt2+HVCoVTZ0s3U8XLlzAmTNnIJVKba5O+now07hvst06cd9k+X66e/cugoKCsHjxYtHUifumSt43USn4+/vThQsXiIjowYMH5OLiYvD466+/Tj/88IPJ9VNTU8nb25uIiLRaLTVv3pzWrl1L5hQnKyuLAFBmZiYREalUKlKpVEREpFQqjU4rFApSq9VGpzUaDRERFRYWmpzWarWk1WqLTRMRaTQak9MKhYKIiNRqtdFplUpFOTk5tHDhQsrNzSWlUimKOhWthzl1ys3NpYULF1J2drZo6lSa/VRYWEhz586l/Px80dTJ0v2Un59Pc+fONcjE3utk6X7Ky8sTMrC1OmVkZBAAysrKImaI+ybbrxP3TZbvp/z8fFq4cCFlZWWJpk7cN1XuvqlUv+MTEBAg3NxAo9GgevXqiI+PR4cOHZCZmYkWLVpgy5YtaNOmjdH109LS0Lp1a2EE9/vvv2PMmDFIS0urdDc30Gq1SE9PR926dYVLnCobzkCHc+AMANvOQGzH3/IktmxsuR1WFM6AM9DjHGw7A0uOv46WbHjcuHHYtm0b7t27h86dO8PNzQ3Xrl3Dhg0bMHHiROE6v8mTJ5sc9BjTvXt3BAYGIi0tzZLiiIJUKoWfn5+1i2FVnIEO58AZAJwBsw3cDjkDgDPQ4xzEk4FFQ7bY2Fjcvn0barUa9+7dw7Vr1wAAnTt3xpkzZ5CYmIhLly7hgw8+KHE7AQEBwtkevX379j31bI8YKRQKREdHV+ovDXMGOpwDZwBwBsw2cDvkDADOQI9zEE8GpbrUzZrEeDlBZmYmfHx8bO7UYUXhDHQ4B84AsO0MxHb8LU9iy8aW22FF4Qw4Az3OwbYzsOT4ywMfxhhjZuHjr2mcDWOMWccz+wFTVv4UCgVmzJhh96cOy4Iz0OEcOAOAM2C2gdshZwBwBnqcg3gy4DM+VkZEyMnJgbu7OyQSibWLYxWcgQ7nwBkAtp2B2I6/5Uls2dhyO6wonAFnoMc52HYGz+yubuzZkMvl1i6C1T2ZQUZGBuK3bETG/XTInV0Q1rgZevR4GQ4ODlYqYcXgtsAZAJwBsw3cDotncPHiRezd8xuysx7Dzd0DL3XshhYtWlipdBWD24EO5yCODPhSNysr+uuzlVXRDJKSkjD4rT4Y+/Yr8NIcQpcmGYgMSMHfx75H15faYM7s6aLNitsCZwBwBsw2cDs0zGDH9q14uVt7fLNgPBp5XUC3Zg/QpMYlrI6dhB5dnsemjeutXdxngtuBDucgngz4UjcrIyIolUrIZDKbO3VYUfQZHD36B+bP+gjfzOiAAN+qxZbTagkbfruMdbseYN2GHahSpUrFF/YZ4rbAGQC2nYHYjr/lSWzZ2HI7rCj6DBbMn4V71//A7A/bwt2t+CfeeflKzIw9CVm15pg1Z4EVSvrscDvQ4RxsOwO+uYGdsfcvipWHxMREzPtyMjZ93dPooAcApFIJ+vdqhImDAjB8yBui/N0nbgucAcAZMNvA7RBYsfwbZKX/iSWfRRkd9ABAFVcZ5n7UHjJFEr7+SlwDH4DbgR7nII4MeOBjZUqlEjExMXZ/6rAslEolRo0YgsWftIeri9NTl+8QUQ+BtVQ4evRoBZSu4nBb4AwAzoDZBm6HQF5eHhbOn4sZ4yPNWv7Tsc9h59afUVBQ8IxLVnG4HehwDuLJgC91Y1aXkZGBcSN6Y8NX3c1e50b6Y3z+7Q3E/Rz/DEvGGCuKj7+mcTbis3HDL7j39zqMH2z+zQt+2HgBjjV7YuiwEc+wZIyxovhSNzui1WqRkZEBrVZr7aJYzZbNG9CtXQ1otcXH4Eqlxug6/nWrIjPjJjQa44/bI24LnAHAGTDbwO0Q2LBuNbq/WM+ivql/r1Bs3fzzsy5aheF2oMM5iCcDHvhYmUqlwsqVK6FSqaxdFKu5fy8dpy/cgUpl2JH8fe0BGnZcgtH/3WF0PZ9qLsjOzq6IIlYIbgucAcAZMNvA7RDIy8/Bxt8uFeubZi09BL92MTh29laxdVxdnKBR2//3IPS4HehwDuLJgH/Hx8rkcjmmTZtm7WJYlWuVKujfKxxyuWFz1GgINX3cEBURYHQ9hVIjinvK63Fb4AwAzoDZBm6HgKODI6a+277YHay8q7oiPLgGGvhXM7GmeD5T5nagwzmIJwPxvDrtlFarxa1bt+z+1GFZNAprhl1Hbha7nCA8pAZObh2FAa82KbaOVkvI/EcBFxeXiirmM8dtgTMAOANmG7gdAvUbBGPX4evF+qYxg9pg309DUcPbrdg6V1MfolZdv4oq4jPH7UCHcxBPBjzwsTKVSoWNGzfa/anDsujYsRM2/34VCoXa7HV2HU5B5+69be5e8mXBbYEzADgDZhu4HQIjRr2HL5YeK3apW0m+XXcJ746d9AxLVbG4HehwDuLJgO/qxmzC3P/NhJ/LRbz1SthTl1Wrtej97g78+Msu1KhRowJKxxgD+PhbEs5GnPr06oTFHzeBf92qT132zv0cjJp+Ar/tPvLsC8YYE/Bd3eyIVqvFtWvX7P7UYVlotVq80vt1/LI7EweO3ShxWbVaizEz9mPwiAmiG/RwW+AMAM6A2QZuh7oMJkz+DMOnHUD6vZJvpJORmYehH+/D4qU/VFDpKga3Ax3OQTwZWDTwef/99xEQEACJRIKLFy8K84kIM2bMQHBwMMLDwxEVFSU8lpycjA4dOiAqKgrXr18HAKSlpUEikWDkyJHCcrm5uaK6bMlcarUau3btglpt/mVeYqNWq3HgwAH8uHYzvt/6AB/PP4rUW/8YLKPVEhIOXkfvd3eg48ujMGDgUCuV9tnhtsAZAJwBsw3cDnUZJCUlYel3P2PI1EOIXXse2TmGd2zLzVPi+1/+Qv9Je/HVtz8hODjYSqV9Nrgd6HAO4snAokvdDh8+jMDAQLRv3x47d+5EeHg4AOCrr77C4cOHsW7dOshkMty9exe1a9cGAAwYMADTpk2DRqPBggULsHbtWqSlpaFJkyaoUqUK9u/fj7CwMOTm5sLd3R1PKw5fTiBuRITjx49jWex8ZNxNg081VyiUajzKUqFz994YMXIsqlevbu1iMlYp8fHXNM5G3FQqFeK3bMLaH5dBSvnwcJMjJ08JhdoJA4e8g9ff+I+o7jLKmD2x5Phr0e2sX3zxRaPz58+fj4MHD0ImkwGAMOgBdG9kpVLdiaWip8fkcjmmTp2KadOmYdu2bZYUQ1Q0Gg0uX76M0NBQODg4WLs4VvFkBm3btkXbtlug1WqRnZ0NuVwuqru3mcJtgTMAOANmG7gdGmbg5OSEN//zFt78z1tQqVTIzc2Fm5sbnJycrF3MZ4rbgQ7nIJ4Myvwdn+zsbDx48ADx8fGIjIxEZGQk1q9fLzw+Y8YMjBkzBuPHj8fMmTMN1h07diwuXLiAo0ePlrUYdkuj0eDYsWPQaMy/a4zYmMpAKpWiatWqlWLQA3BbADgDgDNgtoHboekMnJycUK1aNdEPegBuB3qcg3gyKPPAR6VSQalUoqCgAMePH8eGDRswceJE4TtAISEhOHz4MA4dOoSgoCCDdWUyGWbOnIkpU6aU6nkB3TWH+usNVSqV0WmlUinsqCen9WehFAqFyWkiAhEVmwZ0Z7FMTSuVSgC6xmJsWq1WC991kkqloqlT0XqYUyepVCp830ssdSrNfpLJZBg8eDAcHR1FUydL95OjoyMGDx4MmUwmmjpZup8cHBwwZMgQyGQym60TM81W9hH3Tdw3lcd+cnR0xMiRI0FEoqkT902Vu28q88DH29sbbm5uGDRoEACgXr16aNeuHU6fPm3W+gMHDkR+fr7Fl7vt2bMHALBv3z7s27cPAJCQkIAjR3S3kYyPj8epU6cAAOvXr0diYiIAIC4uDpcvXwYALF++HCkpKQCA2NhYpKenAwBiYmKQmZkJAIiOjkZOTg6USiWio6OhVCqRk5OD6OhoAEBmZiZiYmIAAOnp6YiNjQUApKSkYPny5QCAy5cvIy4uDgCQmJgonBE7deoUNm/ejLNnz+LQoUNISEgQRZ3i4+MBAEeOHDGrTsePH8fZs2exbt060dSpNPtJo9Fg0qRJuH//vmjqZOl+un//PiZNmgSNRiOaOlm6n86ePYu5c+dCo9HYXJ309WCmcd9ku3Xivsny/XTz5k2cPXsWCxYsEE2duG+q5H0TlYK/vz9duHBB+H/UqFEUGxtLRESPHj0if39/OnPmjMn1U1NTydvbW/g/ISGBAgICyJziZGVlEQDKzMwkIiKVSkUqlYqIiJRKpdFphUJBarXa6LRGoyEiosLCQpPTWq2WtFptsWkiIo1GY3JaoVAQEZFarTY6rVKpKDc3l+Li4igvL4+USqUo6lS0HubUKS8vj+Li4ignJ0c0dSrNflIoFLRy5UoqKCgQTZ0s3U8FBQW0cuVKYVtiqJOl+yk/P59++OEHUigUNlenjIwMAkBZWVnEDHHfZPt14r7J8v1UUFBAcXFxlJ2dLZo6cd9Uufsmi+7qNm7cOGzbtg337t2Dj48P3NzccO3aNWRmZmL48OFITU0FALz33nt45513TG4nLS0NrVu3FkZwANCpUyfs37+f7+rGGGM2io+/pnE2jDFmHc/sB0xjY2Nx+/ZtqNVq3Lt3D9euXQMA+Pj4YMeOHbh48SIuXrxY4qAHAAICAgwGPYDu9JgFYzDRUKvVOHbsmN3fF70sOAMdzoEzADgDZhu4HXIGAGegxzmIJ4Myf8eHlQ0R4datW5Vy0KfHGehwDpwBwBkw28DtkDMAOAM9zkE8GVh0qZst4MsJGGPMOvj4axpnwxhj1vHMLnVj5U+tVuPgwYN2f+qwLDgDHc6BMwA4A2YbuB1yBgBnoMc5iCcDHvhYGREhOzvb7k8dlgVnoMM5cAYAZ8BsA7dDzgDgDPQ4B/FkwJe6McYYMwsff03jbBhjzDr4Ujc7olarsWvXLrs/dVgWnIEO58AZAJwBsw3cDjkDgDPQ4xzEkwEPfBhjjDHGGGOix5e6McYYMwsff03jbBhjzDosOf46VlCZyl12dra1i1AuVCoV9uzZgy5dusDJycnaxbEKzkCHc+AMANvOQCzH3WdJLBnZcjusKJwBZ6DHOdh2BpYcd+1u4COTyVCrVi34+flZuyiMMVbp1KpVCzKZzNrFsDncNzHGmPWY2zfZ3aVuAFBYWAilUmntYjDGWKUjk8ng7Oxs7WLYJO6bGGPMOsztm+xy4MMYY4wxxhhjluC7ujHGGGOMMcZEjwc+jDHGGGOMMdHjgQ9jjDHGGGNM9HjgwxhjjDHGGBM9HviUwfvvv4+AgABIJBJcvHhRmP/888+jefPmaN68OcLDwyGRSPDXX38BAIYNGwZfX1/h8Y8++khY78GDB+jZsyciIyNx6tQpYfnZs2cLy6xevRoSiQS3b98W5nXq1AlxcXHPuromlSaH/Px8vPXWWwgKCkJwcDC2bNkirGePOZjKgIgwY8YMBAcHIzw8HFFRUcJjYmsLpcmgsrSDqKgoBAYGCvt60aJFwmNiawfM+rhv4n5Jj/sm7psA7psMECu1Q4cO0a1bt8jf358uXLhgdJmNGzdSeHi48P/QoUPp66+/NrrstGnTaPv27XTnzh3q3LkzERGtXr2aOnXqZLB+REQErVmzhoiIFAoFubi40I0bN8qrWhYrTQ5ffPEFDR06lIiIUlJSqGbNmvTo0SMiss8cTGWwePFi6tu3LykUCiIiunPnjvCY2NpCaTKoLO2gQ4cOtGPHDqPriK0dMOvjvon7JT3um7hvIuK+qSg+41MGL774Inx9fUtc5ocffsCIESPM2h4RQSqVQir9d7e89NJL+PPPP4Xfhvjzzz8xbdo0HDx4EABw4sQJ1KlTB/Xq1StdJcpBaXJYv349xo0bBwCoX78+XnzxRWzbtg2AfeZgKoP58+dj7ty5wo9q1a5d26ztVZYMKks7KC17zIBZH/dN3C/pcd/EfRPAfVNRPPB5htLT03Hw4EEMGjTIYH5MTAyaNm2KXr164fz588L8CRMm4Ouvv8arr76KWbNmAQDq1auH2rVr48SJE7hx4waqV6+Ozp074+jRowCAAwcO4KWXXqqwOpWGsRxu3rwJf39/4f+AgADcvHkTgHhyyM7OxoMHDxAfH4/IyEhERkZi/fr1BsuIvS08LYPK0A70PvroIzRp0gT/+c9/kJKSYvCY2NsBsy3cN1XefgngvgngvqmoytY3OVq7AGK2evVq9OrVCz4+PsK82bNno3bt2pBKpYiPj0ePHj2QnJwMNzc31KxZE7///nux7bz00ks4ePAg/Pz8EBUVhSpVqqBatWq4desWDh48iJEjR1ZktSxmLAcAkEgkwjQV+R1dseSgUqmgVCpRUFCA48eP4+bNm2jbti0aN26M8PDwStEWnpYBIP52AABr1qyBn58fiAixsbHo1asXLl26BKByHhOYdXHfVHn7JYD7JoD7Jr3K2DfxGZ9nhIiwatWqYpcS1K1bVzg1+Nprr8HDwwNXrlwpcVsvvfQSDhw4gIMHD6JDhw4AgA4dOuD333/H8ePHDb6QZ2tM5VCvXj2kpaUJ/9+4ceOppz/tLQdvb2+4ubkJnyjWq1cP7dq1w+nTpwFUjrbwtAwqQzsAAD8/PwC6jnT8+PFISUnBw4cPAVSOdsBsB/dNlbtfArhvArhv0quUfVPFfqVInIx9efLAgQPk5+dHGo3GYP6tW7eE6WPHjpG3tzc9fvy4xO2np6eTi4sL1a9fn3Jzc4mI6Pfff6eGDRtSSEhIOdWi7CzJYfr06QZfHKxRowY9fPiwxO3bQw5PZjBq1CiKjY0lIqJHjx6Rv78/nTlzhojE2xYsyaAytAOVSkX37t0THtu0aRPVq1dP+F+s7YBZH/dN3C/pcd/EfRMR901ERDzwKYOxY8dS3bp1ycHBgWrWrEkNGjQQHhs0aBB9/vnnxdbp1KkThYeHU7NmzSgyMpL2799v1nMFBwdTZGSk8H9OTg45OjrSO++8U/aKlFFpcsjNzaU333yTGjRoQA0bNqSNGzea9Vy2moOpDB48eEC9evWixo0bU+PGjWnZsmXCOmJrC6XJoDK0g9zcXGrVqhWFh4dT06ZNqWPHjnT+/HlhHbG1A2Z93Ddxv6THfRP3TUTcNxUlISpy4SJjjDHGGGOMiRB/x4cxxhhjjDEmejzwYYwxxhhjjIkeD3wYY4wxxhhjoscDH8YYY4wxxpjo8cCHMcYYY4wxJno88GGMMcYYY4yJHg98GGOMMcYYY6LHAx/GGGOMMcaY6PHAhzHGGGOMMSZ6PPBhjDHGGGOMiR4PfBhjjDHGGGOixwMfxhhjjDHGmOjxwIcxxhhjjDEmejzwYYwxxhhjjIkeD3wYY4wxxhhjoscDH8YYY4wxxpjo8cCHMcYYY4wxJno88GGMMcYYY4yJHg98GGOMMcYYY6LHAx/GGGOMMcaY6PHAhzHGGGOMMSZ6PPBhjDHGGGOMiR4PfBhjjDHGGGOixwMfxhhjjDHGmOjxwIcxxhhjjDEmejzwYYwxxhhjjIkeD3wYY4wxxhhjoscDH8YYY4wxxpjo8cCHMcYYY4wxJno88GGMMcYYY4yJHg98GGOMMcYYY6LHAx/GGGOMMcaY6PHAhzHGGGOMMSZ6PPBhjDHGGGOMiR4PfBhjjDHGGGOixwMfxhhjjDHGmOjxwIcxxhhjjDEmejzwYYwxxhhjjIkeD3wYY4wxxhhjoscDH8YYY4wxxpjo8cCHMcYYY4wxJno88GGMMcYYY4yJHg98GGOMMcYYY6LHAx/GGGOMMcaY6PHAhzHGGGOMMSZ6PPBhjDHGGGOMiR4PfBhjjDHGGGOixwMfxhhjjDHGmOjxwIcxxhhjjDEmejzwYYwxxhhjjIkeD3wYY4wxxhhjoscDH8YYY4wxxpjo8cCHMcYYY4wxJno88GGMMcYYY4yJHg98GGOMMcYYY6LHAx/GGGOMMcaY6DlauwClUVhYCKVSae1iMMZYpSOTyeDs7GztYtgk7psYY8w6zO2b7G7gU1hYiPr16+PevXvWLgpjjFU6tWrVQmpqKg9+nsB9E2OMWY+5fZPdDXyUSiXu3buHW7duwcPDw9rFKTOtVouHDx/C29sbUmnlvPKQM9DhHDgDwLYzyM7Ohp+fH5RKJQ98nsB9k/hwBpyBHudg2xlY0jfZ3cBHz8PDQxSdCwBUrVrV2kWwOs5Ah3PgDADOwJ5x3yQunAFnoMc5iCMD2xqyVUIKhQIzZsyAQqGwdlGshjPQ4Rw4A4AzYLaB2yFnAHAGepyDeDKQEBFZuxCWyM7OhqenJ7KyskTxqRoRIScnB+7u7pBIJNYujlVwBjqcA2cA2HYGYjv+liexZWPL7bCicAacgR7nYNsZWHL85TM+NkAul1u7CFbHGehwDpwBwBkw28DtkDMAOAM9zkEcGfDAx8qUSiWio6Mr9S1QOQMdzoEzADgDZhu4HXIGAGegxzmIJwO+1M3KiAhKpRIymczmTh1WFM5Ah3PgDADbzkBsx9/yJLZsbLkdVhTOgDPQ4xxsOwO+1M3O2PsXxcoDZ6DDOXAGAGfAbAO3Q84A4Az0OAdxZMADHytTKpWIiYmx+1OHZcEZ6HAOnAHAGTDbwO2QMwA4Az3OQTwZ8MDHyuRyOWbMmGH3Xxh78OAB+vbtCy8vL0gkEgQEBCAtLQ0SiQQSiQQHDx40uW55ZlD0OVevXl3m7VUksbQFSxw8eNCgjejr7uzsjICAAGE5IsJHH32EOnXqQCqVQiKRIC0tzeR8e1YZ2wGzPWJuh7t27ULTpk3h7OwMiUSCGTNmYMaMGULfpfesM9A/p61dNlSUmNuBJeRyOdLS0or1TQEBAUIb0rt27Ro6d+4MDw8PSCQSREVFlTjfXoilLfDApxwUPXg9+adWq4XlcnJyMGHCBPj6+kImk6FBgwb4/PPPkZ6eDq1Wa8UalN2sWbMQHx+P7OxstGrVCi1atDB7Xa1Wi4yMDJvIYOrUqWjbti1q1qwJZ2dnBAYG4r333kNGRobBcvfu3cPw4cNRo0YNyOVyhIWFYcmSJQbLrF69Gt27d4evry+cnZ1Rt25d9O3bF4mJiQbLqVQqTJ8+HYGBgZDJZPD19cWECROQk5Pz1PKW93MkJyejX79+8PLygouLC1q2bIl169YZLJOXl4cpU6YgODgYVapUgYeHB5o0aYI5c+ZAo9E8tcwl0Wq18PDwQEREhEEb2rp1KxYsWIC7d+8iNDQUERERkMvlJufbM1t6PTD7cfjwYfTs2RPVq1cX+p9ly5YVW85YPzR9+nSoVCqD5U6ePImXXnoJHh4ecHV1Rbt27bBnz56Kqs4zo9Vq0b9/f1y4cAHu7u6IiIiAr6+vyWVt9bWYlJSEYcOGITQ0FB4eHvD09ESrVq2wcuXKYsvu3r0b7dq1g6urKzw8PNCtWzecPn1aeFzfJlq1agUfHx+4uLggODgYn332GbKysgwyMKePMKak5yhNPwQAP//8M1q2bAkXFxd4eXnh9ddfR3JyssEyZ8+eRZ8+fVCnTh3I5XLUqFED3bp1w4EDB8zKWU+r1aKwsLDY/BYtWhRrQ5MmTcK+ffugUqnQpk0bhIWFlTjfXtjy68EiZGeysrIIAGVlZVm7KILp06cTAPLx8aGIiAiDP7VaTUREarWa2rdvTwDIycmJQkJCSCqVEgBq1qwZFRYWWrkWT6dQKEw+1qlTJwJA/fr1E+alpqYSAAJABw4cMLluYWEhzZkzp1wyKPqcq1atsnh9ACSRSCgoKIjq1KkjbCs8PJw0Gg0REeXk5FDDhg0JALm4uAjTAOi///2vsK0OHToQAKpVqxaFhIQIy1SpUoVSUlKE5d566y0CQFKplHx8fMjJyYkA0AsvvCA8pymleY6QkBCjz3H79m3y8fEhAOTh4UH169cXtvf9998L2xo6dKgwPywsjOrVqyf8P2/ePIvyPnDggEEbMdUWvvzyS+E1ptVqnzq/tLRaLSmVyjJvpyzK8/VQ3mzx+GsrrJ3NokWLyNHRkYKDg4XX1LfffmuwTEn90IABA4Tlzp07Ry4uLsJrq27dugSAHBwcKCEhoaKrViqm+qtbt24J+ezYsUOYr+/H/f39hXnP+rWof87SvBVbtWoVASBXV1cKDw8nV1dXYVtz584Vlvvtt9/IwcGBAFDdunWFY7yLiwudP3+eiP7tNx0cHCg0NFRYBgB169ZNyMDcPsKYkp6jR48ewnLmPsd3330nzK9fvz55eHgQAKpevTqlp6cTEdE///xDVatWFfrEFi1aUJUqVYT2f/v2bbPzLiwspJYtWxZrI8Y0aNCAANCkSZPMml9aJb0nexbE0jfxwKcc6A9eQ4cONbnMpk2bih1slyxZIsw7ffq0yXUHDhxIAKhdu3YG81u0aEEA6J133iEiIo1GQ4sXL6bGjRuTXC6nqlWr0uuvv27wBjgtLY26d+9Ovr6+5OzsTM7OztS4cWNatGiRwRtHf39/AkCTJ0+m4cOHk6enJ0VFRRktn74ORf86dOhgcuDzxx9/UJcuXcjDw4NkMhmFhobS/PnzhUEika6Dnj9/PjVq1IhkMhl5eHhQly5d6I8//jB47v379wv1bdeuHf36669GBz76edOnTzeZMxHRJ598QhkZGUIZ+vXrJ6x79uxZIiJasGCBMEBKTEwkIqKJEycSAHJ0dKS7d+8Ske6NyKVLl4RtL168WNhWTEwMERGdPn1amPf1118TEdH27duFeZs2bSqxvOX5HOPHjycA5O7uLnQc+vp7e3sLB1n9wbtr165EpDv4uru7EwAaN25cieVdv3491a9fn5ydnalHjx60du3aYm3kyTcg+sGdsTZmbD6Rea8F/RsHAJSQkEBhYWHk4OAglOP48ePUo0cP8vT0JLlcTi1atKCNGzca1Ee//oIFC2jAgAHk5uZGderUoS+//NJguezsbJo0aRIFBgaSk5MTeXl5Ubdu3Sg/P9/s8toCWzz+2gprZ5OZmUn5+fkGx90nBz7m9kO9evUiABQQEEDZ2dmkUqkoIiKCAN2HQKY8fvxYeGO5fPlyYX5iYqLwHMeOHSMiovT0dBo+fDjVrl2bnJycqH79+jRz5kxSqVTCenFxcdSmTRvy9vYmR0dHqlq1KnXt2pVOnDghLFP0w5MNGzZQmzZtyMnJyegHX0Vf80X/Vq1aZXTgY24/dOPGDRo8eDDVrFmTnJycyNfXl8aMGUMPHz4UltFqtfTJJ5+Ql5cXeXp60vjx42natGnFBj5Fy5iammoy63379tHGjRuFfvPGjRvk6elJAKhp06bCcuHh4QSAIiMjSaVSUXZ2NgUEBBAA6tWrFxER3b17l+bPn0/Z2dlERFRQUECRkZFCOR49ekRE5vcRxpTncxQWFpK3tzcB/37Ymp6eLvRD48ePJyLdew399n/++WciIvr555+FeadOnTJZ3sLCQho9ejS5u7tT9erVacaMGTRkyJBibUT/Xmn69OkGr72if0U/LHxyvr7sT3st6Pu7QYMG0eTJk6l69eoUEBBARJb3d/v376cWLVqQs7MztWjRQnhN6p06dYp69+5NXl5eJJPJqH79+rRgwQLhcXPKW9F44FPB9AdMNzc3cnZ2plq1alHPnj2FN8pERCNHjiRA9ymL/hP29PR0oSHOmjXL5PaPHj0qLHflyhUiMjyz8eeffxIR0ZgxY4R5jRs3Fg4MtWrVovv37xORrkEDIF9fX2rRogXVqFFDWGfp0qXCc+pfzDKZjFxcXKhJkybUs2dPo+WLiIgQDjj6s15jxowxOvA5cOAAOTo6EgCqVq2awdmSESNGCNscMWKEMD8oKIi8vLyEgcXBgweJSHcg1Xeyrq6uFBoaKvxf2oHPkxYuXCism5SUREREnTt3JgAUHBxsdB/99NNPRrd15swZYZnY2FgiIpo1a5Yw7/bt23Tz5k1SqVTk7OxMAGjUqFEWlfdpz3Hnzh0i0h0on3yOoKAggwENEdFPP/0krHv06FEiIho2bJgwr+gZn+eff55u3rxpsmznzp0TPl329PSkBg0aGOyvAwcOkEajoQkTJhh0LmPGjBE+cZbJZMLZVFPz9es87bVQtCOQyWTk7+9PgYGBdODAAfrjjz+Es2JPnk378ccfhTrp5zk5OVHt2rUNPsXcvXs3EekGhvpPCvX1atCgAUkkEvrnn3+MlrdatWrFymsLbPH4aytsJZuSBj5P64dmz55NKpVKONszYMAAYbnZs2cLy+nfkBozatQoAkBt27YV5un7SP0x88GDB+Tn5ye8wW3atKnQLwwfPlxYb9y4ceTs7EzBwcHUrFkzksvlwjr6D5iKDnxkMhnVqlWLQkNDafXq1cXKtnPnTmrevLmwfKNGjSgiIoJ27txpdODz9ttvP7Ufun//vnB1gFwup7CwMKEu4eHhVFBQQESGA0xfX1+qUaOGwfFPz9yBjzFNmjQhANSmTRsi0p090W9rzpw5xfaRi4uLwQeORb333nsE6K4SuHTpEmk0GrP7CHMVfQ79gMic5zhy5Ijwv35AQ0TUpUsXAkANGzYkIqJHjx4Jx9IqVapQy5YtqUqVKuTs7EyTJ08usWz6DzMBUGBgIFWtWlU4q2Zq4HPnzh2KiIggmUxGgO4MW0REBM2cOdPkfHNfC/qBj0wmIycnJwoPD6fmzZsTkeX9nVwup5CQEOF5/P39hUHL0aNHhXLKZDJq3LgxeXl50auvvkoajYbOnz9vVnkrGg98LJCZmUl79+6l7du30+HDh0t1Cm/69Onk5OREDRs2pNDQUIPGpR/8dOvWTTjg6anVamHZkSNHlvgcTZs2JQD08ccfE9G/Zx30L/CUlBSSSCQGb8xycnLI19eXANCnn35KRLpTv0UPphqNhl588UUCQO3btxfm61/M3t7elJaWJpTXFP2LsuhZL2MDH/1z+fv7C2/69J/wSCQSun79Ol2/fl2oywcffEBEuk8S9WV68cUXiYjo008/JUB36vzixYsG8wDDgU9ISAiFhIQIZzzMkZ2dTY0bNxbe1Bfd1pN5Xbt2TXje6Ohoo9sbPHgwASAvLy+6d+8eERG98847wnp5eXm0cOFCKiwsFPZbt27dzC6vOc9RdB8++Rz6NxWDBg0Sltm7d6+w7rp164hI90mY/pOvom84xo4dK3TyxgwaNIgA3aBHXzZ9efVtpLCwkLp27VqsczH2psTUfHNfC0U7gqKdoFqtpqioKAJAXbp0EToE/YCs6GtYv35kZCQpFAp68OCBMGDSv1Z//PFHYbn58+cL6164cIEUiv9r777Do6j6No5/t6RQQw29ShUQlRZQKQIqKCAgiAqIKHZRQXksj4JY8mAJvCo2EJAiTQlFulSBBCNNQIJAqKGEUJKQsvW8f6y7Zsku2dQt+X2uy8th6jn3nMzJyczOGnKU1/44gX1QZy+vL/CVX+59UWFnc+TIEbVmzRq1cuVKtWfPHo8f5bzRwCe3fuiZZ55R586dc/y7R48ejj5x+vTpjvnX/4U4u927dzvWO3TokFLq37sO9j/wTZgwQQGqWrVqjjvsS5cudfQDR44cUUopFR8fr9LT050yse97+vTpSinngc/DDz/s9Hh5bvlkfxLh+mtJ9n7IfgfBVT/07rvvOn5537Vrl1JKqejoaMcxZsyYoZT693p75513KpPJpNLT053+oGK3ZMkSR3+Vl0ex1q9f7/jDkv2RsJiYmBx5KeXcT9oHkNmdOXNGVa9e3ZGpvV/ytI/wRPZjZH/M0pNjzJ8/3/HvX3/91bGevY8JCQlxzDtw4IBq2LChU39Vt25dtXDhQrdlu3btmqMcQ4YMUUrZHpHMbeBzo3nu5nv6s2D/HSsoKMjxe6XZbM5Xf/f5558rpZT6v//7vxw/q926dVNg+8O0/Q/t9gFP9v45t/IWt7xcf0vsyw3++OMPnhjcl1F972Tft69w5sc32Dr5OR64szVvvPoCp0+f9nhfjz32GBcuXODvv//m0KFDrFmzBrC973zq1KkAKBffE5t9nl6vByAiIsLpv927dwPw3HPPATB79mwsFgs///wzAMOHD3fUx76/xx9/HI1GQ7ly5Thz5gwAsbGxAAQFBfHxxx9Tr149goKC0Ol0bN26FYCzZ8/mKOPAgQOpV68eADqdzuNM3ImLiwOgd+/eVKhQAYBhw4Y58ti1a5dTXR599FEAwsLC6N27t6OuYPtwJ0DTpk1p0aIFAIMHD3Z53Pj4eOLj43nxxRc9KufFixfp2bMnBw8epFmzZvz000+OZbmdy+vf0GM2m3n66aeZM2cOZcuWJTo6mmrVquXYLiQkhDFjxhASEuKYb99X//79ndrFypUr83UMV2W+0RuFXNVr8uTJzJkzhzvuuIOkpCQOHjxIuXLl+Oqrr3jjjTfc7st+vu644w5H2QYNGuS0TkhICB07dnS7D094+rOQ3ZgxYxzTOp2O33//HYD169cTFBSERqNhypQpAJw5c4bExESn7R9++GGCg4OpUqUK4eHhAFy4cAGAnTt3Our26quvOrZp2bIlwcHBOcobGhrKW2+95TiGq/KKwGS1Wlm8cAF9u3Zg0pN9+PvrVzj+3Vjmvf4o97S/halTPiMjIyPf+/fk2pX93xEREY6XhVy/3sqVK52uSf379wf+/bA3wIwZM/j77785cOAAGo3Gca23/3xduHCB8PBwNBoNDz74oOM49p+ZlJQU+vXrR6VKldBqtTRu3NhRBlf91csvv+zopwraX2X/ubSX21U/ZO/TmjZtyu233w7Agw8+SOnSpR3rpaamOq4/ffv2Ra/XU7p0ae6///4cx+3fv7+jv6pVq5ZHZV21ahX9+/fHarUyevRoRo0aBeR+7Yec1/9jx47RrVs3zp8/zx133MG0adMc/ZIn+9q9e3eO32Oud/0xXL2E40bH8LRPS09PZ8SIESQkJPDpp59y7do1PvvsM06dOsWQIUPYs2ePy/0cO3bM8X01AwYMAKB27drcd999Nyxnfnj6s2DXrVs3x4t/dDpdvvo7e3vO/nKF6/urgQMH0qRJEwC0Wi2tW7cmJCTE8buqp+X1RXpvF8AbPv/0f8Qtn8n4zuVp2Kmq07I3lCLmxHZGPtiddyd/x12du+a6v+wXY4B7772XypUrc+nSJU6dOgVA3bp1AUhOTsZqtaLVap3eFGZ/I8j1jSY1NRWAoUOHMm7cOM6dO8f3339PbGysU0eS/UJw66235rhI2Qcvr7zyCtOnT3eUu1KlShw7dozk5GSXb+SqXr16rvXPj+wX2xu9IcSTX8qzr+PugpgXhw8fpnfv3iQkJBAREcGKFSuoUqWKY3ndunX5+++/HRcKwOlc1qlTxzGdlpbG4MGDWbNmDdWqVeOXX36hbdu2TvuyO3fuHFlZWdSvX59Lly457WvPnj2cPHnSse7FixfzdYwLFy5Qs2ZNrFZrjmPUqVOHo0eP3rBeGRkZvPPOOyilGDhwIFWrVqVq1arccccdLF++nF9//dVtrp6cL6vVyuXLl93uwxOe/ixk566d16pVy+Ubn7K/rRFwDOLh3z9iuGqLrtqzq/JmZWURGhrqtrwi8BgMBp4cMoCWxmP80LEcYaEVnJYbzVZ+2jGdBxfOZc7SNY4/HuRFbv1QnTp1qFq1KqVKlSIzM5MjR464Xe/QoUNO/VX2dvr888+zc+dO5syZQ7ly5QDbL2z249vbfLly5Vy+2ap06dJcu3aNe++9l6tXrxIaGsptt91GUFCQ45jF2V950q9c/7PtbpvC7q+++eYbXnzxRSwWCxMnTuSdd95xLLv+2m9nP5elSpVy6ttiYmLo27cvycnJ9OnThwULFhAaGsrRo0dp2LChR31EamrqDX/5dXUM+yDRvo/cjpE9N1fr2fu0H3/80TFAHTlyJGXKlOGJJ55g7NixKKXYsGGDyzfQuhoYWq1Wj960mlee/Cxkd30bz09/Z++v7H3V9ftxx2q1kp6enqfy+qISd8dnxndfkbD+B2b1D6dhlVI5lms0Gjo1KM/Pg6vy0dhROV4L7MqkSZMcAxyw/ZXY/kul/X3v9r8UZGVl8csvvwCwePFixzY9evQAbI0v+3/297yXLVvWMcgZM2YMSim6dOniaNRt27Z1/ICOGDGC2NhYYmNjiYmJ4dNPP2X06NHAv6P/e+65h7///pvNmzff8K9Khf39Au3atQNg5cqVXL16FbBdnOzHatOmDW3atHEcd968eYDtL3+rVq1y1BVsfzEH292cQ4cOATjuhF2vWbNmNGvWjC+//PKG5du6dSudOnUiISGBgQMHsnHjRqeOAf49l0ePHmXv3r3Av+dSr9fTvXt3ABITE7nrrrtYs2YNN998Mzt37nQakGTfF8CiRYtYu3YtS5cudbw2077c/p019v9GjBiRr2PY71ytWLEixzHs/4+NjXXcbbCvX7lyZdq2bUtGRobjl/5du3YBtjZtv5tTpkwZt9naz9f27dsdHdT158tsNnP06FG3+/CEpz8L2V3fzu3ttF69emzatMmxj59++ok333wzT4MR+1+/DQaD464RwKFDhzAajTnKu3XrVkaNGsWWLVvcllcEFqUUTz82iIfKnGRc+4qEheb8m2SwXsujLSoQdbuVYf3u49q1a3k+Tm790H333ed0DVu/fj1XrlzBZDKxbNkyAFq1akXNmjUZMWKE0zUp+/dnDR48mMqVK3P+/HkmTZoE/Pt0AkD79u0B2/VywYIFjp+v9evX8/zzz9O/f38OHz7s6CNmzJjBrl27nH5+XCnM/ip7PzR37lzAdT9kv1bEx8c7ntBYunQpmZmZjvXKly/v+APK8uXLMZvNZGZmsnr16hzHjY6OdvRX199Zzk4pxbhx43juuefQ6XTMnTvXadADtj/c2K+7y5Ytw2w2k5qayrp16wDb7x32O2M//fQTd999N8nJybz00kssXbqU0qVLYzabWbt2LWaz2aM+omvXrjl+j7Fzd4zsPDlGu3btqFy5MvBvH5KYmEhMTIzTPlJSUhz7tQ+Asr/G211/1ahRI8cAIjo6GrB9hcX27dtdrl8QnvwsZHd9G89Pf3cj9v7q559/dvTFSin+/PNPzGaz43x5Wl6flOvDcD7G0+f4XD3fm5aWpnrc3liZPrtTWSbflet/5yZ2UH3v7uhi787q1aunNBqNqlevnmrevLnjecsyZco4PhDv6WtEb2T//v1Oz6le/9aap59+2rGsQYMGqlWrVo5XPNrXffTRRx3rNGnSRFWpUsXxgc3cnlu9EU8/43Ojlxtk/5zTjV5uYN/X2bNnHc/c2l9uYP/A/vX52OflVh/7h/o0Go1q376906vJf/nlF6WU56+ztj8LC/9+iNb+38SJEx3refKqaXcK8xjXv0bU/uYfcH6NqP1zWvZzU61aNce/7S9UcGX37t2On42wsDDVqFEjx3PU2duIq8/t5OUzPkp59rOQ/Znn623ZssXRTsPCwtStt96qatWqpTQajerSpYtjPVdtzf6zY/9ZuP7lBvXr11eNGzdWWq3W8Tk3T8rrC+QzPu55ko3VanX5M/3rr+vVmz2bKsuECI/++/mR5mrS++867ePnn39WN910k6P9ge3VvjfddJOjj/G0H9q7d6/T66ztH97Py+usx44d6yhHmTJlVFpammNZUlKS04tJWrdu7Xjjof3n8fLly44P/9tfsJP9WmO/lmf/jI8nLwPw9DM+SnnWD124cEHVqFFDge2zJS1atHD5coPsb9ysXbu2qlatmtP1z87TlxtkfzuZq6/SsFu1apXjHLt7nXViYqLj2pz9RTH2/+yfXfK0j3ClsI/h7nXWVapUcbx849ChQ04f1G/VqpUj87CwMMfLflyxf6YTUDfddJOqWLGiY9vC/IyPJz8LSrn+Hcsuv/3d9V8noVTOlxu0bNlSValSRfXr1y9P5S1uJf4zPuvWrePbb7/N8TjKvB9mMLxlCFqtZ38VCi8XTFWucvjw4Ruu99Zbb3H33XdjNBpJSEigXr16PPbYY+zatctxK1Cn07Fy5UpGjx5N1apVSUhIoG7duvz3v//l9ddf9+iLH1u2bMldd90F2G4nPvTQQ07Lv/76ayZPnkyrVq04e/YsJ0+epH79+owZM8Zx5ygqKop+/fpRtmxZ0tLSeP311+nTp49HeRSGrl27snHjRnr27InZbObEiRM0a9aMMWPGOD4PBfDtt9/y8ccf07x5c06dOoXJZKJHjx5s2rTJUZcaNWqwfPlybr75ZsxmM+XKlXPcIcovo9EIgFKK33//nZ07dzr+sz9eVrZsWbZs2cLjjz9OmTJlHHWYMmUKH374oWNf9meEAcdjIfb/jh075lj2ww8/8O6771K3bl2OHTtG1apVGT16NCtXrkSrvfGPaH6OkZCQ4PIYtWrVYvv27QwYMACNRsO5c+e49dZbmTdvnuOZcbD9NdP+BaZnz57FaDTSoUMH5s6dy/PPP++2rLfddhs//vgj9evXJysri3r16vH11187rWOxWHJ8WWx+ePKzcCOdO3dm69at9OrVC41Gw19//UVQUBADBw7ktddey1NZgoOD2bRpE2PHjqVBgwYkJiZy6dIlevTo4fir4vXlPX78eJ7KK/zDqlWr+Pbbb3PMnz75fzzfyv3d0uv1aVyeddGLnR4TTk1N5dixYzkeiT127JjjL+fu+qF3332XWbNmObZr3bo1GzdupGPHjmRlZXH58mU6derEqlWrPP6cw3PPPef4S/SAAQMoW7asY1nVqlWJjY3liSeeoHLlyhw8eJDMzEzuuusuJk+eDEDFihVZvHgxN998M1arleDgYFasWOFxRoXhq6++YsyYMTfsh8LDw4mNjWXo0KGEhYVx+PBhqlWrxnPPPceWLVscj6y+9NJLvPHGG1SsWJGUlBQeeOABXn755XyXLfu1Pzk52enan/1Rs169erFq1So6derEpUuXyMrKomfPnmzZsoXWrVsDtn5P/XNnxmg05tjXvn37sFgsHvcRruR2DPtj/Z4e4+mnn2bu3LnceuutnD17Fo1Gw4ABA9ixYwc1a9YEbE96bNmyhX79+lGlShUOHz5M1apVefjhh9mxYwc1atRwW97IyEieeuopypYty9WrV3nqqae455578nKKPOLJz0JuCtrfZdepUye2b99Onz59KFu2LIcPH6Zs2bLceeedjv55+/btBSqvt2mUvSX6idTUVMLCwkhJSaF8+fIu1zl69CjLly93+sAywAOd27G4bwghes/He7+fTGMZdxA5+caPSOWX0Whk9uzZDB8+nODg4FzXf/bZZ/n2228ZNmwYs2fPLpIyFbe8ZhCoJAfJAHw7A0+uvyWVJ9ls3LiRS5cuOb3U4+rVqzx1XwSLelXM0/E+3HmVu8Z9XWQD44K2Q4PBQLVq1UhJSWHDhg3cfffdRVDKouXLP4vFRTKwkRx8O4O89E0BOfBxp88dt7BsUIUc83ccTyX2RCp3NCxPh3rO+7yaaebl38OYE53zWdzi9N1337Fy5UpWrVqF1Wpl9+7djr/WCCFEcZCBj3v5zebQoUPMePkhJt2Rc5vJO85SOyyYTnXKU6u88y8aiw5cwvjAWwx/fERBi17ohg4dysGDB9m7dy9t2rRx+lyFEEIUtrxcfwPyUbe8OpyUwbxdSRw4l/M1oUqpQv+Af3YWi4Xdu3fn+qjbjh07WL58OdWrV2f69OkBNejxNINAJzlIBiAZlDQajQZ3f33cdS6dKTHnuZRhyrFMARpN0XXhBWmH8+bN4+DBg3Tq1IkFCxYUQemKh/wsSgZ2kkPgZFCyBj76UDKNOU/YEx2qs+u123kyIuerMOOTMqnbsHGO+YXFYrFw8ODBXBvSrFmzUEpx+vRpnnjiiSIrjzd4mkGgkxwkA5AMSpoaNWpwLMXsctncgY3Z/lRLbqme8/M/h6/pqN+gQZGVqyDtUCmF0Whk+/btNGrUqAhKVzzkZ1EysJMcAicDvx34mEy2v4CZzWbHSwxMJpPLaaPRiMViof/Qkfy49woW6z8fsDNbsf4zbXAz/e2eLEY8+xJKKQwGg+P1jPYPFlqtVrfT9g/KWywWl9Nms9nxXTxarTZfdXI1bf/Aq8FgcDudvR6FXafs9fCkTlqt1vGq7kCpU37OU3BwMIMHD3a8Wz8Q6pTX86TX6xk8eDDBwcEBU6e8niedTuf4QlRfrZNwL6/nqGzZspSp3oCjlzI97pvMFsXWC7YPIkvfJH1TXuqU1/Ok1+sZNmwYSqmAqZP0TSW7b/Lbgc/69esB2LBhAxs2bABg9erVbNu2DbC9e93+jcoLFy5k3759DHlsOFHbL3HwnO0LmKbHnifhku27TL7adpbEFNvJnbw5keR0E2dTDMSdySA8PByj0UhkZCRGo5G0tDQiIyMB29tUoqKiANt75O1vJjt27BhfffUVZrOZ+Ph4x4sI9u3bx8KFCwHbNz7/9NNPxMTEsGXLFsc7/fNSJ4DZs2cTHx8PwLRp00hISABg6tSpjrf5REVFkZycDNjeVpKWlpbnOiUkJDBt2jSAG9bJ/t77bdu2eVSnmJgYYmJi+PHHHwOmTvk5T2azmVdeeYXz588HTJ3yep7Onz/PK6+8gtlsDpg65fU87dq1iw8++ACz2exzdbLXQ7iXn77p6bFv8eL688Qn2777ZfruJBKu2Dryr36/QGLaP31TzDmSM8z8fDiFoEo1SE9Pz3O7O3LkCF999RVKKembcqmT9E1TOXnypOM7YQKlTtI3ley+yW9fbpCcnEzlypUdI0i9Xo/JZEKj0eSYNhqN6HQ6dDodc2ZOZ+ucj/n6gWqYrQq9VoNWq8FgthKUbTrdYOGRJcl8NvNnWrVqBdhGo/Y3WRiNRkJCQrBarZhMphzTFouFtLQ0SpcujU6nw2KxEBwcjMVicUybzWaMRiO//PILffr0Qa/XExQUlOc6XT+t1+vRarUYDAaCgoJcTmevh6d1slqtmM3mHPW4vk5KKUc9sk+7q5PZbGbFihXcf//9hIaGBkSd8nOeLBYLixYt4qGHHiIkJCQg6pTX82QwGPjpp58YPHgwOp0uIOqU1/OUlZXFkiVLGDRokO3zHz5Up+TkZMLDw+XlBi4UpG/SarU8+eggulsP8cjN5TGarW77poNJmfz3QDALVv5KWFgY4Hm7s/+cpKWlUbFiRaxWq/RN0jfdsE5g+/LT3r17U7p06YCok/RNJbtv8tuBT0E63u+/ncqaH/6Pd+4qR8sazs9OW62KX4+k8unvWUR+M4d27drnad8HDhxwTDdu3NjxPR1CCOHv5K1u7hU0G5PJxHMjHqX6xT95sXU5wssGOS3PMFqYdyiNZcnlmBO92vHN9Z5QSnHw4EHHv5s3b45Op8tzGYUQwhfJW91y8eQzLzBhWjTfJDWlz/wkPthyhcnbL/P2hsvcNz+ZXeH38+Pq3/I86AEoU8Y2kNLr9Y7PatyI2Wxm8+bNjlFySSQZ2EgOkgFIBiVVUFAQ0+Yu4o5Xonjpz7IMX3+VSXGpfPpHCi9sTmHwZgul+rxG9Prf8jTouV6lSpU8GvRIO5QMQDKwkxwCJ4PcfzMPUC1atOCrmT+SlpbGoUOHSE9Pp0KFCrzfqpVHAxZ3GuTxLTtKKVJTU/GzG2+FSjKwkRwkA5AMSjKNRkOv3vfTq/f9nD17luPHj2OxWBhQs2aB3o6m0Who2bJlnraRdigZgGRgJzkETgYl8lE3IYQQeSfXX/ckGyGE8A551M2PmM1m1q5d6/e3DgtCMrCRHCQDkAyEb5B2KBmAZGAnOQROBjLwEUIIIYQQQgQ8edRNCCGER+T6655kI4QQ3iGPuvkRk8nE8uXLHd96WxJJBjaSg2QAkoHwDdIOJQOQDOwkh8DJQAY+XqbRaChfvjwajcbbRfEaycBGcpAMQDIQvkHaoWQAkoGd5BA4GcijbkIIITwi11/3JBshhPAOedTNj5hMJhYtWuT3tw4LQjKwkRwkA5AMhG+QdigZgGRgJzkETgYy8PEyjUZDnTp1/P7WYUFIBjaSg2QAkoHwDdIOJQOQDOwkh8DJQB51E0II4RG5/ron2QghhHfIo25+xGg0MmfOHIxGo7eL4jWSgY3kIBmAZCB8g7RDyQAkAzvJIXAykIGPl+l0Olq0aIFOp/N2UbxGMrCRHCQDkAyEb5B2KBmAZGAnOQROBvKomxBCCI/I9dc9yUYIIbxDHnXzI0ajkenTp/v9rcOCkAxsJAfJACQD4RukHUoGIBnYSQ6Bk4EMfLxMp9PRsWNHv791WBCSgY3kIBmAZCB8g7RDyQAkAzvJIXAykEfdhBBCeESuv+5JNkII4R3yqJsfMRqNTJ061e9vHRaEZGAjOUgGIBkI3yDtUDIAycBOcgicDGTg42V6vZ57770XvV7v7aJ4jWRgIzlIBiAZCN8g7VAyAMnATnIInAzkUTchhBAekeuve5KNEEJ4hzzq5kcMBgNRUVEYDIY8bZeQkOD3txvt8ptBoJEcJAOQDIRvyE87NBqN7N+/n7S0tCIsWfGRn0XJwE5yCJwM/HbgYzKZADCbzZjNZsc8V9NGoxGLxeJy2mq1ArYT6m5aKYVSKsc0gNVqdTttH5hYLBaX0/byDRo0CI1Gk6c6TZgwgfnz5/tknbLXw5M6aTQaBg0ahFLKZ89TXuuUn7YXFBRE3759HW9MCYQ65fU86XQ6+vbtS1BQUMDUKa/nSavV0q9fP4KCgny2TsI9XzlH3uibUlJSeP755zl79qxP1kn6pry3PZ1Ox6BBg7BarQFTJ+mbSnbf5LcDn/Xr1wOwYcMGNmzYAMDq1avZtm0bANHR0cTFxQGwcOFC9u3bB8Ds2bOJj48HYNq0aSQkJAAwdepUEhMTAYiKiiI5ORmAyMhI0tLSMBqNREZGYjQaSUtLIzIyEoDk5GSioqIASExMZOrUqYDtjsy0adMAiI+PZ/bs2QDs27ePhQsXAhAXF8eyZcuoU6cOO3bsYPXq1R7XqWfPnrRq1con6xQdHQ3Atm3bPKrTrl27qFOnDosXL/bZ85TXOuWn7Wm1WhYvXszly5cDpk55PU+XL19m8eLFaLXagKlTXs/T/v372bFjB1qt1ufqZK+HcK8k901Vq1bl6aefJj093SfrJH1T3tveuXPnqFOnDlOmTAmYOknfVML7JuVnUlJSFKCSk5OVUkqZTCZlMpmUUkoZjUaX0waDQZnNZpfTFotFKaVUVlaW22mr1aqsVmuOaaWUslgsbqcNBoNSSimz2exy2mQyqbS0NPXRRx+pa9euKaPRGBB1yl4PT+p07do19dFHH6nU1NSAqVN+zlNWVpaaOHGiysjICJg65fU8ZWRkqIkTJzpl4u91yut5Sk9Pd2Tga3VKSkpSgEpJSVHCmfRNvl8n6Zvyfp4yMjLURx99pFJSUgKmTtI3ley+SV5u4GVWq5Xk5GSqVKmCVuvbN+BGjBjB+PHjadCgQaHu158yKEqSg2QAvp1BoF1/C1OgZePL7TC7S5cuMWXKFMaNG0e5cuUKdd/+kkFRkgxsJAffzkBebuBHtFot4eHhPteIXAkNDWXHjh2Fvl9/yqAoSQ6SAUgGwjf4SzvU6/UcOHDA8bhMYfKXDIqSZGAjOQROBv5d+gBgMBiYMGGCX3xo+JtvvuGxxx4r9P36UwZFSXKQDEAyEL7BX9phWFgY0dHRtGvXrtD37S8ZFCXJwEZyCJwM5FE3L1NKkZaWRrly5dBoNN4ujldIBjaSg2QAvp1BoF1/C1OgZePL7bC4SAaSgZ3k4NsZyKNufiYkJMTbRfA6ycBGcpAMQDIQvkHaoWQAkoGd5BAYGcjAx8uyv5KvpJIMbCQHyQAkA+EbpB1KBiAZ2EkOgZOBPOrmZUopjEYjwcHBPnfrsLhIBjaSg2QAvp1BoF1/C1OgZePL7bC4SAaSgZ3k4NsZyKNufsbfPyhWGCQDG8lBMgDJQPgGaYeSAUgGdpJDYGQgAx8vMxqNREVF+f2tw4KQDGwkB8kAJAPhG6QdSgYgGdhJDoGTgTzqJoQQwiNy/XVPshFCCO+QR938iNVqJSkpCavV6u2ieE1xZXDlyhW6d+/Ob7/9VqTHyS9pC5IBSAbCN0g7LL4MtmzZQufOncnKyirS4+SHtAMbySFwMpCBj5eZTCa+//57TCaTt4viNcWVQbly5Zg4cSLt27cv0uPkl7QFyQAkA+EbpB0WXwadOnXi448/Jjg4uEiPkx/SDmwkh8DJQB51E0II4RG5/ron2QghhHfIo25+xGq1cvr0ab+/dVgQkoGN5CAZgGQgfIO0Q8kAJAM7ySFwMpCBj5eZTCYWL17s97cOC0IysJEcJAOQDIRvkHYoGYBkYCc5BE4G8qibEEIIj8j11z3JRgghvEMedfMjVquVo0eP+v2tw4KQDGwkB8kAJAPhG6QdSgYgGdhJDoGTgQx8vMxsNrN27VrMZrO3i+I1koGN5CAZgGQgfIO0Q8kAJAM7ySFwMpBH3YQQQnhErr/uSTZCCOEd8qibH7FYLBw8eBCLxeLtoniNZGAjOUgGIBkI3yDtUDIAycBOcgicDGTg42UWi4WYmBi/b0gFIRnYSA6SAUgGwjdIO5QMQDKwkxwCJwN51E0IIYRH5PrrnmQjhBDeIY+6+RGLxcLu3bv9fgRdEJKBjeQgGYBkIHyDtEPJACQDO8khcDLw24GP/QuUzGaz4w0TJpPJ5bTRaHScqOun7a/lMxgMbqeVUiilckyD7fV+7qaNRiNgayyups1mM1lZWRw8eBCDwRAwdcpeD0/qZDAYOHjwIJmZmQFTp/ycJ4vFwt69ex37D4Q65fU8mUwm9u7di8ViCZg65fU8GY1G9u3bh8Vi8dk6Cfd85RxJ3yR9U2GcJ5PJxMGDB8nIyAiYOknfVLL7Jr8d+Kxfvx6ADRs2sGHDBgBWr17Ntm3bAIiOjiYuLg6AhQsXsm/fPgBmz55NfHw8ANOmTSMhIQGAqVOnkpiYCEBUVBTJyckAREZGkpaWhtFoJDIyEqPRSFpaGpGRkQAkJycTFRUFQGJiIlOnTgUgISGBadOmARAfH8/s2bMB2LdvHwsXLgQgLi6OlStXMmzYMH7//XdWr14dEHWKjo4GYNu2bR7Vad++fQwbNswx7a91+u233wp0noKDg7lw4QKpqak+U6fibnupqalcuHCB4ODggKlTXs/ToUOH0Ov1BAcH+1yd7PUQ7knf5Lt1Kol906pVqwrUN128eJFhw4bx5Zdf+kydpG+SvqlAfZPyMykpKQpQycnJSimlTCaTMplMSimljEajy2mDwaDMZrPLaYvFopRSKisry+201WpVVqs1x7RSSlksFrfTBoNBKaWU2Wx2OW0ymVRGRobasWOHyszMVEajMSDqlL0entQpMzNT7dixQ6Wnp/tlnTIzM9Xu3bvVnj171MGDB/N9nkwmk9q8ebPjuL52noqj7RkMBrV582ZlMpkCpk55PU9ZWVlqy5YtjnL7Up2SkpIUoFJSUpRwJn2T79eppPVNSUlJjr4pLS0tX+fJYDCoHTt2qGvXrvlEnVydJ+mbpG/KS9+k93yI5FuCgoIA0Ov1OeZdPx0cHJzrdEhISL6mtVqt22n7/nU6HTqdLse0Xq9HKcXp06dp27ZtwNTJzt20qzrZM7Dvx5/qZLFYHPWwWq35Pk8Wi4ULFy6g0Wi8XifwTtvTaDRcuHABpVTA1Cmv50mr1XL+/HmUUk5l9KU6CfcC5ToufZP/900ajcZRjxMnTtCyZUuXZb9RnUwmkyMDrVbr9TqB9E2FVaeS2jfJW92EKATp6ekcP34cgCpVqlC9enUvl0iIwifXX/ckG+GLkpOTOX/+PIDTwEeIQCJvdfMjZrOZzZs3Oz70VRIFQgZlypShWbNm6HQ6qlatmq99XJ+D/cOCJUkgtIWCkgyEL5B2GBgZVKlShXr16lG6dOl8bX99Bkop6ZtKqEDJQAY+XqaUIjU1FT+78VaoAiUDrVZL/fr1HY8D5FX2HC5cuMBHH33E77//Xsil9G2B0hYKQjIQvkDaYeBkEBoaSu3atfO17fUZzJkzh+nTp5e4wU+gtIWCCJQM5FE3IXxUTEwMbdq0cXruVQhvkuuve5KNKAmysrLYs2cPHTt29HZRhHCQR938iNlsZu3atX5/67AgJAOb63Po2LFjiRv0SFuQDIRvkHYoGUDODEJDQ0vkoEfaQuBkIAMfIYQQQgghRMCTR92EEEJ4RK6/7kk2QgjhHfKomx8xmUwsX768xH1QMDvJwEZykAxAMhC+QdqhZACSgZ3kEDgZyMDHyzQaDeXLl3d8aWVJJBnY+HoOMTExpKamFukxfD2D4iAZCF8g7VAyAN/PwGQysW3btiL/ZdzXcygOgZKBPOomhMiVyWRi3bp1GI1G+vfv7+3iCC+R6697ko0Qxe/q1at8+umnjBkzhkqVKnm7OMJL5FE3P2IymVi0aJHf3zosCMnAxpdzCAoK4u6776ZPnz5FehxfzqC4SAbCF0g7lAzA9zMICwvjnXfeKfJBj6/nUBwCJQO9twtQ0mk0GurUqeP3tw4LQjKw8fUcSpUqVeTH8PUMioNkIHyBtEPJAHw/A41GQ0hISLEcx5dzKA6BkoE86iaEEMIjcv11T7IRQgjvkEfd/IjRaGTOnDkYjUZvF8VrJAMbyUEyAMlA+AZph5IBSAZ2kkPgZCADHy/T6XS0aNECnU7n7aJ4jWRgIzlIBiAZCN8g7VAyAMnATnIInAzkUTchhBAekeuve5KNEEJ4hzzq5keMRiPTp0/3+1uHBSEZ2EgO7jNISkrio/ffoV+vu+hzTyce7N2Fz6d8QkpKipdKWnSkHQhfIO1QMgDJwM5dDgcOHOCl50bQ97476XNPJ4YMuI/oJT9jNpu9VNKiEyhtQd7q5mU6nY6OHTv6/a3DgpAMbCSHnBlkZGTwyotPcuXsYUbeV43/vNsErVaDyWxl2db1DBswj6atOxH58efo9YFxOZN2IHyBtEPJACQDu+tzOHr0KK++MII6FU0817cWLR5vikaj4UqqgVmrP+fez95j5LOv8tiwJ7xc8sITKG1BHnUTQvik9PR0Bj3Yk9f6V6Zbm2pu11u04TRL/tAyb9GKgBn8+Cq5/ron2QhRMhw8eJCXn36YmW+0onZ4GZfrWCxWxkw9SMPb+/PK2DeKuYQljzzq5keMRiNTp071+1uHBSEZ2EgOzhm8+OzjjBtYmQY1SvPCJzvo8uwvPDFxK5Nm78Nosji2Gdy9Dv3bWvnvm696seSFR9qB8AXSDiUDkAzs7DmkpKTw4qhHmPff1hw5nUKfset45L8bGTFxCz9tPO5YX6fTMuWllhyM+Ylf16/zYskLT6C0Bbnj42VWq5WEhAQaNmyIVlsyx6GSgY3k8G8Ger2et14YQMXSWcxedZRrGbZvig7SazGZrYx9rBWfvNTeadsH3ohj4YrtlC1b1htFLzS+3A4C7fpbmAItG19uh8VFMpAM7Ow5bNm8gcv7Z7P5j1Os2nEmx3qrp9zLvRG1Hf++lJLF058nsuSXTcVZ3CLhy21B7vj4Ea1WS6NGjXyuERUnycBGcvg3g2nf/B+h2nS++ukQI+5vzJVfh2HY9gSGbU/Q/uaqLNtyMse2j3UPZ+7smV4odeGSdiB8gbRDyQAkAzt7DgvmTGPF1gTW7kzkuzfvxLxjJIZtT2DeMRKA5b+dctquclgoYcHXOHbsmDeKXagCpS34belNJttfgM1ms+PtGSaTyeW00WjEYrG4nLZarQAYDAa300oplFI5psE2AnY3bb8daLFYXE6bzWauXbtGVFQU6enpAVOn7PXwpE7p6elERUWRlpYWMHXKz3kyGAx8/PHHZGZmBkydPD1PGRkZvPHGG4wfP56PP/6Y3XHbid58nBpVSjH5lQ6UKx2EUgqjycLuw8l0a1vjnzpZHY+9PdCxButXL/WZOuX3PGVkZPDxxx9jMBh87jzZyy7c85VzJH2T9E2FcZ4yMzOJiooiNTU1YOqUl/N05coVHnzwQaKjo5k4cSJWYyq/7T3PU32b8GTfJgAopdi8+xwAvTrW/qdO2fqm9uVZu2alz9SppPdNfjvwWb9+PQAbNmxgw4YNAKxevZpt27YBEB0dTVxcHAALFy5k3759AMyePZv4+HgApk2bRkJCAgBTp04lMTERgKioKJKTkwGIjIwkLS0No9FIZGQkRqORtLQ0IiMjAUhOTiYqKgqAxMREpk6dCkBCQgLTpk0DID4+ntmzZwOwb98+Fi5cCEBcXBy//PILgwYNYufOnaxevTog6hQdHQ3Atm3bPKrT3r17GTRoEEuWLAmYOuXnPAUFBXHp0iXHK5oDoU6enKeTJ09yyy23MGnSJCZOnMilS5fQa6Hr7TU5l5xJ9d4/EjV/P5/O28+Xi//CbFGkpdsusvuOXGbhr7ZjHjh+hROnznhUp9TUVJ59+im63tmGPvd0pMPtLXh86GCOHDni9bb3119/ERwcTFBQkE+dp7S0NEc9hHvSN/lunaRvyvt5SkpKYtCgQXz55ZcBUydPz9PWrVtp3Lgxy5YtY+bMmVy4cIG6NcpTq2ppvo0+zO3Dl7Lo1wT+b8FBXp0cC8Dfp2z9d/a+6VxyJjE7tntUpxMnTjBoQF+6drrd1je1acm4117hypUrXm97gdI3+e1nfJKTk6lcubJjBKnX6zGZTGg0mhzTRqMRnU6HTqfLMa3X69FqtRgMBoKCglxOBwcHA7bRaPbpkJAQrFYrJpPJ5bTZbCY4OBiLxYLFYskxbTabUUoRFBSUY1rqJHUqKXXq2rUrW7duBWD48OF89913DHygC0vGN+e3vecZ9t5WziVnOK4B9WuUZeeMvlStWAqLxYrFqggO0nEt3cjwz04RvXKz2zoZDAY+eO8t9sRu4OFuVRjQuQ6lSwX9cyfpEtNXneWqoTxffDubmjVrynm6rk7JycmEh4cHzOdYCpP0TVInqVPg1Ck1NZXw8HDHz/fcuXPp2bMnLz/Ri+9ea8m8tcd4btJ2p2vAo/c2ZMZ/OxMcpHPqm6I3Hedc2b688OLLbuuUlJTEy8+PIMiUxMheNejUKpygIB0ZmSZWxZxl7q8XuKlFByI//pyQkBA5T+S/b/LbgU+gdLwGg4GoqCjGjBlDSEiIt4vjFZKBTUnNITg4GJPJxJtvvsm4ceP4+uuvuXj+JINvOUuHluFkZJnZeTCJq2lGLl7N4vHejQkJzvk9Aj9tPMW5Uvcw+pXXXB5HKcWoEUO4vWYSz/Vv7LY8fyVc4aUvjjDvp9XUqFGj0OrpKV9uB4F2/S1MgZaNL7fD4iIZlNwM4uLiaN/e9gKd6OhoevXqxWeffcbG1YtZ8WFrQkP0JCalc+jEVc4mZ1CpfAgP3FnX5b6e+exPxkycTbNmzVwuv3z5Mg/17c7/RtWnXfOqbsu04NdTrNijZ86CZV75Lh1fbgt5uf7KwMfLrFYrycnJVKlSxe8/MJZfkoFNSc0hOjqabdu2MWnSJLRaLcnJyaSmpvLBa0OY+eatHu+n75txzI3eSlhYmMvlkR+8i/bCOl59pCVvfRXHzgMXmDruTlo1qpRj3cMnrzL2u0R+WbcNjUaT36rliy+3g0C7/hamQMvGl9thcZEMSm4GVquVyMhIwsPDGTVqlCOHJT8tpEzyMobeW9+j/VxNMzDisxMsW/2b23V69ejE+8OqUaNKaV76dAc6rYbv/9uZcmWCc6w7d+1JjhlbM+H9j/NbtXzz5bYgb3XzI1qtlvDwcJ9rRMVJMrApqTn079+fzz77zHGLOzw8nEaNGmEOqUHsgYse7WP5tkQatWjvdtCTlpbGrGlf0vnWavR+ZTVRP/5JzIEkho3fhKu//TStV4Fb6sGOHTsKVLf8KKntQPgWaYeSAZTcDLRaLW+//TajRo1y/Ds8PJxhj49kxprzXEn17MP07844zDMvjnO7fOnSpWizEkm6ksUdo5azefc5ftp4nInf73G5/mP31CVmyxrHS5CKU6C0Bf8ufQAwGAxMmDChRL8tSTKwkRycM/hq2jzGzzlHzP4bD35+2X6WWZsMTPpsqtt1Hhn8IH+fukKnp5azIe4sn74cwdz3uvHn0csMG+/6+xWefqAu335R/H9Vk3YgfIG0Q8kAJAM7ew56vZ7PvvyBRybuIemy+8GHUoq3vvuLGs3vpff9fdyu9+IzI1i1/RT3v7qGq2lGVnx2L0/0acJn8/5k5bZTOdbXaDQM6lKVhQvmFUq98iJQ2oI86uZlSinS0tIoV65csT9S4yskAxvJIWcGqampvPTscCzXTvP0/TW5s3U4Go0Gq1WxdudZZqw5T/X6rfns/751+8yxyWSiTYs6mIxZxJ9M4cD8h7i5YUUA6vebz6nz13hpcAveefJ2qlQIddq2z5u7+GXDriKvd3a+3A4C7fpbmAItG19uh8VFMpAM7K7P4eDBg4x58Qla1dPzbJ/a3FTb9jN/LcPEj+tP8/O2ZB56dBRPP/uS233u3buXEYN7sO/IJdo0q8LKyfcRXqkU1zJMlO82C4D/vdie14fe4pT9xSuZ/Gf2NWbOiy7SOl/Pl9tCXq6/+mIqk7gBX/uQmDdIBjaSg3MG5cuX54cfl3L69Gm+mRrFJz/vRIMVhY47uvbk6zkvULWq+w+DAvyyYjnhYXqeGdCWwW9t4Lul8Sil+GLRQcaPup33pu3mi0UHqV+zHK8+0sppWw1Wt/u1WCysWvULc3/4loxrqQAEBYcyaMgIBj402PG2mYJmIIS3SDuUDEAysMueQ4sWLVizcSdxcXFEfvkJFy/8BUqhDw5l4JARrBg/JNfcvpv6KdUqhvCf4a2ZNHsfcX9dZOQHW7i5QUUGdW/A4g3HeePL3xl6XyNqVi3j2K58mWDS0tLc7jctLY05s2ewZmU0ympCo9FSqUo1nnrmFe64444CDVoCoS3Io25elv1d5CWVZGAjObjPoE6dOnz4v8msWLeD5etiWbFuO2+8NSHXQQ/A3/H7Ca8YTKtGlXht6C18vvAAXyw6CMB703Yz+dWOAIz7YicXLmU4bWtRrjuIDRvWc8/d7Tm0cwZfvn0by7/tzfJvezMr8g6unljK/fd0ZP6Pc/ITgbQD4ROkHUoGIBnYucpBo9HQvn17vp+9mOVrd7B8XQxLftnEY0Mf92iAcPpkAnqdlgmj2tC+RVX6vb6Oi1ey2LL7HIs3HGdIz5sAePqj35w+i5pyzUi5cuVy7E8pxceT3mfIgLupqHay+P/uZvm397Psm15MeLYBqxZ9yH09OnHw4MFCy8AfyaNuXqaUcryL3NduHRYXycBGciiaDD6c+DbB51ejdEE81a8ZESOXknA2DYsl56Vv95wB3NqkMgAJiak8Pulv+g96jLvvvpumTZsSGxtL6tXL/DjrE2Z+3IvSpVzf1TGbLYyeuIFbOz7EM8++mKfy+nI7CLTrb2EKtGx8uR0WF8lAMrArihz69OxI/bCrjHzwZtLSjfR9bR0p13IOKiqHhXB21VCC9LZ7FZPnH2BXUj06d+7KPffcQ5kyZTh58iQLF/xAtVJnGPtUO7dlTEq+xrDXVjMpaga33XZbnsrry21BXmftR3z5mcniIhnYSA5Fk8GM778j+MQ8Zq4+wrov70er/Xe/KdeMfBt9iNBgHREtw2nf4t8vrBs2fjPz1hzJsb9SocHUqxXGmfMpfDmxL8MHuu48lFIMH7uSl9/4P9q1a+dxeX25HQTa9bcwBVo2vtwOi4tkIBnYFUUOjz7Uixe6KWb/epJv3rzLadlfCVdYuf0Uer2Wh3s0dDzqppSiXt8FnEm6lmN/tWtUABSXr2YQv/FVatdw/ZbTS1cyGPTSSlavjyE0NNTlOq74cluQ11n7EaPRSFRUlN/fOiwIycBGciiaDPoPGMRPO67y4J21+b8F+52WhZUNZtyw1ox+uKXToOevhCus23kOIMcXxVmtFuKPXeRaupGjJy+5Pa5Go+H9V+/gy//7X57KK+1A+AJph5IBSAZ2RZHDI8OfZUf8Na6mZvHHX0lOy25uWJHXh7Xm1UdaOX2+Z/qyw6Qbbb+6X/+428VLaZw5l0JGponzF91/BqhyxdI8+kBjFi2cn6fyBkpbkDs+QoiA99TjgxnTPYvPlxymVeMqPD+ohdt19x+5xNAJW3hpXCQrVqzAarVSqVIlzp07x+ZNGzFbrJQKDWLEoNs5EH+Bw8cv8tG4exg5uK3L/T30wnK+mbnCo88j+Tq5/ron2Qgh8sJisXBvl9uYP64Zj32wnYnPtKVDq2pu15+z6m8iZx/kjfGf8uOPP1KmTBnKly9PXFwch+MPYbEqalYrx6hH2vHDT3soUzqIGZ8MpF3r2jn2lZ5hZNDo9axev70oq1hs5I6PH7FarSQlJWG1un97VKCTDGwkh6LL4O0Jkxj9zTE+eupWrqZk0vvlVcxe+TdZBjNgu4W/488LjJiwibH/F0uL1h0ZNWoUy5cv55dffuHbb7+lXr16tGxWk4lju3M6dhy1q4fxW9wJQoL1PDUumpGv/8yt931B5dYf8OK7yx0fRr07oia///671zMQIi+kHUoGIBnYFUUOOp2OZ0e/yX9/OMrC8Xfy9eIDPPr2r2z6I9HRfxhNFhauO0qfMWuYseIY/3n7Qx5//HHWrl3LkiVLeOuttwgrX5Z+9zTnu8gHObljHFtij3M5JYPjp6/Qod/XjJ7wC3UiJhF++4csXPEnAGVKBxMaZMZkMnk1A2+QgY+XmUwmvv/++zw1vkAjGdhIDkWXQYMGDYj8v5kMjjxAr/Y1WTzhLkxZBh59+1f6vrqaB8euZdnGYzSsWYHKtVvzw48/O22/ePFivv/+e/YePMN7UzYx+Pn5XLmaQXCwjg0/Pknr5tVZsPxPalYrR7+ezflq9k7qRExix66TlC2tIz093esZCJEX0g4lA5AM7Ioqh4cGP8Lt3R/n5a/jiXzmNj559nY2x53hwbFr6Pvqah5+Yz0nz1ylUoUKPPjoC4x48mmn7SdOnEhM7O8sWfMXT7+5lPc/30TqNQNNGlTht8VPU65sCPOX7ePeLo1pXL8Kj7y0kD4jZ3PyzBXKlgkukX2TPOomhCgxTp06xaf/G8+RA3/Qr0MYtasEYzBZ+f1IFntOmBj06JOMfOqZHJ/ruXr1Kp07d+bgwQO8P7Ynb3+yjumT+jN+8gYSz6dSuWJpnh/WgffG9ADgh59288RrtsHTXe0b8sb4L+jdu3ex17ewyfXXPclGCJFf27b9xpeffYDWkMQDbcsRVjaI1HQTq3dfI4OKvDDmbbp1uzvHdnv37uWOO+6gaYMwqlYqw7rfjvLzN4/y0HPzUUpRI7wcsz57iJ53NcJstvDkuCXMWbIXgDa33ETsrnj0ev//Sk95q5sfsVqtJCYmUqtWLbTaknkDTjKwkRyKL4P09HTWrFlD0vlEQkJL06JlK9q3b3/DN9UsWbKEgQMHAtC0YRViop8l02Dis2nbmb4gDq1Gw6V9/3Xsw2Kx0vXh6Wz/4yRHjhyhUaNGHpXNl9tBoF1/C1OgZePL7bC4SAaSgV1x5XD69Gk2b95EWsoVypavQOfOXahfv/4Nt3n44YdZtGgRAMMG3MoPUYPYuec0X82JZc6SvQy+vxULpg5xrJ+alkWFVu9TrlwZUlNzvh3OHV9uC/IZHz9iMplYvHix3986LAjJwEZyKL4MypQpw8CBA3nuhdGMfPIpOnTokOvrOQcMGMDIkcOZ9GYv9q8bTYWwUoSVC+X+bk2Z9MZ9XE3NYv1vR1my5iCPvrSQOwd+x/Y/TlKzRjUaNmzocdmkHQhfIO1QMgDJwK64cqhTpw7Dhg3n+RdfZvjwx3Md9ADMmjWLtrfdTEz0M/wQNQiA2jXK88rIOxhw3838vOYgf/x5hi9mxfDQsz/S7O7JAPR5oG+eyhYobUHu+AghhIcuXrzIIw/dw89T+3A4IZkO/b4GoFXTauw/fMGx3m0talCrehhnzmfy1HOvcznxJBnp16gUXo1+gx6hSZMm3qpCgcj11z3JRgjhLatXr2TZ/E/4amJPvvsxjufeXgbAvV0as3aL7fvodDotd7atR5VKpTl6xshLL47h5N+HsCortRs0ZvCjQ6lUqZI3q5FvcsfHj1itVo4ePer3b8koCMnARnLw/QyqVq3K+/+bypCXf+H7BX845ut0WhJ//w87ljzDrl9e4LefngaNHp1ZkbryS3qcX8XDmdu49dACPnmqL/26dWTzxo0uj+HrGYiSQdqhZACSgZ2v59Cr1/00ueVeXv1gI1/M2uGY36pZdQ5teIWti0dxdMsYvvvfgxw9kUqY1YxuzRT6XN1I/9TNVNr6FSPv68jIhx/k5MmTLo/h6xl4SgY+XmY2m1m7di1ms9nbRfEaycBGcvCPDDp27MT/omZy/IKefvfeyk9fP8qWRU9RrUpZwquUZfHqo3ToO41mxmvEDKzOf9qE0aFWWW6pVpruDcL4tksFZrQxMf2tZ5j13dc59u8PGYjAJ+1QMgDJwM4fchjz2pt06DacipWq8fRjndg0/0n+9597uKleJbRaDf+N2kHfkfN4r1UpNvUPZ3iLCrSpUYbbqpfhoaYVWHJvRV6rdJyR/Xqyb9++HPv3hww8IY+6CSFEPu3bt4/p333OqZPHUVZFtRo1SD53kUfLn2Vg43I33NaqFCM3XGbou1O4p9f9xVTigpHrr3uSjRDCF1gsFlavXsWi+TO5cvkSen0QjZo0Y8f6X5ndOZQGFUNvuP2lDBNDNl7jxzVbqVbN/Req+hJ5q5sfsVgsxMfH06xZsxyv0C0pJAMbycH/Mzh+/Djjh/Zi1t0VHPPMVkWvH+PZn5RB25plmXpffepVCAEg3Whh8G8WlmzYzsL5c9m1cyvp19JRGh0jRr1I586dc33pQnEKtOtvYQq0bPz9Z7EwSAaSgZ2/5zDt6y8J+nUqw28Oc8w7cjmL++bFA9CzYRhTe9VHp7X1N1tOpbExvCcvjH2D2TO+IeHIIcxmC6XKhvHKa29x0003eaUe7shnfPyIxWIhJiYGi8Xi7aJ4jWRgIzn4fwbfTP6YZ5s4d4q7z6Wz8UQq991Uga0nU+k06yAz914kMdWIXqsh49IZ7u98C9b93/Fq27OM755CXcs+Vn41mns738aSnxZ4qTaiJPP3n8XCIBlIBnb+nINSisUzv2NwE+enEBYdvERimpHuDcozbU8Sd/1wkPUJKaRkmalfPoifF85m9NAe3GJcw9t3JvPWXZcJPb+Z8c/35aH7u3HgwAEv1ahg5I6PEEIUkvvat2TlPWWc7tIkXMmi8dR9zOrbkLY1y/LqupOsT0gBICxUx7DutfnsyRYE6XP+HcpgsvDa3DM0jBjMmHH/LbZ6uCPXX/ckGyGELzp27BifPtmHqXc5X5e+3XWB0WtPcvSF1uy/mMlLq09wIsVAkFZDWCk9U55uwaNdarnc57nLWYycdpp3Pp7OHXfeVRzVuKESccfH/h5xs9ns+KCVyWRyOW00Gh2j9Oun7W+nMBgMbqeVUiilckyD7S0X7qaNRiNg+0uBq2mz2UxWVha7d+/GYDAETJ2y18OTOhkMBnbv3k1mZmbA1Ck/58lisRAbG+vYfyDUKa/nyWQyERsbi8Vi8cs6aa22/SmlMJhty+tXCKF7g/I8u+o4tcoFsXRQY+KebEmnumVpWqcsX648ya2jt7B+T9I/x7Sy8/AVLBaFTqvhs6G1OR67iMUL5/nMeRLu+co5kr5J+qbCOE8mk4ndu3eTkZERMHUqaX3TxYsXqRqi/q3TP33ToJsrodfAs6uOc99NYex6qiWrH2lK3UohVK0YzNDJe3nwwziOnL32zzH/7ZuqhgXz4/P1eO/1USQkJPjMefKE3w581q9fD8CGDRvYsGEDAKtXr2bbtm0AREdHExcXB8DChQsdb6iYPXs28fG2ZxqnTZtGQkICAFOnTiUxMRGAqKgokpOTAYiMjCQtLQ2j0UhkZCRGo5G0tDQiIyMBSE5OJioqCoDExESmTp0KQEJCAtOmTQMgPj6e2bNnA7YPQy9cuBCAuLg4lixZwsGDB9m6dSurV68OiDpFR0cDsG3bNo/qtHPnTg4ePMiCBQsCpk75OU8Wi4WoqCguXLgQMHXK63m6cOECUVFRWCwWv6zT0XOXMVoUaUYL/9t+1lanayb2XchAq9Fw/pqJr3clEarXULdWWYbdXYddk+8iOEjHveN/58Vv9vPH0avM/PU0Fqsi7kgKS3de4JOhtZn0wXhWrVrl1fNkb2/CPembfLdO0jfl/TydOnWKgwcPBlSdSlrfpNVq2XQ0OUfflHDFQJZFYVWQmGpk5r6LxF/J4uX+DXm+Vz3mv3YbMYev0PKlrczbksie4ynM3PBv37R+XzLv9a/MW+Ne8fp5ykvf5LePuiUnJ1O5cmXHCFKv12MymdBoNDmmjUYjOp0OnU6XY1qv16PVajEYDAQFBbmcDg4OBmyj0ezTISEhWK1WTCaTy2mz2UxwcDAWiwWLxZJj2mw2o5QiKCgox7TUSeokdfK/OvXtGsEP7cyEheoxWhRGi2LY0qP8cuQqqx5pSo+GYZgsitc3n2Hkw41oUbccwUFaTCYrX685wZjv/+I/Axox/pEmBAdpMVusKAVBei3j5p6m74tfcNddd3ntPCUnJxMeHi6Pc7kgfZPUSeokdfLFOqWmpvJIt7as6G37clKjRXHkchaDf/qba0YrO59sSbWyQRjNVvpEH2XVhxGAhuAgLVfTTbz03QF+3HqW9e914M7mlZz6Jr1Owz3/SyB6/e+UK1fOL/omvx34BErHazabiYuLo127duj1em8XxyskAxvJwf8zWLRgPhd+nMgLrcMwWxX3zYvnt9NpfNWrPk/eFu5Yr3f0EVZHdsqx/aD//UH8mWt88XRL7mxRCb3u35vy+46n8mNCcz6e8k2x1MWVQLv+FqZAy8bffxYLg2QgGdj5ew6jHn2IV8OO0KxKKRKuZNH5h7/QazUsGtiY9rXKAhCfnMm3J64y5dlWTttarYrKQ9fxaOeaPNK5FhFNKzj1TZ+sOEubRz6he/fuxVqn7ErEZ3wChVKK06dP42fjz0IlGdhIDv6fQf+BD7HklJVUg5ntp9PYdDKVH/rd5DToAZw6jezKlw7i4KlrPDRpFynpJqdlVcsHc+VycpGVXYjs/P1nsTBIBpKBnb/n8MK4//K/vRkopZix9yJXssxsG3GzY9ADcCXLTPg/X7WQnVarISRIy9drTvH6rL+4PoKqZeDKlStFXYVCIwMfLwsKCmLw4MEEBQV5uyheIxnYSA7+n0FQUBAfTv2eob9eoXa5YIK0GtYdu+qis3Tdeb75UCNG3VuXy2kmdv591WlZptFC6dJliqbgQlzH338WC4NkIBnY+XsOt956Ky17P8qEnVdpFV6KLLPit1NpTuuU0mvJNLh+XfePY2+jU7OK/HkijUyj8zqZZg2lS5cusrIXNhn4eJnZbGbz5s2O5yJLIsnARnIIjAw63XEnb0yZwdPb0nnklmr88Gcyu89nOJafTjFwIdXMpVRjjm0b1SzD/426mWa1y/DAxDgm/XzUMWjadDCNNhFdiq0eomQLhJ/FgpIMJAO7QMhh3DvvUan7cOafhLvqlmPM+pOYLLa3pSmlSMmysH6/6zs3d99ShRkv3YJWAw2f3siqP5Icy7YdMdK6detiqUNhkIGPlymlSE1N9dvbp4VBMrCRHAIngzs7d2FlzD46Pf02Wo2GwctP03/lRe5ZeoGX/yrLnf2GM31jksttdVot7zzchCd71uHNH+LZcuASSil++iODwUMeLeaaiJIqUH4WC0IykAzsAiWHV994m29WbKVuhx4kpZu5a+Ep+v2SxN1LLzLX0oI6zdrw54lUl9s2qFaayU+2oF7VUjz08S7MFivnLmdhLV2dWrVcf9+PL5KXGwghRBEaMWIEK1eu5JdffqF06dJoNBosFgsvjBxM9Jj6VCkfnGOb7X9dZtSXf5KcamTf553ZeeQacYZ2fPTJ516owb/k+uueZCOE8Bdms5kmTZrQvHlzPvjgA8cjfAkJCcz8dCw/vdoErVaTY7tv1pzkzdnx3NawPBvej+DFmScZ9MrndOt2d3FXwYm83MCPmM1m1q5d69e3TwtKMrCRHAIzg6eeeork5GT27NmDRmPrSHQ6HWPe+ojBk49yMeXfL147dTGT/h/G0e2tGMqV0rHmvQ78dSaTmXF6Jnz4qbeqIEqgQPxZzCvJQDKwC7Qc9Ho9Q4YMYd26dY4vEAVo2LAht3cbxPPfJ2Cx2O6LKKXYcuAS7cb+xvPfHOD+tuEsHnc7H0SfI7xVL68PevLK/97JJ4QQfsT+16eQEOe35TRp2pQX35hExzEvcPnyFUoFazl3xUBYaT09bq3C24Mb883GFIyl67Nw6QLH9xUIIYQQBVWuXDm0Wm2OFzb0H/QoPyuo9+xUrqVnEBqkJSnFSN0qoTx3Xz163laNkdMS6XL/I4wZ918vlT7/5FE3IYQoQnPmzGH48OFs2rSJKlWqOObHxcXxySefcOjQITp2jOBC4knKldJRrXI5NFo9TVrcznMv/4fmzZt7sfTO5PrrnmQjhPAnw4YNY+fOnSxZssQxz2w2s2zZMqZMmUJmZiYd2rXh1PEjVK1QmqqVymJWenr0HsDIp1+gcuXKXiy9M3nUzY+YTCaWL1+OyWTKfeUAJRnYSA6BmcHRo0cBqFSpkmPezz//zMiRI9FqtaxYsYIdO2I4dvIse+NP88vmfTz/+gd89sU0nxr0iJIlEH8W80oykAzsAjGH48ePO/VLAG+88QYTJkygS5cu7Nq1iy2/bef4mSR+P3CCpRv28MLrE3nltTd9atCTVzLw8TKNRkP58uUdz/6XRJKBjeQQmBl069YNsL3k4PDhw6SlpfH1119zxx13sG/fPh544AGn9QMxA+F/pB1KBiAZ2AViDu3bt2fnzp189NFHXLlyhb/++ou1a9fy3//+l6VLl9KiRQun9QMlA3nUTQghilhUVBSff/45p0+fxmq1EhoayqZNm4iIiPB20fJErr/uSTZCCH+Snp7OmDFj+PHHH8nKysJsNtO0aVNiYmKoWLGit4uXJ/Komx8xmUwsWrQooG6f5pVkYCM5BG4GY8aMIT4+nmeffRaADz/80O2gJ1AzEP5F2qFkAJKBXSDmUKZMGb799lsOHz5MmzZtCAkJ4fvvv3c76AmUDOStbl6m0WioU6eO3986LAjJwEZyCOwMQkND+eKLL3j33XepVq2a2/UCOQPhP6QdSgYgGdgFcg41a9Zk8+bNZGVlUaFCBbfrBUoG8qibEEIIj8j11z3JRgghvEMedfMjRqOROXPmYDQavV0Ur5EMbCQHyQAkA+EbpB1KBiAZ2EkOgZOBDHy8TKfT0aJFC3Q6nbeL4jWSgY3kIBmAZCB8g7RDyQAkAzvJIXAykEfdhBBCeESuv+5JNkII4R3yqJsfMRqNTJ8+3e9vHRaEZGAjOUgGIBkI3yDtUDIAycBOcgicDGTg42U6nY6OHTv6/a3DgpAMbCQHyQAkA+EbpB1KBiAZ2EkOgZOBPOomhBDCI3L9dU+yEUII75BH3fyI0Whk6tSpfn/rsCAkAxvJQTIAyUD4BmmHkgFIBnaSQ+BkIAMfL9Pr9dx7773o9SX3u2QlAxvJQTIAyUD4BmmHkgFIBnaSQ+Bk4LcDH5PJBIDZbMZsNjvmuZo2Go1YLBaX01arFQCDweB2WimFUirHNIDVanU7bR8VWywWl9NmsxmLxUKjRo2wWq0BU6fs9fCkTlarlUaNGjnyCIQ65ec8abVa6tSpg10g1Cmv5wmgTp06aLXagKlTXs+TUoq6deui1Wp9tk7CPV85R9I3Sd9UGOcJoFGjRo48AqFO0jeV7L7Jbwc+69evB2DDhg1s2LABgNWrV7Nt2zYAoqOjiYuLA2DhwoXs27cPgNmzZxMfHw/AtGnTSEhIAGDq1KkkJiYCEBUVRXJyMgCRkZGkpaVhNBqJjIzEaDSSlpZGZGQkAMnJyURFRQGQmJjI1KlTAUhISGDatGkAxMfHM3v2bAD27dvHwoULAYiLi2PRokVERUWxceNGVq9eHRB1io6OBmDbtm0e1Wn79u1ERUUxd+7cgKlTfs6TwWBgwIABjvoFQp3yep4SExMZMGAABoMhYOqU1/MUFxfHiBEjMBgMPlcnez2Ee9I3+W6dpG/K+3lKSEggKiqKjz/+OGDqJH1Tye6b/PblBsnJyVSuXNkxgtTr9ZhMJjQaTY5po9GITqdDp9PlmNbr9Wi1WgwGA0FBQS6ng4ODAdtoNPt0SEiI469hrqbNZjPBwcFYLBYsFkuOaftfkZKSkqhWrRoajYagoCC/r5NSylGP7NPu6qSU4sKFC1StWpWgoKCAqFN+zhPYLjj169dHr9cHRJ3yep7MZjMnTpygYcOGAAFRp7yeJ5PJxKlTp2jQoAFWq9Wn6pScnEx4eLh8gN8F6Zt8v07SN+X9POl0Os6dO0eVKlUICQkJiDpJ31Sy+ya/HfhIxyuEEMVLrr/uSTZCCOEd8lY3P2IwGIiMjCzRz85LBjaSg2QAkoHwDdIOJQOQDOwkh8DJQO74eJnVaiU5OZkqVaqg1ZbMcahkYCM5SAbg2xkE2vW3MAVaNr7cDouLZCAZ2EkOvp1BXq6/MvARQgjhEbn+uifZCCGEd8ijbn7EYDAwYcIEv791WBCSgY3kIBmAZCB8g7RDyQAkAzvJIXAykDs+XqaUIi0tjXLlyqHRaLxdHK+QDGwkB8kAfDuDQLv+FqZAy8aX22FxkQwkAzvJwbczkDs+fiYkJMTbRfA6ycBGcpAMQDIQvkHaoWQAkoGd5BAYGcjAx8uyfwlTSXV9Bkopfv11PU8/9SgD+vZgyEO9eW/8m5w5c8bLJS1a0hYkA5AMhG+Qdpgzg8zMTGbNnM6wR/rx4AN3M3RIP6Z99zXp6eleLmnRkXZgIzkETgbyqJuXKaUcX8Lka7cOi0v2DJZG/8TUzydxV5uqDO/XlNrVy2M0Wdi5N5HpP/2N0ldi8hfTqV69ureLXeikLUgG4NsZBNr1tzAFWja+3A6Liz0DnU7HBxP/S8xv63i4VwP69WhEWLkQUq8Z+GXTMeavPM6tbe/i/Q8/Ra/Xe7vYhUragY3k4NsZ5OX6G1g/oX4q+zfRllQGg4Hvp3/N3pifWfVtL4KCdI5ler2Wbh3r061jff46cpFHB/dm1tyl1K1b14slLhrSFiQDkAyEb5B2CBkZGbz43BP0bBfE+O/7Oi2rGFaKYQ+2ZNiDLVm4Mp5HH+7LvAXLCAoK8lJpi4a0AxvJITAykEfdvMxoNBIVFeX3tw4Lwmg08uKLLxC7eSHfvHe306Dnejc3rsr09+/iyccHYTabi7GURU/agmQAkoHwDdIObRn07dOb7m30PN6/xQ3Xffj+ZjzcoyKvj32xmEpXPKQd2EgOgZOBPOomfEL/Pt35fmJbKoaV8mj9yTN30eD2EfTvP7CISyaEsJPrr3uSTeBJS0vjkQHdWPHtAx5vM+DFVUyfs5rKlSsXYcmEENnJW938iNVqJSkpCavV6u2ieM3hw4cpFZROWLlQj7cZMeBmfvh+ahGWqvhJW5AMQDIQvkHaIfwwazp9utXCavX878NP9G/MjO+/KcJSFS9pBzaSQ+BkIAMfLzOZTHz//feYTCZvF8VrVq5cRpAmC5PJkmPZsZOXyczKmU3FsFJYTakBlZu0BckAJAPhG6QdwtpVy0hKTsvRN1ksVuKPJePqgZneXW9i66a1xVXEIiftwEZyCJwM5FE34XXvv/cWPVomEXFbbaf5O/ec4b4n5tK5XT2WTXskx3Yj3viVyd8sp1KlSsVVVCFKNLn+uifZBJ4+ve5i+dTuOeY/984vzFu2n5+nDqbnXTflWN7vhV9ZvnpbcRRRCIE86uZXrFYrp0+f9vtbhwVRunQ5jp++kuNxgjo1wxjUuwUfvna3y+2upZsoU6ZMcRSxWEhbkAxAMhC+QdohgJaTiVdz9E0D772Z4f1voWtE/RxbKKVQ+NarfgtC2oGN5BA4GcjAx8tMJhOLFy/2+1uHBdGh411MW7Q/x+MENauV47uP+tCyabUc22RmmbiWpQmIbxG2k7YgGYBkIHyDtEO4vV1HIr/elqNv6nFnQ758736XbyCN2X2GFq1uL64iFjlpBzaSQ+BkII+6Ca9TSnFfj45Ef9GdUqGeff/B7OiDmMp356lRzxZx6YQQdnL9dU+yCTznz5/n5WceZMHk+zze5vFx65n46Tzq169fdAUTQjiRR938iNVq5ejRo35/67AglFLc06s/H0/f5dH6V1OzmBn9N48+NryIS1a8pC1IBiAZCN8g7RDCw8Ox6Crx2++nPVr/jz/PYtFVCahBj7QDG8khcDKQgY+Xmc1m1q5dG3BfxpkXZrOZkNAyXMysyeez99xw3ctXM3l0zFomffYtpUuXLqYSFg9pC5IBSAbCN0g7tGXQ8Y7uvP/tQWJ2n7nhurv2n+PNKXv58ptZxVO4YiLtwEZyCJwM5FE34TOUUnww8b/E7VjHiAcb0ad7Y/R629j8XFIa0xf/xZY/LvLJ5O+4/fbAeYZaCH8h11/3JJvAlZqaynNPDyNEc5nnHm5O21tqOpbt/es8X83/i5Sssnw7fR4VK1b0YkmFKJnycv2VgY+XWSwW4uPjadasGTpdzg9KlgTXZ3DlyhV+mDWN9WuWodMqQEPZchUZ+fTLdO/eA40mcN6Yk520BckAfDuDQLv+FqZAy8aX22FxuT6Do0eP8vXUzzj8159otQqrFRo2vpnnX3yNZs2aebu4RULagY3k4NsZ5OX6qy+mMgk3LBYLMTExNG7c2OcaUnG5PoOKFSvyyqvjeOXVcd4uWrGStiAZgGQgfIO0w5wZNGrUiM8mf+3tYhUraQc2kkPgZOC3n/Gxv07PbDY7njc0mUwup41GIxaLxeW0/UNaBoPB7bRSCqVUjmmwfdjL3bTRaARsjcXVtNlsRqPR8NRTT6HVagOmTtnr4UmdtFotTz31lGNfgVCn/Jyn4OBghg0bhl6vD5g65fU86fV6hg0bRnBwcMDUKa/nSafTMXz4cIKDg322TsI9XzlH0jdJ31QY50mv1/PUU0+hlAqYOknfVLL7Jr8d+Kxfvx6ADRs2sGHDBgBWr17Ntm22b0uOjo4mLi4OgIULF7Jv3z4AZs+eTXx8PADTpk0jISEBgKlTp5KYmAhAVFQUycnJAERGRpKWlobRaCQyMhKj0UhaWhqRkZEAJCcnExUVBUBiYiJTp04FICEhgWnTpgEQHx/P7NmzAdi3bx8LFy4EIC4ujp9//pndu3ezZcsWVq9eHRB1io6OBmDbtm0e1Sk2Npbdu3czf/78gKlTfs6TxWJh7NixXLhwIWDqlNfzdOHCBcaOHYvFYgmYOuX1PO3evZtJkyZhsVh8rk72egj3pG/y3TpJ35T383Tq1Cl2797Np59+GjB1kr6phPdNys+kpKQoQCUnJyullDKZTMpkMimllDIajS6nDQaDMpvNLqctFotSSqmsrCy301arVVmt1hzTSillsVjcThsMBqWUUmaz2eW0yWRS165dU7Nnz1bp6enKaDQGRJ2y18OTOqWnp6vZs2ertLS0gKlTfs6TwWBQ33//vcrMzAyYOuX1PGVmZqrvv//esa9AqFNez1NGRoaaMWOGMhgMPlenpKQkBaiUlBQlnEnf5Pt1kr4p7+cpMzNTzZ49W6WmpgZMnaRvKtl9k7zcQAghhEfk+uueZCOEEN4hX2DqR8xmMzExMX7/XvSCkAxsJAfJACQD4RukHUoGIBnYSQ6Bk4EMfLxMKcXp06fxsxtvhUoysJEcJAOQDIRvkHYoGYBkYCc5BE4G8qibEEIIj8j11z3JRgghvEMedfMjZrOZzZs3+/2tw4KQDGwkB8kAJAPhG6QdSgYgGdhJDoGTgQx8vEwpRWpqqt/fOiwIycBGcpAMQDIQvkHaoWQAkoGd5BA4GcijbkIIITwi11/3JBshhPAOedTNj5jNZtauXev3tw4LQjKwkRwkA5AMhG+QdigZgGRgJzkETgYy8BFCCCGEEEIEPHnUTQghhEfk+uueZCOEEN6Rl+uvvpjKVOhSU1O9XYRCYTKZWL9+PT179iQoKMjbxfEKycBGcpAMwLczCJTrblEKlIx8uR0WF8lAMrCTHHw7g7xcd/1u4BMcHEz16tWpU6eOt4sihBAlTvXq1QkODvZ2MXyO9E1CCOE9nvZNfveoG0BWVhZGo9HbxRBCiBInODiY0NBQbxfDJ0nfJIQQ3uFp3+SXAx8hhBBCCCGEyAt5q5sQQgghhBAi4MnARwghhBBCCBHwZOAjhBBCCCGECHgy8BFCCCGEEEIEPBn4FMDo0aOpX78+Go2GAwcOOOZ36tSJW2+9lVtvvZWWLVui0Wj4888/ARgxYgS1a9d2LH/99dcd2128eJHevXsTERFBXFycY/0PP/zQsc6sWbPQaDScOXPGMa979+7Mnj27qKvrVn5yyMjI4JFHHqFRo0Y0adKEJUuWOLbzxxzcZaCUYsKECTRp0oSWLVvStWtXx7JAawv5yaCktIOuXbvSsGFDx7mePHmyY1mgtQPhfdI3Sb9kJ32T9E0gfZMTJfJty5Yt6vTp06pevXpq//79LtdZvHixatmypePfjz/+uPriiy9crvvmm2+q5cuXq7Nnz6oePXoopZSaNWuW6t69u9P2HTp0UHPmzFFKKWUwGFSpUqXUyZMnC6taeZafHN577z31+OOPK6WUSkhIUNWqVVOXL19WSvlnDu4ymDJlihowYIAyGAxKKaXOnj3rWBZobSE/GZSUdtClSxe1YsUKl9sEWjsQ3id9k/RLdtI3Sd+klPRN2ckdnwLo3LkztWvXvuE6M2bM4Mknn/Rof0optFotWu2/p6Vbt27s2LHD8d0QO3bs4M0332Tz5s0A7Ny5k5o1a1K3bt38VaIQ5CeHhQsX8sILLwDQoEEDOnfuzLJlywD/zMFdBp988gmTJk1yfKlWjRo1PNpfScmgpLSD/PLHDIT3Sd8k/ZKd9E3SN4H0TdnJwKcIJSYmsnnzZoYOHeo0PyoqiltuuYUHHniAvXv3Oua/8sorfPHFF/Tr148PPvgAgLp161KjRg127tzJyZMnqVq1Kj169GD79u0AbNq0iW7duhVbnfLDVQ6nTp2iXr16jn/Xr1+fU6dOAYGTQ2pqKhcvXiQ6OpqIiAgiIiJYuHCh0zqB3hZyy6AktAO7119/nVatWvHwww+TkJDgtCzQ24HwLdI3ldx+CaRvAumbsitpfZPe2wUIZLNmzeKBBx6gSpUqjnkffvghNWrUQKvVEh0dTa9evThy5Ahly5alWrVqrFmzJsd+unXrxubNm6lTpw5du3alTJkyVKxYkdOnT7N582aeeuqp4qxWnrnKAUCj0TimVbbv0Q2UHEwmE0ajkczMTGJjYzl16hQdO3akRYsWtGzZskS0hdwygMBvBwBz5syhTp06KKWYOnUqDzzwAH/99RdQMq8Jwrukbyq5/RJI3wTSN9mVxL5J7vgUEaUUM2fOzPEoQa1atRy3Bvv370/58uU5fPjwDffVrVs3Nm3axObNm+nSpQsAXbp0Yc2aNcTGxjp9IM/XuMuhbt26nDhxwvHvkydP5nr7099yqFy5MmXLlnX8RbFu3brccccd/PHHH0DJaAu5ZVAS2gFAnTp1AFtH+uKLL5KQkMClS5eAktEOhO+Qvqlk90sgfRNI32RXIvum4v1IUWBy9eHJTZs2qTp16iiLxeI0//Tp047pmJgYVblyZXX16tUb7j8xMVGVKlVKNWjQQF27dk0ppdSaNWtU48aNVdOmTQupFgWXlxzGjx/v9MHB8PBwdenSpRvu3x9yuD6DUaNGqalTpyqllLp8+bKqV6+e2rVrl1IqcNtCXjIoCe3AZDKp8+fPO5b99NNPqm7duo5/B2o7EN4nfZP0S3bSN0nfpJT0TUopJQOfAnj++edVrVq1lE6nU9WqVVM33XSTY9nQoUPVu+++m2Ob7t27q5YtW6rWrVuriIgItXHjRo+O1aRJExUREeH4d1pamtLr9eqZZ54peEUKKD85XLt2TQ0ePFjddNNNqnHjxmrx4sUeHctXc3CXwcWLF9UDDzygWrRooVq0aKG++eYbxzaB1hbyk0FJaAfXrl1Tbdq0US1btlS33HKLuvvuu9XevXsd2wRaOxDeJ32T9Et20jdJ36SU9E3ZaZTK9uCiEEIIIYQQQgQg+YyPEEIIIYQQIuDJwEcIIYQQQggR8GTgI4QQQgghhAh4MvARQgghhBBCBDwZ+AghhBBCCCECngx8hBBCCCGEEAFPBj5CCCGEEEKIgCcDHyGEEEIIIUTAk4GPEEIIIYQQIuDJwEcIIYQQQggR8GTgI4QQQgghhAh4MvARQgghhBBCBDwZ+AghhBBCCCECngx8hBBCCCGEEAFP7+0C+CuLxcKhQ4eIj49HKeXt4gghhBBCCFFsGjRoQOvWrQkKCvJ2UTwmAx8PJScns3PnTmJilhAbe4Dffz+I1WqlefMG6PU6F1u4GgypGy/Odfs8rqPc/iMf+yrg9p6sW9Dy5mn7PKybp4GtB+sW6v4KsU3l5Ry7XVV5WBZP1s1n3Vyu60mb83TdvOzLzYJ8N4G8/MznY7m7lf1hv+7WddWu3a6b2zHycO7drZqfY+S3OyiE8ua6PJcK5bfrcG72ec/Eo8tsnrqRPFzb8nBpu8GsvO/X1SZuV9Z4Xoa8XIo9OvYND+Fmpsb1bE/35cHywtyuMI+R7x//Ii6DAi5hxIyiJqHUJpQxP02jY8eO1KxZM5ejeI9Gye2KHMxmM3/++SexsbHExq4kJmY/x46doUmTukREtKJjx1ZERLSiRYuG6PXZxo5OUVpdzHc1D5yvKlbPlmef72qeu/KoXJYXSnlz2c6T8jrWyUN581uGQjwXymUdrt8uLzkUUdtxrJNtudXNMVyVN/tyay5lULkcw9262Y9ndbVuLuVxt9zVPqwelME+31V9b3gMV9vhZt0bzHO3D3fruprvQRlUXvZrzcO6rvZrzcO6uZXB6ma/TvNVLstdzM/TurmXQeWnvO7aQJ7Km9/M7OV20Uaun+/qsp3LdspNG3D60bKv6/YSn3M7d8d1dS5yrU+2lVQux81+DLeXEhdlU9l/sXd3+XRcBt2s61RcjdM2OfebcyDhfKwbl8ddea3ujuHqEp6tvK6Ol1t5s6/jrrxOp8XFPDdNyuW6uU3nZd3cjus/ZVBcwsQZMjlDFmfIJAkj5dBTm1CeippIREQEt912G6GhofgCGfgA58+fJzY2lpiYaGJjD/DHH38RFKSnQ4eWRES0IiKiJR06tKRSpbAb70gGPp5tJwMfz5Y7TcvA54bLZeDj2X5l4JPLchfzZeDzT7ldtJHr58vAx+kYMvCRgY+76dyO6y9lcMWAlbNkcYYsTv8zIDJgpToh1CaUV+Z/TceOHalbty4aTc47j0WtxA18jEYje/bs+eduzipiYvZz6tR5WrRo6HQ3p1mz+mi1eXz3gwx8PNtOBj6eLXealoHPDZfLwMez/crAJ5flLubLwOefcrtoI9fPl4GP0zFk4CMDH3fTuR3XX8rgCYXiCqZ/7gjZBkMXMFAaHbUJZcT/3qFjx460adOGMmXK5HHveRfQAx+lFGfOnCEmJobY2GXExh5g9+54ypYt5biTExHRivbtW1C+fNnCOGC2f8jAx+12MvDxbLnTtAx8brhcBj6e7VcGPrksdzFfBj7/lNtFG7l+vgx8nI4hAx8Z+Libzu24/lKG/DJi5RwGxyNyp8kkHQvVCKEOobw0+wsiIiJo1KhRod8VCqiXG2RmZrJr165/HltbRWzsAS5cuMwttzQiIqIVzz03kIiIVjRqVMcrt9eEEEIIIYQoyYLRUo9S1KMUAApFKmZO//M5obeGP805DASjoTalGP7+G0RERNC+fXvKly9foGP77R0fpRTHjx//527OcmJjD7B372EqV67wz+Nqtrs5bdveTJkypYqrUNn+IXd83G4nd3w8W+40LXd8brhc7vh4tl+545PLchfz5Y7PP+V20Uauny93fJyOIXd85I6Pu+ncjusvZShKZqycx/DPHSHbgCgFM+EEU5tQXvh+MhERETRr1ixPH03xu4FPVlYWgwffQ2zsAa5cSeX225s5fTanXr0a3rubIwMfz7aTgY9ny52mZeBzw+Uy8PFsvzLwyWW5i/ky8Pmn3C7ayPXzZeDjdAwZ+MjAx910bsf1lzIUtzTM2d4gl0UiWejQUJtQNp2Kp06dOrnuI4+f3vc+jUZDWFhZwsLKYrFYSUm55vSfxWLxdhGFEEIIIYQQhcSKwoCVrGz/WVCEoCUELTqdq+/UzMnvPuMTEhLCnDmrALh48SI7d+4kNjaaxYs38Npr/4dSivbtWzi9vCA8vJKXSy2EEEIIIYTwRCYWEv+5s2O/y2NGUYMQalOKqT/No0OHDtSuXTtP+/W7R91uxGKx8Ndff/3zcoMVxMYeID7+BA0a1HR6HK516yYEBRXBmE8edfNsO3nUzbPlTtPyqNsNl8ujbp7tVx51y2W5i/nyqNs/5XbRRq6fL4+6OR1DHnWTR93cTed2XH8pQ2GxoriI0ekxtosYqUgQtQll1Ocf0rFjR2655RaCg4MLdKyAGvi4cvXqVX7//XdiYn4mNvYAsbH7ycoy0rZtc8ddoY4db6FmzaoFP5gMfDzbTgY+ni13mpaBzw2Xy8DHs/3KwCeX5S7my8Dnn3K7aCPXz5eBj9MxZOAjAx9307kd11/KkF/pWEh0vMra9lkdhaIWodSmFK8vm0mHDh2oVq1aIRzNWcAPfK5ntVr5+++///kC0xXExOznwIFj1KpV1emu0G23NSU0NCRvO5eBj2fbycDHs+VO0zLwueFyGfh4tl8Z+OSy3MV8Gfj8U24XbeT6+TLwcTqGDHxk4ONuOrfj+ksZPGFBkYTB8Wa2M2RxGROVCaI2pXj260l07NiRFi1aoNcX/SdwStzAx5W0tDT++OMPYmJ+IjZ2PzEx+0lNTee225o63RWqW7f6jd8YJwMfz7aTgY9ny52mZeBzw+Uy8PFsvzLwyWW5i/ky8Pmn3C7ayPXzZeDjdAwZ+MjAx910bsf1lzK4Ynvz2r+DnLNkof3nzWu1CeU/q+bSvn17KleunMueioYMfFxQSpGQkPDPXaHlxMTsZ9++v6lSpYLTXaE2bZo7f0eQDHw8204GPp4td5qWgc8Nl8vAx7P9ysAnl+Uu5svA559yu2gj18+XgY/TMWTgIwMfd9O5HddfymBGcd7xAoIsThfSd+0UJRn4eCgjI4Pdu3f/8+KEVcTE7Ccp6Qo33VQr2625vESZy7puFxfiMdytm6cWUVR1zk+zzMM2+W72PnaMfB/Pxbq5bu5mBZezPShLfrbLbxvJ93bFcS6yb+fjx3K7j/yei/wcy4MVclvXkzLkaR/5+HnKdxkKsZ55KoPKOSs/+7tu3cLZV86V873fQrkEed4e8nPZzT7oyNPmRfVjmt9fH5x2ocn+j3xsXzjreLpusf7oFeExCrIvBVzBRDAaalOK4e+/QUREBO3bt6d8+fJ5OHrxkoFPPimlOHbsGO+99x4PP/wwQUFB3i5SiWEymViwYAFDhgyR3IuR5O4dkrt3SO7eIbl7h+TuHf6ee8OGDWnUqNGNPwbiY2TgUwCpqamEhYWRkpLi06PbQCO5e4fk7h2Su3dI7t4huXuH5O4dknvx840H7oQQQgghhBCiCMnARwghhBBCCBHwZOAjhBBCCCGECHgy8CmAkJAQxo8fT0hIHr/oVBSI5O4dkrt3SO7eIbl7h+TuHZK7d0juxU9ebiCEEEIIIYQIeHLHRwghhBBCCBHwZOAjhBBCCCGECHgy8BFCCCGEEEIEvBI/8Ll27RqvvPIKNWvWJDQ0lFtvvZUFCxZ4tG1SUhIjRoygSpUqlC5dmo4dO7JhwwaX6/7666907NiR0qVLU6VKFUaMGEFSUlJhVsWvFHXuqampfPjhh3Tt2pXq1atTtmxZWrVqxaRJk8jKyiqKKvmF4mrvdpmZmTRp0gSNRsOnn35aGFXwS8WVe3p6Ou+++y5NmjQhJCSEypUr061bN44cOVKY1fEbxZG7wWDgk08+oWXLlpQpU4Zq1arRq1cvduzYUdjV8Rv5zf3MmTO88sordOnShQoVKqDRaJg1a5bb9aVf/VdRZy59qmvF1dbtpE8tBKqE69mzp6pQoYL65ptv1MaNG9VTTz2lADVv3rwbbpeVlaVatmypateurebOnavWrVun+vXrp/R6vdq8ebPTups3b1Z6vV7169dPrVu3Ts2dO1fVqlVLtWzZUmVlZRVl9XxWUee+f/9+VaVKFfXqq6+qZcuWqQ0bNqgJEyao0NBQ1b17d2W1Wou6ij6pONp7dmPHjlU1a9ZUgPrkk08Kuzp+ozhyT0tLU23btlU1a9ZUn3/+udq8ebNatmyZ+s9//qP27t1blNXzWcWR+7Bhw5RWq1Vvv/222rBhg1q8eLFq06aN0uv1aufOnUVZPZ+V39w3bdqkqlSponr06KEeeeQRBaiZM2e6XFf6VWdFnbn0qa4VR1vPTvrUgivRA5+VK1cqQP34449O83v27Klq1qypzGaz222nTp2qALVjxw7HPJPJpG6++WbVvn17p3XbtWunbr75ZmUymRzztm/frgD11VdfFVJt/Edx5H7t2jV17dq1HNt/8sknClC//fZbIdTEvxRXe7fbuXOnCg4OVosXLy7RF+niyv3ll19WZcqUUceOHSvcCvip4sg9KytL6XQ6NXToUKftz549qwA1evToQqqN/yhI7haLxTEdFxd3w18GpV/9V3FkLn1qTsXV1u2kTy0cJfpRt+joaMqWLcugQYOc5j/xxBOcPXuWnTt33nDbpk2b0rFjR8c8vV7P0KFD+f3330lMTAQgMTGRuLg4hg0bhl6vd6zbqVMnmjRpQnR0dCHXyvcVR+5lypShTJkyObZv3749AKdPny6MqviV4sjdzmg0MnLkSF544QXatm1buBXxM8WRe0ZGBtOnT2fQoEE0bNiwaCriZ4ojd61Wi1arJSwszGn78uXLo9VqCQ0NLcQa+YeC5K7VevYrifSrzoojc+lTcyqO3O2kTy08JXrgc+DAAZo3b+504QS45ZZbHMtvtK19PVfbHjx40Gkf7ta90TECVXHk7s7GjRsBaNGiRZ7KHAiKM/eJEyeSnp7O+++/X9Bi+73iyH3Xrl2kp6fTuHFjnnvuOSpWrEhwcDBt27Zl5cqVhVUVv1IcuQcFBfH888/zww8/sHTpUlJTUzlx4gSjRo0iLCyMUaNGFVZ1/EZBcs/LMbLv8/rjlLR+tTgyd0f61OLJXfrUwlOiBz6XLl2iUqVKOebb5126dKnA29r/727dGx0jUBVH7q78+eeffPzxx/Tv399lhxnoiiv3vXv38vHHH/PNN9+4/AthSVMcudvvQEyaNIn9+/cze/ZsoqOjKV++PH369GHt2rUFroe/Ka72PnnyZMaMGcPAgQMJCwujQYMGbN++nY0bN9KoUaOCVsPvFCT3vBwj+z6vP05J61eLI3NXpE8tntylTy1cJXrgA6DRaPK1LK/buls3t2MEquLK3e7EiRM88MAD1KlTh+nTp3tWyABU1LmbzWZGjhzJww8/zL333pu/Qgagos7darUCEBwczOrVq+nTpw/3338/v/zyCzVq1CixfyUsjuvMhx9+yKeffsqECRPYtGkTy5Yto2nTpvTs2ZM9e/bkvdABoCC5F8ZxSmK/WlyZ20mfalPUuUufWvj0ua8SuCpXruxyRH758mXA9V+T8rpt5cqVAdcj/8uXL9/wGIGqOHLP7uTJk3Tr1g29Xs+GDRtKZOZQPLlPmTKFhIQEFi1axNWrVwHba1ABsrKyuHr1KuXKlUOn0xWoLv6kOK8znTp1oly5co71SpcuTZcuXVi6dGm+y++viiP3Q4cO8e677/Lxxx/z2muvOdbr1asXN998M2PGjGHT8F8UXAAAEzNJREFUpk0Fqoe/KUjueTkGSL9qVxyZZyd9qk1x5C59auEr0Xd8WrVqxaFDhzCbzU7z9+/fD0DLli1vuK19vRtta/+/u3VvdIxAVRy52508eZKuXbuilGLTpk3Url27oMX3W8WR+4EDB0hJSaFx48ZUrFiRihUr0rp1awDeeecdKlas6HI/gaw4cr/RYyZKqTx/kDYQFEfu+/btQylFu3btnNYLCgqidevWJe6zJlCw3D0l/aqz4sjcTvrUfxVH7tKnFgHvvlTOu1atWqUAtWDBAqf59913X66vIvzqq68UoGJjYx3zTCaTatGiherQoYPTuu3bt1ctW7Z02l9MTIwC1Ndff11ItfEfxZX7yZMnVf369VWdOnXkFb+qeHI/dOiQ2rRpk9N/8+fPV4B69tln1aZNm1RaWlrhV86HFVd779ixo6pcubJKSUlxzEtPT1c1atRQ3bt3L6Ta+I/iyH3Lli0KUP/73/+cts/KylINGjRQt956ayHVxn8UJPfscnvFr/Sr/yquzKVPdVYcuUufWvhK9MBHKdv71itWrKi+++47tXHjRjVq1CgFqLlz5zrWGTlypNLpdOrEiROOeVlZWapFixaqTp06at68eWr9+vWqf//+Lr/gbtOmTUqv16v+/fur9evXq3nz5qk6deqU2C9aU6roc79w4YJq2LChCgkJUXPnzlUxMTFO/50+fbpY6+sriqO9X+/48eMl/jsHiiP37du3q+DgYBUREaGio6PV0qVL1V133aWCgoKcvo+mJCnq3C0Wi2rXrp0KDQ1V7777rvr111/Vzz//rLp27aoANWfOnGKtr6/Ib+5KKbV48WK1ePFiNWnSJAWoF154wTEvO+lXnRV15tKnulYcbf160qcWTIkf+KSlpanRo0er6tWrq+DgYHXLLbeo+fPnO63z+OOPK0AdP37caf758+fV8OHDVaVKlVRoaKiKiIhQ69evd3mcdevWqYiICBUaGqoqVaqkhg8fri5cuFBU1fJ5RZ37pk2bFOD2v/HjxxdxDX1TcbX37OQiXXy5//bbb6pLly6qdOnSqnTp0uruu+9W27dvL6pq+bziyP3q1avq7bffVs2bN1elS5dW4eHhqmvXrmrVqlVFWTWfVpDcb3Tdvp70q/8q6sylT3WtuNp6dtKnFoxGKaXy/oCcEEIIIYQQQviPkveJVyGEEEIIIUSJIwMfIYQQQgghRMCTgY8QQgghhBAi4MnARwghhBBCCBHwZOAjhBBCCCGECHgy8BFCCCGEEEIEPBn4CCGEEEIIIQKeDHyEEEJ4zYgRI9BoNJw4ccLbRRFCCBHgZOAjhBAeOnHiBBqNBo1GQ61atbBYLC7X279/v2O9Zs2aFeiYEyZMQKPRsHnz5gLtRxQv+3nTaDS88cYbbtcbM2aMY73//e9/Tsu6du2KRqPh/Pnzbrdv1qwZGo3Gad7mzZvRaDQ8++yzbrdbsGABGo2GCRMmOOY1atQIrVbLxYsXc6wfExPjKOe+fftyLD9z5gwajYabb77Z7TGFEMLbZOAjhBB5pNfrOXv2LGvXrnW5/Pvvv0ev1xdzqYQv0uv1zJ492+Ug2WQyMXfuXJ9pK3fffTdKKbZs2ZJjWfaB96ZNm3Ist8/r1q1bkZVPCCEKSgY+QgiRR506dSIsLIwZM2bkWGY0Gpk3bx69e/f2QsmEr+nVqxfnzp1j9erVOZatWLGCixcv+kxbsQ9aXA1sNm/eTPPmzWnWrJnb5dn3IYQQvkgGPkIIkUelSpXi4YcfZsWKFSQnJzstW758OcnJyTzxxBNut1dKMWPGDO644w7Kly9P6dKladu2bY6BVNeuXXnvvfcA2y+U9keN6tev77ReUlISr776Ko0aNSIkJIQqVaowcOBADhw4kOPY9evXp379+ly9epXRo0dTp04d9Ho9s2bNAuDcuXO8/PLLNG7cmFKlSlGpUiVatWrF888/T2pqaq7ZnD17lvHjxxMREUF4eDghISHUr1+f559/nqSkJLfbWSwWIiMjadSoEaGhoTRu3JhPPvkEq9Xqcv0ffviBiIgIypYtS9myZYmIiOCHH35wWmfr1q1oNBqefPJJl/s4c+YMOp2O7t27O81PS0tj/PjxtGjRglKlSlGhQgXuu+8+tm3blmv9rzdgwAAqVKjgcpA8Y8YMqlatygMPPJDn/RYF+6Dl+scqTSYT27dvp2vXrnTt2pWtW7fmOC/2x+u6dOlSXMUVQog8843760II4WdGjhzJd999x7x583j55Zcd82fMmEF4eLjbX2aVUgwdOpQff/yRJk2a8OijjxIcHMz69et58skn+euvv/j0008B2wf/AbZs2cLjjz/uGPBUqFDBsb9jx47RtWtXEhMTueeee3jwwQdJSkri559/Zu3atWzYsIEOHTo4lcFgMHD33XeTlpZGnz59CA4Oplq1amRkZHDHHXdw4sQJ7rnnHvr374/RaCQhIYFZs2Yxbtw4ypcvf8Nctm7dymeffUb37t3p0KEDQUFB7Nmzh6+//pq1a9eye/duwsLCcmz3yiuvEBsby+DBgwkNDWXJkiWMGzeOo0eP8u233zqt++qrrzJlyhRq1arFk08+iUaj4eeff2bEiBHs27ePqKgoAO666y7q16/Pzz//zNSpUwkNDXXaz7x587BarQwbNswx7/Lly3Tu3JmDBw9y1113ce+995KSksKyZcvo1q0bixcv5sEHH7xhBtmFhoYyZMgQvv/+ey5evEjVqlUB2wBxzZo1jB49mqCgII/3V5SqV69Os2bN+Ouvv0hKSiI8PByAuLg40tPT6dKlC0opvvnmG/bu3cvtt98OwOnTp0lISKBVq1aO+gkhhE9SQgghPHL8+HEFqHvvvVcppVSLFi3ULbfc4lh+5swZpdPp1NixY5VSSgGqadOmTvv47rvvFKCefPJJZTKZHPMNBoPq06ePAtQff/zhmD9+/HgFqE2bNrksU6dOnZRer1fr1q1zmn/48GFVrlw51apVK6f59erVU4C65557VEZGhtOy5cuXK0C9+uqrOY6TmpqqDAaDu2gcLly4oNLS0nLM/+GHHxSgPvjgA6f5jz/+uAJUtWrVVGJiomN+WlqaatWqlQLU1q1bHfO3bt2qANW8eXN19epVx/yrV6+qZs2aKUD99ttvjvlvv/22AtSiRYtylKlVq1aqVKlSKjU11THv0UcfVYCaMWOG07rnz59XderUUVWrVlWZmZm55mA/b/Pnz1e///67AlRUVJRj+UcffaQAtX//fjVz5kwFqMjISKd9dOnSRQFq7Nixavz48S7/q1y5srq+K9+0aZMCVJs2bdxuN3DgQAWo8ePHO2373HPPKUAtXLjQMe/DDz9UgDp37pw6e/asAtRnn33mWG4/t6NHj841FyGE8CYZ+AghhIeuH/h8+umnTgOVDz74QAHq4MGDSinXA59bbrlFlSlTxuUvz3/++afjF127Gw18du/e7RhEuTJmzBjHL9d29oHPvn37cqxvH/i89dZbuSSRd1arVZUvX1517drVab594PPhhx/m2Gbx4sU56jdy5Mgcv5jbzZ8/P8f68fHxClB9+/Z1Wnfv3r0KUEOGDHHMu3jxotLpdKp79+4u6/D5558rQK1YsSLX+mYf+ChlG2S1bNnSsbxJkyaqXbt2SimV68DHk/+ysw98PPnv+oHPokWLFKCeffZZx7yePXs6tePGjRurBx54wPHvJ554QgEqOjo611yEEMKb5FE3IYTIp2HDhvHmm28yY8YM2rRpw6xZs+jQoYPbV/pmZGSwf/9+atasmePVxWD7LAVAfHy8R8ePjY0F4Pz5806vJbaz7yc+Pp6WLVs65oeGhtKqVasc63fu3Jnq1asTGRnJ3r17uf/++7nzzjtp1apVjlcm38iSJUv49ttv2b17N1euXHF6o9nZs2ddbnPXXXe5nbd3717HvD179gC2zz9dzz4v+/pNmzalbdu2rF69msuXL1OpUiUA5syZA+D0mFtcXBwWi4WsrCyXeR45cgSw5ZnXz+U88cQTjBkzhri4OLKysvj777/5+uuvPdr23LlzVK9e3eWyZs2acfjwYZfLnnnmGb755huXyxYsWMAjjzySY779Fdr2FxiYTCZ27NjB0KFDHet06dKFRYsWYbFY0Ol0bN68Ga1WK5/vEUL4PBn4CCFEPoWHh9O7d2/mz59P3759OXr0KK+99prb9a9cuYJSisTERMdLC1xJT0/36PiXL18GYOXKlaxcudLj/YWHh7scyISFhRETE8P48eNZsWIFq1atAqB27dq8+eabPP/887mW6bPPPuO1116jatWq3HPPPdSuXZtSpUoBMGXKFAwGg8vt7J8nuX6eVqslJSXFMS81NRWtVuvysyTVqlXLsT7YBjd//PEHixYt4tlnn8VqtTJ//nzCw8O55557HOvZ89y+fTvbt293W0dPz092Q4cO5T//+Q8zZswgKyvL8dkfX1O1alVatmzJ/v37OXfuHAkJCY7P99h16dKF6dOns2fPHsLDwzl+/Di33347FStW9GLJhRAidzLwEUKIAhg5ciTLli3jySefpFSpUi7/im5nfzFAmzZt+OOPPwp8bPv+vvjiC1588UWPt7vR3Zv69evzww8/YLFY2L9/P+vWrePzzz/nhRdeoGLFijesn9ls5v3336dmzZrs3bvXaXCilOLjjz92u21SUhJNmzbNMc9qtTq9DKF8+fJYrVYuXryYY7BkX//6FzAMGTKEsWPHMnfuXJ599lk2btzI2bNnefnll52+Q8e+3dixYx0vmCgs9re3zZ8/H7PZ7Hjbmy/q1q0b+/fvZ/PmzSQkJADOd9js05s2bXKcA3mNtRDCH8jrrIUQogB69+5N9erVSUxMZODAgTd861m5cuVo3rw5hw4d4urVqx7tX6fTAbj8Akz729piYmLyXnAPjnvrrbcybtw45s+fD9he1X0jycnJpKSkEBERkeOOzB9//EFmZqbbbX/77Te382699VbHvNtuuw3I+cplwPHFm9nXBxx3dnbs2MHx48eZO3cugNPjWwDt2rVDo9EUSZ5gGySnpKSQnp7OyJEji+QYhSH7a603b95M48aNqVGjhmN57dq1adiwoWN59m2EEMKXycBHCCEKQK/Xs3z5cqKjo/nwww9zXX/06NFkZGQwatQol49MHT9+nBMnTjj+bf9MypkzZ3Ks2759ezp06MD8+fNZuHBhjuVWq9UxGPDEgQMHOHnyZI75Fy5cAHA8suZOeHg4pUqVYvfu3WRkZDjmX7lyhZdeeumG237++edOn/+5du0aEydOBGD48OGO+Y8//jgA7733ntP3CqWmpjoeH7Svk92wYcNQSjF9+nSWLFlCs2bNaNu2rdM61atXZ/DgwezYsYNPPvkEpVSO/ezcudOpbnnRq1cvli5dytKlS7n77rvztY/i0KVLF7RaLevXr2fHjh0uP0/VpUsXfvvtNzZu3IhOp3P5GS0hhPA18qibEEIUULt27WjXrp1H6z7zzDPExsbyww8/sH37dnr06EHNmjW5cOEC8fHx7Ny5kx9//NHxnT32Ly59++23iY+PJywsjLCwMJ577jkA5s+fT7du3RgyZAhTpkyhTZs2hIaGcurUKWJiYrh48SJZWVkele3XX39l7Nix3HHHHTRr1ozKlSuTkJDA8uXLKVWqVK6P02m1Wp5//nk+++wzWrduTZ8+fUhNTWX16tXUq1ePmjVr3jDD1q1b8/DDDxMSEsKSJUs4ceIEo0aNonPnzo71OnfuzEsvvcQXX3xBy5YtGThwIEoplixZwunTpxk9erTT+nb9+vWjfPnyfPLJJ5hMJqeXGmT31VdfcfjwYcaNG8ecOXPo2LEjYWFhnD59ml27dnHkyBHOnTtH6dKlPco0O51OR79+/fK8XXGrWLEirVu3drxIwtVLC7p06cLMmTNJS0ujffv2uX6/kxBC+AIZ+AghRDHSaDTMmjWL3r17M23aNH755ReuXbtGeHg4jRs35tNPP6VHjx6O9W+++WZmzpzJZ599xuTJkzEYDNSrV88x8GnQoAF79uwhKiqKpUuXMmPGDHQ6HTVq1KBz58489NBDHpft3nvv5cSJE2zdupUlS5Zw7do1atWqxZAhQxg3bhzNmzfPdR+RkZFUqlSJWbNm8dVXX1GtWjWGDBnCe++95/RmuetNmTKFRYsWMX36dM6cOUOdOnWYNGkSY8eOzbHu559/zm233cbXX3/Nd999B0CLFi147733eOKJJ1zuv1SpUgwcOJCZM2ei0Wh47LHHXK5XqVIlduzYwZdffsnChQsdX3JavXp1WrduzTvvvEOVKlVyzcHfdevW7YZv0Ms+GJLH3IQQ/kKjXN3LF0IIIYQQQogAIp/xEUIIIYQQQgQ8GfgIIYQQQgghAp4MfIQQQgghhBABTwY+QgghhBBCiIAnAx8hhBBCCCFEwJOBjxBCCCGEECLgycBHCCGEEEIIEfBk4COEEEIIIYQIeDLwEUIIIYQQQgQ8GfgIIYQQQgghAp4MfIQQQgghhBABTwY+QgghhBBCiIAnAx8hhBBCCCFEwPt/BopLoD/XTwoAAAAASUVORK5CYII=",
      "application/papermill.record/text/plain": "<Figure size 1000x800 with 5 Axes>"
     },
     "metadata": {
      "scrapbook": {
       "mime_prefix": "application/papermill.record/",
       "name": "TimeDependentReturnValueMap2008"
      }
     },
     "output_type": "display_data"
    },
    {
     "data": {
      "image/png": "[encoded data removed]",
      "text/plain": [
       "<Figure size 1000x800 with 5 Axes>"
      ]
     },
     "metadata": {},
     "output_type": "display_data"
    }
   ],
   "source": [
    "crs = ccrs.PlateCarree()\n",
    "fig, axs = plt.subplots(2,2,figsize=(10, 8), subplot_kw={'projection': crs})\n",
    "# make ax,fig\n",
    "# open the cmems data\n",
    "\n",
    "xlims = [-179, -152]\n",
    "ylims = [15, 30]\n",
    "\n",
    "scatters = []\n",
    "\n",
    "# plt.colorbar(maxplt,ax=axs[0],label='Sea Level (m)', location='bottom')           \n",
    "\n",
    "for i, ax in enumerate(axs.flat):\n",
    "\n",
    "    scatter = ax.scatter(combined_ds['lon'], combined_ds['lat'], transform=crs, s=100, \n",
    "               c=combined_ds['ReturnLevel'].sel(Year=2020)[:,i]-combined_ds['ReturnLevel'].sel(Year=2008)[:,i], cmap='YlOrRd',\n",
    "               linewidth=0.5, edgecolor='black')\n",
    "    scatters.append(scatter)\n",
    "\n",
    "    ax.add_feature(cfeature.COASTLINE)\n",
    "    ax.add_feature(cfeature.LAND, color='lightgrey')\n",
    "\n",
    "    # set extent\n",
    "    ax.set_extent([xlims[0], xlims[1], ylims[0], ylims[1]], crs=crs)\n",
    "\n",
    "    #add grid\n",
    "    gl = ax.gridlines(draw_labels=False, linestyle=':', color='black',\n",
    "                      alpha=0.5,xlocs=ax.get_xticks(),ylocs=ax.get_yticks())\n",
    "    if i>=0:\n",
    "        gl.bottom_labels = True\n",
    "\n",
    "    if i==0:\n",
    "        gl.left_labels = True\n",
    "\n",
    "    #make all labels tiny\n",
    "    gl.xlabel_style = {'size': 8}\n",
    "    gl.ylabel_style = {'size': 8}\n",
    "\n",
    "    # add text to top left of plot\n",
    "    ax.text(0.5, 0.95, f'{ReturnPeriod[i]}-year flood: 2020-2008 difference', color='black', fontsize=10, weight='bold',\n",
    "            transform=ax.transAxes, ha='center', va='top', zorder=10)\n",
    "\n",
    "# add colorbar to the bottom of the plot which follows vmin, vmax and cmap of the scatter plot\n",
    "# colorbar should be \n",
    "cbar = plt.colorbar(axs[1, 1].collections[0], ax=axs, orientation='horizontal', pad=0.05, aspect=50,extend='both')\n",
    "cbar.set_label('Meters above MHHW')\n",
    "\n",
    "# set the limits of the colorbar\n",
    "for scatter in scatters:\n",
    "    scatter.set_clim(vmin=0, vmax=0.15)\n",
    "\n",
    "\n",
    "# save the figure\n",
    "plt.savefig(output_dir / 'TimeDependentReturnValueMap2008.png', dpi=300, bbox_inches='tight')\n",
    "\n",
    "glue(\"TimeDependentReturnValueMap2008\",fig,display=False)"
   ]
  }
 ],
 "metadata": {
  "kernelspec": {
   "display_name": "SLI39",
   "language": "python",
   "name": "python3"
  },
  "language_info": {
   "codemirror_mode": {
    "name": "ipython",
    "version": 3
   },
   "file_extension": ".py",
   "mimetype": "text/x-python",
   "name": "python",
   "nbconvert_exporter": "python",
   "pygments_lexer": "ipython3",
   "version": "3.9.19"
  }
 },
 "nbformat": 4,
 "nbformat_minor": 2
}
